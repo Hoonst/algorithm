{
 "cells": [
  {
   "cell_type": "code",
   "execution_count": 17,
   "id": "34650964",
   "metadata": {},
   "outputs": [
    {
     "name": "stdout",
     "output_type": "stream",
     "text": [
      "3000 5000\n",
      "23000\n"
     ]
    }
   ],
   "source": [
    "a,b = map(int, input().split())\n",
    "budget = int(input())"
   ]
  },
  {
   "cell_type": "code",
   "execution_count": 35,
   "id": "85f88cd0",
   "metadata": {},
   "outputs": [],
   "source": [
    "def budget_ponder(prod1, prod2, budge):\n",
    "    min_price = min(prod1, prod2)\n",
    "    max_price = max(prod1, prod2)\n",
    "    \n",
    "    prod = (budge // min_price)\n",
    "    total = 0\n",
    "    \n",
    "    for i in range(prod):\n",
    "        budge_temp = budge - (min_price * i)\n",
    "        if budge_temp % max_price == 0:\n",
    "            total += 1\n",
    "    \n",
    "    return total\n",
    "        "
   ]
  },
  {
   "cell_type": "code",
   "execution_count": 34,
   "id": "62bd32ba",
   "metadata": {},
   "outputs": [
    {
     "name": "stdout",
     "output_type": "stream",
     "text": [
      "7\n",
      "3000 5000\n",
      "18000 5000\n"
     ]
    },
    {
     "data": {
      "text/plain": [
       "2"
      ]
     },
     "execution_count": 34,
     "metadata": {},
     "output_type": "execute_result"
    }
   ],
   "source": [
    "budget_ponder(a,b,budget)"
   ]
  },
  {
   "cell_type": "code",
   "execution_count": 12,
   "id": "dd5e36e5",
   "metadata": {},
   "outputs": [
    {
     "data": {
      "text/plain": [
       "4"
      ]
     },
     "execution_count": 12,
     "metadata": {},
     "output_type": "execute_result"
    }
   ],
   "source": [
    "23000 // 5000"
   ]
  },
  {
   "cell_type": "code",
   "execution_count": 128,
   "id": "c83dafe0",
   "metadata": {},
   "outputs": [
    {
     "name": "stdout",
     "output_type": "stream",
     "text": [
      "2 2 1\n"
     ]
    }
   ],
   "source": [
    "grade = list(map(int, input().split()))"
   ]
  },
  {
   "cell_type": "code",
   "execution_count": 129,
   "id": "27ffa15f",
   "metadata": {},
   "outputs": [],
   "source": [
    "from collections import Counter, OrderedDict"
   ]
  },
  {
   "cell_type": "code",
   "execution_count": 130,
   "id": "cdf15115",
   "metadata": {},
   "outputs": [],
   "source": [
    "def grading(grade):\n",
    "    counter = Counter(grade)\n",
    "    counter = sorted(dict(counter).items())\n",
    "    rank_dict = {}\n",
    "    for index, (i,j) in enumerate(counter):\n",
    "        if index + 1 == len(counter):\n",
    "            rank_dict[i] = 1\n",
    "        else:\n",
    "            bigger = counter[index+1:]\n",
    "            ranking = sum([j for i,j in bigger])+1\n",
    "            rank_dict[i] = ranking\n",
    "\n",
    "    answer = []        \n",
    "    for i in grade:\n",
    "        answer.append(rank_dict[i])\n",
    "    \n",
    "    return answer"
   ]
  },
  {
   "cell_type": "code",
   "execution_count": 131,
   "id": "d826b8f7",
   "metadata": {},
   "outputs": [
    {
     "data": {
      "text/plain": [
       "[1, 1, 3]"
      ]
     },
     "execution_count": 131,
     "metadata": {},
     "output_type": "execute_result"
    }
   ],
   "source": [
    "grading(grade)"
   ]
  },
  {
   "cell_type": "code",
   "execution_count": 132,
   "id": "a1b4b2ef",
   "metadata": {},
   "outputs": [],
   "source": [
    "X = 2.0\n",
    "F = 1.0\n",
    "C = 30.0"
   ]
  },
  {
   "cell_type": "code",
   "execution_count": 133,
   "id": "9bfe8e02",
   "metadata": {},
   "outputs": [
    {
     "data": {
      "text/plain": [
       "30"
      ]
     },
     "execution_count": 133,
     "metadata": {},
     "output_type": "execute_result"
    }
   ],
   "source": [
    "round(30.5)"
   ]
  },
  {
   "cell_type": "code",
   "execution_count": 137,
   "id": "55045040",
   "metadata": {},
   "outputs": [
    {
     "data": {
      "text/plain": [
       "5"
      ]
     },
     "execution_count": 137,
     "metadata": {},
     "output_type": "execute_result"
    }
   ],
   "source": [
    "import math\n",
    "math.ceil(4.5)"
   ]
  },
  {
   "cell_type": "code",
   "execution_count": 138,
   "id": "bc835c64",
   "metadata": {},
   "outputs": [
    {
     "data": {
      "text/plain": [
       "16"
      ]
     },
     "execution_count": 138,
     "metadata": {},
     "output_type": "execute_result"
    }
   ],
   "source": [
    "math.ceil(30.5/2)"
   ]
  },
  {
   "cell_type": "code",
   "execution_count": 139,
   "id": "3cbbc6e5",
   "metadata": {},
   "outputs": [],
   "source": [
    "def chicken_time(X, F, C):\n",
    "    alba_chick_time = math.ceil(C/2)\n",
    "    solo_prod_per_min = 2\n",
    "    alba_prod_per_min = F\n",
    "    \n",
    "    solo_time = math.ceil(X/solo_prod_per_min)\n",
    "    together_time = math.ceil(X/(solo_prod_per_min+(alba_prod_per_min)*2))\n",
    "    \n",
    "    \n",
    "    if alba_chick_time > solo_time:\n",
    "        return solo_time\n",
    "    else:\n",
    "        \n",
    "    \n",
    "    print(alba_chick_time)\n",
    "    print(solo_time)"
   ]
  },
  {
   "cell_type": "code",
   "execution_count": 140,
   "id": "19b017df",
   "metadata": {},
   "outputs": [
    {
     "name": "stdout",
     "output_type": "stream",
     "text": [
      "15\n",
      "1\n"
     ]
    }
   ],
   "source": [
    "chicken_time(2,1,30)"
   ]
  },
  {
   "cell_type": "code",
   "execution_count": null,
   "id": "a79f6074",
   "metadata": {},
   "outputs": [],
   "source": []
  }
 ],
 "metadata": {
  "kernelspec": {
   "display_name": "Python 3",
   "language": "python",
   "name": "python3"
  },
  "language_info": {
   "codemirror_mode": {
    "name": "ipython",
    "version": 3
   },
   "file_extension": ".py",
   "mimetype": "text/x-python",
   "name": "python",
   "nbconvert_exporter": "python",
   "pygments_lexer": "ipython3",
   "version": "3.6.9"
  }
 },
 "nbformat": 4,
 "nbformat_minor": 5
}
