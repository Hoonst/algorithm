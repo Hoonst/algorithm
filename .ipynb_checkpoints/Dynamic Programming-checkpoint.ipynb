{
 "cells": [
  {
   "cell_type": "markdown",
   "id": "36f94828",
   "metadata": {},
   "source": [
    "# Dynamic Programming"
   ]
  },
  {
   "cell_type": "markdown",
   "id": "5bfd22c6",
   "metadata": {},
   "source": [
    "## 백준 2747: 피보나치 수"
   ]
  },
  {
   "cell_type": "code",
   "execution_count": 17,
   "id": "511f1eab",
   "metadata": {},
   "outputs": [
    {
     "name": "stdout",
     "output_type": "stream",
     "text": [
      "\n"
     ]
    },
    {
     "ename": "ValueError",
     "evalue": "invalid literal for int() with base 10: ''",
     "output_type": "error",
     "traceback": [
      "\u001b[0;31m---------------------------------------------------------------------------\u001b[0m",
      "\u001b[0;31mValueError\u001b[0m                                Traceback (most recent call last)",
      "\u001b[0;32m<ipython-input-17-218824955e3a>\u001b[0m in \u001b[0;36m<module>\u001b[0;34m\u001b[0m\n\u001b[0;32m----> 1\u001b[0;31m \u001b[0mn\u001b[0m \u001b[0;34m=\u001b[0m \u001b[0mint\u001b[0m\u001b[0;34m(\u001b[0m\u001b[0minput\u001b[0m\u001b[0;34m(\u001b[0m\u001b[0;34m)\u001b[0m\u001b[0;34m)\u001b[0m\u001b[0;34m\u001b[0m\u001b[0;34m\u001b[0m\u001b[0m\n\u001b[0m\u001b[1;32m      2\u001b[0m \u001b[0;34m\u001b[0m\u001b[0m\n\u001b[1;32m      3\u001b[0m \u001b[0;32mdef\u001b[0m \u001b[0mfibonacci\u001b[0m\u001b[0;34m(\u001b[0m\u001b[0mn\u001b[0m\u001b[0;34m)\u001b[0m\u001b[0;34m:\u001b[0m\u001b[0;34m\u001b[0m\u001b[0;34m\u001b[0m\u001b[0m\n\u001b[1;32m      4\u001b[0m     \u001b[0mfib\u001b[0m \u001b[0;34m=\u001b[0m \u001b[0;34m[\u001b[0m\u001b[0;36m0\u001b[0m\u001b[0;34m,\u001b[0m\u001b[0;36m1\u001b[0m\u001b[0;34m,\u001b[0m\u001b[0;36m1\u001b[0m\u001b[0;34m]\u001b[0m\u001b[0;34m\u001b[0m\u001b[0;34m\u001b[0m\u001b[0m\n\u001b[1;32m      5\u001b[0m     \u001b[0;32mif\u001b[0m \u001b[0mn\u001b[0m \u001b[0;34m<\u001b[0m \u001b[0;36m3\u001b[0m\u001b[0;34m:\u001b[0m\u001b[0;34m\u001b[0m\u001b[0;34m\u001b[0m\u001b[0m\n",
      "\u001b[0;31mValueError\u001b[0m: invalid literal for int() with base 10: ''"
     ]
    }
   ],
   "source": [
    "n = int(input())\n",
    "\n",
    "def fibonacci(n):\n",
    "    fib = [0,1,1]\n",
    "    if n < 3:\n",
    "        return fib[n]\n",
    "    else:\n",
    "        for i in range(3, n+1):\n",
    "            fib.append(fib[i-1] + fib[i-2])\n",
    "        return fib[-1]\n",
    "    \n",
    "print(fibonacci(n))"
   ]
  },
  {
   "cell_type": "markdown",
   "id": "38f1f776",
   "metadata": {},
   "source": [
    "## 백준 2748: 피보나치 수 2"
   ]
  },
  {
   "cell_type": "code",
   "execution_count": null,
   "id": "06935865",
   "metadata": {},
   "outputs": [],
   "source": [
    "n = int(input())\n",
    "\n",
    "def fibonacci(n):\n",
    "    fib = [0,1,1]\n",
    "    if n < 3:\n",
    "        return fib[n]\n",
    "    else:\n",
    "        for i in range(3, n+1):\n",
    "            fib.append(fib[i-1] + fib[i-2])\n",
    "        return fib[-1]\n",
    "    \n",
    "print(fibonacci(n))"
   ]
  },
  {
   "cell_type": "markdown",
   "id": "bc71e37e",
   "metadata": {},
   "source": [
    "## 백준 2749: 피보나치 수 3"
   ]
  },
  {
   "cell_type": "code",
   "execution_count": null,
   "id": "6bc112a9",
   "metadata": {},
   "outputs": [],
   "source": [
    "https://hooongs.tistory.com/115\n",
    "메모이제이션으로 진행하면 메모리가 지나치게 커지기 때문에, 행렬 연산으로 진행해야 한다. "
   ]
  },
  {
   "cell_type": "code",
   "execution_count": 23,
   "id": "f672f3ee",
   "metadata": {},
   "outputs": [
    {
     "name": "stdout",
     "output_type": "stream",
     "text": [
      "10\n",
      "55\n"
     ]
    }
   ],
   "source": [
    "n = int(input())\n",
    "\n",
    "def fibonacci(n):\n",
    "    fib1, fib2 = 1, 1\n",
    "    if n < 3:\n",
    "        return fib[n]\n",
    "    else:\n",
    "        for i in range(n-2):\n",
    "            fib_temp = fib2\n",
    "            fib2 += fib1\n",
    "            fib1 = fib_temp\n",
    "        return fib2\n",
    "    \n",
    "print(fibonacci(n))"
   ]
  },
  {
   "cell_type": "markdown",
   "id": "1c92636b",
   "metadata": {},
   "source": [
    "## 백준 1463"
   ]
  },
  {
   "cell_type": "markdown",
   "id": "da4a3bc3",
   "metadata": {},
   "source": [
    "1로 만들기"
   ]
  },
  {
   "cell_type": "markdown",
   "id": "c646b9ae",
   "metadata": {},
   "source": [
    "https://www.acmicpc.net/problem/1463"
   ]
  },
  {
   "cell_type": "code",
   "execution_count": 38,
   "id": "395e6f18",
   "metadata": {},
   "outputs": [],
   "source": [
    "# n = int(input())\n",
    "\n",
    "def function(n):\n",
    "    dp = [0] * (n+1)\n",
    "    # 2부터 시작하는 이유는 0,1은 계산이 필요없기 때문\n",
    "    for i in range(2, n+1):\n",
    "        print(i)\n",
    "        \n",
    "        dp[i] = dp[i-1] + 1\n",
    "        print(f'dp1: {dp}')\n",
    "        if i % 2 == 0:\n",
    "            dp[i] = min(dp[i], dp[i//2]+1)\n",
    "            print(f'dp2: {dp}')\n",
    "        if i % 3 == 0:\n",
    "            dp[i] = min(dp[i], dp[i//3] + 1)\n",
    "            print(f'dp3: {dp}')\n",
    "            \n",
    "function(n)"
   ]
  },
  {
   "cell_type": "markdown",
   "id": "f9fb160b",
   "metadata": {},
   "source": [
    "## 백준 11726"
   ]
  },
  {
   "cell_type": "code",
   "execution_count": 56,
   "id": "4d122866",
   "metadata": {},
   "outputs": [
    {
     "name": "stdout",
     "output_type": "stream",
     "text": [
      "9\n"
     ]
    }
   ],
   "source": [
    "n = int(input())"
   ]
  },
  {
   "cell_type": "code",
   "execution_count": 72,
   "id": "a55c41f9",
   "metadata": {},
   "outputs": [],
   "source": [
    "def tyling(n):\n",
    "    base = [1, 2, 3]\n",
    "    if n > 3:\n",
    "        for i in range(3, n):\n",
    "            base.append(base[i-2] + base[i-1])\n",
    "    return base[n-1] % 10007"
   ]
  },
  {
   "cell_type": "code",
   "execution_count": 73,
   "id": "8abd85a9",
   "metadata": {},
   "outputs": [
    {
     "name": "stdout",
     "output_type": "stream",
     "text": [
      "55\n"
     ]
    }
   ],
   "source": [
    "print(tyling(9))"
   ]
  },
  {
   "cell_type": "markdown",
   "id": "5f11e859",
   "metadata": {},
   "source": [
    "# 계단 오르기"
   ]
  },
  {
   "cell_type": "code",
   "execution_count": 15,
   "id": "5f78698f",
   "metadata": {},
   "outputs": [
    {
     "name": "stdout",
     "output_type": "stream",
     "text": [
      "6\n"
     ]
    }
   ],
   "source": [
    "n = int(input())"
   ]
  },
  {
   "cell_type": "code",
   "execution_count": 16,
   "id": "74fb94c8",
   "metadata": {},
   "outputs": [
    {
     "name": "stdout",
     "output_type": "stream",
     "text": [
      "10\n",
      "20\n",
      "15\n",
      "25\n",
      "10\n",
      "20\n"
     ]
    }
   ],
   "source": [
    "stairs = [int(input()) for _ in range(n)]"
   ]
  },
  {
   "cell_type": "code",
   "execution_count": 17,
   "id": "2f4c6c56",
   "metadata": {},
   "outputs": [
    {
     "data": {
      "text/plain": [
       "[10, 20, 15, 25, 10, 20]"
      ]
     },
     "execution_count": 17,
     "metadata": {},
     "output_type": "execute_result"
    }
   ],
   "source": [
    "loc = 0\n",
    "base = [0 for _ in range(n)]\n",
    "while loc < n:\n",
    "    \n",
    "    \n",
    "    if stairs[loc] > stairs[loc+1]:\n",
    "        \n",
    "    max_point = max(stairs[loc], stairs[loc+1])\n",
    "    "
   ]
  },
  {
   "cell_type": "markdown",
   "id": "3b12c3a1",
   "metadata": {},
   "source": [
    "# 1,2,3 더하기"
   ]
  },
  {
   "cell_type": "markdown",
   "id": "a1a68ff5",
   "metadata": {},
   "source": [
    "* f(1) = 1\n",
    "* f(2) = 2\n",
    "* f(3) = 4\n",
    "* f(4) = f(1) + f(2) + f(3)\n",
    "\n",
    "f(1)에다가 3, f(2)에다가 2, f(3)에다가 1을 더하면 f(4)가 되기때문에\n",
    "각 방법의 개수를 더하면 된다.\n"
   ]
  },
  {
   "cell_type": "code",
   "execution_count": 14,
   "id": "4484813e",
   "metadata": {},
   "outputs": [
    {
     "name": "stdout",
     "output_type": "stream",
     "text": [
      "3\n",
      "4\n",
      "7\n",
      "7\n",
      "44\n",
      "10\n",
      "274\n"
     ]
    }
   ],
   "source": [
    "n = int(input())\n",
    "\n",
    "base = [0,1,2,4]\n",
    "for _ in range(n):\n",
    "    k = int(input())\n",
    "    while len(base) < k+1:\n",
    "        length = len(base)\n",
    "        base.append(base[length-1] + base[length-2] + base[length-3])\n",
    "    print(base[k])"
   ]
  },
  {
   "cell_type": "markdown",
   "id": "5dab8975",
   "metadata": {},
   "source": [
    "# 쉬운 계단 수"
   ]
  },
  {
   "cell_type": "code",
   "execution_count": 26,
   "id": "3aa8ef64",
   "metadata": {},
   "outputs": [
    {
     "name": "stdout",
     "output_type": "stream",
     "text": [
      "2\n"
     ]
    }
   ],
   "source": [
    "n = int(input())"
   ]
  },
  {
   "cell_type": "code",
   "execution_count": 32,
   "id": "43c0ec86",
   "metadata": {},
   "outputs": [],
   "source": [
    "stairs = [[0]*10 for _ in range(n+1)]"
   ]
  },
  {
   "cell_type": "code",
   "execution_count": 33,
   "id": "b8f25463",
   "metadata": {},
   "outputs": [
    {
     "data": {
      "text/plain": [
       "[[0, 0, 0, 0, 0, 0, 0, 0, 0, 0], [0, 0, 0, 0, 0, 0, 0, 0, 0, 0]]"
      ]
     },
     "execution_count": 33,
     "metadata": {},
     "output_type": "execute_result"
    }
   ],
   "source": [
    "stairs"
   ]
  },
  {
   "cell_type": "code",
   "execution_count": 30,
   "id": "df002701",
   "metadata": {},
   "outputs": [
    {
     "name": "stdout",
     "output_type": "stream",
     "text": [
      "1\n",
      "9\n"
     ]
    }
   ],
   "source": [
    "base = [9]\n",
    "\n",
    "while len(base) < n:\n",
    "    base.append(2*base[-1]-1)\n",
    "print(base[-1] % 1000000000)"
   ]
  },
  {
   "cell_type": "code",
   "execution_count": null,
   "id": "8b5498ea",
   "metadata": {},
   "outputs": [],
   "source": []
  }
 ],
 "metadata": {
  "kernelspec": {
   "display_name": "Python 3",
   "language": "python",
   "name": "python3"
  },
  "language_info": {
   "codemirror_mode": {
    "name": "ipython",
    "version": 3
   },
   "file_extension": ".py",
   "mimetype": "text/x-python",
   "name": "python",
   "nbconvert_exporter": "python",
   "pygments_lexer": "ipython3",
   "version": "3.6.9"
  }
 },
 "nbformat": 4,
 "nbformat_minor": 5
}
