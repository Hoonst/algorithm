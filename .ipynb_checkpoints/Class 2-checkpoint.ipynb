{
 "cells": [
  {
   "cell_type": "markdown",
   "id": "9c6dbac1",
   "metadata": {},
   "source": [
    "# 4949. 균형잡힌 세상"
   ]
  },
  {
   "cell_type": "code",
   "execution_count": 14,
   "id": "d3b8cf8f",
   "metadata": {},
   "outputs": [],
   "source": [
    "sentences = ['So when I die (the [first] I will see in (heaven) is a score list).',\n",
    "'[ first in ] ( first out ).',\n",
    "'Half Moon tonight (At least it is better than no Moon at all].',\n",
    "'A rope may form )( a trail in a maze.',\n",
    "'Help( I[m being held prisoner in a fortune cookie factory)].',\n",
    "'([ (([( [ ] ) ( ) (( ))] )) ]).',\n",
    "' .',\n",
    "'.']"
   ]
  },
  {
   "cell_type": "code",
   "execution_count": 27,
   "id": "5fdb47bf",
   "metadata": {},
   "outputs": [
    {
     "name": "stdout",
     "output_type": "stream",
     "text": [
      "['(', '[', ']', '(', ')', ')']\n",
      "[]\n",
      "yes\n",
      "['[', ']', '(', ')']\n",
      "[]\n",
      "yes\n",
      "['(', ']']\n",
      "['(', ']']\n",
      "no\n",
      "[')', '(']\n",
      "[')']\n",
      "no\n",
      "['(', '[', ')', ']']\n",
      "['(', '[', ')']\n",
      "no\n",
      "['(', '[', '(', '(', '[', '(', '[', ']', ')', '(', ')', '(', '(', ')', ')', ']', ')', ')', ']', ')']\n",
      "[]\n",
      "yes\n",
      "yes\n"
     ]
    }
   ],
   "source": [
    "for sent in sentences:\n",
    "#     try:\n",
    "#         sent = input()\n",
    "        \n",
    "    sent = [x for x in sent if x in '()[]']\n",
    "    if sent == '.':\n",
    "        break\n",
    "    if len(sent) == 0:\n",
    "        print('yes')\n",
    "        break\n",
    "    print(sent)\n",
    "    stack = []\n",
    "    for s in sent:\n",
    "        if s == '(':\n",
    "            stack.append(s)\n",
    "        elif s == ')':\n",
    "            if stack and stack[-1] == '(':\n",
    "                stack.pop()\n",
    "            else:\n",
    "                stack.append(s)\n",
    "                break\n",
    "\n",
    "        elif s == '[':\n",
    "            stack.append(s)\n",
    "        elif s == ']':\n",
    "            if stack and stack[-1] == '[':\n",
    "                stack.pop()\n",
    "            else:\n",
    "                stack.append(s)\n",
    "                break\n",
    "    print(stack)\n",
    "\n",
    "    if stack:\n",
    "        print('no')\n",
    "    else:\n",
    "        print('yes')\n",
    "        \n",
    "#     except:\n",
    "#         break   "
   ]
  },
  {
   "cell_type": "code",
   "execution_count": null,
   "id": "11f2365d",
   "metadata": {},
   "outputs": [],
   "source": [
    "while True:\n",
    "    try:\n",
    "        sent = input()\n",
    "        if sent == '.':\n",
    "            break\n",
    "        \n",
    "        sent = [x for x in sent if x in '()[]']\n",
    "        \n",
    "        if len(sent) == 0:\n",
    "            print('yes')\n",
    "            continue\n",
    "            \n",
    "        stack = []\n",
    "        for s in sent:\n",
    "            if s == '(':\n",
    "                stack.append(s)\n",
    "            elif s == ')':\n",
    "                if stack and stack[-1] == '(':\n",
    "                    stack.pop()\n",
    "                else:\n",
    "                    stack.append(s)\n",
    "                    break\n",
    "\n",
    "            elif s == '[':\n",
    "                stack.append(s)\n",
    "            elif s == ']':\n",
    "                if stack and stack[-1] == '[':\n",
    "                    stack.pop()\n",
    "                else:\n",
    "                    stack.append(s)\n",
    "                    break\n",
    "\n",
    "        if stack:\n",
    "            print('no')\n",
    "        else:\n",
    "            print('yes')\n",
    "        \n",
    "    except:\n",
    "        break   "
   ]
  },
  {
   "cell_type": "markdown",
   "id": "9b38d75a",
   "metadata": {},
   "source": [
    "# 11050. 이항 계수"
   ]
  },
  {
   "cell_type": "markdown",
   "id": "cf9b0787",
   "metadata": {},
   "source": [
    "재귀로 풀어야 대박인 것이었다?"
   ]
  },
  {
   "cell_type": "code",
   "execution_count": 47,
   "id": "f39c65db",
   "metadata": {},
   "outputs": [],
   "source": [
    "N, K = map(int, input().split())\n",
    "\n",
    "top = 1\n",
    "bottom = 1\n",
    "\n",
    "tops = list(range(N,0,-1))[:K]\n",
    "for t in tops:\n",
    "    top *= t\n",
    "\n",
    "for k in range(K, 0, -1):\n",
    "    bottom *= k\n",
    "    \n",
    "print(int(top / bottom))"
   ]
  },
  {
   "cell_type": "code",
   "execution_count": null,
   "id": "243a49d8",
   "metadata": {},
   "outputs": [],
   "source": [
    "n,k=map(int, input().split())\n",
    "a = 1\n",
    "b = 1\n",
    "while k:\n",
    "    a*=n\n",
    "    b*=k\n",
    "    n-=1\n",
    "    k-=1\n",
    "print(a//b)"
   ]
  },
  {
   "cell_type": "markdown",
   "id": "abe51bae",
   "metadata": {},
   "source": [
    "# 4153. 직각삼각형"
   ]
  },
  {
   "cell_type": "code",
   "execution_count": 71,
   "id": "4d993d1e",
   "metadata": {},
   "outputs": [
    {
     "name": "stdout",
     "output_type": "stream",
     "text": [
      "6 8 10\n",
      "right\n",
      "25 52 60\n",
      "wrong\n",
      "5 12 13\n",
      "right\n",
      "0 0 0 \n"
     ]
    }
   ],
   "source": [
    "while True:\n",
    "    a, b, c = map(int, input().split())\n",
    "    if (a,b,c) == (0,0,0):\n",
    "        break\n",
    "    else:\n",
    "        temp = sorted([a,b,c])\n",
    "        answer = temp[0]**2 + temp[1]**2 == temp[2]**2\n",
    "        \n",
    "        if answer:\n",
    "            print('right')\n",
    "        else:\n",
    "            print('wrong')"
   ]
  },
  {
   "cell_type": "markdown",
   "id": "e7065e2d",
   "metadata": {},
   "source": [
    "# 10814. 나이순 정렬"
   ]
  },
  {
   "cell_type": "code",
   "execution_count": 1,
   "id": "3dc18cc1",
   "metadata": {},
   "outputs": [
    {
     "name": "stdout",
     "output_type": "stream",
     "text": [
      "3\n",
      "21 Junkyu\n",
      "21 Dohyun\n",
      "20 Sunyoung\n",
      "20 Sunyoung\n",
      "21 Junkyu\n",
      "21 Dohyun\n"
     ]
    }
   ],
   "source": [
    "from collections import defaultdict\n",
    "dic = defaultdict(lambda: [])\n",
    "\n",
    "N = int(input())\n",
    "for _ in range(N):\n",
    "    age, name = input().split()\n",
    "    dic[age].append(name)\n",
    "    \n",
    "for key in sorted(dic):\n",
    "    for value in dic[key]:\n",
    "        print(key, value)"
   ]
  },
  {
   "cell_type": "code",
   "execution_count": 17,
   "id": "20738063",
   "metadata": {},
   "outputs": [
    {
     "name": "stdout",
     "output_type": "stream",
     "text": [
      "4\n",
      "20 hoonst\n",
      "21 james\n",
      "21 ha\n",
      "21 hey\n",
      "20 hoonst\n",
      "21 james\n",
      "21 ha\n",
      "21 hey\n"
     ]
    }
   ],
   "source": [
    "answer_list = []\n",
    "N = int(input())\n",
    "\n",
    "for _ in range(N):\n",
    "    age, name = input().split()\n",
    "    answer_list.append((int(age), name))\n",
    "    \n",
    "answer_list = sorted(answer_list, key = lambda x: x[0])\n",
    "\n",
    "for a, n in answer_list:\n",
    "    print(a, n)"
   ]
  },
  {
   "cell_type": "code",
   "execution_count": 14,
   "id": "7651d200",
   "metadata": {},
   "outputs": [
    {
     "data": {
      "text/plain": [
       "[('20', 'Sunyoung'), ('21', 'Junkyu'), ('21', 'Dohyun')]"
      ]
     },
     "execution_count": 14,
     "metadata": {},
     "output_type": "execute_result"
    }
   ],
   "source": [
    "answer_list"
   ]
  },
  {
   "cell_type": "code",
   "execution_count": 7,
   "id": "90f2d8cd",
   "metadata": {},
   "outputs": [],
   "source": [
    "answer_list = sorted(answer_list, key = lambda x: x[1], reverse=True)"
   ]
  },
  {
   "cell_type": "code",
   "execution_count": 8,
   "id": "328b4436",
   "metadata": {},
   "outputs": [
    {
     "data": {
      "text/plain": [
       "[('20', 'S'), ('21', 'J'), ('21', 'D')]"
      ]
     },
     "execution_count": 8,
     "metadata": {},
     "output_type": "execute_result"
    }
   ],
   "source": [
    "answer_list"
   ]
  },
  {
   "cell_type": "code",
   "execution_count": null,
   "id": "b7a5ed3b",
   "metadata": {},
   "outputs": [],
   "source": []
  }
 ],
 "metadata": {
  "kernelspec": {
   "display_name": "Python 3",
   "language": "python",
   "name": "python3"
  },
  "language_info": {
   "codemirror_mode": {
    "name": "ipython",
    "version": 3
   },
   "file_extension": ".py",
   "mimetype": "text/x-python",
   "name": "python",
   "nbconvert_exporter": "python",
   "pygments_lexer": "ipython3",
   "version": "3.6.9"
  }
 },
 "nbformat": 4,
 "nbformat_minor": 5
}
