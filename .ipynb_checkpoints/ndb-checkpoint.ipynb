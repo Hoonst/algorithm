{
 "cells": [
  {
   "cell_type": "markdown",
   "id": "46c77c37",
   "metadata": {},
   "source": [
    "# 큰 수의 법칙"
   ]
  },
  {
   "cell_type": "code",
   "execution_count": 35,
   "id": "00fe20ff",
   "metadata": {},
   "outputs": [
    {
     "name": "stdout",
     "output_type": "stream",
     "text": [
      "46\n",
      "0.00063 sec\n",
      "46\n",
      "0.00015 sec\n"
     ]
    }
   ],
   "source": [
    "import time\n",
    "\n",
    "N, M, K = map(int, input().split())\n",
    "nums = list(map(int, input().split()))\n",
    "\n",
    "sorted_nums = sorted(nums)[::-1]\n",
    "\n",
    "first, second = sorted_nums[:2]\n",
    "\n",
    "total = 0\n",
    "start = time.time() \n",
    "\n",
    "not_change = K\n",
    "for _ in range(M):\n",
    "    if not_change:\n",
    "        total += first\n",
    "        not_change-=1\n",
    "    else:\n",
    "        total += second\n",
    "        not_change=K\n",
    "print(total)\n",
    "end = time.time() \n",
    "print(f\"{end - start:.5f} sec\")\n",
    "# 해당 방식은 시간 초과 발생 가능성이 있음\n",
    "# 수학적 이론을 정립해서 풀어보자\n",
    "\n",
    "############################################################\n",
    "# 8 // 3\n",
    "# (6 6 6 5) (6 6 6 5)\n",
    "# (first * 3 + second)가 4개로 구성되어 그것을 M으로 나눈 몫만큼 더해지고\n",
    "# remainder만큼 first를 더해주면 된다. \n",
    "############################################################\n",
    "\n",
    "start = time.time() \n",
    "quotient, remainder = divmod(M, K+1)\n",
    "if M >= K + 1: \n",
    "    print(quotient*(first*3+second)+first*remainder)\n",
    "else:\n",
    "    print(quotient*first)\n",
    "end = time.time() \n",
    "\n",
    "print(f\"{end - start:.5f} sec\")"
   ]
  },
  {
   "cell_type": "markdown",
   "id": "a74d2445",
   "metadata": {},
   "source": [
    "# 숫자 카드 게임"
   ]
  },
  {
   "cell_type": "code",
   "execution_count": 41,
   "id": "f47db63b",
   "metadata": {},
   "outputs": [
    {
     "name": "stdout",
     "output_type": "stream",
     "text": [
      "2 4\n",
      "7 3 1 8\n",
      "3 3 3 4\n"
     ]
    }
   ],
   "source": [
    "N, M = map(int, input().split())\n",
    "graph = [list(map(int, input().split())) for _ in range(N)]"
   ]
  },
  {
   "cell_type": "code",
   "execution_count": 43,
   "id": "d6088185",
   "metadata": {},
   "outputs": [
    {
     "name": "stdout",
     "output_type": "stream",
     "text": [
      "3\n"
     ]
    }
   ],
   "source": [
    "minmax = max(list(map(min, graph)))\n",
    "print(minmax)"
   ]
  },
  {
   "cell_type": "markdown",
   "id": "41cfbfe2",
   "metadata": {},
   "source": [
    "# 1이 될때까지"
   ]
  },
  {
   "cell_type": "code",
   "execution_count": 65,
   "id": "d0303793",
   "metadata": {},
   "outputs": [
    {
     "name": "stdout",
     "output_type": "stream",
     "text": [
      "24\n",
      "8\n",
      "7\n",
      "6\n",
      "2\n",
      "1\n",
      "6\n"
     ]
    }
   ],
   "source": [
    "N, K = map(int, input().split())\n",
    "\n",
    "cnt = 0\n",
    "while N > 1:\n",
    "    if not (N % K):\n",
    "        N = N // K\n",
    "        cnt += 1\n",
    "    else:\n",
    "        N -= 1\n",
    "        cnt += 1\n",
    "print(cnt)"
   ]
  },
  {
   "cell_type": "code",
   "execution_count": null,
   "id": "2213b09e",
   "metadata": {},
   "outputs": [],
   "source": []
  }
 ],
 "metadata": {
  "kernelspec": {
   "display_name": "Python 3 (ipykernel)",
   "language": "python",
   "name": "python3"
  },
  "language_info": {
   "codemirror_mode": {
    "name": "ipython",
    "version": 3
   },
   "file_extension": ".py",
   "mimetype": "text/x-python",
   "name": "python",
   "nbconvert_exporter": "python",
   "pygments_lexer": "ipython3",
   "version": "3.9.9"
  }
 },
 "nbformat": 4,
 "nbformat_minor": 5
}
