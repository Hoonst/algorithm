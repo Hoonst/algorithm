{
 "cells": [
  {
   "cell_type": "markdown",
   "id": "7f4be469",
   "metadata": {},
   "source": [
    "# 4949. 균형잡힌 세상"
   ]
  },
  {
   "cell_type": "code",
   "execution_count": 1,
   "id": "c336fac0",
   "metadata": {},
   "outputs": [],
   "source": [
    "sentences = ['So when I die (the [first] I will see in (heaven) is a score list).',\n",
    "'[ first in ] ( first out ).',\n",
    "'Half Moon tonight (At least it is better than no Moon at all].',\n",
    "'A rope may form )( a trail in a maze.',\n",
    "'Help( I[m being held prisoner in a fortune cookie factory)].',\n",
    "'([ (([( [ ] ) ( ) (( ))] )) ]).',\n",
    "' .',\n",
    "'.']"
   ]
  },
  {
   "cell_type": "code",
   "execution_count": 2,
   "id": "4e39b667",
   "metadata": {},
   "outputs": [
    {
     "name": "stdout",
     "output_type": "stream",
     "text": [
      "['(', '[', ']', '(', ')', ')']\n",
      "[]\n",
      "yes\n",
      "['[', ']', '(', ')']\n",
      "[]\n",
      "yes\n",
      "['(', ']']\n",
      "['(', ']']\n",
      "no\n",
      "[')', '(']\n",
      "[')']\n",
      "no\n",
      "['(', '[', ')', ']']\n",
      "['(', '[', ')']\n",
      "no\n",
      "['(', '[', '(', '(', '[', '(', '[', ']', ')', '(', ')', '(', '(', ')', ')', ']', ')', ')', ']', ')']\n",
      "[]\n",
      "yes\n",
      "yes\n"
     ]
    }
   ],
   "source": [
    "for sent in sentences:\n",
    "#     try:\n",
    "#         sent = input()\n",
    "        \n",
    "    sent = [x for x in sent if x in '()[]']\n",
    "    if sent == '.':\n",
    "        break\n",
    "    if len(sent) == 0:\n",
    "        print('yes')\n",
    "        break\n",
    "    print(sent)\n",
    "    stack = []\n",
    "    for s in sent:\n",
    "        if s == '(':\n",
    "            stack.append(s)\n",
    "        elif s == ')':\n",
    "            if stack and stack[-1] == '(':\n",
    "                stack.pop()\n",
    "            else:\n",
    "                stack.append(s)\n",
    "                break\n",
    "\n",
    "        elif s == '[':\n",
    "            stack.append(s)\n",
    "        elif s == ']':\n",
    "            if stack and stack[-1] == '[':\n",
    "                stack.pop()\n",
    "            else:\n",
    "                stack.append(s)\n",
    "                break\n",
    "    print(stack)\n",
    "\n",
    "    if stack:\n",
    "        print('no')\n",
    "    else:\n",
    "        print('yes')\n",
    "        \n",
    "#     except:\n",
    "#         break   "
   ]
  },
  {
   "cell_type": "code",
   "execution_count": 3,
   "id": "92f69a8f",
   "metadata": {},
   "outputs": [
    {
     "name": "stdout",
     "output_type": "stream",
     "text": [
      "\n",
      "yes\n",
      "\n",
      "yes\n",
      "\n",
      "yes\n",
      "\n",
      "yes\n",
      "\n",
      "yes\n",
      "\n",
      "yes\n",
      "\n",
      "yes\n",
      "\n",
      "yes\n",
      "\n",
      "yes\n",
      "\n",
      "yes\n",
      "\n",
      "yes\n",
      "\n",
      "yes\n",
      "\n",
      "yes\n",
      "\n",
      "yes\n",
      "\n",
      "yes\n"
     ]
    }
   ],
   "source": [
    "while True:\n",
    "    try:\n",
    "        sent = input()\n",
    "        if sent == '.':\n",
    "            break\n",
    "        \n",
    "        sent = [x for x in sent if x in '()[]']\n",
    "        \n",
    "        if len(sent) == 0:\n",
    "            print('yes')\n",
    "            continue\n",
    "            \n",
    "        stack = []\n",
    "        for s in sent:\n",
    "            if s == '(':\n",
    "                stack.append(s)\n",
    "            elif s == ')':\n",
    "                if stack and stack[-1] == '(':\n",
    "                    stack.pop()\n",
    "                else:\n",
    "                    stack.append(s)\n",
    "                    break\n",
    "\n",
    "            elif s == '[':\n",
    "                stack.append(s)\n",
    "            elif s == ']':\n",
    "                if stack and stack[-1] == '[':\n",
    "                    stack.pop()\n",
    "                else:\n",
    "                    stack.append(s)\n",
    "                    break\n",
    "\n",
    "        if stack:\n",
    "            print('no')\n",
    "        else:\n",
    "            print('yes')\n",
    "        \n",
    "    except:\n",
    "        break   "
   ]
  },
  {
   "cell_type": "markdown",
   "id": "8f9ce948",
   "metadata": {},
   "source": [
    "# 11050. 이항 계수"
   ]
  },
  {
   "cell_type": "markdown",
   "id": "c09cd745",
   "metadata": {},
   "source": [
    "재귀로 풀어야 대박인 것이었다?"
   ]
  },
  {
   "cell_type": "code",
   "execution_count": 47,
   "id": "2d47ad2a",
   "metadata": {},
   "outputs": [],
   "source": [
    "N, K = map(int, input().split())\n",
    "\n",
    "top = 1\n",
    "bottom = 1\n",
    "\n",
    "tops = list(range(N,0,-1))[:K]\n",
    "for t in tops:\n",
    "    top *= t\n",
    "\n",
    "for k in range(K, 0, -1):\n",
    "    bottom *= k\n",
    "    \n",
    "print(int(top / bottom))"
   ]
  },
  {
   "cell_type": "code",
   "execution_count": null,
   "id": "57a9054f",
   "metadata": {},
   "outputs": [],
   "source": [
    "n,k=map(int, input().split())\n",
    "a = 1\n",
    "b = 1\n",
    "while k:\n",
    "    a*=n\n",
    "    b*=k\n",
    "    n-=1\n",
    "    k-=1\n",
    "print(a//b)"
   ]
  },
  {
   "cell_type": "markdown",
   "id": "c4f31e78",
   "metadata": {},
   "source": [
    "# 4153. 직각삼각형"
   ]
  },
  {
   "cell_type": "code",
   "execution_count": 71,
   "id": "1044ee06",
   "metadata": {},
   "outputs": [
    {
     "name": "stdout",
     "output_type": "stream",
     "text": [
      "6 8 10\n",
      "right\n",
      "25 52 60\n",
      "wrong\n",
      "5 12 13\n",
      "right\n",
      "0 0 0 \n"
     ]
    }
   ],
   "source": [
    "while True:\n",
    "    a, b, c = map(int, input().split())\n",
    "    if (a,b,c) == (0,0,0):\n",
    "        break\n",
    "    else:\n",
    "        temp = sorted([a,b,c])\n",
    "        answer = temp[0]**2 + temp[1]**2 == temp[2]**2\n",
    "        \n",
    "        if answer:\n",
    "            print('right')\n",
    "        else:\n",
    "            print('wrong')"
   ]
  },
  {
   "cell_type": "markdown",
   "id": "8df66cb3",
   "metadata": {},
   "source": [
    "# 10814. 나이순 정렬"
   ]
  },
  {
   "cell_type": "markdown",
   "id": "6c2cb868",
   "metadata": {},
   "source": [
    "정렬 시 문자열로 나이를 받아서 문제"
   ]
  },
  {
   "cell_type": "code",
   "execution_count": 1,
   "id": "d5250916",
   "metadata": {},
   "outputs": [
    {
     "name": "stdout",
     "output_type": "stream",
     "text": [
      "3\n",
      "21 Junkyu\n",
      "21 Dohyun\n",
      "20 Sunyoung\n",
      "20 Sunyoung\n",
      "21 Junkyu\n",
      "21 Dohyun\n"
     ]
    }
   ],
   "source": [
    "from collections import defaultdict\n",
    "dic = defaultdict(lambda: [])\n",
    "\n",
    "N = int(input())\n",
    "for _ in range(N):\n",
    "    age, name = input().split()\n",
    "    dic[int(age)].append(name)\n",
    "    \n",
    "for key in sorted(dic):\n",
    "    for value in dic[key]:\n",
    "        print(key, value)"
   ]
  },
  {
   "cell_type": "code",
   "execution_count": 17,
   "id": "24c6b074",
   "metadata": {},
   "outputs": [
    {
     "name": "stdout",
     "output_type": "stream",
     "text": [
      "4\n",
      "20 hoonst\n",
      "21 james\n",
      "21 ha\n",
      "21 hey\n",
      "20 hoonst\n",
      "21 james\n",
      "21 ha\n",
      "21 hey\n"
     ]
    }
   ],
   "source": [
    "answer_list = []\n",
    "N = int(input())\n",
    "\n",
    "for _ in range(N):\n",
    "    age, name = input().split()\n",
    "    answer_list.append((int(age), name))\n",
    "    \n",
    "answer_list = sorted(answer_list, key = lambda x: x[0])\n",
    "\n",
    "for a, n in answer_list:\n",
    "    print(a, n)"
   ]
  },
  {
   "cell_type": "markdown",
   "id": "a0726e66",
   "metadata": {},
   "source": [
    "# 10773. 제로"
   ]
  },
  {
   "cell_type": "code",
   "execution_count": 6,
   "id": "320dd4d3",
   "metadata": {},
   "outputs": [
    {
     "name": "stdout",
     "output_type": "stream",
     "text": [
      "10\n",
      "1\n",
      "3\n",
      "5\n",
      "4\n",
      "0\n",
      "0\n",
      "7\n",
      "0\n",
      "0\n",
      "6\n",
      "7\n"
     ]
    }
   ],
   "source": [
    "K = int(input())\n",
    "\n",
    "stack = []\n",
    "for _ in range(K):\n",
    "    sample = int(input())\n",
    "    if sample != 0 :\n",
    "        stack.append(sample)\n",
    "    else:\n",
    "        stack.pop()\n",
    "print(sum(stack)) "
   ]
  },
  {
   "cell_type": "markdown",
   "id": "4878ba71",
   "metadata": {},
   "source": [
    "# 1018. 체스판 다시 칠하기"
   ]
  },
  {
   "cell_type": "markdown",
   "id": "c68d7ff8",
   "metadata": {},
   "source": [
    "* 나는 그래프로 풀었지만,\n",
    "* 사실은 그래프가 아니다"
   ]
  },
  {
   "cell_type": "code",
   "execution_count": 61,
   "id": "76d20f7a",
   "metadata": {},
   "outputs": [
    {
     "name": "stdout",
     "output_type": "stream",
     "text": [
      "10 13\n",
      "BBBBBBBBWBWBW\n",
      "BBBBBBBBBWBWB\n",
      "BBBBBBBBWBWBW\n",
      "BBBBBBBBBWBWB\n",
      "BBBBBBBBWBWBW\n",
      "BBBBBBBBBWBWB\n",
      "BBBBBBBBWBWBW\n",
      "BBBBBBBBBWBWB\n",
      "WWWWWWWWWWBWB\n",
      "WWWWWWWWWWBWB\n"
     ]
    }
   ],
   "source": [
    "N, M = map(int, input().split())\n",
    "\n",
    "checkerboard = []\n",
    "for _ in range(N):\n",
    "    checkerboard.append(list(input()))"
   ]
  },
  {
   "cell_type": "code",
   "execution_count": 64,
   "id": "210d7053",
   "metadata": {},
   "outputs": [
    {
     "ename": "KeyboardInterrupt",
     "evalue": "Interrupted by user",
     "output_type": "error",
     "traceback": [
      "\u001b[0;31m-------------------------------------------------------------------------\u001b[0m",
      "\u001b[0;31mKeyboardInterrupt\u001b[0m                       Traceback (most recent call last)",
      "\u001b[0;32m<ipython-input-64-27523cb0f2d9>\u001b[0m in \u001b[0;36m<module>\u001b[0;34m\u001b[0m\n\u001b[1;32m      3\u001b[0m \u001b[0;31m# M = X, N = Y\u001b[0m\u001b[0;34m\u001b[0m\u001b[0;34m\u001b[0m\u001b[0;34m\u001b[0m\u001b[0m\n\u001b[1;32m      4\u001b[0m \u001b[0;34m\u001b[0m\u001b[0m\n\u001b[0;32m----> 5\u001b[0;31m \u001b[0mN\u001b[0m\u001b[0;34m,\u001b[0m \u001b[0mM\u001b[0m \u001b[0;34m=\u001b[0m \u001b[0mmap\u001b[0m\u001b[0;34m(\u001b[0m\u001b[0mint\u001b[0m\u001b[0;34m,\u001b[0m \u001b[0minput\u001b[0m\u001b[0;34m(\u001b[0m\u001b[0;34m)\u001b[0m\u001b[0;34m.\u001b[0m\u001b[0msplit\u001b[0m\u001b[0;34m(\u001b[0m\u001b[0;34m)\u001b[0m\u001b[0;34m)\u001b[0m\u001b[0;34m\u001b[0m\u001b[0;34m\u001b[0m\u001b[0m\n\u001b[0m\u001b[1;32m      6\u001b[0m \u001b[0;34m\u001b[0m\u001b[0m\n\u001b[1;32m      7\u001b[0m \u001b[0mcheckerboard\u001b[0m \u001b[0;34m=\u001b[0m \u001b[0;34m[\u001b[0m\u001b[0;34m]\u001b[0m\u001b[0;34m\u001b[0m\u001b[0;34m\u001b[0m\u001b[0m\n",
      "\u001b[0;32m/usr/local/lib/python3.6/dist-packages/ipykernel/kernelbase.py\u001b[0m in \u001b[0;36mraw_input\u001b[0;34m(self, prompt)\u001b[0m\n\u001b[1;32m    849\u001b[0m             \u001b[0mself\u001b[0m\u001b[0;34m.\u001b[0m\u001b[0m_parent_ident\u001b[0m\u001b[0;34m,\u001b[0m\u001b[0;34m\u001b[0m\u001b[0;34m\u001b[0m\u001b[0m\n\u001b[1;32m    850\u001b[0m             \u001b[0mself\u001b[0m\u001b[0;34m.\u001b[0m\u001b[0m_parent_header\u001b[0m\u001b[0;34m,\u001b[0m\u001b[0;34m\u001b[0m\u001b[0;34m\u001b[0m\u001b[0m\n\u001b[0;32m--> 851\u001b[0;31m             \u001b[0mpassword\u001b[0m\u001b[0;34m=\u001b[0m\u001b[0;32mFalse\u001b[0m\u001b[0;34m,\u001b[0m\u001b[0;34m\u001b[0m\u001b[0;34m\u001b[0m\u001b[0m\n\u001b[0m\u001b[1;32m    852\u001b[0m         )\n\u001b[1;32m    853\u001b[0m \u001b[0;34m\u001b[0m\u001b[0m\n",
      "\u001b[0;32m/usr/local/lib/python3.6/dist-packages/ipykernel/kernelbase.py\u001b[0m in \u001b[0;36m_input_request\u001b[0;34m(self, prompt, ident, parent, password)\u001b[0m\n\u001b[1;32m    890\u001b[0m             \u001b[0;32mexcept\u001b[0m \u001b[0mKeyboardInterrupt\u001b[0m\u001b[0;34m:\u001b[0m\u001b[0;34m\u001b[0m\u001b[0;34m\u001b[0m\u001b[0m\n\u001b[1;32m    891\u001b[0m                 \u001b[0;31m# re-raise KeyboardInterrupt, to truncate traceback\u001b[0m\u001b[0;34m\u001b[0m\u001b[0;34m\u001b[0m\u001b[0;34m\u001b[0m\u001b[0m\n\u001b[0;32m--> 892\u001b[0;31m                 \u001b[0;32mraise\u001b[0m \u001b[0mKeyboardInterrupt\u001b[0m\u001b[0;34m(\u001b[0m\u001b[0;34m\"Interrupted by user\"\u001b[0m\u001b[0;34m)\u001b[0m \u001b[0;32mfrom\u001b[0m \u001b[0;32mNone\u001b[0m\u001b[0;34m\u001b[0m\u001b[0;34m\u001b[0m\u001b[0m\n\u001b[0m\u001b[1;32m    893\u001b[0m             \u001b[0;32mexcept\u001b[0m \u001b[0mException\u001b[0m \u001b[0;32mas\u001b[0m \u001b[0me\u001b[0m\u001b[0;34m:\u001b[0m\u001b[0;34m\u001b[0m\u001b[0;34m\u001b[0m\u001b[0m\n\u001b[1;32m    894\u001b[0m                 \u001b[0mself\u001b[0m\u001b[0;34m.\u001b[0m\u001b[0mlog\u001b[0m\u001b[0;34m.\u001b[0m\u001b[0mwarning\u001b[0m\u001b[0;34m(\u001b[0m\u001b[0;34m\"Invalid Message:\"\u001b[0m\u001b[0;34m,\u001b[0m \u001b[0mexc_info\u001b[0m\u001b[0;34m=\u001b[0m\u001b[0;32mTrue\u001b[0m\u001b[0;34m)\u001b[0m\u001b[0;34m\u001b[0m\u001b[0;34m\u001b[0m\u001b[0m\n",
      "\u001b[0;31mKeyboardInterrupt\u001b[0m: Interrupted by user"
     ]
    }
   ],
   "source": [
    "import copy\n",
    "\n",
    "# M = X, N = Y\n",
    "\n",
    "N, M = map(int, input().split())\n",
    "\n",
    "checkerboard = []\n",
    "for _ in range(N):\n",
    "    checkerboard.append(list(input()))\n",
    "colors = {\"B\": \"W\", \"W\": \"B\"}\n",
    "def color(board, board_list):\n",
    "    dx = [1,0,-1,0]\n",
    "    dy = [0,1,0,-1]\n",
    "    mini = 10000000000\n",
    "\n",
    "    for x,y in board_list:\n",
    "        cut_board = [k[y:y+8] for k in board[x:x+8]]\n",
    "        \n",
    "        cut_board_copy = copy.deepcopy(cut_board)\n",
    "        cut_board_copy[0][0] = colors[cut_board[0][0]]\n",
    "        \n",
    "        def color_cnt(check_board, coloring):\n",
    "            dx = [1,0,-1,0]\n",
    "            dy = [0,1,0,-1]\n",
    "            \n",
    "            for i in range(8):\n",
    "                for j in range(8):\n",
    "                    current_color = check_board[i][j]\n",
    "                    opposite = colors[current_color]\n",
    "                    for a in range(4):\n",
    "                        x_axis = i+dx[a]\n",
    "                        y_axis = j+dy[a]\n",
    "\n",
    "                        if 0 <= x_axis < 8 and 0 <= y_axis < 8:\n",
    "                            if check_board[x_axis][y_axis] == current_color:\n",
    "                                check_board[x_axis][y_axis] = opposite\n",
    "                                coloring += 1\n",
    "                            else:\n",
    "                                pass \n",
    "            return coloring\n",
    "    \n",
    "        B = color_cnt(cut_board, 0)\n",
    "        W = color_cnt(cut_board_copy, 1)\n",
    "\n",
    "        mini = min(mini, B, W)\n",
    "\n",
    "    return mini\n",
    "\n",
    "def board_cut(board):\n",
    "    board_list = []\n",
    "    # N == y / M == M\n",
    "    for i in range(N):\n",
    "        for j in range(M):\n",
    "            if i + 8 <= N and j + 8 <= M:\n",
    "                board_list.append((i,j))\n",
    "            \n",
    "    return board_list\n",
    "\n",
    "boards = board_cut(checkerboard)\n",
    "print(color(checkerboard, boards))"
   ]
  },
  {
   "cell_type": "markdown",
   "id": "208a64e1",
   "metadata": {},
   "source": [
    "# 2108. 통계학"
   ]
  },
  {
   "cell_type": "markdown",
   "id": "cec8ff83",
   "metadata": {},
   "source": [
    "* Counter 사용시 들어가는 List가 Sorted에 따라 값이 다르게 나타난다.\n",
    "* Sys 차이가 확실히 크긴 하다."
   ]
  },
  {
   "cell_type": "code",
   "execution_count": 14,
   "id": "7206c556",
   "metadata": {},
   "outputs": [
    {
     "name": "stdout",
     "output_type": "stream",
     "text": [
      "5\n",
      "-1\n",
      "-2\n",
      "-3\n",
      "-1\n",
      "-1\n",
      "-2\n",
      "-1\n",
      "-1\n",
      "2\n"
     ]
    }
   ],
   "source": [
    "from collections import Counter\n",
    "import sys\n",
    "\n",
    "# n = int(sys.stdin.readline())\n",
    "# numbers = [int(sys.stdin.readline()) for _ in range(n)]\n",
    "n = int(input())\n",
    "numbers = [int(input()) for _ in range(n)]\n",
    "\n",
    "print(round(sum(numbers) / n))\n",
    "print(sorted(numbers)[n//2])\n",
    "\n",
    "count_num = Counter(numbers).most_common()\n",
    "if len(count_num) > 1 and count_num[0][1]==count_num[1][1]:\n",
    "    print(count_num[1][0])\n",
    "else: \n",
    "    print(count_num[0][0])\n",
    "\n",
    "print(max(numbers) - min(numbers))"
   ]
  },
  {
   "cell_type": "code",
   "execution_count": 16,
   "id": "f78d558d",
   "metadata": {},
   "outputs": [
    {
     "data": {
      "text/plain": [
       "[(-1, 3), (-3, 1), (-2, 1)]"
      ]
     },
     "execution_count": 16,
     "metadata": {},
     "output_type": "execute_result"
    }
   ],
   "source": [
    "Counter(sorted(numbers)).most_common()"
   ]
  },
  {
   "cell_type": "code",
   "execution_count": 15,
   "id": "7d28437e",
   "metadata": {},
   "outputs": [
    {
     "data": {
      "text/plain": [
       "[(-1, 3), (-2, 1), (-3, 1)]"
      ]
     },
     "execution_count": 15,
     "metadata": {},
     "output_type": "execute_result"
    }
   ],
   "source": [
    "Counter(numbers).most_common()"
   ]
  },
  {
   "cell_type": "code",
   "execution_count": 22,
   "id": "c409f178",
   "metadata": {},
   "outputs": [],
   "source": [
    "nums = sorted(Counter(numbers).items(), key=lambda x: x[1])"
   ]
  }
 ],
 "metadata": {
  "kernelspec": {
   "display_name": "Python 3 (ipykernel)",
   "language": "python",
   "name": "python3"
  },
  "language_info": {
   "codemirror_mode": {
    "name": "ipython",
    "version": 3
   },
   "file_extension": ".py",
   "mimetype": "text/x-python",
   "name": "python",
   "nbconvert_exporter": "python",
   "pygments_lexer": "ipython3",
   "version": "3.9.9"
  }
 },
 "nbformat": 4,
 "nbformat_minor": 5
}
