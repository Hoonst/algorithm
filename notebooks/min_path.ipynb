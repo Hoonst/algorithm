{
 "cells": [
  {
   "cell_type": "markdown",
   "id": "9074e53f",
   "metadata": {},
   "source": [
    "# Dijkstra"
   ]
  },
  {
   "cell_type": "markdown",
   "id": "f8940f22",
   "metadata": {},
   "source": [
    "# 1238. 파티"
   ]
  },
  {
   "cell_type": "markdown",
   "id": "06e43565",
   "metadata": {},
   "source": [
    "각각의 마을에 한명씩 산다\n",
    "모든 마을과 대상 마을간의 최단 경로를 구한 뒤, 그 중 최대의 값을 return"
   ]
  },
  {
   "cell_type": "code",
   "execution_count": 105,
   "id": "524a5732",
   "metadata": {},
   "outputs": [
    {
     "name": "stdout",
     "output_type": "stream",
     "text": [
      "4 8 2\n",
      "1 2 4\n",
      "1 3 2\n",
      "1 4 7\n",
      "2 1 1\n",
      "2 3 5\n",
      "3 1 2\n",
      "3 4 4\n",
      "4 2 3\n"
     ]
    }
   ],
   "source": [
    "N, M, X = map(int, input().split())\n",
    "\n",
    "INF=1e9\n",
    "\n",
    "graph = [[] for _ in range(N+1)]\n",
    "for _ in range(M):\n",
    "    start, end, time = map(int, input().split())\n",
    "    graph[start].append((end, time))"
   ]
  },
  {
   "cell_type": "code",
   "execution_count": 130,
   "id": "3815d340",
   "metadata": {},
   "outputs": [
    {
     "name": "stdout",
     "output_type": "stream",
     "text": [
      "1\n",
      "2\n",
      "3\n",
      "4\n",
      "10\n"
     ]
    }
   ],
   "source": [
    "N, M, X = map(int, input().split())\n",
    "\n",
    "INF=1e9\n",
    "\n",
    "graph = [[] for _ in range(N+1)]\n",
    "for _ in range(M):\n",
    "    start, end, time = map(int, input().split())\n",
    "    graph[start].append((end, time))\n",
    "\n",
    "# 방문하지 않은 곳을 탐색\n",
    "def get_smallest_node():\n",
    "    min_value = INF\n",
    "    index = 0\n",
    "    for i in range(1, N+1):\n",
    "        if distance[i] < min_value and not visited[i]:\n",
    "            min_value = distance[i]\n",
    "            index = i\n",
    "#             print(f'index:{i}')\n",
    "#             print(f'distance: {distance}')\n",
    "#             print(f'visited: {visited}')\n",
    "\n",
    "#     print('smallest inspection end')\n",
    "    return index\n",
    "\n",
    "def dijkstra(start):\n",
    "    # 자기 자신에게 0\n",
    "    distance[start] = 0\n",
    "    visited[start] = True\n",
    "    \n",
    "    # 시작점에 연결되어 있는 노드들에 연결된 값들에 대한 거리\n",
    "    for (idx, value) in graph[start]:\n",
    "        distance[idx] = value\n",
    "#     print(f'first distance {distance}')\n",
    "    # 각 노드마다 반복\n",
    "    for i in range(N-1):\n",
    "        now = get_smallest_node()\n",
    "        visited[now] = True\n",
    "#         print(f'now: {now}')\n",
    "        # now:현재 판단하고자 하는 노드 인덱스\n",
    "        for j in graph[now]:\n",
    "#             print(f'graph[now] {graph[now]}')\n",
    "            cost = distance[now] + j[1]\n",
    "            # 현재 값에서 새로이 더해줌\n",
    "            if cost < distance[j[0]]:\n",
    "                distance[j[0]]=cost\n",
    "#         print(f'for node {now} distance: {distance}')\n",
    "    return distance\n",
    "\n",
    "visited = [False]*(N+1)\n",
    "distance = [INF]*(N+1)\n",
    "\n",
    "result = 0 \n",
    "to_X = dijkstra(X)\n",
    "for i in range(1,N+1):\n",
    "    visited = [False]*(N+1)\n",
    "    distance = [INF]*(N+1)\n",
    "    from_X = dijkstra(i)\n",
    "    result = max(result, from_X[X] + to_X[i])\n",
    "print(result) \n",
    "# total_result = [a+b for a,b in zip(to_X, from_X)]\n",
    "# max_result = max(total_result)\n",
    "# print(max_result)"
   ]
  },
  {
   "cell_type": "code",
   "execution_count": null,
   "id": "9bb2d6ea",
   "metadata": {},
   "outputs": [],
   "source": [
    "import heapq\n",
    "def dijkstra(start):\n",
    "    q = []\n",
    "    distance = [INF] * (N+ 1)\n",
    "    \n",
    "    heapq.heappush(q, (0, start)) # (distance, node_idx)\n",
    "    distance[start] = 0\n",
    "    \n",
    "    while q:\n",
    "        dist, now = heapq.heappop(q)\n",
    "        \n",
    "        if distance[now] < dist:\n",
    "            continue\n",
    "        for node_index, node_cost in graph[now]:\n",
    "            cost = dist + node_cost\n",
    "            # 원래 시작점에서부터 해당 지점까지의 점수가 dist이고,\n",
    "            # node_cost는 새로운 target에 대한 거리\n",
    "            if distance[node_index] > cost:\n",
    "                distance[node_index] = cost\n",
    "                heapq.heappush(q, (cost, node_index))\n",
    "                        "
   ]
  }
 ],
 "metadata": {
  "kernelspec": {
   "display_name": "Python 3 (ipykernel)",
   "language": "python",
   "name": "python3"
  },
  "language_info": {
   "codemirror_mode": {
    "name": "ipython",
    "version": 3
   },
   "file_extension": ".py",
   "mimetype": "text/x-python",
   "name": "python",
   "nbconvert_exporter": "python",
   "pygments_lexer": "ipython3",
   "version": "3.9.9"
  }
 },
 "nbformat": 4,
 "nbformat_minor": 5
}
