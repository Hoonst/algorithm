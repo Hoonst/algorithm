{
 "cells": [
  {
   "cell_type": "markdown",
   "id": "9074e53f",
   "metadata": {},
   "source": [
    "# Dijkstra"
   ]
  },
  {
   "cell_type": "markdown",
   "id": "f8940f22",
   "metadata": {},
   "source": [
    "# 1238. 파티"
   ]
  },
  {
   "cell_type": "markdown",
   "id": "06e43565",
   "metadata": {},
   "source": [
    "각각의 마을에 한명씩 산다\n",
    "모든 마을과 대상 마을간의 최단 경로를 구한 뒤, 그 중 최대의 값을 return"
   ]
  },
  {
   "cell_type": "code",
   "execution_count": 105,
   "id": "524a5732",
   "metadata": {},
   "outputs": [
    {
     "name": "stdout",
     "output_type": "stream",
     "text": [
      "4 8 2\n",
      "1 2 4\n",
      "1 3 2\n",
      "1 4 7\n",
      "2 1 1\n",
      "2 3 5\n",
      "3 1 2\n",
      "3 4 4\n",
      "4 2 3\n"
     ]
    }
   ],
   "source": [
    "N, M, X = map(int, input().split())\n",
    "\n",
    "INF=1e9\n",
    "\n",
    "graph = [[] for _ in range(N+1)]\n",
    "for _ in range(M):\n",
    "    start, end, time = map(int, input().split())\n",
    "    graph[start].append((end, time))"
   ]
  },
  {
   "cell_type": "code",
   "execution_count": 130,
   "id": "3815d340",
   "metadata": {},
   "outputs": [
    {
     "name": "stdout",
     "output_type": "stream",
     "text": [
      "1\n",
      "2\n",
      "3\n",
      "4\n",
      "10\n"
     ]
    }
   ],
   "source": [
    "N, M, X = map(int, input().split())\n",
    "\n",
    "INF=1e9\n",
    "\n",
    "graph = [[] for _ in range(N+1)]\n",
    "for _ in range(M):\n",
    "    start, end, time = map(int, input().split())\n",
    "    graph[start].append((end, time))\n",
    "\n",
    "# 방문하지 않은 곳을 탐색\n",
    "def get_smallest_node():\n",
    "    min_value = INF\n",
    "    index = 0\n",
    "    for i in range(1, N+1):\n",
    "        if distance[i] < min_value and not visited[i]:\n",
    "            min_value = distance[i]\n",
    "            index = i\n",
    "#             print(f'index:{i}')\n",
    "#             print(f'distance: {distance}')\n",
    "#             print(f'visited: {visited}')\n",
    "\n",
    "#     print('smallest inspection end')\n",
    "    return index\n",
    "\n",
    "def dijkstra(start):\n",
    "    # 자기 자신에게 0\n",
    "    distance[start] = 0\n",
    "    visited[start] = True\n",
    "    \n",
    "    # 시작점에 연결되어 있는 노드들에 연결된 값들에 대한 거리\n",
    "    for (idx, value) in graph[start]:\n",
    "        distance[idx] = value\n",
    "#     print(f'first distance {distance}')\n",
    "    # 각 노드마다 반복\n",
    "    for i in range(N-1):\n",
    "        now = get_smallest_node()\n",
    "        visited[now] = True\n",
    "#         print(f'now: {now}')\n",
    "        # now:현재 판단하고자 하는 노드 인덱스\n",
    "        for j in graph[now]:\n",
    "#             print(f'graph[now] {graph[now]}')\n",
    "            cost = distance[now] + j[1]\n",
    "            # 현재 값에서 새로이 더해줌\n",
    "            if cost < distance[j[0]]:\n",
    "                distance[j[0]]=cost\n",
    "#         print(f'for node {now} distance: {distance}')\n",
    "    return distance\n",
    "\n",
    "visited = [False]*(N+1)\n",
    "distance = [INF]*(N+1)\n",
    "\n",
    "result = 0 \n",
    "to_X = dijkstra(X)\n",
    "for i in range(1,N+1):\n",
    "    visited = [False]*(N+1)\n",
    "    distance = [INF]*(N+1)\n",
    "    from_X = dijkstra(i)\n",
    "    result = max(result, from_X[X] + to_X[i])\n",
    "print(result) \n",
    "# total_result = [a+b for a,b in zip(to_X, from_X)]\n",
    "# max_result = max(total_result)\n",
    "# print(max_result)"
   ]
  },
  {
   "cell_type": "code",
   "execution_count": 10,
   "id": "9bb2d6ea",
   "metadata": {},
   "outputs": [
    {
     "name": "stdout",
     "output_type": "stream",
     "text": [
      "4 8 2\n",
      "1 2 4\n",
      "1 3 2\n",
      "1 4 7\n",
      "2 1 1\n",
      "2 3 5\n",
      "3 1 2\n",
      "3 4 4\n",
      "4 2 3\n",
      "10\n"
     ]
    }
   ],
   "source": [
    "import heapq\n",
    "\n",
    "N, M, X = map(int, input().split())\n",
    "\n",
    "graph = [[] for _ in range(N+1)]\n",
    "for _ in range(M):\n",
    "    start, end, time = map(int, input().split())\n",
    "    graph[start].append((end, time))\n",
    "\n",
    "INF=1e9\n",
    "distance = [INF]*(N+1)\n",
    "\n",
    "def dijkstra(start):\n",
    "    q = []\n",
    "    distance = [INF] * (N+ 1)\n",
    "    \n",
    "    heapq.heappush(q, (0, start)) # (distance, node_idx)\n",
    "    distance[start] = 0\n",
    "    \n",
    "    while q:\n",
    "        dist, now = heapq.heappop(q)\n",
    "        \n",
    "        if distance[now] < dist:\n",
    "            continue\n",
    "        for node_index, node_cost in graph[now]:\n",
    "            cost = dist + node_cost\n",
    "            # 원래 시작점에서부터 해당 지점까지의 점수가 dist이고,\n",
    "            # node_cost는 새로운 target에 대한 거리\n",
    "            if distance[node_index] > cost:\n",
    "                distance[node_index] = cost\n",
    "                heapq.heappush(q, (cost, node_index))\n",
    "    return distance \n",
    "\n",
    "result = 0 \n",
    "to_X = dijkstra(X)\n",
    "for i in range(1,N+1):\n",
    "    visited = [False]*(N+1)\n",
    "    distance = [INF]*(N+1)\n",
    "    from_X = dijkstra(i)\n",
    "    result = max(result, from_X[X] + to_X[i])\n",
    "print(result) "
   ]
  },
  {
   "cell_type": "markdown",
   "id": "f45d3bff",
   "metadata": {},
   "source": [
    "# 18352. 특정 거리의 도시 찾기"
   ]
  },
  {
   "cell_type": "markdown",
   "id": "62ffd790",
   "metadata": {},
   "source": [
    "* N: 도시 개수\n",
    "* M: 도로 개수\n",
    "* K: 거리 정보\n",
    "* X: 출발 도시 번호"
   ]
  },
  {
   "cell_type": "markdown",
   "id": "099a4dc0",
   "metadata": {},
   "source": [
    "다익스트라의 기본적인 개념이 무엇인가?  \n",
    "최단 경로를 찾는 것!"
   ]
  },
  {
   "cell_type": "code",
   "execution_count": 127,
   "id": "a63b85e8",
   "metadata": {},
   "outputs": [
    {
     "name": "stdout",
     "output_type": "stream",
     "text": [
      "2\n",
      "3\n"
     ]
    }
   ],
   "source": [
    "import heapq\n",
    "\n",
    "N, M, K, start = map(int, input().split())\n",
    "\n",
    "graph = [[] for _ in range(N+1)]\n",
    "\n",
    "for m in range(M):\n",
    "    a,b = map(int, input().split())\n",
    "    graph[a].append((1,b))\n",
    "\n",
    "def dijkstra(start):\n",
    "    INF=1e9\n",
    "    distance = [INF]*(N+1)\n",
    "    \n",
    "    q = []\n",
    "    distance = [INF] * (N+ 1)\n",
    "    # start에서는 당연히 거리가 0이다.\n",
    "    heapq.heappush(q, (0, start)) # (distance, node_idx)\n",
    "    distance[start] = 0\n",
    "    while q:\n",
    "        dist, now = heapq.heappop(q)\n",
    "        if distance[now] < dist:\n",
    "            continue\n",
    "        for node_cost, node_index in graph[now]:\n",
    "            cost = dist + node_cost\n",
    "            # 원래 시작점에서부터 해당 지점까지의 점수가 dist이고,\n",
    "            # node_cost는 새로운 target에 대한 거리\n",
    "\n",
    "            if distance[node_index] > cost:\n",
    "                distance[node_index] = cost\n",
    "                heapq.heappush(q, (cost, node_index))\n",
    "    return distance   \n",
    "\n",
    "route = dijkstra(start)\n",
    "\n",
    "answer = [i for i in range(N+1) if route[i] == K]\n",
    "\n",
    "if answer:\n",
    "    for a in answer:\n",
    "        print(a)\n",
    "else:\n",
    "    print(-1)"
   ]
  },
  {
   "cell_type": "code",
   "execution_count": 126,
   "id": "37552559",
   "metadata": {},
   "outputs": [
    {
     "data": {
      "text/plain": [
       "[2, 3]"
      ]
     },
     "execution_count": 126,
     "metadata": {},
     "output_type": "execute_result"
    }
   ],
   "source": [
    "answer"
   ]
  },
  {
   "cell_type": "markdown",
   "id": "9e70bdc9",
   "metadata": {},
   "source": [
    "순서대로 dijkstra에 무슨 일이 일어나는 지 기술  \n",
    "1. start부터 시작해서 distance에 distance[start] 부분을 0으로 만든다.\n",
    "2. 현재 node (start)와 연결되어 있는 다른 노드들의 비용과 인덱스를 탐색\n",
    "3. 다른 노드들에 대하여 현재까지의 거리를 더한다.\n",
    "    * 즉, 1번에서 거리가 0이라면, 0에다가 다음 노드의 거리를 더해줘야 다음 노드까지의 거리를 계산할 수 있다.\n",
    "4. 그런데 다른 경로로 이미 지금 탐색하는 노드의 거리가 계산한 cost보다 클 수 있다. \n",
    "5. 이럴 때 해당 cost를 지금까지의 거리에 덮어 씌운다. \n",
    "6. 그런데 왜 이제 heap 사용해 추가해주는가?\n",
    "7. heap에 해당 노드를 추가하여 다음 경로를 탐색한다고 생각하면 되고,\n",
    "8. 만약 연결된 노드가 없으면 아웃이며,\n",
    "9. 지금 경로보다 더 distance가 낮으면 다음 노드로 넘어간다."
   ]
  },
  {
   "cell_type": "markdown",
   "id": "e35179bf",
   "metadata": {},
   "source": [
    "# 12834. 주간 미팅"
   ]
  },
  {
   "cell_type": "code",
   "execution_count": 41,
   "id": "bdbdd661",
   "metadata": {
    "collapsed": true
   },
   "outputs": [
    {
     "ename": "KeyboardInterrupt",
     "evalue": "Interrupted by user",
     "output_type": "error",
     "traceback": [
      "\u001b[0;31m---------------------------------------------------------------------------\u001b[0m",
      "\u001b[0;31mKeyboardInterrupt\u001b[0m                         Traceback (most recent call last)",
      "\u001b[0;32m/var/folders/fn/9dj0lp5d1vjdz651ldy376r40000gn/T/ipykernel_58419/2281115209.py\u001b[0m in \u001b[0;36m<module>\u001b[0;34m\u001b[0m\n\u001b[1;32m      1\u001b[0m \u001b[0;32mimport\u001b[0m \u001b[0mheapq\u001b[0m\u001b[0;34m\u001b[0m\u001b[0;34m\u001b[0m\u001b[0m\n\u001b[0;32m----> 2\u001b[0;31m \u001b[0mN\u001b[0m\u001b[0;34m,\u001b[0m \u001b[0mV\u001b[0m\u001b[0;34m,\u001b[0m \u001b[0mE\u001b[0m \u001b[0;34m=\u001b[0m \u001b[0mmap\u001b[0m\u001b[0;34m(\u001b[0m\u001b[0mint\u001b[0m\u001b[0;34m,\u001b[0m \u001b[0minput\u001b[0m\u001b[0;34m(\u001b[0m\u001b[0;34m)\u001b[0m\u001b[0;34m.\u001b[0m\u001b[0msplit\u001b[0m\u001b[0;34m(\u001b[0m\u001b[0;34m)\u001b[0m\u001b[0;34m)\u001b[0m\u001b[0;34m\u001b[0m\u001b[0;34m\u001b[0m\u001b[0m\n\u001b[0m\u001b[1;32m      3\u001b[0m \u001b[0;34m\u001b[0m\u001b[0m\n\u001b[1;32m      4\u001b[0m \u001b[0mA\u001b[0m\u001b[0;34m,\u001b[0m \u001b[0mB\u001b[0m \u001b[0;34m=\u001b[0m \u001b[0mmap\u001b[0m\u001b[0;34m(\u001b[0m\u001b[0mint\u001b[0m\u001b[0;34m,\u001b[0m \u001b[0minput\u001b[0m\u001b[0;34m(\u001b[0m\u001b[0;34m)\u001b[0m\u001b[0;34m.\u001b[0m\u001b[0msplit\u001b[0m\u001b[0;34m(\u001b[0m\u001b[0;34m)\u001b[0m\u001b[0;34m)\u001b[0m\u001b[0;34m\u001b[0m\u001b[0;34m\u001b[0m\u001b[0m\n\u001b[1;32m      5\u001b[0m \u001b[0mteam_home\u001b[0m \u001b[0;34m=\u001b[0m \u001b[0mlist\u001b[0m\u001b[0;34m(\u001b[0m\u001b[0mmap\u001b[0m\u001b[0;34m(\u001b[0m\u001b[0mint\u001b[0m\u001b[0;34m,\u001b[0m \u001b[0minput\u001b[0m\u001b[0;34m(\u001b[0m\u001b[0;34m)\u001b[0m\u001b[0;34m.\u001b[0m\u001b[0msplit\u001b[0m\u001b[0;34m(\u001b[0m\u001b[0;34m)\u001b[0m\u001b[0;34m)\u001b[0m\u001b[0;34m)\u001b[0m\u001b[0;34m\u001b[0m\u001b[0;34m\u001b[0m\u001b[0m\n",
      "\u001b[0;32m/usr/local/lib/python3.9/site-packages/ipykernel/kernelbase.py\u001b[0m in \u001b[0;36mraw_input\u001b[0;34m(self, prompt)\u001b[0m\n\u001b[1;32m   1005\u001b[0m                 \u001b[0;34m\"raw_input was called, but this frontend does not support input requests.\"\u001b[0m\u001b[0;34m\u001b[0m\u001b[0;34m\u001b[0m\u001b[0m\n\u001b[1;32m   1006\u001b[0m             )\n\u001b[0;32m-> 1007\u001b[0;31m         return self._input_request(\n\u001b[0m\u001b[1;32m   1008\u001b[0m             \u001b[0mstr\u001b[0m\u001b[0;34m(\u001b[0m\u001b[0mprompt\u001b[0m\u001b[0;34m)\u001b[0m\u001b[0;34m,\u001b[0m\u001b[0;34m\u001b[0m\u001b[0;34m\u001b[0m\u001b[0m\n\u001b[1;32m   1009\u001b[0m             \u001b[0mself\u001b[0m\u001b[0;34m.\u001b[0m\u001b[0m_parent_ident\u001b[0m\u001b[0;34m[\u001b[0m\u001b[0;34m\"shell\"\u001b[0m\u001b[0;34m]\u001b[0m\u001b[0;34m,\u001b[0m\u001b[0;34m\u001b[0m\u001b[0;34m\u001b[0m\u001b[0m\n",
      "\u001b[0;32m/usr/local/lib/python3.9/site-packages/ipykernel/kernelbase.py\u001b[0m in \u001b[0;36m_input_request\u001b[0;34m(self, prompt, ident, parent, password)\u001b[0m\n\u001b[1;32m   1050\u001b[0m             \u001b[0;32mexcept\u001b[0m \u001b[0mKeyboardInterrupt\u001b[0m\u001b[0;34m:\u001b[0m\u001b[0;34m\u001b[0m\u001b[0;34m\u001b[0m\u001b[0m\n\u001b[1;32m   1051\u001b[0m                 \u001b[0;31m# re-raise KeyboardInterrupt, to truncate traceback\u001b[0m\u001b[0;34m\u001b[0m\u001b[0;34m\u001b[0m\u001b[0m\n\u001b[0;32m-> 1052\u001b[0;31m                 \u001b[0;32mraise\u001b[0m \u001b[0mKeyboardInterrupt\u001b[0m\u001b[0;34m(\u001b[0m\u001b[0;34m\"Interrupted by user\"\u001b[0m\u001b[0;34m)\u001b[0m \u001b[0;32mfrom\u001b[0m \u001b[0;32mNone\u001b[0m\u001b[0;34m\u001b[0m\u001b[0;34m\u001b[0m\u001b[0m\n\u001b[0m\u001b[1;32m   1053\u001b[0m             \u001b[0;32mexcept\u001b[0m \u001b[0mException\u001b[0m\u001b[0;34m:\u001b[0m\u001b[0;34m\u001b[0m\u001b[0;34m\u001b[0m\u001b[0m\n\u001b[1;32m   1054\u001b[0m                 \u001b[0mself\u001b[0m\u001b[0;34m.\u001b[0m\u001b[0mlog\u001b[0m\u001b[0;34m.\u001b[0m\u001b[0mwarning\u001b[0m\u001b[0;34m(\u001b[0m\u001b[0;34m\"Invalid Message:\"\u001b[0m\u001b[0;34m,\u001b[0m \u001b[0mexc_info\u001b[0m\u001b[0;34m=\u001b[0m\u001b[0;32mTrue\u001b[0m\u001b[0;34m)\u001b[0m\u001b[0;34m\u001b[0m\u001b[0;34m\u001b[0m\u001b[0m\n",
      "\u001b[0;31mKeyboardInterrupt\u001b[0m: Interrupted by user"
     ]
    }
   ],
   "source": [
    "import heapq\n",
    "N, V, E = map(int, input().split())\n",
    "\n",
    "A, B = map(int, input().split())\n",
    "team_home = list(map(int, input().split()))\n",
    "\n",
    "graph = [[] for _ in range(V+1)]\n",
    "\n",
    "for _ in range(E):\n",
    "    a,b,l = map(int, input().split())\n",
    "    graph[a].append((l,b))\n",
    "    graph[b].append((l,a))\n",
    "\n",
    "def dijkstra(start): \n",
    "    q = []\n",
    "    distance = [INF] * (V+ 1)\n",
    "    # start에서는 당연히 거리가 0이다.\n",
    "    heapq.heappush(q, (0, start)) # (distance, node_idx)\n",
    "    distance[start] = 0\n",
    "    while q:\n",
    "        dist, now = heapq.heappop(q)\n",
    "        if distance[now] < dist:\n",
    "            continue\n",
    "        for node_cost, node_index in graph[now]:\n",
    "            cost = dist + node_cost\n",
    "            # 원래 시작점에서부터 해당 지점까지의 점수가 dist이고,\n",
    "            # node_cost는 새로운 target에 대한 거리\n",
    "\n",
    "            if distance[node_index] > cost:\n",
    "                distance[node_index] = cost\n",
    "                heapq.heappush(q, (cost, node_index))\n",
    "    return distance   \n",
    "\n",
    "INF=1e9  \n",
    "answer = 0\n",
    "for start in team_home:\n",
    "    d = dijkstra(start)\n",
    "    a = d[A] if d[A] != INF else -1\n",
    "    b = d[B] if d[B] != INF else -1\n",
    "    \n",
    "    answer += (a+b)\n",
    "print(answer) "
   ]
  },
  {
   "cell_type": "markdown",
   "id": "9d685d9b",
   "metadata": {},
   "source": [
    "# 1753. 최단 경로"
   ]
  },
  {
   "cell_type": "code",
   "execution_count": 1,
   "id": "6387f476",
   "metadata": {
    "collapsed": true
   },
   "outputs": [
    {
     "name": "stdout",
     "output_type": "stream",
     "text": [
      "5 6\n",
      "1 \n",
      "5 1 1\n",
      "1 2 2\n",
      "1 3 3\n",
      "2 3 4\n",
      "2 4 5\n",
      "3 4 6\n"
     ]
    },
    {
     "ename": "NameError",
     "evalue": "name 'INF' is not defined",
     "output_type": "error",
     "traceback": [
      "\u001b[0;31m---------------------------------------------------------------------------\u001b[0m",
      "\u001b[0;31mNameError\u001b[0m                                 Traceback (most recent call last)",
      "\u001b[0;32m/var/folders/fn/9dj0lp5d1vjdz651ldy376r40000gn/T/ipykernel_61385/383269856.py\u001b[0m in \u001b[0;36m<module>\u001b[0;34m\u001b[0m\n\u001b[1;32m     28\u001b[0m     \u001b[0;32mreturn\u001b[0m \u001b[0mdistance\u001b[0m\u001b[0;34m\u001b[0m\u001b[0;34m\u001b[0m\u001b[0m\n\u001b[1;32m     29\u001b[0m \u001b[0;34m\u001b[0m\u001b[0m\n\u001b[0;32m---> 30\u001b[0;31m \u001b[0mdist\u001b[0m \u001b[0;34m=\u001b[0m \u001b[0mdijkstra\u001b[0m\u001b[0;34m(\u001b[0m\u001b[0mK\u001b[0m\u001b[0;34m)\u001b[0m\u001b[0;34m\u001b[0m\u001b[0;34m\u001b[0m\u001b[0m\n\u001b[0m\u001b[1;32m     31\u001b[0m \u001b[0;34m\u001b[0m\u001b[0m\n\u001b[1;32m     32\u001b[0m \u001b[0;32mfor\u001b[0m \u001b[0mi\u001b[0m \u001b[0;32min\u001b[0m \u001b[0mrange\u001b[0m\u001b[0;34m(\u001b[0m\u001b[0;36m1\u001b[0m\u001b[0;34m,\u001b[0m \u001b[0mlen\u001b[0m\u001b[0;34m(\u001b[0m\u001b[0mdist\u001b[0m\u001b[0;34m)\u001b[0m\u001b[0;34m)\u001b[0m\u001b[0;34m:\u001b[0m\u001b[0;34m\u001b[0m\u001b[0;34m\u001b[0m\u001b[0m\n",
      "\u001b[0;32m/var/folders/fn/9dj0lp5d1vjdz651ldy376r40000gn/T/ipykernel_61385/383269856.py\u001b[0m in \u001b[0;36mdijkstra\u001b[0;34m(start)\u001b[0m\n\u001b[1;32m     10\u001b[0m \u001b[0;32mdef\u001b[0m \u001b[0mdijkstra\u001b[0m\u001b[0;34m(\u001b[0m\u001b[0mstart\u001b[0m\u001b[0;34m)\u001b[0m\u001b[0;34m:\u001b[0m\u001b[0;34m\u001b[0m\u001b[0;34m\u001b[0m\u001b[0m\n\u001b[1;32m     11\u001b[0m     \u001b[0mq\u001b[0m \u001b[0;34m=\u001b[0m \u001b[0;34m[\u001b[0m\u001b[0;34m]\u001b[0m\u001b[0;34m\u001b[0m\u001b[0;34m\u001b[0m\u001b[0m\n\u001b[0;32m---> 12\u001b[0;31m     \u001b[0mdistance\u001b[0m \u001b[0;34m=\u001b[0m \u001b[0;34m[\u001b[0m\u001b[0mINF\u001b[0m\u001b[0;34m]\u001b[0m \u001b[0;34m*\u001b[0m \u001b[0;34m(\u001b[0m\u001b[0mV\u001b[0m\u001b[0;34m+\u001b[0m \u001b[0;36m1\u001b[0m\u001b[0;34m)\u001b[0m\u001b[0;34m\u001b[0m\u001b[0;34m\u001b[0m\u001b[0m\n\u001b[0m\u001b[1;32m     13\u001b[0m     \u001b[0;31m# start에서는 당연히 거리가 0이다.\u001b[0m\u001b[0;34m\u001b[0m\u001b[0;34m\u001b[0m\u001b[0m\n\u001b[1;32m     14\u001b[0m     \u001b[0mheapq\u001b[0m\u001b[0;34m.\u001b[0m\u001b[0mheappush\u001b[0m\u001b[0;34m(\u001b[0m\u001b[0mq\u001b[0m\u001b[0;34m,\u001b[0m \u001b[0;34m(\u001b[0m\u001b[0;36m0\u001b[0m\u001b[0;34m,\u001b[0m \u001b[0mstart\u001b[0m\u001b[0;34m)\u001b[0m\u001b[0;34m)\u001b[0m \u001b[0;31m# (distance, node_idx)\u001b[0m\u001b[0;34m\u001b[0m\u001b[0;34m\u001b[0m\u001b[0m\n",
      "\u001b[0;31mNameError\u001b[0m: name 'INF' is not defined"
     ]
    }
   ],
   "source": [
    "import heapq\n",
    "V, E = map(int, input().split())\n",
    "K = int(input())\n",
    "\n",
    "graph = [[] for _ in range(V+1)]\n",
    "for _ in range(E):\n",
    "    start, end, weight = map(int, input().split())\n",
    "    graph[start].append((weight, end))\n",
    "INF=1e9\n",
    "def dijkstra(start): \n",
    "    \n",
    "    q = []\n",
    "    distance = [INF] * (V+ 1)\n",
    "    # start에서는 당연히 거리가 0이다.\n",
    "    heapq.heappush(q, (0, start)) # (distance, node_idx)\n",
    "    distance[start] = 0\n",
    "    while q:\n",
    "        dist, now = heapq.heappop(q)\n",
    "        if distance[now] < dist:\n",
    "            continue\n",
    "        for node_cost, node_index in graph[now]:\n",
    "            cost = dist + node_cost\n",
    "            # 원래 시작점에서부터 해당 지점까지의 점수가 dist이고,\n",
    "            # node_cost는 새로운 target에 대한 거리\n",
    "\n",
    "            if distance[node_index] > cost:\n",
    "                distance[node_index] = cost\n",
    "                heapq.heappush(q, (cost, node_index))\n",
    "    return distance   \n",
    "\n",
    "dist = dijkstra(K)\n",
    "dist = [d if d != INF else 'INF' for d in dist]\n",
    "for i in range(1, len(dist)):\n",
    "    print(dist[i])"
   ]
  },
  {
   "cell_type": "markdown",
   "id": "45fba412",
   "metadata": {},
   "source": [
    "# 1916. 최소비용 구하기"
   ]
  },
  {
   "cell_type": "code",
   "execution_count": 5,
   "id": "d12d1aa9",
   "metadata": {},
   "outputs": [
    {
     "name": "stdout",
     "output_type": "stream",
     "text": [
      "5\n",
      "8\n",
      "1 2 2\n",
      "1 3 3\n",
      "1 4 1\n",
      "1 5 10\n",
      "2 4 2\n",
      "3 4 1\n",
      "3 5 1\n",
      "4 5 3\n",
      "1 5\n"
     ]
    }
   ],
   "source": [
    "N = int(input())\n",
    "M = int(input())\n",
    "\n",
    "graph = [[] for _ in range(N+1)]\n",
    "for _ in range(M):\n",
    "    start, end, weight = map(int, input().split())\n",
    "    graph[start].append((weight, end))\n",
    "\n",
    "start_terminal, end_terminal = map(int, input().split())"
   ]
  },
  {
   "cell_type": "code",
   "execution_count": 3,
   "id": "8fae7f5b",
   "metadata": {},
   "outputs": [
    {
     "name": "stdout",
     "output_type": "stream",
     "text": [
      "4\n"
     ]
    }
   ],
   "source": [
    "INF=1e9\n",
    "def dijkstra(start):\n",
    "    import heapq\n",
    "    \n",
    "    q = []\n",
    "    distance = [INF] * (N+1)\n",
    "    heapq.heappush(q, (0, start)) # (distance, node_idx)\n",
    "    distance[start] = 0\n",
    "    while q:\n",
    "        dist, now = heapq.heappop(q)\n",
    "        if distance[now] < dist:\n",
    "            continue\n",
    "        for node_cost, node_index in graph[now]:\n",
    "            cost = dist + node_cost\n",
    "            if distance[node_index] > cost:\n",
    "                distance[node_index] = cost\n",
    "                heapq.heappush(q, (cost, node_index))\n",
    "    return distance  \n",
    "\n",
    "print(dijkstra(start_terminal)[end_terminal])"
   ]
  },
  {
   "cell_type": "markdown",
   "id": "f1de4e2e",
   "metadata": {},
   "source": [
    "# 5972. 택배 배송"
   ]
  },
  {
   "cell_type": "code",
   "execution_count": 9,
   "id": "f0db6ea9",
   "metadata": {},
   "outputs": [
    {
     "name": "stdout",
     "output_type": "stream",
     "text": [
      "4 5 3\n",
      "2 4 0\n",
      "4 1 4\n",
      "2 1 1\n",
      "5 6 1\n",
      "3 6 2\n",
      "3 2 6\n",
      "3 4 4\n"
     ]
    }
   ],
   "source": [
    "N, M = map(int, input().split())\n",
    "\n",
    "graph = [[] for _ in range(N+1)]\n",
    "for _ in range(M):\n",
    "    start, end, weight = map(int, input().split())\n",
    "    graph[start].append((weight, end))\n",
    "    graph[end].append((weight, start))\n",
    "    \n",
    "INF=1e9\n",
    "def dijkstra(start):\n",
    "    import heapq\n",
    "    \n",
    "    q = []\n",
    "    distance = [INF] * (N+1)\n",
    "    heapq.heappush(q, (0, start)) # (distance, node_idx)\n",
    "    distance[start] = 0\n",
    "    while q:\n",
    "        dist, now = heapq.heappop(q)\n",
    "        if distance[now] < dist:\n",
    "            continue\n",
    "        for node_cost, node_index in graph[now]:\n",
    "            cost = dist + node_cost\n",
    "            if distance[node_index] > cost:\n",
    "                distance[node_index] = cost\n",
    "                heapq.heappush(q, (cost, node_index))\n",
    "    return distance  \n",
    "\n",
    "print(dijkstra(1)[N])"
   ]
  },
  {
   "cell_type": "markdown",
   "id": "4bc8cdca",
   "metadata": {},
   "source": [
    "# 1446. 지름길"
   ]
  },
  {
   "cell_type": "code",
   "execution_count": 19,
   "id": "a1b9f713",
   "metadata": {},
   "outputs": [
    {
     "name": "stdout",
     "output_type": "stream",
     "text": [
      "5 150\n"
     ]
    }
   ],
   "source": [
    "N, D = map(int, input().split())"
   ]
  },
  {
   "cell_type": "code",
   "execution_count": 20,
   "id": "0311fa62",
   "metadata": {},
   "outputs": [
    {
     "data": {
      "text/plain": [
       "[[(10, 50)], [], [], [], [], []]"
      ]
     },
     "execution_count": 20,
     "metadata": {},
     "output_type": "execute_result"
    }
   ],
   "source": [
    "graph"
   ]
  },
  {
   "cell_type": "code",
   "execution_count": 21,
   "id": "435b2dd8",
   "metadata": {},
   "outputs": [
    {
     "ename": "TypeError",
     "evalue": "range expected at least 1 argument, got 0",
     "output_type": "error",
     "traceback": [
      "\u001b[0;31m---------------------------------------------------------------------------\u001b[0m",
      "\u001b[0;31mTypeError\u001b[0m                                 Traceback (most recent call last)",
      "\u001b[0;32m/var/folders/fn/9dj0lp5d1vjdz651ldy376r40000gn/T/ipykernel_62082/3429966111.py\u001b[0m in \u001b[0;36m<module>\u001b[0;34m\u001b[0m\n\u001b[1;32m      1\u001b[0m \u001b[0mlength\u001b[0m \u001b[0;34m=\u001b[0m \u001b[0;36m0\u001b[0m\u001b[0;34m\u001b[0m\u001b[0;34m\u001b[0m\u001b[0m\n\u001b[0;32m----> 2\u001b[0;31m \u001b[0mgraph\u001b[0m \u001b[0;34m=\u001b[0m \u001b[0;34m[\u001b[0m\u001b[0;34m[\u001b[0m\u001b[0;34m]\u001b[0m \u001b[0;32mfor\u001b[0m \u001b[0m_\u001b[0m \u001b[0;32min\u001b[0m \u001b[0mrange\u001b[0m\u001b[0;34m(\u001b[0m\u001b[0;34m)\u001b[0m\u001b[0;34m]\u001b[0m\u001b[0;34m\u001b[0m\u001b[0;34m\u001b[0m\u001b[0m\n\u001b[0m\u001b[1;32m      3\u001b[0m \u001b[0;34m\u001b[0m\u001b[0m\n\u001b[1;32m      4\u001b[0m \u001b[0;32mfor\u001b[0m \u001b[0m_\u001b[0m \u001b[0;32min\u001b[0m \u001b[0mrange\u001b[0m\u001b[0;34m(\u001b[0m\u001b[0mN\u001b[0m\u001b[0;34m)\u001b[0m\u001b[0;34m:\u001b[0m\u001b[0;34m\u001b[0m\u001b[0;34m\u001b[0m\u001b[0m\n\u001b[1;32m      5\u001b[0m     \u001b[0mstart\u001b[0m\u001b[0;34m,\u001b[0m \u001b[0mend\u001b[0m\u001b[0;34m,\u001b[0m \u001b[0mweight\u001b[0m \u001b[0;34m=\u001b[0m \u001b[0mmap\u001b[0m\u001b[0;34m(\u001b[0m\u001b[0mint\u001b[0m\u001b[0;34m,\u001b[0m \u001b[0minput\u001b[0m\u001b[0;34m(\u001b[0m\u001b[0;34m)\u001b[0m\u001b[0;34m.\u001b[0m\u001b[0msplit\u001b[0m\u001b[0;34m(\u001b[0m\u001b[0;34m)\u001b[0m\u001b[0;34m)\u001b[0m\u001b[0;34m\u001b[0m\u001b[0;34m\u001b[0m\u001b[0m\n",
      "\u001b[0;31mTypeError\u001b[0m: range expected at least 1 argument, got 0"
     ]
    }
   ],
   "source": [
    "length = 0\n",
    "graph = [[] for _ in range()]\n",
    "\n",
    "for _ in range(N):\n",
    "    start, end, weight = map(int, input().split())\n",
    "    if (end-start) < weight or end > D:\n",
    "        continue\n",
    "    else:\n",
    "        length += 1\n",
    "        graph[start].append((weight, end))"
   ]
  },
  {
   "cell_type": "code",
   "execution_count": 16,
   "id": "64a8eb77",
   "metadata": {},
   "outputs": [
    {
     "name": "stdout",
     "output_type": "stream",
     "text": [
      "0 50 10\n"
     ]
    },
    {
     "ename": "IndexError",
     "evalue": "list index out of range",
     "output_type": "error",
     "traceback": [
      "\u001b[0;31m---------------------------------------------------------------------------\u001b[0m",
      "\u001b[0;31mIndexError\u001b[0m                                Traceback (most recent call last)",
      "\u001b[0;32m/var/folders/fn/9dj0lp5d1vjdz651ldy376r40000gn/T/ipykernel_62082/3894483061.py\u001b[0m in \u001b[0;36m<module>\u001b[0;34m\u001b[0m\n\u001b[1;32m      4\u001b[0m     \u001b[0mstart\u001b[0m\u001b[0;34m,\u001b[0m \u001b[0mend\u001b[0m\u001b[0;34m,\u001b[0m \u001b[0mweight\u001b[0m \u001b[0;34m=\u001b[0m \u001b[0mmap\u001b[0m\u001b[0;34m(\u001b[0m\u001b[0mint\u001b[0m\u001b[0;34m,\u001b[0m \u001b[0minput\u001b[0m\u001b[0;34m(\u001b[0m\u001b[0;34m)\u001b[0m\u001b[0;34m.\u001b[0m\u001b[0msplit\u001b[0m\u001b[0;34m(\u001b[0m\u001b[0;34m)\u001b[0m\u001b[0;34m)\u001b[0m\u001b[0;34m\u001b[0m\u001b[0;34m\u001b[0m\u001b[0m\n\u001b[1;32m      5\u001b[0m     \u001b[0mgraph\u001b[0m\u001b[0;34m[\u001b[0m\u001b[0mstart\u001b[0m\u001b[0;34m]\u001b[0m\u001b[0;34m.\u001b[0m\u001b[0mappend\u001b[0m\u001b[0;34m(\u001b[0m\u001b[0;34m(\u001b[0m\u001b[0mweight\u001b[0m\u001b[0;34m,\u001b[0m \u001b[0mend\u001b[0m\u001b[0;34m)\u001b[0m\u001b[0;34m)\u001b[0m\u001b[0;34m\u001b[0m\u001b[0;34m\u001b[0m\u001b[0m\n\u001b[0;32m----> 6\u001b[0;31m     \u001b[0mgraph\u001b[0m\u001b[0;34m[\u001b[0m\u001b[0mend\u001b[0m\u001b[0;34m]\u001b[0m\u001b[0;34m.\u001b[0m\u001b[0mappend\u001b[0m\u001b[0;34m(\u001b[0m\u001b[0;34m(\u001b[0m\u001b[0mweight\u001b[0m\u001b[0;34m,\u001b[0m \u001b[0mstart\u001b[0m\u001b[0;34m)\u001b[0m\u001b[0;34m)\u001b[0m\u001b[0;34m\u001b[0m\u001b[0;34m\u001b[0m\u001b[0m\n\u001b[0m",
      "\u001b[0;31mIndexError\u001b[0m: list index out of range"
     ]
    }
   ],
   "source": [
    "\n",
    "for _ in range(N):\n",
    "    start, end, weight = map(int, input().split())\n",
    "    graph[start].append((weight, end))\n",
    "    graph[end].append((weight, start))"
   ]
  },
  {
   "cell_type": "markdown",
   "id": "ccdb3919",
   "metadata": {},
   "source": [
    "# 14496. 그대, 그머가 되어"
   ]
  },
  {
   "cell_type": "code",
   "execution_count": 5,
   "id": "60814ece",
   "metadata": {},
   "outputs": [
    {
     "name": "stdout",
     "output_type": "stream",
     "text": [
      "1 2\n",
      "4 4\n",
      "1 3\n",
      "1 4\n",
      "3 2\n",
      "4 2\n",
      "2\n"
     ]
    }
   ],
   "source": [
    "a,b = map(int, input().split())\n",
    "N,M = map(int, input().split())\n",
    "\n",
    "graph = [[] for _ in range(N+1)]\n",
    "for _ in range(M):\n",
    "    start, end = map(int, input().split())\n",
    "    graph[start].append((1,end))\n",
    "    graph[end].append((1,start))\n",
    "    \n",
    "INF=1e9\n",
    "def dijkstra(start):\n",
    "    import heapq\n",
    "    \n",
    "    q = []\n",
    "    distance = [INF] * (N+1)\n",
    "    heapq.heappush(q, (0, start)) # (distance, node_idx)\n",
    "    distance[start] = 0\n",
    "    while q:\n",
    "        dist, now = heapq.heappop(q)\n",
    "        if distance[now] < dist:\n",
    "            continue\n",
    "        for node_cost, node_index in graph[now]:\n",
    "            cost = dist + node_cost\n",
    "            if distance[node_index] > cost:\n",
    "                distance[node_index] = cost\n",
    "                heapq.heappush(q, (cost, node_index))\n",
    "    return distance \n",
    "\n",
    "dist = dijkstra(a)\n",
    "if dist[b] == INF:\n",
    "    print(-1)\n",
    "else:\n",
    "    print(dist[b])"
   ]
  },
  {
   "cell_type": "markdown",
   "id": "aab4c566",
   "metadata": {},
   "source": [
    "가중치가 1인 경우에는 횟수에 의하여 최소 경로가 판가름나게 되어 있지만,  \n",
    "가중치가 제각각인 경우에는 지금 당장 찾은 최소 경로보다 다른 경로가 더 적게 소요될 수 있다.  \n",
    "\n",
    "최소 경로를 구하기 위해서 가중치가 1인 경우 또는 일부 경우에서는 다익스트라 Function을 활용하는 것보다 개념만을 적용해서 풀이하는 것이 더 적은 비용을 소요할 수 있다."
   ]
  },
  {
   "cell_type": "code",
   "execution_count": null,
   "id": "0ce1a3cc",
   "metadata": {},
   "outputs": [],
   "source": [
    "def findRoute(a, b):\n",
    "    queue = []\n",
    "    queue.append((a, 0))\n",
    "\n",
    "    visited = [False for _ in range(n + 2)]\n",
    "\n",
    "    while(len(queue) > 0) :\n",
    "        top = queue.pop(0)\n",
    "\n",
    "        if top[0] == b:\n",
    "            return top[1]\n",
    "            \n",
    "\n",
    "        for i in change[top[0]]:\n",
    "            if visited[i] == False:\n",
    "                visited[i] = True\n",
    "                queue.append((i, top[1] + 1))\n",
    "\n",
    "    return -1"
   ]
  },
  {
   "cell_type": "markdown",
   "id": "98e153e1",
   "metadata": {},
   "source": [
    "# 1446. 지름길"
   ]
  },
  {
   "cell_type": "code",
   "execution_count": 30,
   "id": "c578babc",
   "metadata": {},
   "outputs": [
    {
     "name": "stdout",
     "output_type": "stream",
     "text": [
      "8 900\n",
      "0 10 9\n",
      "20 60 45\n",
      "80 190 100\n",
      "50 70 15\n",
      "160 180 14\n",
      "140 160 14\n",
      "420 901 5\n",
      "450 900 0\n"
     ]
    }
   ],
   "source": [
    "N, D = map(int, input().split())\n",
    "\n",
    "shortcut = []\n",
    "for _ in range(N):\n",
    "    start, end, length = map(int, input().split())\n",
    "    if end-start < length or end > D:\n",
    "        continue\n",
    "    else:\n",
    "        shortcut.append((start,end,length))\n",
    "        \n",
    "graph = [0] * (D+1)\n",
    "\n",
    "for index in range(1,D+1):\n",
    "    graph[index] = graph[index-1] + 1\n",
    "    for short in shortcut:\n",
    "        if short[1] == index:\n",
    "            graph[index] = min(graph[short[0]] + short[2], graph[index])\n",
    "            \n",
    "print(graph[D])"
   ]
  },
  {
   "cell_type": "code",
   "execution_count": null,
   "id": "3daab273",
   "metadata": {},
   "outputs": [],
   "source": [
    "N, goal = map(int,input().split())\n",
    "maps = list()\n",
    "for i in range(N):\n",
    "    s, e, p = map(int,input().split())\n",
    "    if e <= goal:\n",
    "        maps.append([s,e,p])\n",
    "position=[i for i in range(goal+1)]\n",
    "for j in range(goal+1):\n",
    "    if j !=0:\n",
    "        position[j]=min(position[j],position[j-1]+1)\n",
    "    for i in maps:\n",
    "        if i[0] == j:\n",
    "            position[i[1]] = min(position[i[1]],position[i[0]]+i[2])\n",
    "print(position[goal])"
   ]
  },
  {
   "cell_type": "markdown",
   "id": "14f2c408",
   "metadata": {},
   "source": [
    "# 11404. 플로이드"
   ]
  },
  {
   "cell_type": "code",
   "execution_count": 18,
   "id": "94f672ea",
   "metadata": {},
   "outputs": [
    {
     "name": "stdout",
     "output_type": "stream",
     "text": [
      "0 2 3 1 4\n",
      "12 0 15 2 5\n",
      "8 5 0 1 1\n",
      "10 7 13 0 3\n",
      "7 4 10 6 0\n"
     ]
    }
   ],
   "source": [
    "INF=1e9\n",
    "def dijkstra(start, N):\n",
    "    import heapq\n",
    "    \n",
    "    q = []\n",
    "    distance = [INF] * (N+1)\n",
    "    heapq.heappush(q, (0, start)) # (distance, node_idx)\n",
    "    distance[start] = 0\n",
    "    while q:\n",
    "        dist, now = heapq.heappop(q)\n",
    "        if distance[now] < dist:\n",
    "            continue\n",
    "        for node_cost, node_index in graph[now]:\n",
    "            cost = dist + node_cost\n",
    "            if distance[node_index] > cost:\n",
    "                distance[node_index] = cost\n",
    "                heapq.heappush(q, (cost, node_index))\n",
    "    return list(map(str, distance)) \n",
    "\n",
    "for i in range(1,n+1):\n",
    "    print(' '.join(dijkstra(i, n)[1:]))"
   ]
  },
  {
   "cell_type": "code",
   "execution_count": 36,
   "id": "691cc613",
   "metadata": {},
   "outputs": [
    {
     "name": "stdout",
     "output_type": "stream",
     "text": [
      "5\n",
      "14\n",
      "1 2 2\n",
      "1 3 3\n",
      "1 4 1\n",
      "1 5 10\n",
      "2 4 2\n",
      "3 4 1\n",
      "3 5 1\n",
      "4 5 3\n",
      "3 5 10\n",
      "3 1 8\n",
      "1 4 2\n",
      "5 1 7\n",
      "3 4 2\n",
      "5 2 4\n"
     ]
    }
   ],
   "source": [
    "n = int(input())\n",
    "m = int(input())\n",
    "\n",
    "INF=1e9\n",
    "d = [[INF for _ in range(n+1)] for _ in range(n+1)]\n",
    "\n",
    "for _ in range(m):\n",
    "    start, end, value= map(int, input().split())\n",
    "    if d[start][end] > value:\n",
    "        d[start][end] = value\n",
    "\n",
    "for k in range(1, n + 1):\n",
    "    for a in range(1, n + 1):\n",
    "        for b in range(1, n + 1):\n",
    "            if a == b:\n",
    "                continue\n",
    "            else:\n",
    "                d[a][b] = min(d[a][b], d[a][k] + d[k][b])\n",
    "\n",
    "new_d = [[0 if i == INF else i for i in dist[1:]] for dist in d[1:]]\n",
    "for distance_list in new_d:\n",
    "    print(' '.join(list(map(str, distance_list))))"
   ]
  }
 ],
 "metadata": {
  "kernelspec": {
   "display_name": "Python 3 (ipykernel)",
   "language": "python",
   "name": "python3"
  },
  "language_info": {
   "codemirror_mode": {
    "name": "ipython",
    "version": 3
   },
   "file_extension": ".py",
   "mimetype": "text/x-python",
   "name": "python",
   "nbconvert_exporter": "python",
   "pygments_lexer": "ipython3",
   "version": "3.9.10"
  }
 },
 "nbformat": 4,
 "nbformat_minor": 5
}
