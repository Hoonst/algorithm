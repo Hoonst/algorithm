{
 "cells": [
  {
   "cell_type": "markdown",
   "id": "7f4be469",
   "metadata": {},
   "source": [
    "# 4949. 균형잡힌 세상"
   ]
  },
  {
   "cell_type": "code",
   "execution_count": 1,
   "id": "c336fac0",
   "metadata": {},
   "outputs": [],
   "source": [
    "sentences = ['So when I die (the [first] I will see in (heaven) is a score list).',\n",
    "'[ first in ] ( first out ).',\n",
    "'Half Moon tonight (At least it is better than no Moon at all].',\n",
    "'A rope may form )( a trail in a maze.',\n",
    "'Help( I[m being held prisoner in a fortune cookie factory)].',\n",
    "'([ (([( [ ] ) ( ) (( ))] )) ]).',\n",
    "' .',\n",
    "'.']"
   ]
  },
  {
   "cell_type": "code",
   "execution_count": 2,
   "id": "4e39b667",
   "metadata": {},
   "outputs": [
    {
     "name": "stdout",
     "output_type": "stream",
     "text": [
      "['(', '[', ']', '(', ')', ')']\n",
      "[]\n",
      "yes\n",
      "['[', ']', '(', ')']\n",
      "[]\n",
      "yes\n",
      "['(', ']']\n",
      "['(', ']']\n",
      "no\n",
      "[')', '(']\n",
      "[')']\n",
      "no\n",
      "['(', '[', ')', ']']\n",
      "['(', '[', ')']\n",
      "no\n",
      "['(', '[', '(', '(', '[', '(', '[', ']', ')', '(', ')', '(', '(', ')', ')', ']', ')', ')', ']', ')']\n",
      "[]\n",
      "yes\n",
      "yes\n"
     ]
    }
   ],
   "source": [
    "for sent in sentences:\n",
    "#     try:\n",
    "#         sent = input()\n",
    "        \n",
    "    sent = [x for x in sent if x in '()[]']\n",
    "    if sent == '.':\n",
    "        break\n",
    "    if len(sent) == 0:\n",
    "        print('yes')\n",
    "        break\n",
    "    print(sent)\n",
    "    stack = []\n",
    "    for s in sent:\n",
    "        if s == '(':\n",
    "            stack.append(s)\n",
    "        elif s == ')':\n",
    "            if stack and stack[-1] == '(':\n",
    "                stack.pop()\n",
    "            else:\n",
    "                stack.append(s)\n",
    "                break\n",
    "\n",
    "        elif s == '[':\n",
    "            stack.append(s)\n",
    "        elif s == ']':\n",
    "            if stack and stack[-1] == '[':\n",
    "                stack.pop()\n",
    "            else:\n",
    "                stack.append(s)\n",
    "                break\n",
    "    print(stack)\n",
    "\n",
    "    if stack:\n",
    "        print('no')\n",
    "    else:\n",
    "        print('yes')\n",
    "        \n",
    "#     except:\n",
    "#         break   "
   ]
  },
  {
   "cell_type": "code",
   "execution_count": 3,
   "id": "92f69a8f",
   "metadata": {},
   "outputs": [
    {
     "name": "stdout",
     "output_type": "stream",
     "text": [
      "\n",
      "yes\n",
      "\n",
      "yes\n",
      "\n",
      "yes\n",
      "\n",
      "yes\n",
      "\n",
      "yes\n",
      "\n",
      "yes\n",
      "\n",
      "yes\n",
      "\n",
      "yes\n",
      "\n",
      "yes\n",
      "\n",
      "yes\n",
      "\n",
      "yes\n",
      "\n",
      "yes\n",
      "\n",
      "yes\n",
      "\n",
      "yes\n",
      "\n",
      "yes\n"
     ]
    }
   ],
   "source": [
    "while True:\n",
    "    try:\n",
    "        sent = input()\n",
    "        if sent == '.':\n",
    "            break\n",
    "        \n",
    "        sent = [x for x in sent if x in '()[]']\n",
    "        \n",
    "        if len(sent) == 0:\n",
    "            print('yes')\n",
    "            continue\n",
    "            \n",
    "        stack = []\n",
    "        for s in sent:\n",
    "            if s == '(':\n",
    "                stack.append(s)\n",
    "            elif s == ')':\n",
    "                if stack and stack[-1] == '(':\n",
    "                    stack.pop()\n",
    "                else:\n",
    "                    stack.append(s)\n",
    "                    break\n",
    "\n",
    "            elif s == '[':\n",
    "                stack.append(s)\n",
    "            elif s == ']':\n",
    "                if stack and stack[-1] == '[':\n",
    "                    stack.pop()\n",
    "                else:\n",
    "                    stack.append(s)\n",
    "                    break\n",
    "\n",
    "        if stack:\n",
    "            print('no')\n",
    "        else:\n",
    "            print('yes')\n",
    "        \n",
    "    except:\n",
    "        break   "
   ]
  },
  {
   "cell_type": "markdown",
   "id": "8f9ce948",
   "metadata": {},
   "source": [
    "# 11050. 이항 계수"
   ]
  },
  {
   "cell_type": "markdown",
   "id": "c09cd745",
   "metadata": {},
   "source": [
    "재귀로 풀어야 대박인 것이었다?"
   ]
  },
  {
   "cell_type": "code",
   "execution_count": 47,
   "id": "2d47ad2a",
   "metadata": {},
   "outputs": [],
   "source": [
    "N, K = map(int, input().split())\n",
    "\n",
    "top = 1\n",
    "bottom = 1\n",
    "\n",
    "tops = list(range(N,0,-1))[:K]\n",
    "for t in tops:\n",
    "    top *= t\n",
    "\n",
    "for k in range(K, 0, -1):\n",
    "    bottom *= k\n",
    "    \n",
    "print(int(top / bottom))"
   ]
  },
  {
   "cell_type": "code",
   "execution_count": null,
   "id": "57a9054f",
   "metadata": {},
   "outputs": [],
   "source": [
    "n,k=map(int, input().split())\n",
    "a = 1\n",
    "b = 1\n",
    "while k:\n",
    "    a*=n\n",
    "    b*=k\n",
    "    n-=1\n",
    "    k-=1\n",
    "print(a//b)"
   ]
  },
  {
   "cell_type": "markdown",
   "id": "c4f31e78",
   "metadata": {},
   "source": [
    "# 4153. 직각삼각형"
   ]
  },
  {
   "cell_type": "code",
   "execution_count": 71,
   "id": "1044ee06",
   "metadata": {},
   "outputs": [
    {
     "name": "stdout",
     "output_type": "stream",
     "text": [
      "6 8 10\n",
      "right\n",
      "25 52 60\n",
      "wrong\n",
      "5 12 13\n",
      "right\n",
      "0 0 0 \n"
     ]
    }
   ],
   "source": [
    "while True:\n",
    "    a, b, c = map(int, input().split())\n",
    "    if (a,b,c) == (0,0,0):\n",
    "        break\n",
    "    else:\n",
    "        temp = sorted([a,b,c])\n",
    "        answer = temp[0]**2 + temp[1]**2 == temp[2]**2\n",
    "        \n",
    "        if answer:\n",
    "            print('right')\n",
    "        else:\n",
    "            print('wrong')"
   ]
  },
  {
   "cell_type": "markdown",
   "id": "8df66cb3",
   "metadata": {},
   "source": [
    "# 10814. 나이순 정렬"
   ]
  },
  {
   "cell_type": "markdown",
   "id": "6c2cb868",
   "metadata": {},
   "source": [
    "정렬 시 문자열로 나이를 받아서 문제"
   ]
  },
  {
   "cell_type": "code",
   "execution_count": 1,
   "id": "d5250916",
   "metadata": {},
   "outputs": [
    {
     "name": "stdout",
     "output_type": "stream",
     "text": [
      "3\n",
      "21 Junkyu\n",
      "21 Dohyun\n",
      "20 Sunyoung\n",
      "20 Sunyoung\n",
      "21 Junkyu\n",
      "21 Dohyun\n"
     ]
    }
   ],
   "source": [
    "from collections import defaultdict\n",
    "dic = defaultdict(lambda: [])\n",
    "\n",
    "N = int(input())\n",
    "for _ in range(N):\n",
    "    age, name = input().split()\n",
    "    dic[int(age)].append(name)\n",
    "    \n",
    "for key in sorted(dic):\n",
    "    for value in dic[key]:\n",
    "        print(key, value)"
   ]
  },
  {
   "cell_type": "code",
   "execution_count": 17,
   "id": "24c6b074",
   "metadata": {},
   "outputs": [
    {
     "name": "stdout",
     "output_type": "stream",
     "text": [
      "4\n",
      "20 hoonst\n",
      "21 james\n",
      "21 ha\n",
      "21 hey\n",
      "20 hoonst\n",
      "21 james\n",
      "21 ha\n",
      "21 hey\n"
     ]
    }
   ],
   "source": [
    "answer_list = []\n",
    "N = int(input())\n",
    "\n",
    "for _ in range(N):\n",
    "    age, name = input().split()\n",
    "    answer_list.append((int(age), name))\n",
    "    \n",
    "answer_list = sorted(answer_list, key = lambda x: x[0])\n",
    "\n",
    "for a, n in answer_list:\n",
    "    print(a, n)"
   ]
  },
  {
   "cell_type": "markdown",
   "id": "a0726e66",
   "metadata": {},
   "source": [
    "# 10773. 제로"
   ]
  },
  {
   "cell_type": "code",
   "execution_count": 6,
   "id": "320dd4d3",
   "metadata": {},
   "outputs": [
    {
     "name": "stdout",
     "output_type": "stream",
     "text": [
      "10\n",
      "1\n",
      "3\n",
      "5\n",
      "4\n",
      "0\n",
      "0\n",
      "7\n",
      "0\n",
      "0\n",
      "6\n",
      "7\n"
     ]
    }
   ],
   "source": [
    "K = int(input())\n",
    "\n",
    "stack = []\n",
    "for _ in range(K):\n",
    "    sample = int(input())\n",
    "    if sample != 0 :\n",
    "        stack.append(sample)\n",
    "    else:\n",
    "        stack.pop()\n",
    "print(sum(stack)) "
   ]
  },
  {
   "cell_type": "markdown",
   "id": "4878ba71",
   "metadata": {},
   "source": [
    "# 1018. 체스판 다시 칠하기"
   ]
  },
  {
   "cell_type": "markdown",
   "id": "c68d7ff8",
   "metadata": {},
   "source": [
    "* 나는 그래프로 풀었지만,\n",
    "* 사실은 그래프가 아니다"
   ]
  },
  {
   "cell_type": "code",
   "execution_count": 61,
   "id": "76d20f7a",
   "metadata": {},
   "outputs": [
    {
     "name": "stdout",
     "output_type": "stream",
     "text": [
      "10 13\n",
      "BBBBBBBBWBWBW\n",
      "BBBBBBBBBWBWB\n",
      "BBBBBBBBWBWBW\n",
      "BBBBBBBBBWBWB\n",
      "BBBBBBBBWBWBW\n",
      "BBBBBBBBBWBWB\n",
      "BBBBBBBBWBWBW\n",
      "BBBBBBBBBWBWB\n",
      "WWWWWWWWWWBWB\n",
      "WWWWWWWWWWBWB\n"
     ]
    }
   ],
   "source": [
    "N, M = map(int, input().split())\n",
    "\n",
    "checkerboard = []\n",
    "for _ in range(N):\n",
    "    checkerboard.append(list(input()))"
   ]
  },
  {
   "cell_type": "code",
   "execution_count": 64,
   "id": "210d7053",
   "metadata": {},
   "outputs": [
    {
     "ename": "KeyboardInterrupt",
     "evalue": "Interrupted by user",
     "output_type": "error",
     "traceback": [
      "\u001b[0;31m-------------------------------------------------------------------------\u001b[0m",
      "\u001b[0;31mKeyboardInterrupt\u001b[0m                       Traceback (most recent call last)",
      "\u001b[0;32m<ipython-input-64-27523cb0f2d9>\u001b[0m in \u001b[0;36m<module>\u001b[0;34m\u001b[0m\n\u001b[1;32m      3\u001b[0m \u001b[0;31m# M = X, N = Y\u001b[0m\u001b[0;34m\u001b[0m\u001b[0;34m\u001b[0m\u001b[0;34m\u001b[0m\u001b[0m\n\u001b[1;32m      4\u001b[0m \u001b[0;34m\u001b[0m\u001b[0m\n\u001b[0;32m----> 5\u001b[0;31m \u001b[0mN\u001b[0m\u001b[0;34m,\u001b[0m \u001b[0mM\u001b[0m \u001b[0;34m=\u001b[0m \u001b[0mmap\u001b[0m\u001b[0;34m(\u001b[0m\u001b[0mint\u001b[0m\u001b[0;34m,\u001b[0m \u001b[0minput\u001b[0m\u001b[0;34m(\u001b[0m\u001b[0;34m)\u001b[0m\u001b[0;34m.\u001b[0m\u001b[0msplit\u001b[0m\u001b[0;34m(\u001b[0m\u001b[0;34m)\u001b[0m\u001b[0;34m)\u001b[0m\u001b[0;34m\u001b[0m\u001b[0;34m\u001b[0m\u001b[0m\n\u001b[0m\u001b[1;32m      6\u001b[0m \u001b[0;34m\u001b[0m\u001b[0m\n\u001b[1;32m      7\u001b[0m \u001b[0mcheckerboard\u001b[0m \u001b[0;34m=\u001b[0m \u001b[0;34m[\u001b[0m\u001b[0;34m]\u001b[0m\u001b[0;34m\u001b[0m\u001b[0;34m\u001b[0m\u001b[0m\n",
      "\u001b[0;32m/usr/local/lib/python3.6/dist-packages/ipykernel/kernelbase.py\u001b[0m in \u001b[0;36mraw_input\u001b[0;34m(self, prompt)\u001b[0m\n\u001b[1;32m    849\u001b[0m             \u001b[0mself\u001b[0m\u001b[0;34m.\u001b[0m\u001b[0m_parent_ident\u001b[0m\u001b[0;34m,\u001b[0m\u001b[0;34m\u001b[0m\u001b[0;34m\u001b[0m\u001b[0m\n\u001b[1;32m    850\u001b[0m             \u001b[0mself\u001b[0m\u001b[0;34m.\u001b[0m\u001b[0m_parent_header\u001b[0m\u001b[0;34m,\u001b[0m\u001b[0;34m\u001b[0m\u001b[0;34m\u001b[0m\u001b[0m\n\u001b[0;32m--> 851\u001b[0;31m             \u001b[0mpassword\u001b[0m\u001b[0;34m=\u001b[0m\u001b[0;32mFalse\u001b[0m\u001b[0;34m,\u001b[0m\u001b[0;34m\u001b[0m\u001b[0;34m\u001b[0m\u001b[0m\n\u001b[0m\u001b[1;32m    852\u001b[0m         )\n\u001b[1;32m    853\u001b[0m \u001b[0;34m\u001b[0m\u001b[0m\n",
      "\u001b[0;32m/usr/local/lib/python3.6/dist-packages/ipykernel/kernelbase.py\u001b[0m in \u001b[0;36m_input_request\u001b[0;34m(self, prompt, ident, parent, password)\u001b[0m\n\u001b[1;32m    890\u001b[0m             \u001b[0;32mexcept\u001b[0m \u001b[0mKeyboardInterrupt\u001b[0m\u001b[0;34m:\u001b[0m\u001b[0;34m\u001b[0m\u001b[0;34m\u001b[0m\u001b[0m\n\u001b[1;32m    891\u001b[0m                 \u001b[0;31m# re-raise KeyboardInterrupt, to truncate traceback\u001b[0m\u001b[0;34m\u001b[0m\u001b[0;34m\u001b[0m\u001b[0;34m\u001b[0m\u001b[0m\n\u001b[0;32m--> 892\u001b[0;31m                 \u001b[0;32mraise\u001b[0m \u001b[0mKeyboardInterrupt\u001b[0m\u001b[0;34m(\u001b[0m\u001b[0;34m\"Interrupted by user\"\u001b[0m\u001b[0;34m)\u001b[0m \u001b[0;32mfrom\u001b[0m \u001b[0;32mNone\u001b[0m\u001b[0;34m\u001b[0m\u001b[0;34m\u001b[0m\u001b[0m\n\u001b[0m\u001b[1;32m    893\u001b[0m             \u001b[0;32mexcept\u001b[0m \u001b[0mException\u001b[0m \u001b[0;32mas\u001b[0m \u001b[0me\u001b[0m\u001b[0;34m:\u001b[0m\u001b[0;34m\u001b[0m\u001b[0;34m\u001b[0m\u001b[0m\n\u001b[1;32m    894\u001b[0m                 \u001b[0mself\u001b[0m\u001b[0;34m.\u001b[0m\u001b[0mlog\u001b[0m\u001b[0;34m.\u001b[0m\u001b[0mwarning\u001b[0m\u001b[0;34m(\u001b[0m\u001b[0;34m\"Invalid Message:\"\u001b[0m\u001b[0;34m,\u001b[0m \u001b[0mexc_info\u001b[0m\u001b[0;34m=\u001b[0m\u001b[0;32mTrue\u001b[0m\u001b[0;34m)\u001b[0m\u001b[0;34m\u001b[0m\u001b[0;34m\u001b[0m\u001b[0m\n",
      "\u001b[0;31mKeyboardInterrupt\u001b[0m: Interrupted by user"
     ]
    }
   ],
   "source": [
    "import copy\n",
    "\n",
    "# M = X, N = Y\n",
    "\n",
    "N, M = map(int, input().split())\n",
    "\n",
    "checkerboard = []\n",
    "for _ in range(N):\n",
    "    checkerboard.append(list(input()))\n",
    "colors = {\"B\": \"W\", \"W\": \"B\"}\n",
    "def color(board, board_list):\n",
    "    dx = [1,0,-1,0]\n",
    "    dy = [0,1,0,-1]\n",
    "    mini = 10000000000\n",
    "\n",
    "    for x,y in board_list:\n",
    "        cut_board = [k[y:y+8] for k in board[x:x+8]]\n",
    "        \n",
    "        cut_board_copy = copy.deepcopy(cut_board)\n",
    "        cut_board_copy[0][0] = colors[cut_board[0][0]]\n",
    "        \n",
    "        def color_cnt(check_board, coloring):\n",
    "            dx = [1,0,-1,0]\n",
    "            dy = [0,1,0,-1]\n",
    "            \n",
    "            for i in range(8):\n",
    "                for j in range(8):\n",
    "                    current_color = check_board[i][j]\n",
    "                    opposite = colors[current_color]\n",
    "                    for a in range(4):\n",
    "                        x_axis = i+dx[a]\n",
    "                        y_axis = j+dy[a]\n",
    "\n",
    "                        if 0 <= x_axis < 8 and 0 <= y_axis < 8:\n",
    "                            if check_board[x_axis][y_axis] == current_color:\n",
    "                                check_board[x_axis][y_axis] = opposite\n",
    "                                coloring += 1\n",
    "                            else:\n",
    "                                pass \n",
    "            return coloring\n",
    "    \n",
    "        B = color_cnt(cut_board, 0)\n",
    "        W = color_cnt(cut_board_copy, 1)\n",
    "\n",
    "        mini = min(mini, B, W)\n",
    "\n",
    "    return mini\n",
    "\n",
    "def board_cut(board):\n",
    "    board_list = []\n",
    "    # N == y / M == M\n",
    "    for i in range(N):\n",
    "        for j in range(M):\n",
    "            if i + 8 <= N and j + 8 <= M:\n",
    "                board_list.append((i,j))\n",
    "            \n",
    "    return board_list\n",
    "\n",
    "boards = board_cut(checkerboard)\n",
    "print(color(checkerboard, boards))"
   ]
  },
  {
   "cell_type": "markdown",
   "id": "208a64e1",
   "metadata": {},
   "source": [
    "# 2108. 통계학"
   ]
  },
  {
   "cell_type": "markdown",
   "id": "cec8ff83",
   "metadata": {},
   "source": [
    "* Counter 사용시 들어가는 List가 Sorted에 따라 값이 다르게 나타난다.\n",
    "* Sys 차이가 확실히 크긴 하다."
   ]
  },
  {
   "cell_type": "code",
   "execution_count": 14,
   "id": "7206c556",
   "metadata": {},
   "outputs": [
    {
     "name": "stdout",
     "output_type": "stream",
     "text": [
      "5\n",
      "-1\n",
      "-2\n",
      "-3\n",
      "-1\n",
      "-1\n",
      "-2\n",
      "-1\n",
      "-1\n",
      "2\n"
     ]
    }
   ],
   "source": [
    "from collections import Counter\n",
    "import sys\n",
    "\n",
    "# n = int(sys.stdin.readline())\n",
    "# numbers = [int(sys.stdin.readline()) for _ in range(n)]\n",
    "n = int(input())\n",
    "numbers = [int(input()) for _ in range(n)]\n",
    "\n",
    "print(round(sum(numbers) / n))\n",
    "print(sorted(numbers)[n//2])\n",
    "\n",
    "count_num = Counter(numbers).most_common()\n",
    "if len(count_num) > 1 and count_num[0][1]==count_num[1][1]:\n",
    "    print(count_num[1][0])\n",
    "else: \n",
    "    print(count_num[0][0])\n",
    "\n",
    "print(max(numbers) - min(numbers))"
   ]
  },
  {
   "cell_type": "code",
   "execution_count": 16,
   "id": "f78d558d",
   "metadata": {},
   "outputs": [
    {
     "data": {
      "text/plain": [
       "[(-1, 3), (-3, 1), (-2, 1)]"
      ]
     },
     "execution_count": 16,
     "metadata": {},
     "output_type": "execute_result"
    }
   ],
   "source": [
    "Counter(sorted(numbers)).most_common()"
   ]
  },
  {
   "cell_type": "code",
   "execution_count": 15,
   "id": "7d28437e",
   "metadata": {},
   "outputs": [
    {
     "data": {
      "text/plain": [
       "[(-1, 3), (-2, 1), (-3, 1)]"
      ]
     },
     "execution_count": 15,
     "metadata": {},
     "output_type": "execute_result"
    }
   ],
   "source": [
    "Counter(numbers).most_common()"
   ]
  },
  {
   "cell_type": "code",
   "execution_count": 22,
   "id": "c409f178",
   "metadata": {},
   "outputs": [],
   "source": [
    "nums = sorted(Counter(numbers).items(), key=lambda x: x[1])"
   ]
  },
  {
   "cell_type": "markdown",
   "id": "28fd98bf",
   "metadata": {},
   "source": [
    "# 10866. 소수 찾기"
   ]
  },
  {
   "cell_type": "code",
   "execution_count": 32,
   "id": "038ccc7b",
   "metadata": {},
   "outputs": [
    {
     "name": "stdout",
     "output_type": "stream",
     "text": [
      "10\n"
     ]
    }
   ],
   "source": [
    "a = input().split()"
   ]
  },
  {
   "cell_type": "code",
   "execution_count": 28,
   "id": "42e9aeaa",
   "metadata": {},
   "outputs": [
    {
     "data": {
      "text/plain": [
       "['2', '3']"
      ]
     },
     "execution_count": 28,
     "metadata": {},
     "output_type": "execute_result"
    }
   ],
   "source": [
    "list(a)"
   ]
  },
  {
   "cell_type": "code",
   "execution_count": 42,
   "id": "813709ca",
   "metadata": {},
   "outputs": [
    {
     "name": "stdout",
     "output_type": "stream",
     "text": [
      "15\n",
      "push_back 1\n",
      "push_front 2\n",
      "front\n",
      "2\n",
      "back\n",
      "1\n",
      "size\n",
      "2\n",
      "empty\n",
      "0\n",
      "pop_front\n",
      "2\n",
      "pop_back\n",
      "1\n",
      "pop_front\n",
      "-1\n",
      "size\n",
      "0\n",
      "empty\n",
      "1\n",
      "pop_back\n",
      "-1\n",
      "push_front 3\n",
      "empty\n",
      "0\n",
      "front\n",
      "3\n"
     ]
    }
   ],
   "source": [
    "from collections import deque\n",
    "import sys\n",
    "# N = int(input())\n",
    "\n",
    "N= int(sys.stdin.readline())\n",
    "\n",
    "deq = deque()\n",
    "def my_deque(command, value = 0):\n",
    "    if command == 'push_front':\n",
    "        deq.appendleft(value)\n",
    "    elif command == 'push_back':\n",
    "        deq.append(value)\n",
    "    elif command == 'pop_front':\n",
    "        if len(deq):\n",
    "            print(deq.popleft())\n",
    "        else:\n",
    "            print(-1)\n",
    "    elif command == 'pop_back':\n",
    "        if len(deq):\n",
    "            print(deq.pop())\n",
    "        else:\n",
    "            print(-1)\n",
    "    elif command == 'size':\n",
    "        print(len(deq))\n",
    "    elif command == 'empty':\n",
    "        if len(deq):\n",
    "            print(0)\n",
    "        else:\n",
    "            print(1)\n",
    "    elif command == 'front':\n",
    "        if len(deq):\n",
    "            print(deq[0])\n",
    "        else:\n",
    "            print(-1)\n",
    "    elif command == 'back':\n",
    "        if len(deq):\n",
    "            print(deq[-1])\n",
    "        else:\n",
    "            print(-1)\n",
    "\n",
    "# n = int(sys.stdin.readline())\n",
    "# numbers = [int(sys.stdin.readline()) for _ in range(n)]            \n",
    "\n",
    "for _ in range(N):\n",
    "    inputs = sys.stdin.readline().split()\n",
    "    if len(list(inputs)) > 1:\n",
    "        commando, va = inputs\n",
    "        va = int(va)\n",
    "        my_deque(commando, va)\n",
    "    else:\n",
    "        commando = inputs[0]\n",
    "        my_deque(commando)"
   ]
  },
  {
   "cell_type": "code",
   "execution_count": 16,
   "id": "74f8b06a",
   "metadata": {},
   "outputs": [],
   "source": [
    "import random"
   ]
  },
  {
   "cell_type": "code",
   "execution_count": 20,
   "id": "35bbd922",
   "metadata": {},
   "outputs": [
    {
     "name": "stdout",
     "output_type": "stream",
     "text": [
      "push_front 9\n",
      "deque([9])\n",
      "push_back 3\n",
      "deque([9, 3])\n",
      "pop_front 1\n",
      "deque([3])\n",
      "pop_back 9\n",
      "deque([])\n",
      "size 7\n",
      "0\n",
      "deque([])\n",
      "empty 5\n",
      "0\n",
      "deque([])\n",
      "front 5\n",
      "-1\n",
      "deque([])\n",
      "back 9\n",
      "-1\n",
      "deque([])\n"
     ]
    }
   ],
   "source": [
    "com_list = ['push_front', 'push_back', 'pop_front', 'pop_back', 'size', 'empty', 'front', 'back']\n",
    "for com in com_list:\n",
    "    v =  random.randrange(1,10)\n",
    "    print(com, v)\n",
    "    my_deque(com, v)\n",
    "    print(deq)"
   ]
  },
  {
   "cell_type": "markdown",
   "id": "93fb4526",
   "metadata": {},
   "source": [
    "# 10845. 큐"
   ]
  },
  {
   "cell_type": "code",
   "execution_count": 46,
   "id": "01b8d563",
   "metadata": {},
   "outputs": [
    {
     "name": "stdout",
     "output_type": "stream",
     "text": [
      "15\n",
      "push 1\n",
      "push 2\n",
      "front\n",
      "1\n",
      "back\n",
      "2\n",
      "size\n",
      "2\n",
      "empty\n",
      "0\n",
      "pop\n",
      "1\n",
      "pop\n",
      "2\n",
      "pop\n",
      "-1\n",
      "size\n",
      "0\n",
      "empty\n",
      "1\n",
      "pop\n",
      "-1\n",
      "push 3\n",
      "empty\n",
      "0\n",
      "front\n",
      "3\n"
     ]
    }
   ],
   "source": [
    "from collections import deque\n",
    "import sys\n",
    "# N = int(input())\n",
    "\n",
    "N= int(sys.stdin.readline())\n",
    "\n",
    "deq = deque()\n",
    "def my_deque(command, value = 0):\n",
    "    if command == 'push':\n",
    "        deq.append(value)\n",
    "    elif command == 'pop':\n",
    "        if len(deq):\n",
    "            print(deq.popleft())\n",
    "        else:\n",
    "            print(-1)\n",
    "    elif command == 'size':\n",
    "        print(len(deq))\n",
    "    elif command == 'empty':\n",
    "        if len(deq):\n",
    "            print(0)\n",
    "        else:\n",
    "            print(1)\n",
    "    elif command == 'front':\n",
    "        if len(deq):\n",
    "            print(deq[0])\n",
    "        else:\n",
    "            print(-1)\n",
    "    elif command == 'back':\n",
    "        if len(deq):\n",
    "            print(deq[-1])\n",
    "        else:\n",
    "            print(-1)\n",
    "\n",
    "for _ in range(N):\n",
    "    inputs = sys.stdin.readline().split()\n",
    "#     inputs = input().split()\n",
    "    if len(list(inputs)) > 1:\n",
    "        commando, va = inputs\n",
    "        va = int(va)\n",
    "        my_deque(commando, va)\n",
    "    else:\n",
    "        commando = inputs[0]\n",
    "        my_deque(commando)"
   ]
  },
  {
   "cell_type": "markdown",
   "id": "4d935c6f",
   "metadata": {},
   "source": [
    "# 2775. 부녀 회장이 될꼬양"
   ]
  },
  {
   "cell_type": "code",
   "execution_count": 48,
   "id": "64a5446d",
   "metadata": {},
   "outputs": [
    {
     "name": "stdout",
     "output_type": "stream",
     "text": [
      "2\n"
     ]
    }
   ],
   "source": [
    "T = int(input())"
   ]
  },
  {
   "cell_type": "code",
   "execution_count": 65,
   "id": "75f25e02",
   "metadata": {},
   "outputs": [
    {
     "name": "stdout",
     "output_type": "stream",
     "text": [
      "1\n",
      "3\n",
      "6\n",
      "2\n",
      "3\n",
      "10\n"
     ]
    }
   ],
   "source": [
    "for _ in range(T):\n",
    "    k = int(input()) # k floor\n",
    "    n = int(input()) # n room\n",
    "    \n",
    "    # 즉, 1층의 3호에는 몇 명이 살고 있는 것일까?\n",
    "    # 각 층에는 1호부터 있고, 0층의 i호에는 i명이 산다. > 1호에는 1명이 산다.\n",
    "    # 0층 1호: 1 / 0층 2호: 2 / 0층 3호: 3 ...\n",
    "    # 1층 1호: 0층의 1호부터 1호 = 1 / 1층 2호: 0층의 1호부터 2호 = 1+2 / 1층 3호: 0층의 1호부터 3호: 1+2+3\n",
    "    # 2층 1호: 1층의 1호부터 1호 = 1 / 2층 1호: 1층의 1호부터 2호 = 1+ (1+2)\n",
    "\n",
    "    apart = [[0]*n for _ in range(k+1)]\n",
    "    apart[0] = list(range(1,n+1))\n",
    "    for i in range(1, k+1):\n",
    "        for j in range(0, n):\n",
    "            apart[i][j] = sum([apart[i-1][a] for a in range(j+1)])\n",
    "    \n",
    "    print(apart[k][n-1])\n",
    "    \n",
    "            \n",
    "    \n",
    "    "
   ]
  },
  {
   "cell_type": "code",
   "execution_count": 59,
   "id": "bb196ccc",
   "metadata": {},
   "outputs": [
    {
     "name": "stdout",
     "output_type": "stream",
     "text": [
      "0\n"
     ]
    }
   ],
   "source": [
    "for i in range(0,1):\n",
    "    print(i)"
   ]
  },
  {
   "cell_type": "code",
   "execution_count": 67,
   "id": "85128002",
   "metadata": {},
   "outputs": [
    {
     "name": "stdout",
     "output_type": "stream",
     "text": [
      "2\n",
      "1\n",
      "3\n",
      "[0, 1, 2, 3]\n",
      "index: (0, 1)\n",
      "[0, 1, 2, 3]\n",
      "index: (0, 2)\n",
      "[0, 1, 3, 3]\n",
      "index: (0, 3)\n",
      "[0, 1, 3, 6]\n",
      "6\n",
      "2\n",
      "3\n",
      "[0, 1, 2, 3]\n",
      "index: (0, 1)\n",
      "[0, 1, 2, 3]\n",
      "index: (0, 2)\n",
      "[0, 1, 3, 3]\n",
      "index: (0, 3)\n",
      "[0, 1, 3, 6]\n",
      "index: (1, 1)\n",
      "[0, 1, 3, 6]\n",
      "index: (1, 2)\n",
      "[0, 1, 4, 6]\n",
      "index: (1, 3)\n",
      "[0, 1, 4, 10]\n",
      "10\n"
     ]
    }
   ],
   "source": [
    "import sys\n",
    "# input = sys.stdin.readline\n",
    "\n",
    "for _ in range(int(input())):\n",
    "    k = int(input())\n",
    "    n = int(input())\n",
    "\n",
    "    people = [i for i in range(n + 1)]\n",
    "    print(people)\n",
    "    for i in range(k):\n",
    "        for j in range(1, n + 1):\n",
    "            people[j] = people[j] + people[j - 1]\n",
    "            print(f'index: {i,j}')\n",
    "            print(people)\n",
    "\n",
    "    print(people[-1])"
   ]
  },
  {
   "cell_type": "markdown",
   "id": "dbf9d46e",
   "metadata": {},
   "source": [
    "# 1259. 팰린드롬수"
   ]
  },
  {
   "cell_type": "code",
   "execution_count": 5,
   "id": "c4e69f70",
   "metadata": {},
   "outputs": [
    {
     "name": "stdout",
     "output_type": "stream",
     "text": [
      "121\n",
      "yes\n",
      "2222\n",
      "yes\n",
      "321\n",
      "no\n",
      "123\n",
      "no\n",
      "98189\n",
      "yes\n",
      "0\n"
     ]
    }
   ],
   "source": [
    "from collections import deque\n",
    "\n",
    "while True:\n",
    "    number = input()\n",
    "    if number == '0':\n",
    "        break\n",
    "    number = deque(list(number))\n",
    "    while True:\n",
    "        if len(number) < 2:\n",
    "            print('yes')\n",
    "            break\n",
    "\n",
    "        head, tail = number.popleft(), number.pop()\n",
    "        \n",
    "        if head == tail:\n",
    "            continue\n",
    "        else:\n",
    "            print('no')\n",
    "            break "
   ]
  },
  {
   "cell_type": "markdown",
   "id": "94ba9626",
   "metadata": {},
   "source": [
    "# 18111. MineCraft"
   ]
  },
  {
   "cell_type": "code",
   "execution_count": 19,
   "id": "6050b7fd",
   "metadata": {},
   "outputs": [],
   "source": [
    "from collections import Counter"
   ]
  },
  {
   "cell_type": "code",
   "execution_count": 6,
   "id": "04cb5f9e",
   "metadata": {},
   "outputs": [
    {
     "name": "stdout",
     "output_type": "stream",
     "text": [
      "3 4 99\n"
     ]
    }
   ],
   "source": [
    "N, M, B = map(int, input().split())"
   ]
  },
  {
   "cell_type": "code",
   "execution_count": 8,
   "id": "6194f03f",
   "metadata": {},
   "outputs": [],
   "source": [
    "mine_map = [[0]*M for _ in range(N)]"
   ]
  },
  {
   "cell_type": "code",
   "execution_count": 14,
   "id": "90f456b7",
   "metadata": {},
   "outputs": [
    {
     "name": "stdout",
     "output_type": "stream",
     "text": [
      "0 0 0 0\n",
      "0 0 0 0\n",
      "0 0 0 1\n"
     ]
    }
   ],
   "source": [
    "total_list = []\n",
    "for index in range(N):\n",
    "    input_list =  list(map(int, input().split()))\n",
    "    mine_map[index] = input_list\n",
    "    total_list += input_list"
   ]
  },
  {
   "cell_type": "code",
   "execution_count": 15,
   "id": "a1f0da71",
   "metadata": {},
   "outputs": [
    {
     "data": {
      "text/plain": [
       "[[0, 0, 0, 0], [0, 0, 0, 0], [0, 0, 0, 1]]"
      ]
     },
     "execution_count": 15,
     "metadata": {},
     "output_type": "execute_result"
    }
   ],
   "source": [
    "mine_map"
   ]
  },
  {
   "cell_type": "code",
   "execution_count": 21,
   "id": "e4d3422c",
   "metadata": {},
   "outputs": [
    {
     "data": {
      "text/plain": [
       "[(0, 11), (1, 1)]"
      ]
     },
     "execution_count": 21,
     "metadata": {},
     "output_type": "execute_result"
    }
   ],
   "source": [
    "Counter(total_list).most_common()"
   ]
  },
  {
   "cell_type": "markdown",
   "id": "e716b6f0",
   "metadata": {},
   "source": [
    "가장 많이 존재하는 층을 찾자"
   ]
  },
  {
   "cell_type": "markdown",
   "id": "0e4deb52",
   "metadata": {},
   "source": [
    "# 1978. 소수 찾기"
   ]
  },
  {
   "cell_type": "code",
   "execution_count": 3,
   "id": "0a7576e7",
   "metadata": {},
   "outputs": [
    {
     "name": "stdout",
     "output_type": "stream",
     "text": [
      "4\n",
      "1 2 3 4\n",
      "2\n"
     ]
    }
   ],
   "source": [
    "N = int(input())\n",
    "\n",
    "nums = list(map(int, input().split()))\n",
    "\n",
    "nums = [i for i in nums if i != 1]\n",
    "not_prime = 0\n",
    "\n",
    "for n in nums:\n",
    "    for i in range(2, n):\n",
    "        if n % i == 0:\n",
    "            not_prime += 1\n",
    "            break\n",
    "            \n",
    "prime = len(nums) - not_prime    \n",
    "print(prime)"
   ]
  },
  {
   "cell_type": "code",
   "execution_count": 4,
   "id": "7b5e16b8",
   "metadata": {},
   "outputs": [
    {
     "name": "stdout",
     "output_type": "stream",
     "text": [
      "5\n",
      "5\n",
      "4\n",
      "3\n",
      "2\n",
      "1\n"
     ]
    }
   ],
   "source": [
    "N = int(input())\n",
    "a = sorted([int(input()) for _ in range(N)], reverse=True)\n",
    "for i in a:\n",
    "    print(i)"
   ]
  },
  {
   "cell_type": "markdown",
   "id": "576decab",
   "metadata": {},
   "source": [
    "# 2292. 벌집"
   ]
  },
  {
   "cell_type": "markdown",
   "id": "96dc0874",
   "metadata": {},
   "source": [
    "1층: 1 * 1  \n",
    "2층: 2 * 3  \n",
    "3층: 3 * 4  \n",
    "4층: 4 * 5  \n",
    "...  "
   ]
  },
  {
   "cell_type": "code",
   "execution_count": 102,
   "id": "0ac1a137",
   "metadata": {},
   "outputs": [
    {
     "name": "stdout",
     "output_type": "stream",
     "text": [
      "10\n",
      "10\n",
      "1\n",
      "2\n",
      "3\n",
      "3\n",
      "3\n",
      "5\n"
     ]
    }
   ],
   "source": [
    "N = int(input())\n",
    "def flooring(n):\n",
    "    accum = 1\n",
    "#     if n == 1:\n",
    "#         return 1\n",
    "#     else:\n",
    "    m = 1\n",
    "    while n > accum:\n",
    "        accum += ((m+1) * (m+2))\n",
    "        m += 1\n",
    "    return m\n",
    "print(N)\n",
    "print(flooring(1))\n",
    "print(flooring(7))\n",
    "print(flooring(8))\n",
    "print(flooring(13))\n",
    "print(flooring(19))\n",
    "print(flooring(58))"
   ]
  },
  {
   "cell_type": "code",
   "execution_count": 6,
   "id": "6ff45862",
   "metadata": {},
   "outputs": [
    {
     "name": "stdout",
     "output_type": "stream",
     "text": [
      "2\n",
      "2\n"
     ]
    }
   ],
   "source": [
    "N = int(input())\n",
    "def flooring(n):\n",
    "    accum = 1\n",
    "    m = 1\n",
    "    while n > accum:\n",
    "        accum += (6*m)\n",
    "        m += 1\n",
    "    return m\n",
    "print(flooring(N))"
   ]
  },
  {
   "cell_type": "code",
   "execution_count": 7,
   "id": "da7266b4",
   "metadata": {
    "scrolled": true
   },
   "outputs": [
    {
     "name": "stdout",
     "output_type": "stream",
     "text": [
      "Number 0: 1\n",
      "Number 1: 1\n",
      "Number 2: 2\n",
      "Number 3: 2\n",
      "Number 4: 2\n",
      "Number 5: 2\n",
      "Number 6: 2\n",
      "Number 7: 2\n",
      "Number 8: 3\n",
      "Number 9: 3\n",
      "Number 10: 3\n",
      "Number 11: 3\n",
      "Number 12: 3\n",
      "Number 13: 3\n",
      "Number 14: 3\n",
      "Number 15: 3\n",
      "Number 16: 3\n",
      "Number 17: 3\n",
      "Number 18: 3\n",
      "Number 19: 3\n",
      "Number 20: 4\n",
      "Number 21: 4\n",
      "Number 22: 4\n",
      "Number 23: 4\n",
      "Number 24: 4\n",
      "Number 25: 4\n",
      "Number 26: 4\n",
      "Number 27: 4\n",
      "Number 28: 4\n",
      "Number 29: 4\n",
      "Number 30: 4\n",
      "Number 31: 4\n",
      "Number 32: 4\n",
      "Number 33: 4\n",
      "Number 34: 4\n",
      "Number 35: 4\n",
      "Number 36: 4\n",
      "Number 37: 4\n",
      "Number 38: 5\n",
      "Number 39: 5\n",
      "Number 40: 5\n",
      "Number 41: 5\n",
      "Number 42: 5\n",
      "Number 43: 5\n",
      "Number 44: 5\n",
      "Number 45: 5\n",
      "Number 46: 5\n",
      "Number 47: 5\n",
      "Number 48: 5\n",
      "Number 49: 5\n",
      "Number 50: 5\n",
      "Number 51: 5\n",
      "Number 52: 5\n",
      "Number 53: 5\n",
      "Number 54: 5\n",
      "Number 55: 5\n",
      "Number 56: 5\n",
      "Number 57: 5\n",
      "Number 58: 5\n",
      "Number 59: 5\n",
      "Number 60: 5\n",
      "Number 61: 5\n",
      "Number 62: 6\n",
      "Number 63: 6\n",
      "Number 64: 6\n",
      "Number 65: 6\n",
      "Number 66: 6\n",
      "Number 67: 6\n",
      "Number 68: 6\n",
      "Number 69: 6\n",
      "Number 70: 6\n",
      "Number 71: 6\n",
      "Number 72: 6\n",
      "Number 73: 6\n",
      "Number 74: 6\n",
      "Number 75: 6\n",
      "Number 76: 6\n",
      "Number 77: 6\n",
      "Number 78: 6\n",
      "Number 79: 6\n",
      "Number 80: 6\n",
      "Number 81: 6\n",
      "Number 82: 6\n",
      "Number 83: 6\n",
      "Number 84: 6\n",
      "Number 85: 6\n",
      "Number 86: 6\n",
      "Number 87: 6\n",
      "Number 88: 6\n",
      "Number 89: 6\n",
      "Number 90: 6\n",
      "Number 91: 6\n",
      "Number 92: 7\n",
      "Number 93: 7\n",
      "Number 94: 7\n",
      "Number 95: 7\n",
      "Number 96: 7\n",
      "Number 97: 7\n",
      "Number 98: 7\n",
      "Number 99: 7\n"
     ]
    }
   ],
   "source": [
    "for i in range(100):\n",
    "    print(f'Number {i}: {flooring(i)}')"
   ]
  },
  {
   "cell_type": "markdown",
   "id": "2ebcf610",
   "metadata": {},
   "source": [
    "# 1929. 소수 구하기"
   ]
  },
  {
   "cell_type": "code",
   "execution_count": 55,
   "id": "020012e3",
   "metadata": {},
   "outputs": [
    {
     "name": "stdout",
     "output_type": "stream",
     "text": [
      "3 3\n",
      "3\n"
     ]
    }
   ],
   "source": [
    "import math\n",
    "M, N = map(int, input().split())\n",
    "\n",
    "def primary(n):\n",
    "    array = [True] * (n+1)\n",
    "    for i in range(2, n+1):\n",
    "        if array[i] == True:\n",
    "            j = 2\n",
    "            while i * j <= n:\n",
    "                array[i*j] = False\n",
    "                j += 1\n",
    "    return array\n",
    "            \n",
    "answer = primary(N)\n",
    "for i in range(M, len(answer)):\n",
    "    if answer[i]:\n",
    "        print(i)"
   ]
  },
  {
   "cell_type": "code",
   "execution_count": null,
   "id": "91ed88f5",
   "metadata": {},
   "outputs": [],
   "source": [
    "def isPrime(num):\n",
    "    if num==1:\n",
    "        return False\n",
    "    else:\n",
    "        for i in range(2, int(num**0.5)+1):\n",
    "            if num%i == 0:\n",
    "                return False\n",
    "        return True\n",
    "\n",
    "M, N = map(int, input().split())\n",
    "\n",
    "for i in range(M, N+1):\n",
    "    if isPrime(i):\n",
    "        print(i)"
   ]
  },
  {
   "cell_type": "markdown",
   "id": "086179ee",
   "metadata": {},
   "source": [
    "# 2609. 최대 공약수와 최소공배수"
   ]
  },
  {
   "cell_type": "code",
   "execution_count": 4,
   "id": "995879c2",
   "metadata": {},
   "outputs": [
    {
     "name": "stdout",
     "output_type": "stream",
     "text": [
      "24 18\n",
      "6 72\n"
     ]
    }
   ],
   "source": [
    "x,y = map(int, input().split())\n",
    "\n",
    "def gcd(x, y):\n",
    "    while y:\n",
    "        x,y = y, x%y\n",
    "    return x\n",
    "\n",
    "def lcm(x,y):\n",
    "    return x*y // gcd(x,y)\n",
    "\n",
    "print(gcd(x,y))\n",
    "print(lcm(x,y))"
   ]
  },
  {
   "cell_type": "code",
   "execution_count": 2,
   "id": "621c0be6",
   "metadata": {},
   "outputs": [
    {
     "data": {
      "text/plain": [
       "6"
      ]
     },
     "execution_count": 2,
     "metadata": {},
     "output_type": "execute_result"
    }
   ],
   "source": [
    "gcd(24, 18)"
   ]
  },
  {
   "cell_type": "markdown",
   "id": "caea0e49",
   "metadata": {},
   "source": [
    "# 2869. 달팽이는 올라가고 싶다."
   ]
  },
  {
   "cell_type": "code",
   "execution_count": 5,
   "id": "cd596d84",
   "metadata": {},
   "outputs": [
    {
     "name": "stdout",
     "output_type": "stream",
     "text": [
      "2 1 5\n"
     ]
    }
   ],
   "source": []
  },
  {
   "cell_type": "code",
   "execution_count": 7,
   "id": "370591c1",
   "metadata": {},
   "outputs": [
    {
     "name": "stdout",
     "output_type": "stream",
     "text": [
      "4\n"
     ]
    }
   ],
   "source": [
    "import math\n",
    "\n",
    "A, B, V = map(int, input().split())\n",
    "answer = (V-B) / (A-B)\n",
    "print(math.ceil(answer))"
   ]
  },
  {
   "cell_type": "code",
   "execution_count": null,
   "id": "0f0b4850",
   "metadata": {},
   "outputs": [],
   "source": []
  }
 ],
 "metadata": {
  "kernelspec": {
   "display_name": "Python 3 (ipykernel)",
   "language": "python",
   "name": "python3"
  },
  "language_info": {
   "codemirror_mode": {
    "name": "ipython",
    "version": 3
   },
   "file_extension": ".py",
   "mimetype": "text/x-python",
   "name": "python",
   "nbconvert_exporter": "python",
   "pygments_lexer": "ipython3",
   "version": "3.9.9"
  }
 },
 "nbformat": 4,
 "nbformat_minor": 5
}
