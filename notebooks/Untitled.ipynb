{
 "cells": [
  {
   "cell_type": "code",
   "execution_count": null,
   "id": "08c95318",
   "metadata": {},
   "outputs": [],
   "source": []
  },
  {
   "cell_type": "markdown",
   "id": "8d7775e6",
   "metadata": {},
   "source": [
    "김형택은 지금 몰래 Spider Solitaire(스파이더 카드놀이)를 하고 있다. 형택이는 이 게임을 이길 때도 있었지만, 질 때도 있었다. 누군가의 시선이 느껴진 형택이는 게임을 중단하고 코딩을 하기 시작했다. 의심을 피했다고 생각한 형택이는 다시 게임을 켰다. 그 때 형택이는 잠시 코딩을 하는 사이에 자신의 게임 실력이 눈에 띄게 향상된 것을 알았다.\n",
    "\n",
    "이제 형택이는 앞으로의 모든 게임에서 지지 않는다. 하지만, 형택이는 게임 기록을 삭제 할 수 없기 때문에, 자신의 못하던 예전 기록이 현재 자신의 엄청난 실력을 증명하지 못한다고 생각했다.\n",
    "\n",
    "게임 기록은 다음과 같이 생겼다.\n",
    "\n",
    "게임 횟수 : X\n",
    "이긴 게임 : Y (Z%)\n",
    "Z는 형택이의 승률이고, 소수점은 버린다. 예를 들어, X=53, Y=47이라면, Z=88이다.\n",
    "X와 Y가 주어졌을 때, 형택이가 게임을 최소 몇 번 더 해야 Z가 변하는지 구하는 프로그램을 작성하시오."
   ]
  },
  {
   "cell_type": "code",
   "execution_count": 6,
   "id": "c2b9bd91",
   "metadata": {},
   "outputs": [
    {
     "name": "stdout",
     "output_type": "stream",
     "text": [
      "53 47\n"
     ]
    }
   ],
   "source": [
    "x, y = list(map(int, input().split()))"
   ]
  },
  {
   "cell_type": "code",
   "execution_count": 11,
   "id": "3b80248c",
   "metadata": {},
   "outputs": [],
   "source": [
    "z = y // x"
   ]
  },
  {
   "cell_type": "code",
   "execution_count": 12,
   "id": "1bbaf771",
   "metadata": {},
   "outputs": [
    {
     "data": {
      "text/plain": [
       "0"
      ]
     },
     "execution_count": 12,
     "metadata": {},
     "output_type": "execute_result"
    }
   ],
   "source": [
    "z"
   ]
  },
  {
   "cell_type": "markdown",
   "id": "aeaca4af",
   "metadata": {},
   "source": [
    "알고리즘\n",
    "\n",
    "1. 분자 분모에 x 만큼 더함 - 각 x와 y의 최대 값으로 설정\n",
    "2. 해당 비율이 기존 비율 + 1보다 크면 최대 값을 절반으로 줄인다. "
   ]
  },
  {
   "cell_type": "code",
   "execution_count": null,
   "id": "6e10a257",
   "metadata": {},
   "outputs": [],
   "source": [
    "count = 0\n",
    "add = x.copy()\n",
    "\n",
    "z = (y // x)\n",
    "z_plus = (y // x) + 1\n",
    "\n",
    "y_max, x_max = y + add, x + add\n",
    "\n",
    "while True:\n",
    "    y_max = (x + x_max) // 2\n",
    "    x_max = (x + x_max) // 2\n",
    "    \n",
    "    new_z = y_max / x_max\n",
    "    \n",
    "    if new_z > z and new_z < z_plus:\n",
    "        return count\n",
    "    \n",
    "    elif new_z >= z_plus:\n",
    "        \n",
    "    elif new_z <= z_plus:\n",
    "        y_max = (y_max + y) // 2\n",
    "        x_max = (x_max + x) // 2\n",
    "    \n",
    "    count += 1"
   ]
  }
 ],
 "metadata": {
  "kernelspec": {
   "display_name": "Python 3",
   "language": "python",
   "name": "python3"
  },
  "language_info": {
   "codemirror_mode": {
    "name": "ipython",
    "version": 3
   },
   "file_extension": ".py",
   "mimetype": "text/x-python",
   "name": "python",
   "nbconvert_exporter": "python",
   "pygments_lexer": "ipython3",
   "version": "3.6.9"
  }
 },
 "nbformat": 4,
 "nbformat_minor": 5
}
