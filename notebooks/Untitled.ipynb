{
 "cells": [
  {
   "cell_type": "code",
   "execution_count": null,
   "id": "08c95318",
   "metadata": {},
   "outputs": [],
   "source": []
  },
  {
   "cell_type": "markdown",
   "id": "8d7775e6",
   "metadata": {},
   "source": [
    "김형택은 지금 몰래 Spider Solitaire(스파이더 카드놀이)를 하고 있다. 형택이는 이 게임을 이길 때도 있었지만, 질 때도 있었다. 누군가의 시선이 느껴진 형택이는 게임을 중단하고 코딩을 하기 시작했다. 의심을 피했다고 생각한 형택이는 다시 게임을 켰다. 그 때 형택이는 잠시 코딩을 하는 사이에 자신의 게임 실력이 눈에 띄게 향상된 것을 알았다.\n",
    "\n",
    "이제 형택이는 앞으로의 모든 게임에서 지지 않는다. 하지만, 형택이는 게임 기록을 삭제 할 수 없기 때문에, 자신의 못하던 예전 기록이 현재 자신의 엄청난 실력을 증명하지 못한다고 생각했다.\n",
    "\n",
    "게임 기록은 다음과 같이 생겼다.\n",
    "\n",
    "게임 횟수 : X\n",
    "이긴 게임 : Y (Z%)\n",
    "Z는 형택이의 승률이고, 소수점은 버린다. 예를 들어, X=53, Y=47이라면, Z=88이다.\n",
    "X와 Y가 주어졌을 때, 형택이가 게임을 최소 몇 번 더 해야 Z가 변하는지 구하는 프로그램을 작성하시오."
   ]
  },
  {
   "cell_type": "code",
   "execution_count": 6,
   "id": "c2b9bd91",
   "metadata": {},
   "outputs": [
    {
     "name": "stdout",
     "output_type": "stream",
     "text": [
      "53 47\n"
     ]
    }
   ],
   "source": [
    "x, y = list(map(int, input().split()))"
   ]
  },
  {
   "cell_type": "code",
   "execution_count": 11,
   "id": "3b80248c",
   "metadata": {},
   "outputs": [],
   "source": [
    "z = y // x"
   ]
  },
  {
   "cell_type": "code",
   "execution_count": 12,
   "id": "1bbaf771",
   "metadata": {},
   "outputs": [
    {
     "data": {
      "text/plain": [
       "0"
      ]
     },
     "execution_count": 12,
     "metadata": {},
     "output_type": "execute_result"
    }
   ],
   "source": [
    "z"
   ]
  },
  {
   "cell_type": "markdown",
   "id": "aeaca4af",
   "metadata": {},
   "source": [
    "알고리즘\n",
    "\n",
    "1. 분자 분모에 x 만큼 더함 - 각 x와 y의 최대 값으로 설정\n",
    "2. 해당 비율이 기존 비율 + 1보다 크면 최대 값을 절반으로 줄인다. "
   ]
  },
  {
   "cell_type": "code",
   "execution_count": null,
   "id": "6e10a257",
   "metadata": {},
   "outputs": [],
   "source": [
    "count = 0\n",
    "add = x.copy()\n",
    "\n",
    "z = (y // x)\n",
    "z_plus = (y // x) + 1\n",
    "\n",
    "y_max, x_max = y + add, x + add\n",
    "\n",
    "while True:\n",
    "    y_max = (x + x_max) // 2\n",
    "    x_max = (x + x_max) // 2\n",
    "    \n",
    "    new_z = y_max / x_max\n",
    "    \n",
    "    if new_z > z and new_z < z_plus:\n",
    "        return count\n",
    "    \n",
    "    elif new_z >= z_plus:\n",
    "        \n",
    "    elif new_z <= z_plus:\n",
    "        y_max = (y_max + y) // 2\n",
    "        x_max = (x_max + x) // 2\n",
    "    \n",
    "    count += 1"
   ]
  },
  {
   "cell_type": "code",
   "execution_count": 2,
   "id": "cfd86954",
   "metadata": {},
   "outputs": [],
   "source": [
    "import torch"
   ]
  },
  {
   "cell_type": "code",
   "execution_count": 9,
   "id": "75151989",
   "metadata": {},
   "outputs": [],
   "source": [
    "all_inputs = torch.tensor(([[1,2,3],[4,5,6],[7,8,9], [10,11,12]]))"
   ]
  },
  {
   "cell_type": "code",
   "execution_count": 14,
   "id": "e7aae45c",
   "metadata": {},
   "outputs": [],
   "source": [
    "inputs_x = torch.rand(4,512)\n",
    "inputs_x_aug = torch.rand(4,512)\n",
    "inputs_u = torch.rand(8,512)\n",
    "inputs_u2 = torch.rand(8,512)\n",
    "inputs_ori = torch.rand(8,512)"
   ]
  },
  {
   "cell_type": "code",
   "execution_count": 17,
   "id": "29c6a4a4",
   "metadata": {},
   "outputs": [],
   "source": [
    "all_inputs = torch.cat([inputs_x, inputs_x_aug, inputs_u, inputs_u2, inputs_ori], dim=0)\n",
    "# all_lengths = torch.cat([inputs_x_length, inputs_x_length, length_u, length_u2, length_ori], dim=0)\n",
    "# all_targets = torch.cat([targets_x, targets_x, targets_u, targets_u, targets_u], dim=0)"
   ]
  },
  {
   "cell_type": "code",
   "execution_count": 18,
   "id": "edef0755",
   "metadata": {},
   "outputs": [
    {
     "data": {
      "text/plain": [
       "torch.Size([32, 512])"
      ]
     },
     "execution_count": 18,
     "metadata": {},
     "output_type": "execute_result"
    }
   ],
   "source": [
    "all_inputs.shape"
   ]
  },
  {
   "cell_type": "code",
   "execution_count": 32,
   "id": "5cd2e5de",
   "metadata": {},
   "outputs": [],
   "source": [
    "batch_size = 4\n",
    "batch_size_2 = 8"
   ]
  },
  {
   "cell_type": "code",
   "execution_count": 44,
   "id": "5a9fcbf0",
   "metadata": {},
   "outputs": [],
   "source": [
    "idx1 = torch.randperm(all_inputs.size(0) - batch_size_2)\n",
    "idx2 = torch.arange(batch_size_2) + all_inputs.size(0) - batch_size_2\n",
    "idx = torch.cat([idx1, idx2], dim=0)"
   ]
  },
  {
   "cell_type": "code",
   "execution_count": 45,
   "id": "123c89f8",
   "metadata": {},
   "outputs": [
    {
     "name": "stdout",
     "output_type": "stream",
     "text": [
      "idx1: tensor([ 2, 14, 13,  7, 21,  1, 16,  8,  3, 22, 23,  4, 20, 15, 12, 19, 10, 17,\n",
      "         5,  0,  9, 11,  6, 18])\n",
      "idx2: tensor([24, 25, 26, 27, 28, 29, 30, 31])\n",
      "\n",
      "idx:  tensor([ 2, 14, 13,  7, 21,  1, 16,  8,  3, 22, 23,  4, 20, 15, 12, 19, 10, 17,\n",
      "         5,  0,  9, 11,  6, 18, 24, 25, 26, 27, 28, 29, 30, 31])\n",
      "\n"
     ]
    }
   ],
   "source": [
    "print(f'idx1: {idx1}')\n",
    "print(f'idx2: {idx2}\\n')\n",
    "print(f'idx:  {idx}\\n')"
   ]
  },
  {
   "cell_type": "code",
   "execution_count": 46,
   "id": "6db8fe05",
   "metadata": {},
   "outputs": [],
   "source": [
    "idx1 = torch.randperm(batch_size)\n",
    "idx2 = torch.randperm(all_inputs.size(0) - batch_size) + batch_size\n",
    "idx = torch.cat([idx1, idx2], dim=0)"
   ]
  },
  {
   "cell_type": "code",
   "execution_count": 47,
   "id": "cf4cb7fb",
   "metadata": {},
   "outputs": [
    {
     "name": "stdout",
     "output_type": "stream",
     "text": [
      "idx1: tensor([0, 3, 1, 2])\n",
      "idx2: tensor([26, 17, 24, 30,  8, 19, 22, 14, 15, 23,  9,  4, 29, 16, 28, 27, 25,  6,\n",
      "        20, 10, 11,  7, 18, 31, 13, 21,  5, 12])\n",
      "\n",
      "idx:  tensor([ 0,  3,  1,  2, 26, 17, 24, 30,  8, 19, 22, 14, 15, 23,  9,  4, 29, 16,\n",
      "        28, 27, 25,  6, 20, 10, 11,  7, 18, 31, 13, 21,  5, 12])\n",
      "\n"
     ]
    }
   ],
   "source": [
    "print(f'idx1: {idx1}')\n",
    "print(f'idx2: {idx2}\\n')\n",
    "print(f'idx:  {idx}\\n')"
   ]
  },
  {
   "cell_type": "code",
   "execution_count": 30,
   "id": "293a4c5b",
   "metadata": {},
   "outputs": [],
   "source": [
    "normal_idx = torch.arange(32)"
   ]
  },
  {
   "cell_type": "code",
   "execution_count": 31,
   "id": "cb8fa73b",
   "metadata": {},
   "outputs": [
    {
     "name": "stdout",
     "output_type": "stream",
     "text": [
      "tensor(0) tensor(18)\n",
      "tensor(1) tensor(14)\n",
      "tensor(2) tensor(5)\n",
      "tensor(3) tensor(11)\n",
      "tensor(4) tensor(19)\n",
      "tensor(5) tensor(15)\n",
      "tensor(6) tensor(22)\n",
      "tensor(7) tensor(21)\n",
      "tensor(8) tensor(1)\n",
      "tensor(9) tensor(16)\n",
      "tensor(10) tensor(10)\n",
      "tensor(11) tensor(2)\n",
      "tensor(12) tensor(6)\n",
      "tensor(13) tensor(20)\n",
      "tensor(14) tensor(0)\n",
      "tensor(15) tensor(9)\n",
      "tensor(16) tensor(12)\n",
      "tensor(17) tensor(3)\n",
      "tensor(18) tensor(17)\n",
      "tensor(19) tensor(23)\n",
      "tensor(20) tensor(4)\n",
      "tensor(21) tensor(7)\n",
      "tensor(22) tensor(8)\n",
      "tensor(23) tensor(13)\n",
      "tensor(24) tensor(24)\n",
      "tensor(25) tensor(25)\n",
      "tensor(26) tensor(26)\n",
      "tensor(27) tensor(27)\n",
      "tensor(28) tensor(28)\n",
      "tensor(29) tensor(29)\n",
      "tensor(30) tensor(30)\n",
      "tensor(31) tensor(31)\n"
     ]
    }
   ],
   "source": [
    "for i, j in zip(normal_idx, idx):\n",
    "    print(i,j)"
   ]
  },
  {
   "cell_type": "code",
   "execution_count": null,
   "id": "ebb46e57",
   "metadata": {},
   "outputs": [],
   "source": []
  }
 ],
 "metadata": {
  "kernelspec": {
   "display_name": "Python 3 (ipykernel)",
   "language": "python",
   "name": "python3"
  },
  "language_info": {
   "codemirror_mode": {
    "name": "ipython",
    "version": 3
   },
   "file_extension": ".py",
   "mimetype": "text/x-python",
   "name": "python",
   "nbconvert_exporter": "python",
   "pygments_lexer": "ipython3",
   "version": "3.9.9"
  }
 },
 "nbformat": 4,
 "nbformat_minor": 5
}
