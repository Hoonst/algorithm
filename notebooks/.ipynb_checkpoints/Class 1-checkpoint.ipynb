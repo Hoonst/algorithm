{
 "cells": [
  {
   "cell_type": "markdown",
   "id": "f9a004c1",
   "metadata": {},
   "source": [
    "# A+B"
   ]
  },
  {
   "cell_type": "markdown",
   "id": "d37977f2",
   "metadata": {},
   "source": [
    "두 정수 A와 B를 입력받은 다음, A+B를 출력하는 프로그램을 작성하시오."
   ]
  },
  {
   "cell_type": "code",
   "execution_count": 2,
   "id": "dd92e60a",
   "metadata": {},
   "outputs": [
    {
     "name": "stdout",
     "output_type": "stream",
     "text": [
      "1 2\n"
     ]
    }
   ],
   "source": [
    "A, B = map(int, input().split())"
   ]
  },
  {
   "cell_type": "code",
   "execution_count": 3,
   "id": "46377a64",
   "metadata": {},
   "outputs": [
    {
     "data": {
      "text/plain": [
       "3"
      ]
     },
     "execution_count": 3,
     "metadata": {},
     "output_type": "execute_result"
    }
   ],
   "source": [
    "A+B"
   ]
  },
  {
   "cell_type": "code",
   "execution_count": null,
   "id": "f1af8e6a",
   "metadata": {},
   "outputs": [],
   "source": [
    "A, B = map(int, input().split())\n",
    "print(A + B)"
   ]
  },
  {
   "cell_type": "markdown",
   "id": "914b6aa1",
   "metadata": {},
   "source": [
    "# A-B"
   ]
  },
  {
   "cell_type": "code",
   "execution_count": 4,
   "id": "a379ed75",
   "metadata": {},
   "outputs": [
    {
     "name": "stdout",
     "output_type": "stream",
     "text": [
      "3 2\n",
      "1\n"
     ]
    }
   ],
   "source": [
    "A, B = map(int, input().split())\n",
    "print(A - B)"
   ]
  },
  {
   "cell_type": "markdown",
   "id": "1964a31a",
   "metadata": {},
   "source": [
    "# A/B"
   ]
  },
  {
   "cell_type": "code",
   "execution_count": 6,
   "id": "4d164381",
   "metadata": {},
   "outputs": [
    {
     "name": "stdout",
     "output_type": "stream",
     "text": [
      "4 5\n",
      "0.8\n"
     ]
    }
   ],
   "source": [
    "A, B = map(int, input().split())\n",
    "print(A / B)"
   ]
  },
  {
   "cell_type": "markdown",
   "id": "57057732",
   "metadata": {},
   "source": [
    "# 단어의 개수"
   ]
  },
  {
   "cell_type": "markdown",
   "id": "ce9017fe",
   "metadata": {},
   "source": [
    "영어 대소문자와 공백으로 이루어진 문자열이 주어진다. \n",
    "\n",
    "이 문자열에는 몇 개의 단어가 있을까? 이를 구하는 프로그램을 작성하시오. 단, 한 단어가 여러 번 등장하면 등장한 횟수만큼 모두 세어야 한다."
   ]
  },
  {
   "cell_type": "code",
   "execution_count": 8,
   "id": "f66b5b5b",
   "metadata": {},
   "outputs": [
    {
     "name": "stdout",
     "output_type": "stream",
     "text": [
      "The Curious Case of Benjamin Button\n",
      "['The', 'Curious', 'Case', 'of', 'Benjamin', 'Button']\n"
     ]
    }
   ],
   "source": [
    "string = input()\n",
    "print(len(string.split()))"
   ]
  },
  {
   "cell_type": "markdown",
   "id": "2cd38a15",
   "metadata": {},
   "source": [
    "# 단어 공부"
   ]
  },
  {
   "cell_type": "code",
   "execution_count": 37,
   "id": "6c048d0d",
   "metadata": {},
   "outputs": [
    {
     "name": "stdout",
     "output_type": "stream",
     "text": [
      "zZabbbbb\n"
     ]
    }
   ],
   "source": [
    "from collections import Counter, defaultdict, OrderedDict\n",
    "char = input().upper()"
   ]
  },
  {
   "cell_type": "code",
   "execution_count": 38,
   "id": "d2e31771",
   "metadata": {},
   "outputs": [],
   "source": [
    "count = defaultdict(lambda: 0)"
   ]
  },
  {
   "cell_type": "code",
   "execution_count": 39,
   "id": "4ee9a79c",
   "metadata": {},
   "outputs": [],
   "source": [
    "for c in char:\n",
    "    count[c] += 1"
   ]
  },
  {
   "cell_type": "code",
   "execution_count": 41,
   "id": "67608c71",
   "metadata": {},
   "outputs": [
    {
     "data": {
      "text/plain": [
       "defaultdict(<function __main__.<lambda>()>, {'Z': 2, 'A': 1, 'B': 5})"
      ]
     },
     "execution_count": 41,
     "metadata": {},
     "output_type": "execute_result"
    }
   ],
   "source": [
    "count"
   ]
  },
  {
   "cell_type": "code",
   "execution_count": null,
   "id": "ca444e5d",
   "metadata": {},
   "outputs": [],
   "source": [
    "max = 0\n",
    "for key in count:\n",
    "    "
   ]
  },
  {
   "cell_type": "code",
   "execution_count": 40,
   "id": "c238ea49",
   "metadata": {},
   "outputs": [
    {
     "data": {
      "text/plain": [
       "OrderedDict([('Z', 2), ('A', 1), ('B', 5)])"
      ]
     },
     "execution_count": 40,
     "metadata": {},
     "output_type": "execute_result"
    }
   ],
   "source": [
    "OrderedDict(Counter(char))"
   ]
  },
  {
   "cell_type": "markdown",
   "id": "b34763ac",
   "metadata": {},
   "source": [
    "# 평균"
   ]
  },
  {
   "cell_type": "code",
   "execution_count": 50,
   "id": "f3c0bf95",
   "metadata": {},
   "outputs": [],
   "source": [
    "N = int(input())\n",
    "scores = list(map(int, input().split()))\n",
    "\n",
    "M = max(scores)\n",
    "\n",
    "new_scores = [(i/M)*100 for i in scores]\n",
    "print(sum(new_scores) / N)"
   ]
  },
  {
   "cell_type": "markdown",
   "id": "bc79f443",
   "metadata": {},
   "source": [
    "# 두 수 비교하기"
   ]
  },
  {
   "cell_type": "code",
   "execution_count": 54,
   "id": "89e26f1a",
   "metadata": {},
   "outputs": [
    {
     "name": "stdout",
     "output_type": "stream",
     "text": [
      "<\n"
     ]
    }
   ],
   "source": [
    "A, B = int(input().split())\n",
    "\n",
    "if A < B:\n",
    "    print('<')\n",
    "elif A > B:\n",
    "    print('>')\n",
    "elif A == B:\n",
    "    print('==')"
   ]
  },
  {
   "cell_type": "markdown",
   "id": "ee0ad042",
   "metadata": {},
   "source": [
    "# 문자열 반복"
   ]
  },
  {
   "cell_type": "code",
   "execution_count": 66,
   "id": "6a250d97",
   "metadata": {},
   "outputs": [
    {
     "name": "stdout",
     "output_type": "stream",
     "text": [
      "2\n",
      "3 ABC\n",
      "AAABBBCCC\n",
      "5 /HTP\n",
      "/////HHHHHTTTTTPPPPP\n"
     ]
    }
   ],
   "source": [
    "N = int(input())\n",
    "for _ in range(N):\n",
    "    num, string = input().split()\n",
    "    num = int(num)\n",
    "\n",
    "    total = ''\n",
    "    if len(string):\n",
    "        for s in string:\n",
    "            total += (s * num)\n",
    "\n",
    "    print(total)"
   ]
  },
  {
   "cell_type": "markdown",
   "id": "7ee82a33",
   "metadata": {},
   "source": [
    "# 최댓값"
   ]
  },
  {
   "cell_type": "code",
   "execution_count": 67,
   "id": "5631ff79",
   "metadata": {},
   "outputs": [
    {
     "name": "stdout",
     "output_type": "stream",
     "text": [
      "3\n",
      "29\n",
      "38\n",
      "12\n",
      "57\n",
      "74\n",
      "40\n",
      "85\n",
      "61\n"
     ]
    }
   ],
   "source": [
    "max_value = 0\n",
    "for i in range(9):\n",
    "    value = int(input())\n",
    "    if value > max_value:\n",
    "        max_value = value\n",
    "        index = i+1\n",
    "print(max_value)\n",
    "print(index)"
   ]
  },
  {
   "cell_type": "markdown",
   "id": "dc9c4245",
   "metadata": {},
   "source": [
    "# 숫자의 개수"
   ]
  },
  {
   "cell_type": "code",
   "execution_count": 71,
   "id": "22cd75e8",
   "metadata": {},
   "outputs": [
    {
     "name": "stdout",
     "output_type": "stream",
     "text": [
      "150\n",
      "266\n",
      "427\n"
     ]
    }
   ],
   "source": [
    "from collections import Counter\n",
    "\n",
    "A = int(input())\n",
    "B = int(input())\n",
    "C = int(input())\n",
    "\n",
    "total = A*B*C\n",
    "\n",
    "cnt_dict = Counter(str(total))\n",
    "\n",
    "for i in range(10):\n",
    "    print(cnt_dict[str(i)])"
   ]
  },
  {
   "cell_type": "markdown",
   "id": "7fa9ea62",
   "metadata": {},
   "source": [
    "# 상수"
   ]
  },
  {
   "cell_type": "code",
   "execution_count": 86,
   "id": "c1a7769f",
   "metadata": {},
   "outputs": [
    {
     "name": "stdout",
     "output_type": "stream",
     "text": [
      "839 237\n",
      "938\n"
     ]
    }
   ],
   "source": [
    "A, B = list(map(int, input().split()))\n",
    "\n",
    "new_A = int(str(A)[::-1])\n",
    "new_B = int(str(B)[::-1])\n",
    "\n",
    "if new_A > new_B:\n",
    "    print(new_A)\n",
    "else:\n",
    "    print(new_B)"
   ]
  },
  {
   "cell_type": "markdown",
   "id": "4ee5e3dc",
   "metadata": {},
   "source": [
    "# A+B-3"
   ]
  },
  {
   "cell_type": "code",
   "execution_count": 87,
   "id": "4ce8f879",
   "metadata": {},
   "outputs": [
    {
     "name": "stdout",
     "output_type": "stream",
     "text": [
      "5\n"
     ]
    }
   ],
   "source": [
    "T = int(input())\n",
    "for _ in range(T):\n",
    "    A, B = map(int, input().split())\n",
    "    print(A+B)"
   ]
  },
  {
   "cell_type": "markdown",
   "id": "f8974445",
   "metadata": {},
   "source": [
    "# 기찍 N"
   ]
  },
  {
   "cell_type": "code",
   "execution_count": 93,
   "id": "3a8a56ba",
   "metadata": {},
   "outputs": [
    {
     "name": "stdout",
     "output_type": "stream",
     "text": [
      "5\n",
      "5\n",
      "4\n",
      "3\n",
      "2\n",
      "1\n"
     ]
    }
   ],
   "source": [
    "N = int(input())\n",
    "\n",
    "for n in range(N, 0, -1):\n",
    "    print(n)"
   ]
  },
  {
   "cell_type": "markdown",
   "id": "160ee22e",
   "metadata": {},
   "source": [
    "# 시험 성적"
   ]
  },
  {
   "cell_type": "code",
   "execution_count": 95,
   "id": "e577bcd6",
   "metadata": {},
   "outputs": [
    {
     "name": "stdout",
     "output_type": "stream",
     "text": [
      "85\n",
      "B\n"
     ]
    }
   ],
   "source": [
    "test_score = int(input())\n",
    "\n",
    "if test_score >= 90:\n",
    "    print('A')\n",
    "elif test_score >= 80:\n",
    "    print('B')\n",
    "elif test_score >= 70:\n",
    "    print('C')\n",
    "elif test_score >= 60:\n",
    "    print('D')\n",
    "else:\n",
    "    print('F')"
   ]
  },
  {
   "cell_type": "markdown",
   "id": "c729962b",
   "metadata": {},
   "source": [
    "# 구구단"
   ]
  },
  {
   "cell_type": "code",
   "execution_count": 97,
   "id": "fab0b8f7",
   "metadata": {},
   "outputs": [
    {
     "name": "stdout",
     "output_type": "stream",
     "text": [
      "2\n"
     ]
    }
   ],
   "source": [
    "N = int(input())\n",
    "\n",
    "for i in range(1,10):\n",
    "    print(f'{N} * {i} = {N*i}')"
   ]
  },
  {
   "cell_type": "markdown",
   "id": "db21ee79",
   "metadata": {},
   "source": [
    "# 최소, 최대"
   ]
  },
  {
   "cell_type": "code",
   "execution_count": 103,
   "id": "f47efad2",
   "metadata": {},
   "outputs": [
    {
     "name": "stdout",
     "output_type": "stream",
     "text": [
      "5\n",
      "20 10 35 30 7\n"
     ]
    }
   ],
   "source": [
    "N = int(input())\n",
    "\n",
    "inputs = list(map(int, input().split()))\n",
    "\n",
    "print(min(inputs), max(inputs))"
   ]
  },
  {
   "cell_type": "markdown",
   "id": "b3809921",
   "metadata": {},
   "source": [
    "# OX 퀴즈"
   ]
  },
  {
   "cell_type": "code",
   "execution_count": 117,
   "id": "08014194",
   "metadata": {},
   "outputs": [
    {
     "name": "stdout",
     "output_type": "stream",
     "text": [
      "5\n",
      "OOXXOOXXOO\n"
     ]
    }
   ],
   "source": [
    "N = int(input())\n",
    "\n",
    "string = input()"
   ]
  },
  {
   "cell_type": "code",
   "execution_count": 120,
   "id": "69f4a3f3",
   "metadata": {
    "collapsed": true
   },
   "outputs": [
    {
     "name": "stdout",
     "output_type": "stream",
     "text": [
      "5\n",
      "5\n",
      "OOXXOOXXOO\n",
      "O\n",
      "O\n",
      "X\n",
      "X\n",
      "O\n",
      "O\n",
      "X\n",
      "X\n",
      "O\n",
      "O\n"
     ]
    },
    {
     "ename": "KeyboardInterrupt",
     "evalue": "Interrupted by user",
     "output_type": "error",
     "traceback": [
      "\u001b[0;31m-------------------------------------------------------------------------\u001b[0m",
      "\u001b[0;31mKeyboardInterrupt\u001b[0m                       Traceback (most recent call last)",
      "\u001b[0;32m<ipython-input-120-aad1e0f83bee>\u001b[0m in \u001b[0;36m<module>\u001b[0;34m\u001b[0m\n\u001b[1;32m      3\u001b[0m     \u001b[0mtotal\u001b[0m \u001b[0;34m=\u001b[0m \u001b[0;36m0\u001b[0m\u001b[0;34m\u001b[0m\u001b[0;34m\u001b[0m\u001b[0m\n\u001b[1;32m      4\u001b[0m     \u001b[0mcorrect\u001b[0m \u001b[0;34m=\u001b[0m \u001b[0;36m0\u001b[0m\u001b[0;34m\u001b[0m\u001b[0;34m\u001b[0m\u001b[0m\n\u001b[0;32m----> 5\u001b[0;31m     \u001b[0mstring\u001b[0m \u001b[0;34m=\u001b[0m \u001b[0minput\u001b[0m\u001b[0;34m(\u001b[0m\u001b[0;34m)\u001b[0m\u001b[0;34m\u001b[0m\u001b[0;34m\u001b[0m\u001b[0m\n\u001b[0m\u001b[1;32m      6\u001b[0m     \u001b[0;32mfor\u001b[0m \u001b[0ms\u001b[0m \u001b[0;32min\u001b[0m \u001b[0mstring\u001b[0m\u001b[0;34m:\u001b[0m\u001b[0;34m\u001b[0m\u001b[0;34m\u001b[0m\u001b[0m\n\u001b[1;32m      7\u001b[0m         \u001b[0mprint\u001b[0m\u001b[0;34m(\u001b[0m\u001b[0ms\u001b[0m\u001b[0;34m)\u001b[0m\u001b[0;34m\u001b[0m\u001b[0;34m\u001b[0m\u001b[0m\n",
      "\u001b[0;32m/usr/local/lib/python3.6/dist-packages/ipykernel/kernelbase.py\u001b[0m in \u001b[0;36mraw_input\u001b[0;34m(self, prompt)\u001b[0m\n\u001b[1;32m    849\u001b[0m             \u001b[0mself\u001b[0m\u001b[0;34m.\u001b[0m\u001b[0m_parent_ident\u001b[0m\u001b[0;34m,\u001b[0m\u001b[0;34m\u001b[0m\u001b[0;34m\u001b[0m\u001b[0m\n\u001b[1;32m    850\u001b[0m             \u001b[0mself\u001b[0m\u001b[0;34m.\u001b[0m\u001b[0m_parent_header\u001b[0m\u001b[0;34m,\u001b[0m\u001b[0;34m\u001b[0m\u001b[0;34m\u001b[0m\u001b[0m\n\u001b[0;32m--> 851\u001b[0;31m             \u001b[0mpassword\u001b[0m\u001b[0;34m=\u001b[0m\u001b[0;32mFalse\u001b[0m\u001b[0;34m,\u001b[0m\u001b[0;34m\u001b[0m\u001b[0;34m\u001b[0m\u001b[0m\n\u001b[0m\u001b[1;32m    852\u001b[0m         )\n\u001b[1;32m    853\u001b[0m \u001b[0;34m\u001b[0m\u001b[0m\n",
      "\u001b[0;32m/usr/local/lib/python3.6/dist-packages/ipykernel/kernelbase.py\u001b[0m in \u001b[0;36m_input_request\u001b[0;34m(self, prompt, ident, parent, password)\u001b[0m\n\u001b[1;32m    890\u001b[0m             \u001b[0;32mexcept\u001b[0m \u001b[0mKeyboardInterrupt\u001b[0m\u001b[0;34m:\u001b[0m\u001b[0;34m\u001b[0m\u001b[0;34m\u001b[0m\u001b[0m\n\u001b[1;32m    891\u001b[0m                 \u001b[0;31m# re-raise KeyboardInterrupt, to truncate traceback\u001b[0m\u001b[0;34m\u001b[0m\u001b[0;34m\u001b[0m\u001b[0;34m\u001b[0m\u001b[0m\n\u001b[0;32m--> 892\u001b[0;31m                 \u001b[0;32mraise\u001b[0m \u001b[0mKeyboardInterrupt\u001b[0m\u001b[0;34m(\u001b[0m\u001b[0;34m\"Interrupted by user\"\u001b[0m\u001b[0;34m)\u001b[0m \u001b[0;32mfrom\u001b[0m \u001b[0;32mNone\u001b[0m\u001b[0;34m\u001b[0m\u001b[0;34m\u001b[0m\u001b[0m\n\u001b[0m\u001b[1;32m    893\u001b[0m             \u001b[0;32mexcept\u001b[0m \u001b[0mException\u001b[0m \u001b[0;32mas\u001b[0m \u001b[0me\u001b[0m\u001b[0;34m:\u001b[0m\u001b[0;34m\u001b[0m\u001b[0;34m\u001b[0m\u001b[0m\n\u001b[1;32m    894\u001b[0m                 \u001b[0mself\u001b[0m\u001b[0;34m.\u001b[0m\u001b[0mlog\u001b[0m\u001b[0;34m.\u001b[0m\u001b[0mwarning\u001b[0m\u001b[0;34m(\u001b[0m\u001b[0;34m\"Invalid Message:\"\u001b[0m\u001b[0;34m,\u001b[0m \u001b[0mexc_info\u001b[0m\u001b[0;34m=\u001b[0m\u001b[0;32mTrue\u001b[0m\u001b[0;34m)\u001b[0m\u001b[0;34m\u001b[0m\u001b[0;34m\u001b[0m\u001b[0m\n",
      "\u001b[0;31mKeyboardInterrupt\u001b[0m: Interrupted by user"
     ]
    }
   ],
   "source": [
    "N = int(input())\n",
    "\n",
    "for _ in range(N):\n",
    "    total = 0\n",
    "    correct = 0\n",
    "    string = input()\n",
    "    for s in string:\n",
    "        if s == 'O':\n",
    "            correct += 1\n",
    "            total += correct\n",
    "        else:\n",
    "            correct = 0\n",
    "        \n",
    "    print(total)"
   ]
  },
  {
   "cell_type": "markdown",
   "id": "c1999e82",
   "metadata": {},
   "source": [
    "# 10809. 알파벳 찾기"
   ]
  },
  {
   "cell_type": "code",
   "execution_count": 139,
   "id": "c4f03e0f",
   "metadata": {},
   "outputs": [],
   "source": [
    "import string\n",
    "alphabets = string.ascii_lowercase\n",
    "\n",
    "word = input()\n",
    "answer = [0] * len(alphabets)\n",
    "\n",
    "for idx, alpha in enumerate(alphabets):\n",
    "    if alpha in word:\n",
    "        answer[idx] = str(word.index(alpha))\n",
    "    else:\n",
    "        answer[idx] = str(-1)\n",
    "        \n",
    "print(' '.join(answer))"
   ]
  },
  {
   "cell_type": "markdown",
   "id": "46987485",
   "metadata": {},
   "source": [
    "# 10998. A x B"
   ]
  },
  {
   "cell_type": "code",
   "execution_count": 146,
   "id": "12417a7d",
   "metadata": {},
   "outputs": [
    {
     "name": "stdout",
     "output_type": "stream",
     "text": [
      "3 4\n",
      "12\n"
     ]
    }
   ],
   "source": [
    "A, B = map(int, input().split())\n",
    "print(A * B)"
   ]
  },
  {
   "cell_type": "markdown",
   "id": "36ff36e5",
   "metadata": {},
   "source": [
    "# 11720. 숫자의 합"
   ]
  },
  {
   "cell_type": "code",
   "execution_count": 154,
   "id": "ed9b025a",
   "metadata": {},
   "outputs": [
    {
     "name": "stdout",
     "output_type": "stream",
     "text": [
      "5\n",
      "54321\n",
      "15\n"
     ]
    }
   ],
   "source": [
    "N = input()\n",
    "numbers = list(map(int, list(input())))\n",
    "print(sum(numbers))"
   ]
  },
  {
   "cell_type": "markdown",
   "id": "1df5d70c",
   "metadata": {},
   "source": [
    "# 2475. 검증수"
   ]
  },
  {
   "cell_type": "code",
   "execution_count": 168,
   "id": "25b05243",
   "metadata": {},
   "outputs": [
    {
     "name": "stdout",
     "output_type": "stream",
     "text": [
      "0 4 2 5 6\n"
     ]
    }
   ],
   "source": [
    "numbers = map(int, input().split())\n",
    "print(sum(list(map(lambda x: x**2, numbers))) % 10)"
   ]
  },
  {
   "cell_type": "markdown",
   "id": "66fbf6b4",
   "metadata": {},
   "source": [
    "# 10951. A+B-4"
   ]
  },
  {
   "cell_type": "code",
   "execution_count": 173,
   "id": "b5c7aa17",
   "metadata": {},
   "outputs": [
    {
     "name": "stdout",
     "output_type": "stream",
     "text": [
      "9 8\n",
      "17\n"
     ]
    }
   ],
   "source": [
    "A, B = map(int, input().split())\n",
    "print(A+B)"
   ]
  },
  {
   "cell_type": "markdown",
   "id": "e6f157b3",
   "metadata": {},
   "source": [
    "# 10869. 사칙연산"
   ]
  },
  {
   "cell_type": "code",
   "execution_count": 176,
   "id": "582d7ab0",
   "metadata": {},
   "outputs": [
    {
     "name": "stdout",
     "output_type": "stream",
     "text": [
      "7 3\n",
      "10\n",
      "4\n",
      "21\n",
      "2\n",
      "1\n"
     ]
    }
   ],
   "source": [
    "A, B = map(int, input().split())\n",
    "print(A+B)\n",
    "print(A-B)\n",
    "print(A*B)\n",
    "print(A//B)\n",
    "print(A%B)"
   ]
  },
  {
   "cell_type": "markdown",
   "id": "1a03b8f6",
   "metadata": {},
   "source": [
    "# 3052. 나머지"
   ]
  },
  {
   "cell_type": "code",
   "execution_count": 179,
   "id": "6f154cc3",
   "metadata": {},
   "outputs": [
    {
     "name": "stdout",
     "output_type": "stream",
     "text": [
      "42\n",
      "84\n",
      "252\n",
      "420\n",
      "840\n",
      "126\n",
      "42\n",
      "84\n",
      "420\n",
      "126\n",
      "1\n"
     ]
    }
   ],
   "source": [
    "answer = []\n",
    "for _ in range(10):\n",
    "    integer = int(input()) % 42\n",
    "    if integer not in answer:\n",
    "        answer.append(integer)\n",
    "print(len(answer))"
   ]
  },
  {
   "cell_type": "code",
   "execution_count": null,
   "id": "06b3c8a4",
   "metadata": {},
   "outputs": [],
   "source": [
    "# better answer\n",
    "b = [int(input())%42 for i in range(10)]\n",
    "print(len(set(b)))"
   ]
  },
  {
   "cell_type": "markdown",
   "id": "52539e09",
   "metadata": {},
   "source": [
    "# 알람 시계"
   ]
  },
  {
   "cell_type": "code",
   "execution_count": 189,
   "id": "1003026c",
   "metadata": {},
   "outputs": [
    {
     "name": "stdout",
     "output_type": "stream",
     "text": [
      "0 30\n"
     ]
    }
   ],
   "source": [
    "H, M = map(int, input().split())"
   ]
  },
  {
   "cell_type": "code",
   "execution_count": null,
   "id": "85d1352a",
   "metadata": {},
   "outputs": [],
   "source": [
    "H, M = map(int, input().split())\n",
    "\n",
    "time = H * 60 + M - 45\n",
    "\n",
    "H, M = time // 60 % 24, time % 60\n",
    "    \n",
    "print(H, M)"
   ]
  },
  {
   "cell_type": "markdown",
   "id": "343c237c",
   "metadata": {},
   "source": [
    "# 2438. 별 찍기 - 1"
   ]
  },
  {
   "cell_type": "code",
   "execution_count": 213,
   "id": "a6bc93eb",
   "metadata": {},
   "outputs": [
    {
     "name": "stdout",
     "output_type": "stream",
     "text": [
      "5\n",
      "*\n",
      "**\n",
      "***\n",
      "****\n",
      "*****\n"
     ]
    }
   ],
   "source": [
    "N = int(input())\n",
    "for i in range(N):\n",
    "    print('*'*(i+1))"
   ]
  },
  {
   "cell_type": "code",
   "execution_count": null,
   "id": "6d66cb6e",
   "metadata": {},
   "outputs": [],
   "source": [
    "# 우아한 답\n",
    "for i in range(1,int(input())+1): print('*'*i)"
   ]
  },
  {
   "cell_type": "markdown",
   "id": "f304e23e",
   "metadata": {},
   "source": [
    "# 2438. 별 찍기 - 2"
   ]
  },
  {
   "cell_type": "code",
   "execution_count": 216,
   "id": "9499d04b",
   "metadata": {},
   "outputs": [
    {
     "name": "stdout",
     "output_type": "stream",
     "text": [
      "5\n",
      "    *\n",
      "   **\n",
      "  ***\n",
      " ****\n",
      "*****\n"
     ]
    }
   ],
   "source": [
    "N = int(input())\n",
    "for i in range(1, N+1):\n",
    "    print(' '*(N-i)+'*'*(i))"
   ]
  },
  {
   "cell_type": "markdown",
   "id": "2a1c7a61",
   "metadata": {},
   "source": [
    "# 10871. X보다 작은 수"
   ]
  },
  {
   "cell_type": "code",
   "execution_count": 217,
   "id": "f8f0e605",
   "metadata": {},
   "outputs": [
    {
     "name": "stdout",
     "output_type": "stream",
     "text": [
      "10 5\n"
     ]
    }
   ],
   "source": [
    "N, X = map(int, input().split())\n",
    "seq = [str(i) for i in list(map(int, input().split())) if i < X]\n",
    "print(' '.join(seq))"
   ]
  }
 ],
 "metadata": {
  "kernelspec": {
   "display_name": "Python 3",
   "language": "python",
   "name": "python3"
  },
  "language_info": {
   "codemirror_mode": {
    "name": "ipython",
    "version": 3
   },
   "file_extension": ".py",
   "mimetype": "text/x-python",
   "name": "python",
   "nbconvert_exporter": "python",
   "pygments_lexer": "ipython3",
   "version": "3.6.9"
  }
 },
 "nbformat": 4,
 "nbformat_minor": 5
}
