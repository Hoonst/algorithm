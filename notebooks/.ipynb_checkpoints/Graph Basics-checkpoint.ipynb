{
 "cells": [
  {
   "cell_type": "markdown",
   "id": "0d979bbe",
   "metadata": {},
   "source": [
    "# 1260. DFS와 BFS"
   ]
  },
  {
   "cell_type": "markdown",
   "id": "68dfe6b3",
   "metadata": {},
   "source": [
    "### Why DFS == Stack or recursive:  \n",
    "DFS는 노드에 도착했을 때, 바로 인접한 노드를 연쇄적으로 파고들어야 한다.  \n",
    "즉, 해야할 일이 바로바로 등장하기 때문에 큰 그림을 보고 결정하는 것이 아니라 Greedy Algorithm 처럼 눈 앞에 직면한 문제만을 해결한다는 것이다. \n",
    "\n",
    "Why BFS == Queue:  \n",
    "반면, BFS는 큰 그림을 그리는 알고리즘으로서 아무리 해야할 일이 등장한다고 해도, 지금 검토해야 하는 노드가 쌓여있다면, 그것들을 먼저 처리한다.  \n",
    "즉, 이중 약속을 잡지 않는 사람이라고 할 수 있으며, 해야할 일을 논리적으로 정리하는 사람이라고 느낄 수 있다.  \n",
    "\n",
    "DFS: 마구잡이, 무계획성이 있는 Disgusting Man (쟤는 자기 시간만 귀하다 -> 재귀)\n",
    "BFS: 자신의 계획을 잘 지키는 Best Man  \n",
    "으로 기억하고 싶다.  "
   ]
  },
  {
   "cell_type": "markdown",
   "id": "283b455e",
   "metadata": {},
   "source": [
    "graph와 visited는 거들뿐"
   ]
  },
  {
   "cell_type": "code",
   "execution_count": null,
   "id": "aaa15a13",
   "metadata": {},
   "outputs": [],
   "source": [
    "N, M, V = map(int, input().split())\n",
    "\n",
    "graph = [[0] * (N+1) for _ in range(N+1)]\n",
    "\n",
    "for _ in range(M):\n",
    "    a,b = map(int, input().split())\n",
    "    graph[a][b] = graph[b][a] = 1"
   ]
  },
  {
   "cell_type": "code",
   "execution_count": 121,
   "id": "c75adcf0",
   "metadata": {},
   "outputs": [],
   "source": [
    "dfs_answer = []\n",
    "visited = [0] * (N+1)\n",
    "def dfs(V, N):\n",
    "    dfs_answer.append(V)\n",
    "    visited[V] = 1\n",
    "    for i in range(1, len(graph[V])):\n",
    "        if graph[V][i] and not visited[i]:\n",
    "            dfs(i, N)"
   ]
  },
  {
   "cell_type": "code",
   "execution_count": 3,
   "id": "1ea37c9c",
   "metadata": {},
   "outputs": [
    {
     "name": "stdout",
     "output_type": "stream",
     "text": [
      "4 5 1\n",
      "1 2\n",
      "1 3\n",
      "1 4\n",
      "2 4\n",
      "3 4\n",
      "1 2 4 3\n",
      "1 2 3 4\n"
     ]
    }
   ],
   "source": [
    "N, M, V = map(int, input().split())\n",
    "\n",
    "graph = [[0] * (N+1) for _ in range(N+1)]\n",
    "\n",
    "for _ in range(M):\n",
    "    a,b = map(int, input().split())\n",
    "    graph[a][b] = graph[b][a] = 1\n",
    "\n",
    "from collections import deque\n",
    "\n",
    "dfs_answer = []\n",
    "visited = [0] * (N+1)\n",
    "\n",
    "def dfs(V, N):\n",
    "    dfs_answer.append(V)\n",
    "    visited[V] = 1\n",
    "    for i in range(1, len(graph[V])):\n",
    "        if graph[V][i] and not visited[i]:\n",
    "            dfs(i, N)\n",
    "    \n",
    "def bfs(v, N):\n",
    "    visited = [0] * (N+1)\n",
    "    queue = deque()\n",
    "    queue.append(v)\n",
    "    answer = [v]\n",
    "    visited[v] = 1\n",
    "    \n",
    "    while queue:\n",
    "        node = queue.popleft()\n",
    "        \n",
    "        for i in range(1, N+1):\n",
    "            if graph[node][i] == 1 and visited[i] == 0:\n",
    "                queue.append(i)\n",
    "                visited[i] = 1\n",
    "                answer.append(i)\n",
    "                \n",
    "    print(' '.join(map(str,answer)))\n",
    "    \n",
    "dfs(V, N)\n",
    "print(' '.join(map(str, dfs_answer)))\n",
    "bfs(V, N)"
   ]
  },
  {
   "cell_type": "code",
   "execution_count": 172,
   "id": "2d4505b1",
   "metadata": {},
   "outputs": [],
   "source": [
    "def bfs(v, N):\n",
    "    visited = [0] * (N+1)\n",
    "    queue = deque()\n",
    "    queue.append(v)\n",
    "    answer = [v]\n",
    "    visited[v] = 1\n",
    "    \n",
    "    while queue:\n",
    "        node = queue.popleft()\n",
    "        \n",
    "        for i in range(1, N+1):\n",
    "            if graph[node][i] == 1 and visited[i] == 0:\n",
    "                queue.append(i)\n",
    "                visited.append(i)\n",
    "                answer.append(i)\n",
    "                \n",
    "    print(answer)"
   ]
  },
  {
   "cell_type": "markdown",
   "id": "b20a0b7f",
   "metadata": {},
   "source": [
    "# 1303 전쟁 - 전투"
   ]
  },
  {
   "cell_type": "markdown",
   "id": "582b82b2",
   "metadata": {},
   "source": [
    "https://ywtechit.tistory.com/74"
   ]
  },
  {
   "cell_type": "markdown",
   "id": "48165e11",
   "metadata": {},
   "source": [
    "하나의 노드에 인접해있는 노드에 대해서 모두 불을 키는 함수를 만들면 되는 것이다.  \n",
    "그것을 BFS 방식으로 진행"
   ]
  },
  {
   "cell_type": "code",
   "execution_count": 66,
   "id": "b4d9af28",
   "metadata": {},
   "outputs": [],
   "source": [
    "from collections import deque"
   ]
  },
  {
   "cell_type": "code",
   "execution_count": null,
   "id": "45310d17",
   "metadata": {},
   "outputs": [],
   "source": [
    "n,m = 5,5\n",
    "graph = [['W','B','W','W','W'],\n",
    "['W','W','W','W','W'],\n",
    "['B','B','B','B','B'],\n",
    "['B','B','B','W','W'],\n",
    "['W','W','W','W','W']]\n",
    "\n",
    "dx = [1, 0, -1, 0]\n",
    "dy = [0, 1, 0, -1]\n",
    "# n, m = map(int, input().split())\n",
    "# graph = [list(input()) for _ in range(m)]\n",
    "visited = [[False] * n for i in range(m)]"
   ]
  },
  {
   "cell_type": "code",
   "execution_count": null,
   "id": "58c5a9c1",
   "metadata": {},
   "outputs": [],
   "source": [
    "import sys\n",
    "from collections import deque\n",
    "\n",
    " \n",
    "dx = [1, 0, -1, 0]\n",
    "dy = [0, 1, 0, -1]\n",
    "n, m = map(int, input().split())\n",
    "graph = [list(input()) for _ in range(m)]\n",
    "visited = [[False] * n for i in range(m)]\n",
    "\n",
    "def bfs(x, y, color):\n",
    "    cnt = 0\n",
    "    queue = deque()\n",
    "    queue.append((x, y))\n",
    "    visited[x][y] = True\n",
    " \n",
    "    while queue:\n",
    "        x, y = queue.popleft()\n",
    " \n",
    "        for i in range(4):\n",
    "            nx = x + dx[i]\n",
    "            ny = y + dy[i]\n",
    " \n",
    "            if 0 <= nx < m and 0 <= ny < n:\n",
    "                if graph[nx][ny] == color and not visited[nx][ny]:    # each color check\n",
    "                    visited[nx][ny] = True\n",
    "                    queue.append((nx, ny))\n",
    "                    cnt += 1    # each color count\n",
    " \n",
    "    return cnt + 1\n",
    "\n",
    " \n",
    "white, blue = 0, 0\n",
    "for i in range(m):\n",
    "    for j in range(n):\n",
    "        if graph[i][j] == 'W' and not visited[i][j]:\n",
    "            white += bfs(i, j, 'W') ** 2    # count accumulate\n",
    "        elif graph[i][j] == 'B' and not visited[i][j] :\n",
    "            blue += bfs(i, j, 'B') ** 2    # count accumulate\n",
    " \n",
    "print(white, blue)"
   ]
  },
  {
   "cell_type": "code",
   "execution_count": 3,
   "id": "bb085cbf",
   "metadata": {},
   "outputs": [
    {
     "name": "stdout",
     "output_type": "stream",
     "text": [
      "5 5\n",
      "WBWWW\n",
      "WWWWW\n",
      "BBBBB\n",
      "BBBWW\n",
      "WWWWW\n",
      "130 65\n"
     ]
    }
   ],
   "source": [
    "from collections import deque\n",
    "import sys\n",
    "\n",
    "def bfs(x, y, color):\n",
    "    queue = deque()\n",
    "    queue.append((x,y))\n",
    "    visited[x][y] = True\n",
    "    \n",
    "    total = 1\n",
    "    while queue:\n",
    "        x,y = queue.popleft()\n",
    "        for index in range(4):\n",
    "            x_axis = x + dx[index]\n",
    "            y_axis = y + dy[index]\n",
    "            if 0 <= x_axis < m and 0 <= y_axis < n:\n",
    "                if graph[x_axis][y_axis] == color and not visited[x_axis][y_axis]:\n",
    "                    visited[x_axis][y_axis] = True\n",
    "                    queue.append((x_axis,y_axis))\n",
    "                    total += 1\n",
    "    return total\n",
    "\n",
    "n, m = map(int, input().split())\n",
    "graph = [list(input()) for _ in range(m)]\n",
    "visited = [[False] * n for _ in range(m)]\n",
    "\n",
    "dx = [1, 0, -1, 0]\n",
    "dy = [0, 1, 0, -1]\n",
    "\n",
    "white, blue = 0,0\n",
    "for i in range(m):\n",
    "    for j in range(n):\n",
    "        if graph[i][j] == 'W' and not visited[i][j]:\n",
    "            white += bfs(i,j,'W')**2\n",
    "            \n",
    "        elif graph[i][j] == 'B' and not visited[i][j]:\n",
    "            blue += bfs(i,j,'B')**2\n",
    "            \n",
    "print(white, blue)"
   ]
  },
  {
   "cell_type": "markdown",
   "id": "5d01f3cd",
   "metadata": {},
   "source": [
    "# 2667: 단지 번호 붙이기"
   ]
  },
  {
   "cell_type": "markdown",
   "id": "c57503f9",
   "metadata": {},
   "source": [
    "문제\n",
    "\n",
    "<그림 1>과 같이 정사각형 모양의 지도가 있다. 1은 집이 있는 곳을, 0은 집이 없는 곳을 나타낸다. 철수는 이 지도를 가지고 연결된 집의 모임인 단지를 정의하고, 단지에 번호를 붙이려 한다. 여기서 연결되었다는 것은 어떤 집이 좌우, 혹은 아래위로 다른 집이 있는 경우를 말한다. 대각선상에 집이 있는 경우는 연결된 것이 아니다. \n",
    "\n",
    "<그림 2>는 <그림 1>을 단지별로 번호를 붙인 것이다. 지도를 입력하여 단지수를 출력하고, 각 단지에 속하는 집의 수를 오름차순으로 정렬하여 출력하는 프로그램을 작성하시오."
   ]
  },
  {
   "cell_type": "code",
   "execution_count": 20,
   "id": "ca7453d0",
   "metadata": {},
   "outputs": [
    {
     "name": "stdout",
     "output_type": "stream",
     "text": [
      "7\n",
      "0110100\n",
      "[['0', '1', '1', '0', '1', '0', '0'], [0, 0, 0, 0, 0, 0, 0], [0, 0, 0, 0, 0, 0, 0], [0, 0, 0, 0, 0, 0, 0], [0, 0, 0, 0, 0, 0, 0], [0, 0, 0, 0, 0, 0, 0], [0, 0, 0, 0, 0, 0, 0]]\n",
      "0110101\n",
      "[['0', '1', '1', '0', '1', '0', '0'], ['0', '1', '1', '0', '1', '0', '1'], [0, 0, 0, 0, 0, 0, 0], [0, 0, 0, 0, 0, 0, 0], [0, 0, 0, 0, 0, 0, 0], [0, 0, 0, 0, 0, 0, 0], [0, 0, 0, 0, 0, 0, 0]]\n",
      "1110101\n",
      "[['0', '1', '1', '0', '1', '0', '0'], ['0', '1', '1', '0', '1', '0', '1'], ['1', '1', '1', '0', '1', '0', '1'], [0, 0, 0, 0, 0, 0, 0], [0, 0, 0, 0, 0, 0, 0], [0, 0, 0, 0, 0, 0, 0], [0, 0, 0, 0, 0, 0, 0]]\n",
      "0000111\n",
      "[['0', '1', '1', '0', '1', '0', '0'], ['0', '1', '1', '0', '1', '0', '1'], ['1', '1', '1', '0', '1', '0', '1'], ['0', '0', '0', '0', '1', '1', '1'], [0, 0, 0, 0, 0, 0, 0], [0, 0, 0, 0, 0, 0, 0], [0, 0, 0, 0, 0, 0, 0]]\n",
      "0100000\n",
      "[['0', '1', '1', '0', '1', '0', '0'], ['0', '1', '1', '0', '1', '0', '1'], ['1', '1', '1', '0', '1', '0', '1'], ['0', '0', '0', '0', '1', '1', '1'], ['0', '1', '0', '0', '0', '0', '0'], [0, 0, 0, 0, 0, 0, 0], [0, 0, 0, 0, 0, 0, 0]]\n",
      "0111110\n",
      "[['0', '1', '1', '0', '1', '0', '0'], ['0', '1', '1', '0', '1', '0', '1'], ['1', '1', '1', '0', '1', '0', '1'], ['0', '0', '0', '0', '1', '1', '1'], ['0', '1', '0', '0', '0', '0', '0'], ['0', '1', '1', '1', '1', '1', '0'], [0, 0, 0, 0, 0, 0, 0]]\n",
      "0111000\n",
      "[['0', '1', '1', '0', '1', '0', '0'], ['0', '1', '1', '0', '1', '0', '1'], ['1', '1', '1', '0', '1', '0', '1'], ['0', '0', '0', '0', '1', '1', '1'], ['0', '1', '0', '0', '0', '0', '0'], ['0', '1', '1', '1', '1', '1', '0'], ['0', '1', '1', '1', '0', '0', '0']]\n"
     ]
    }
   ],
   "source": [
    "from collections import deque\n",
    "\n",
    "N = int(input())\n",
    "\n",
    "graph = [[0] * (N) for _ in range(N)]\n",
    "visited = [[0] * (N) for _ in range(N)]\n",
    "for i in range(N):\n",
    "    graph[i] = list(input())"
   ]
  },
  {
   "cell_type": "code",
   "execution_count": 89,
   "id": "c321f329",
   "metadata": {},
   "outputs": [],
   "source": [
    "graph = [['0', '1', '1', '0', '1', '0', '0'],\n",
    "         ['0', '1', '1', '0', '1', '0', '1'],\n",
    "         ['1', '1', '1', '0', '1', '0', '1'],\n",
    "         ['0', '0', '0', '0', '1', '1', '1'],\n",
    "         ['0', '1', '0', '0', '0', '0', '0'],\n",
    "         ['0', '1', '1', '1', '1', '1', '0'],\n",
    "         ['0', '1', '1', '1', '0', '0', '0']]\n",
    "\n",
    "visited = [[0] * (N) for _ in range(N)]"
   ]
  },
  {
   "cell_type": "code",
   "execution_count": 90,
   "id": "d9549486",
   "metadata": {},
   "outputs": [],
   "source": [
    "blocks = []\n",
    "records = []"
   ]
  },
  {
   "cell_type": "code",
   "execution_count": 91,
   "id": "d17fdb1e",
   "metadata": {},
   "outputs": [],
   "source": [
    "def bfs(idx_i, idx_j):\n",
    "    dx = [1,0,-1,0]\n",
    "    dy = [0,1,0,-1]\n",
    "    answer = 1\n",
    "    queue = deque()\n",
    "    queue.append((idx_i, idx_j))\n",
    "    visited[idx_i][idx_j] = 1\n",
    "    records.append((idx_i, idx_j))\n",
    "    while queue:\n",
    "        print(queue) \n",
    "\n",
    "        target = queue.popleft()\n",
    "        for i in range(4):\n",
    "            moved_x = target[0] + dx[i]\n",
    "            moved_y = target[1] + dy[i]\n",
    "            if 0 <= moved_x < N and 0 <= moved_y < N:\n",
    "                if graph[moved_x][moved_y] == '1' and not visited[moved_x][moved_y]:\n",
    "                    # 1. answer 더하기\n",
    "                    # 2. visited에 기록\n",
    "                    # 3. queue에 기록\n",
    "                    answer += 1\n",
    "                    visited[moved_x][moved_y] = 1\n",
    "                    queue.append((moved_x, moved_y))\n",
    "                    records.append((moved_x, moved_y))\n",
    "\n",
    "    return answer"
   ]
  },
  {
   "cell_type": "code",
   "execution_count": 95,
   "id": "8fc087bf",
   "metadata": {},
   "outputs": [
    {
     "name": "stdout",
     "output_type": "stream",
     "text": [
      "3\n",
      "7\n",
      "8\n",
      "9\n"
     ]
    }
   ],
   "source": [
    "for i in range(N):\n",
    "    for j in range(N):\n",
    "        if graph[i][j] == '1' and not visited[i][j]:\n",
    "            blocks.append(bfs(i,j))\n",
    "            \n",
    "print(len(blocks))\n",
    "for b in blocks:\n",
    "    print(b)"
   ]
  },
  {
   "cell_type": "markdown",
   "id": "0805cce7",
   "metadata": {},
   "source": [
    "## Final Answer"
   ]
  },
  {
   "cell_type": "code",
   "execution_count": 96,
   "id": "404e4743",
   "metadata": {},
   "outputs": [
    {
     "name": "stdout",
     "output_type": "stream",
     "text": [
      "7\n",
      "0110100\n",
      "0110101\n",
      "1110101\n",
      "0000111\n",
      "0100000\n",
      "0111110\n",
      "0111000\n",
      "3\n",
      "7\n",
      "8\n",
      "9\n"
     ]
    }
   ],
   "source": [
    "from collections import deque\n",
    "\n",
    "N = int(input())\n",
    "\n",
    "graph = [[0] * (N) for _ in range(N)]\n",
    "visited = [[0] * (N) for _ in range(N)]\n",
    "for i in range(N):\n",
    "    graph[i] = list(input())\n",
    "    \n",
    "blocks = []\n",
    "\n",
    "def bfs(idx_i, idx_j):\n",
    "    dx = [1,0,-1,0]\n",
    "    dy = [0,1,0,-1]\n",
    "    answer = 1\n",
    "    queue = deque()\n",
    "    queue.append((idx_i, idx_j))\n",
    "    visited[idx_i][idx_j] = 1\n",
    "    while queue:\n",
    "        target = queue.popleft()\n",
    "        for i in range(4):\n",
    "            moved_x = target[0] + dx[i]\n",
    "            moved_y = target[1] + dy[i]\n",
    "            if 0 <= moved_x < N and 0 <= moved_y < N:\n",
    "                if graph[moved_x][moved_y] == '1' and not visited[moved_x][moved_y]:\n",
    "                    answer += 1\n",
    "                    visited[moved_x][moved_y] = 1\n",
    "                    queue.append((moved_x, moved_y))\n",
    "    return answer\n",
    "\n",
    "for i in range(N):\n",
    "    for j in range(N):\n",
    "        if graph[i][j] == '1' and not visited[i][j]:\n",
    "            blocks.append(bfs(i,j))\n",
    "            \n",
    "blocks = sorted(blocks)\n",
    "print(len(blocks))\n",
    "for b in blocks:\n",
    "    print(b)"
   ]
  },
  {
   "cell_type": "markdown",
   "id": "b5d0967a",
   "metadata": {},
   "source": [
    "# 7576: 토마토"
   ]
  },
  {
   "cell_type": "code",
   "execution_count": 101,
   "id": "cc4b3379",
   "metadata": {},
   "outputs": [
    {
     "name": "stdout",
     "output_type": "stream",
     "text": [
      "6 4\n"
     ]
    }
   ],
   "source": [
    "M, N = map(int, input().split())\n",
    "\n",
    "graph = [[0] * (M) for _ in range(N)]\n",
    "\n",
    "for i in range(N):\n",
    "    graph[i] = list(map(int, input().split(' ')))"
   ]
  },
  {
   "cell_type": "code",
   "execution_count": 236,
   "id": "dd262e3a",
   "metadata": {},
   "outputs": [],
   "source": [
    "graph = [[0] * (M) for _ in range(N)]\n",
    "\n",
    "graph[-1]= [0,0,0,0,0,1]"
   ]
  },
  {
   "cell_type": "code",
   "execution_count": 221,
   "id": "5f83ab0a",
   "metadata": {},
   "outputs": [
    {
     "name": "stdout",
     "output_type": "stream",
     "text": [
      "0 -1 0 0 0 0\n",
      "-1 0 0 0 0 0\n",
      "0 0 0 0 0 0\n",
      "0 0 0 0 0 1\n"
     ]
    }
   ],
   "source": [
    "graph = [[0] * (M) for _ in range(N)]\n",
    "\n",
    "for i in range(N):\n",
    "    graph[i] = list(map(int, input().split(' ')))"
   ]
  },
  {
   "cell_type": "code",
   "execution_count": 176,
   "id": "af36cad8",
   "metadata": {},
   "outputs": [],
   "source": [
    "day = 0\n",
    "while not all_one(graph):\n",
    "    for n in range(N):\n",
    "        for m in range(M):\n",
    "            if graph[n][m] == 1:\n",
    "                one_day_spread(n,m)\n",
    "    day+=1"
   ]
  },
  {
   "cell_type": "code",
   "execution_count": null,
   "id": "7c71ff78",
   "metadata": {},
   "outputs": [],
   "source": [
    "def one_day_spread(idx_y, idx_x):\n",
    "    dx = [1,0,-1,0]\n",
    "    dy = [0,1,0,-1]\n",
    "    \n",
    "    for i in range(4):\n",
    "        moved_x = idx_x + dx[i]\n",
    "        moved_y = idx_y + dy[i]\n",
    "        \n",
    "        if 0 <= moved_x < M and 0 <= moved_y < N:\n",
    "            if graph[moved_y][moved_x] == 0:\n",
    "                graph[moved_y][moved_x] = 1\n",
    "\n",
    "def check_valid(idx_y, idx_x):\n",
    "    dx = [1,0,-1,0]\n",
    "    dy = [0,1,0,-1]\n",
    "    queue = deque()\n",
    "    queue.append((idx_y, idx_x))\n",
    "    \n",
    "    while queue:\n",
    "        target = queue.popleft()\n",
    "        \n",
    "        for i in range(4):\n",
    "            moved_x = target[1] + dx[i]\n",
    "            moved_y = target[0] + dy[i]\n",
    "            \n",
    "            if 0 <= moved_x < M and 0 <= moved_y < N:\n",
    "                if graph[moved_y][moved_x] == 0:\n",
    "                    queue.append((moved_y, moved_x))\n",
    "                    graph[moved_y][moved_x] = 1\n",
    "                    \n",
    "    for row in graph:\n",
    "        for elem in row:\n",
    "            if elem == 0:\n",
    "                return -1  \n",
    "    \n",
    "    return True\n",
    "            \n",
    "def all_one(arrays):\n",
    "    for array in arrays:\n",
    "        for arr in array:\n",
    "            if arr == 0:\n",
    "                return False\n",
    "    return True"
   ]
  },
  {
   "cell_type": "code",
   "execution_count": null,
   "id": "d50911f0",
   "metadata": {
    "scrolled": true
   },
   "outputs": [],
   "source": [
    "check_valid(N-1, M-1)"
   ]
  },
  {
   "cell_type": "markdown",
   "id": "3ff7168e",
   "metadata": {},
   "source": [
    "## Final Answer"
   ]
  },
  {
   "cell_type": "markdown",
   "id": "54725ca9",
   "metadata": {},
   "source": [
    "1. 익은 토마토 위치를 먼저 찾고\n",
    "2. 그 다음에 쫙 퍼뜨려 나간다\n",
    "3. "
   ]
  },
  {
   "cell_type": "code",
   "execution_count": 257,
   "id": "4b7935e3",
   "metadata": {},
   "outputs": [
    {
     "name": "stdout",
     "output_type": "stream",
     "text": [
      "6 4\n",
      "1 -1 0 0 0 0\n",
      "0 -1 0 0 0 0\n",
      "0 0 0 0 -1 0\n",
      "0 0 0 0 -1 1\n",
      "2\n"
     ]
    }
   ],
   "source": [
    "from collections import deque\n",
    "import copy\n",
    "M, N = map(int, input().split())\n",
    "\n",
    "graph = [[0] * (M) for _ in range(N)]\n",
    "\n",
    "for i in range(N):\n",
    "    graph[i] = list(map(int, input().split(' ')))\n",
    "\n",
    "graph_copy = copy.deepcopy(graph)\n",
    "\n",
    "def one_day_spread(idx_y, idx_x):\n",
    "    dx = [1,0,-1,0]\n",
    "    dy = [0,1,0,-1]\n",
    "    \n",
    "    for i in range(4):\n",
    "        moved_x = idx_x + dx[i]\n",
    "        moved_y = idx_y + dy[i]\n",
    "        \n",
    "        if 0 <= moved_x < M and 0 <= moved_y < N:\n",
    "            if graph[moved_y][moved_x] == 0:\n",
    "                graph[moved_y][moved_x] = 1\n",
    "\n",
    "def check_valid(idx_y, idx_x):\n",
    "    dx = [1,0,-1,0]\n",
    "    dy = [0,1,0,-1]\n",
    "    queue = deque()\n",
    "    queue.append((idx_y, idx_x))\n",
    "    \n",
    "    while queue:\n",
    "        target = queue.popleft()\n",
    "        \n",
    "        for i in range(4):\n",
    "            moved_x = target[1] + dx[i]\n",
    "            moved_y = target[0] + dy[i]\n",
    "            \n",
    "            if 0 <= moved_x < M and 0 <= moved_y < N:\n",
    "                if graph_copy[moved_y][moved_x] == 0:\n",
    "                    queue.append((moved_y, moved_x))\n",
    "                    graph_copy[moved_y][moved_x] = 1\n",
    "                    \n",
    "    for row in graph_copy:\n",
    "        for elem in row:\n",
    "            if elem == 0:\n",
    "                return False\n",
    "    return day\n",
    "\n",
    "def all_one(arrays):\n",
    "    for array in arrays:\n",
    "        for arr in array:\n",
    "            if arr == 0:\n",
    "                return False\n",
    "    return True\n",
    "            \n",
    "for n in range(N):\n",
    "    for m in range(M):\n",
    "        if graph[n][m] == 1: \n",
    "            validity = check_valid(n,m)\n",
    "\n",
    "day = 0\n",
    "\n",
    "if validity:\n",
    "    while not all_one(graph):\n",
    "        for n in range(N):\n",
    "            for m in range(M):\n",
    "                if graph[n][m] == 1:\n",
    "                    one_day_spread(n,m)\n",
    "        day+=1\n",
    "    print(day)\n",
    "else:\n",
    "    print(validity)"
   ]
  },
  {
   "cell_type": "code",
   "execution_count": 285,
   "id": "fd935380",
   "metadata": {},
   "outputs": [],
   "source": [
    "graph = [[0] * (M) for _ in range(N)]\n",
    "graph[0] = [1,-1,0,0,0,0]\n",
    "graph[1] = [0,-1,0,0,0,0]\n",
    "graph[2] = [0,0,0,0,-1,0]\n",
    "graph[3] = [0,0,0,0,-1,1]"
   ]
  },
  {
   "cell_type": "code",
   "execution_count": 290,
   "id": "846916b2",
   "metadata": {},
   "outputs": [
    {
     "ename": "KeyboardInterrupt",
     "evalue": "Interrupted by user",
     "output_type": "error",
     "traceback": [
      "\u001b[0;31m-------------------------------------------------------------------------\u001b[0m",
      "\u001b[0;31mKeyboardInterrupt\u001b[0m                       Traceback (most recent call last)",
      "\u001b[0;32m<ipython-input-290-4619131cb49b>\u001b[0m in \u001b[0;36m<module>\u001b[0;34m\u001b[0m\n\u001b[1;32m      1\u001b[0m \u001b[0;32mfrom\u001b[0m \u001b[0mcollections\u001b[0m \u001b[0;32mimport\u001b[0m \u001b[0mdeque\u001b[0m\u001b[0;34m\u001b[0m\u001b[0;34m\u001b[0m\u001b[0m\n\u001b[0;32m----> 2\u001b[0;31m \u001b[0mM\u001b[0m\u001b[0;34m,\u001b[0m \u001b[0mN\u001b[0m \u001b[0;34m=\u001b[0m \u001b[0mmap\u001b[0m\u001b[0;34m(\u001b[0m\u001b[0mint\u001b[0m\u001b[0;34m,\u001b[0m \u001b[0minput\u001b[0m\u001b[0;34m(\u001b[0m\u001b[0;34m)\u001b[0m\u001b[0;34m.\u001b[0m\u001b[0msplit\u001b[0m\u001b[0;34m(\u001b[0m\u001b[0;34m)\u001b[0m\u001b[0;34m)\u001b[0m\u001b[0;34m\u001b[0m\u001b[0;34m\u001b[0m\u001b[0m\n\u001b[0m\u001b[1;32m      3\u001b[0m \u001b[0;34m\u001b[0m\u001b[0m\n\u001b[1;32m      4\u001b[0m \u001b[0mgraph\u001b[0m \u001b[0;34m=\u001b[0m \u001b[0;34m[\u001b[0m\u001b[0;34m[\u001b[0m\u001b[0;36m0\u001b[0m\u001b[0;34m]\u001b[0m \u001b[0;34m*\u001b[0m \u001b[0;34m(\u001b[0m\u001b[0mM\u001b[0m\u001b[0;34m)\u001b[0m \u001b[0;32mfor\u001b[0m \u001b[0m_\u001b[0m \u001b[0;32min\u001b[0m \u001b[0mrange\u001b[0m\u001b[0;34m(\u001b[0m\u001b[0mN\u001b[0m\u001b[0;34m)\u001b[0m\u001b[0;34m]\u001b[0m\u001b[0;34m\u001b[0m\u001b[0;34m\u001b[0m\u001b[0m\n\u001b[1;32m      5\u001b[0m \u001b[0;34m\u001b[0m\u001b[0m\n",
      "\u001b[0;32m/usr/local/lib/python3.6/dist-packages/ipykernel/kernelbase.py\u001b[0m in \u001b[0;36mraw_input\u001b[0;34m(self, prompt)\u001b[0m\n\u001b[1;32m    849\u001b[0m             \u001b[0mself\u001b[0m\u001b[0;34m.\u001b[0m\u001b[0m_parent_ident\u001b[0m\u001b[0;34m,\u001b[0m\u001b[0;34m\u001b[0m\u001b[0;34m\u001b[0m\u001b[0m\n\u001b[1;32m    850\u001b[0m             \u001b[0mself\u001b[0m\u001b[0;34m.\u001b[0m\u001b[0m_parent_header\u001b[0m\u001b[0;34m,\u001b[0m\u001b[0;34m\u001b[0m\u001b[0;34m\u001b[0m\u001b[0m\n\u001b[0;32m--> 851\u001b[0;31m             \u001b[0mpassword\u001b[0m\u001b[0;34m=\u001b[0m\u001b[0;32mFalse\u001b[0m\u001b[0;34m,\u001b[0m\u001b[0;34m\u001b[0m\u001b[0;34m\u001b[0m\u001b[0m\n\u001b[0m\u001b[1;32m    852\u001b[0m         )\n\u001b[1;32m    853\u001b[0m \u001b[0;34m\u001b[0m\u001b[0m\n",
      "\u001b[0;32m/usr/local/lib/python3.6/dist-packages/ipykernel/kernelbase.py\u001b[0m in \u001b[0;36m_input_request\u001b[0;34m(self, prompt, ident, parent, password)\u001b[0m\n\u001b[1;32m    890\u001b[0m             \u001b[0;32mexcept\u001b[0m \u001b[0mKeyboardInterrupt\u001b[0m\u001b[0;34m:\u001b[0m\u001b[0;34m\u001b[0m\u001b[0;34m\u001b[0m\u001b[0m\n\u001b[1;32m    891\u001b[0m                 \u001b[0;31m# re-raise KeyboardInterrupt, to truncate traceback\u001b[0m\u001b[0;34m\u001b[0m\u001b[0;34m\u001b[0m\u001b[0;34m\u001b[0m\u001b[0m\n\u001b[0;32m--> 892\u001b[0;31m                 \u001b[0;32mraise\u001b[0m \u001b[0mKeyboardInterrupt\u001b[0m\u001b[0;34m(\u001b[0m\u001b[0;34m\"Interrupted by user\"\u001b[0m\u001b[0;34m)\u001b[0m \u001b[0;32mfrom\u001b[0m \u001b[0;32mNone\u001b[0m\u001b[0;34m\u001b[0m\u001b[0;34m\u001b[0m\u001b[0m\n\u001b[0m\u001b[1;32m    893\u001b[0m             \u001b[0;32mexcept\u001b[0m \u001b[0mException\u001b[0m \u001b[0;32mas\u001b[0m \u001b[0me\u001b[0m\u001b[0;34m:\u001b[0m\u001b[0;34m\u001b[0m\u001b[0;34m\u001b[0m\u001b[0m\n\u001b[1;32m    894\u001b[0m                 \u001b[0mself\u001b[0m\u001b[0;34m.\u001b[0m\u001b[0mlog\u001b[0m\u001b[0;34m.\u001b[0m\u001b[0mwarning\u001b[0m\u001b[0;34m(\u001b[0m\u001b[0;34m\"Invalid Message:\"\u001b[0m\u001b[0;34m,\u001b[0m \u001b[0mexc_info\u001b[0m\u001b[0;34m=\u001b[0m\u001b[0;32mTrue\u001b[0m\u001b[0;34m)\u001b[0m\u001b[0;34m\u001b[0m\u001b[0;34m\u001b[0m\u001b[0m\n",
      "\u001b[0;31mKeyboardInterrupt\u001b[0m: Interrupted by user"
     ]
    }
   ],
   "source": [
    "from collections import deque\n",
    "M, N = map(int, input().split())\n",
    "\n",
    "graph = [[0] * (M) for _ in range(N)]\n",
    "\n",
    "for i in range(N):\n",
    "    graph[i] = list(map(int, input().split(' ')))\n",
    "    \n",
    "queue = deque()\n",
    "for n in range(N):\n",
    "    for m in range(M):\n",
    "        if graph[n][m] == 1: \n",
    "            queue.append((n,m))\n",
    "\n",
    "def check_valid(queue):\n",
    "    dx = [1,0,-1,0]\n",
    "    dy = [0,1,0,-1]\n",
    "    \n",
    "    day = -1\n",
    "    while queue:\n",
    "        this_turn_queue_length = len(queue)\n",
    "        for _ in range(this_turn_queue_length):\n",
    "            \n",
    "            \n",
    "            \n",
    "            target = queue.popleft()\n",
    "\n",
    "            for i in range(4):\n",
    "                moved_x = target[1] + dx[i]\n",
    "                moved_y = target[0] + dy[i]\n",
    "\n",
    "                if 0 <= moved_x < M and 0 <= moved_y < N and graph[moved_y][moved_x] == 0:\n",
    "                    queue.append((moved_y, moved_x))\n",
    "                    graph[moved_y][moved_x] = 1\n",
    "        day += 1\n",
    "    for row in graph:\n",
    "        if 0 in row:\n",
    "            return -1\n",
    "    return day\n",
    "\n",
    "print(check_valid(queue))"
   ]
  },
  {
   "cell_type": "code",
   "execution_count": null,
   "id": "ba643845",
   "metadata": {},
   "outputs": [],
   "source": []
  }
 ],
 "metadata": {
  "kernelspec": {
   "display_name": "Python 3",
   "language": "python",
   "name": "python3"
  },
  "language_info": {
   "codemirror_mode": {
    "name": "ipython",
    "version": 3
   },
   "file_extension": ".py",
   "mimetype": "text/x-python",
   "name": "python",
   "nbconvert_exporter": "python",
   "pygments_lexer": "ipython3",
   "version": "3.6.9"
  }
 },
 "nbformat": 4,
 "nbformat_minor": 5
}
