{
 "cells": [
  {
   "cell_type": "markdown",
   "id": "17b3c91d",
   "metadata": {},
   "source": [
    "# 217. Contains Duplicate"
   ]
  },
  {
   "cell_type": "code",
   "execution_count": 1,
   "id": "cb851bc3",
   "metadata": {},
   "outputs": [],
   "source": [
    "from collections import Counter"
   ]
  },
  {
   "cell_type": "code",
   "execution_count": 12,
   "id": "4fb428f4",
   "metadata": {},
   "outputs": [
    {
     "data": {
      "text/plain": [
       "3"
      ]
     },
     "execution_count": 12,
     "metadata": {},
     "output_type": "execute_result"
    }
   ],
   "source": [
    "sum(Counter([1,2,3]).values())"
   ]
  },
  {
   "cell_type": "code",
   "execution_count": 13,
   "id": "bc2a4c2c",
   "metadata": {},
   "outputs": [],
   "source": [
    "def containsDuplicate(nums):\n",
    "    counter = Counter(nums)\n",
    "    if sum(counter.values()) > len(counter):\n",
    "        return False\n",
    "    else:\n",
    "        return True"
   ]
  },
  {
   "cell_type": "markdown",
   "id": "fa2922a4",
   "metadata": {},
   "source": [
    "# 53. Maximum Subarray"
   ]
  },
  {
   "cell_type": "code",
   "execution_count": 21,
   "id": "b766bf86",
   "metadata": {},
   "outputs": [],
   "source": [
    "def maxSubArray(nums):\n",
    "    dp_table = [0] * len(nums)\n",
    "    dp_table[0] = nums[0]\n",
    "    for idx, value in enumerate(nums[1:]):\n",
    "        dp_table[idx+1] = max(dp_table[idx] + value, value)\n",
    "    return max(dp_table)"
   ]
  },
  {
   "cell_type": "code",
   "execution_count": 24,
   "id": "2bf9464a",
   "metadata": {},
   "outputs": [],
   "source": [
    "nums = [5,4,-1,7,8]"
   ]
  },
  {
   "cell_type": "code",
   "execution_count": 25,
   "id": "7f7a9229",
   "metadata": {},
   "outputs": [
    {
     "name": "stdout",
     "output_type": "stream",
     "text": [
      "[5, 0, 0, 0, 0]\n",
      "[5, 9, 0, 0, 0]\n",
      "[5, 9, 8, 0, 0]\n",
      "[5, 9, 8, 15, 0]\n"
     ]
    },
    {
     "data": {
      "text/plain": [
       "[5, 9, 8, 15, 23]"
      ]
     },
     "execution_count": 25,
     "metadata": {},
     "output_type": "execute_result"
    }
   ],
   "source": [
    "maxSubArray(nums)"
   ]
  },
  {
   "cell_type": "code",
   "execution_count": null,
   "id": "a96557bf",
   "metadata": {},
   "outputs": [],
   "source": []
  }
 ],
 "metadata": {
  "kernelspec": {
   "display_name": "Python 3 (ipykernel)",
   "language": "python",
   "name": "python3"
  },
  "language_info": {
   "codemirror_mode": {
    "name": "ipython",
    "version": 3
   },
   "file_extension": ".py",
   "mimetype": "text/x-python",
   "name": "python",
   "nbconvert_exporter": "python",
   "pygments_lexer": "ipython3",
   "version": "3.9.9"
  }
 },
 "nbformat": 4,
 "nbformat_minor": 5
}
