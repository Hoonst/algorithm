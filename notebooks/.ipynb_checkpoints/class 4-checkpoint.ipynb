{
 "cells": [
  {
   "cell_type": "markdown",
   "id": "3cf90cc3",
   "metadata": {},
   "source": [
    "# 1629. 곱셈"
   ]
  },
  {
   "cell_type": "code",
   "execution_count": 6,
   "id": "61c09a5a",
   "metadata": {
    "collapsed": true
   },
   "outputs": [
    {
     "ename": "KeyboardInterrupt",
     "evalue": "Interrupted by user",
     "output_type": "error",
     "traceback": [
      "\u001b[0;31m---------------------------------------------------------------------------\u001b[0m",
      "\u001b[0;31mKeyboardInterrupt\u001b[0m                         Traceback (most recent call last)",
      "\u001b[0;32m/var/folders/fn/9dj0lp5d1vjdz651ldy376r40000gn/T/ipykernel_78005/24402883.py\u001b[0m in \u001b[0;36m<module>\u001b[0;34m\u001b[0m\n\u001b[0;32m----> 1\u001b[0;31m \u001b[0mA\u001b[0m\u001b[0;34m,\u001b[0m \u001b[0mB\u001b[0m\u001b[0;34m,\u001b[0m \u001b[0mC\u001b[0m \u001b[0;34m=\u001b[0m \u001b[0mmap\u001b[0m\u001b[0;34m(\u001b[0m\u001b[0mint\u001b[0m\u001b[0;34m,\u001b[0m \u001b[0minput\u001b[0m\u001b[0;34m(\u001b[0m\u001b[0;34m)\u001b[0m\u001b[0;34m.\u001b[0m\u001b[0msplit\u001b[0m\u001b[0;34m(\u001b[0m\u001b[0;34m)\u001b[0m\u001b[0;34m)\u001b[0m\u001b[0;34m\u001b[0m\u001b[0;34m\u001b[0m\u001b[0m\n\u001b[0m\u001b[1;32m      2\u001b[0m \u001b[0mprint\u001b[0m\u001b[0;34m(\u001b[0m\u001b[0;34m(\u001b[0m\u001b[0mA\u001b[0m \u001b[0;34m**\u001b[0m \u001b[0mB\u001b[0m\u001b[0;34m)\u001b[0m \u001b[0;34m%\u001b[0m \u001b[0mC\u001b[0m\u001b[0;34m)\u001b[0m\u001b[0;34m\u001b[0m\u001b[0;34m\u001b[0m\u001b[0m\n\u001b[1;32m      3\u001b[0m \u001b[0;31m# solved.ac 기준 실버 1의 문제가 이렇게 간단하게 풀릴 리가 없다는 생각이 들면서도\u001b[0m\u001b[0;34m\u001b[0m\u001b[0;34m\u001b[0m\u001b[0m\n",
      "\u001b[0;32m/usr/local/lib/python3.9/site-packages/ipykernel/kernelbase.py\u001b[0m in \u001b[0;36mraw_input\u001b[0;34m(self, prompt)\u001b[0m\n\u001b[1;32m   1005\u001b[0m                 \u001b[0;34m\"raw_input was called, but this frontend does not support input requests.\"\u001b[0m\u001b[0;34m\u001b[0m\u001b[0;34m\u001b[0m\u001b[0m\n\u001b[1;32m   1006\u001b[0m             )\n\u001b[0;32m-> 1007\u001b[0;31m         return self._input_request(\n\u001b[0m\u001b[1;32m   1008\u001b[0m             \u001b[0mstr\u001b[0m\u001b[0;34m(\u001b[0m\u001b[0mprompt\u001b[0m\u001b[0;34m)\u001b[0m\u001b[0;34m,\u001b[0m\u001b[0;34m\u001b[0m\u001b[0;34m\u001b[0m\u001b[0m\n\u001b[1;32m   1009\u001b[0m             \u001b[0mself\u001b[0m\u001b[0;34m.\u001b[0m\u001b[0m_parent_ident\u001b[0m\u001b[0;34m[\u001b[0m\u001b[0;34m\"shell\"\u001b[0m\u001b[0;34m]\u001b[0m\u001b[0;34m,\u001b[0m\u001b[0;34m\u001b[0m\u001b[0;34m\u001b[0m\u001b[0m\n",
      "\u001b[0;32m/usr/local/lib/python3.9/site-packages/ipykernel/kernelbase.py\u001b[0m in \u001b[0;36m_input_request\u001b[0;34m(self, prompt, ident, parent, password)\u001b[0m\n\u001b[1;32m   1050\u001b[0m             \u001b[0;32mexcept\u001b[0m \u001b[0mKeyboardInterrupt\u001b[0m\u001b[0;34m:\u001b[0m\u001b[0;34m\u001b[0m\u001b[0;34m\u001b[0m\u001b[0m\n\u001b[1;32m   1051\u001b[0m                 \u001b[0;31m# re-raise KeyboardInterrupt, to truncate traceback\u001b[0m\u001b[0;34m\u001b[0m\u001b[0;34m\u001b[0m\u001b[0m\n\u001b[0;32m-> 1052\u001b[0;31m                 \u001b[0;32mraise\u001b[0m \u001b[0mKeyboardInterrupt\u001b[0m\u001b[0;34m(\u001b[0m\u001b[0;34m\"Interrupted by user\"\u001b[0m\u001b[0;34m)\u001b[0m \u001b[0;32mfrom\u001b[0m \u001b[0;32mNone\u001b[0m\u001b[0;34m\u001b[0m\u001b[0;34m\u001b[0m\u001b[0m\n\u001b[0m\u001b[1;32m   1053\u001b[0m             \u001b[0;32mexcept\u001b[0m \u001b[0mException\u001b[0m\u001b[0;34m:\u001b[0m\u001b[0;34m\u001b[0m\u001b[0;34m\u001b[0m\u001b[0m\n\u001b[1;32m   1054\u001b[0m                 \u001b[0mself\u001b[0m\u001b[0;34m.\u001b[0m\u001b[0mlog\u001b[0m\u001b[0;34m.\u001b[0m\u001b[0mwarning\u001b[0m\u001b[0;34m(\u001b[0m\u001b[0;34m\"Invalid Message:\"\u001b[0m\u001b[0;34m,\u001b[0m \u001b[0mexc_info\u001b[0m\u001b[0;34m=\u001b[0m\u001b[0;32mTrue\u001b[0m\u001b[0;34m)\u001b[0m\u001b[0;34m\u001b[0m\u001b[0;34m\u001b[0m\u001b[0m\n",
      "\u001b[0;31mKeyboardInterrupt\u001b[0m: Interrupted by user"
     ]
    }
   ],
   "source": [
    "A, B, C = map(int, input().split())\n",
    "print((A ** B) % C)\n",
    "# solved.ac 기준 실버 1의 문제가 이렇게 간단하게 풀릴 리가 없다는 생각이 들면서도 \n",
    "# 한 번 진행해보았지만 역시는 역시 역시였다."
   ]
  },
  {
   "cell_type": "code",
   "execution_count": 12,
   "id": "0fca183d",
   "metadata": {},
   "outputs": [
    {
     "name": "stdout",
     "output_type": "stream",
     "text": [
      "10 11 12\n",
      "4\n"
     ]
    }
   ],
   "source": [
    "A, B, C = map(int, input().split())\n",
    "\n",
    "if A == 1:\n",
    "    print(1)\n",
    "else:\n",
    "    if B % 2 == 0:\n",
    "        answer = ((A ** (B // 2))**2)%C\n",
    "    else:\n",
    "        answer = ((A ** (B // 2))**2 * (A))%C\n",
    "print(answer)   "
   ]
  },
  {
   "cell_type": "markdown",
   "id": "2a320464",
   "metadata": {},
   "source": [
    "2** 10 = (2** 5)*(2** 5)"
   ]
  },
  {
   "cell_type": "code",
   "execution_count": 13,
   "id": "1e1df676",
   "metadata": {},
   "outputs": [],
   "source": [
    "def half(A, B):\n",
    "    if B == 1:\n",
    "        return A % C\n",
    "    else:\n",
    "        if B % 2 ==0:\n",
    "            return (half(A, int(B/2))**2)%C\n",
    "        else:\n",
    "            return ((half(A, int(B/2))**2) * A)%C"
   ]
  },
  {
   "cell_type": "code",
   "execution_count": 14,
   "id": "af4e1325",
   "metadata": {},
   "outputs": [
    {
     "data": {
      "text/plain": [
       "4"
      ]
     },
     "execution_count": 14,
     "metadata": {},
     "output_type": "execute_result"
    }
   ],
   "source": [
    "half(A, B)"
   ]
  },
  {
   "cell_type": "code",
   "execution_count": null,
   "id": "79a318a2",
   "metadata": {},
   "outputs": [],
   "source": [
    "10 11 12\n",
    "10 5\n",
    "10 2\n",
    "10 1"
   ]
  },
  {
   "cell_type": "markdown",
   "id": "a10c81ed",
   "metadata": {},
   "source": [
    "# 14502. 연구소"
   ]
  },
  {
   "cell_type": "code",
   "execution_count": 97,
   "id": "5256ceb9",
   "metadata": {},
   "outputs": [
    {
     "name": "stdout",
     "output_type": "stream",
     "text": [
      "8 8\n",
      "2 0 0 0 0 0 0 2\n",
      "2 0 0 0 0 0 0 2\n",
      "2 0 0 0 0 0 0 2\n",
      "2 0 0 0 0 0 0 2\n",
      "2 0 0 0 0 0 0 2\n",
      "0 0 0 0 0 0 0 0\n",
      "0 0 0 0 0 0 0 0\n",
      "0 0 0 0 0 0 0 0\n",
      "3\n"
     ]
    }
   ],
   "source": [
    "from collections import deque\n",
    "from itertools import combinations\n",
    "import copy\n",
    "\n",
    "dx = [1, 0, -1, 0]\n",
    "dy = [0, 1, 0, -1]\n",
    "\n",
    "def infection_bfs(y,x):\n",
    "    queue = deque()\n",
    "    queue.append((y,x))\n",
    "    visited[y][x] = True\n",
    "    \n",
    "    total = 1\n",
    "    while queue:\n",
    "        y,x = queue.popleft()\n",
    "        for index in range(4):\n",
    "            y_axis = y + dy[index]\n",
    "            x_axis = x + dx[index]\n",
    "            if 0 <= y_axis < N and 0 <= x_axis < M:\n",
    "                if copied_map[y_axis][x_axis] == 0 and not visited[y_axis][x_axis]:\n",
    "                    # visit mark\n",
    "                    visited[y_axis][x_axis] = True\n",
    "                    # infected\n",
    "                    copied_map[y_axis][x_axis] = 2\n",
    "                    queue.append((y_axis, x_axis))\n",
    "\n",
    "N, M = map(int, input().split())\n",
    "mmap = [list(map(int, input().split())) for _ in range(N)]\n",
    "\n",
    "not_infected = [(i,j) for i in range(len(mmap)) for j in range(len(mmap[i])) if mmap[i][j] == 0]\n",
    "not_infected_comb = combinations(not_infected, 3)\n",
    "\n",
    "maxi = 0\n",
    "for group in not_infected_comb:\n",
    "    visited = [[0]*M for _ in range(N)]\n",
    "    \n",
    "    # 맵 복사\n",
    "    copied_map = copy.deepcopy(mmap)\n",
    "    \n",
    "    # 벽 세우기\n",
    "    for y_idx, x_idx in group:\n",
    "        copied_map[y_idx][x_idx] = 1\n",
    "    \n",
    "    # 바이러스 위치에서부터 전염 진행\n",
    "    for y in range(N):\n",
    "        for x in range(M):\n",
    "            if copied_map[y][x] == 2 and not visited[y][x]:\n",
    "                infection_bfs(y,x)\n",
    "    \n",
    "    temp_maxi = 0\n",
    "    for j in copied_map:\n",
    "        sum_j = sum([1 for k in j if k == 0])\n",
    "        temp_maxi += sum_j\n",
    "\n",
    "    if temp_maxi > maxi:\n",
    "        maxi = temp_maxi\n",
    "print(maxi)"
   ]
  },
  {
   "cell_type": "markdown",
   "id": "c4cc0cbe",
   "metadata": {},
   "source": [
    "#### 2407. 조합"
   ]
  },
  {
   "cell_type": "code",
   "execution_count": 60,
   "id": "0dced8af",
   "metadata": {},
   "outputs": [
    {
     "name": "stdout",
     "output_type": "stream",
     "text": [
      "100 6\n",
      "1192052400\n"
     ]
    }
   ],
   "source": [
    "n,r = map(int, input().split())\n",
    "def factorial(n):\n",
    "    if n <= 1:\n",
    "        return 1\n",
    "    else:\n",
    "        return n*factorial(n-1)\n",
    "\n",
    "def combi(n, r):\n",
    "    return (factorial(n) // (factorial(n-r) * factorial(r)))\n",
    "\n",
    "print(combi(n, r))"
   ]
  },
  {
   "cell_type": "markdown",
   "id": "aa81bcd4",
   "metadata": {},
   "source": [
    "# 15650. N과 M (2)"
   ]
  },
  {
   "cell_type": "markdown",
   "id": "e6af1f7a",
   "metadata": {},
   "source": [
    "풀기는 풀었지만, 일단 분류에 '백트래킹'이라고 할당되어 있고,  \n",
    "이렇게 풀면 안될 것 같은 느낌적인 느낌이 든다..."
   ]
  },
  {
   "cell_type": "code",
   "execution_count": 16,
   "id": "25ca1dcb",
   "metadata": {},
   "outputs": [
    {
     "name": "stdout",
     "output_type": "stream",
     "text": [
      "1 2\n",
      "1 3\n",
      "1 4\n",
      "2 3\n",
      "2 4\n",
      "3 4\n"
     ]
    }
   ],
   "source": [
    "from itertools import combinations\n",
    "\n",
    "N, M = map(int, input().split())\n",
    "\n",
    "a = list(combinations(range(1, N+1), M))\n",
    "\n",
    "for tup in a:\n",
    "    print(' '.join(map(str, tup)))"
   ]
  },
  {
   "cell_type": "markdown",
   "id": "61cc7e28",
   "metadata": {},
   "source": [
    "# 15686. 치킨 배달"
   ]
  },
  {
   "cell_type": "markdown",
   "id": "a3352e29",
   "metadata": {},
   "source": [
    "치킨 거리 = 집과 가장 가까운 치킨집 사이의 거리\n",
    "1. 0: 빈칸 / 1: 집 / 2: 치킨 집\n",
    "2. 도시의 치킨 거리: 모든 집의 치킨 거리 합\n",
    "3. 치킨집 중 최대 M개 선택\n",
    "4. 치킨 거리를 최소로 설정"
   ]
  },
  {
   "cell_type": "markdown",
   "id": "aee4b86b",
   "metadata": {},
   "source": [
    "1. 조합: 살릴 치킨 집에 대한 조합을 구한다.\n",
    "2. 거리 계산"
   ]
  },
  {
   "cell_type": "markdown",
   "id": "c14a5b9b",
   "metadata": {},
   "source": [
    "map과 lambda를 사용하는 것이 속도 개선에 도움이 될 듯 싶다."
   ]
  },
  {
   "cell_type": "code",
   "execution_count": 65,
   "id": "42d097d3",
   "metadata": {},
   "outputs": [
    {
     "name": "stdout",
     "output_type": "stream",
     "text": [
      "32\n"
     ]
    }
   ],
   "source": [
    "from itertools import combinations\n",
    "import sys\n",
    "input = sys.stdin.readline\n",
    "\n",
    "N, M = map(int, input().split())\n",
    "chicken_map = [list(map(int, input().split())) for _ in range(N)]\n",
    "\n",
    "# 여기서 두 번 돌아서 시간이 더 걸리는 것일까?\n",
    "chicken, houses = [], []\n",
    "\n",
    "for r in range(N):\n",
    "    for c in range(N):\n",
    "        if chicken_map[r][c] == 1:\n",
    "            houses.append((r,c))\n",
    "        elif chicken_map[r][c] == 2:\n",
    "            chicken.append((r,c))\n",
    "\n",
    "# chicken = [(i,j) for i in range(len(chicken_map)) for j in range(len(chicken_map[i])) if chicken_map[i][j] == 2]\n",
    "# houses = [(i,j) for i in range(len(chicken_map)) for j in range(len(chicken_map[i])) if chicken_map[i][j] == 1]\n",
    "\n",
    "chicken_remains = combinations(chicken, M)\n",
    "\n",
    "min_total_chick_dist = float('inf')\n",
    "for chicken_remain in chicken_remains:\n",
    "    total_chick_dist = 0\n",
    "    # 집집마다\n",
    "    for hy, hx in houses:\n",
    "        min_chick_dist = float('inf')\n",
    "        # 치킨 집과의 거리 계산\n",
    "        for cy, cx in chicken_remain:\n",
    "            chick_dist = abs(cy-hy) + abs(cx-hx)\n",
    "            if chick_dist < min_chick_dist:\n",
    "                min_chick_dist = chick_dist\n",
    "        total_chick_dist += min_chick_dist\n",
    "    # total_chick_dist: 해당 치킨 집 조합에서 얻을 수 있는 도시의 치킨 거리\n",
    "    if total_chick_dist < min_total_chick_dist:\n",
    "        min_total_chick_dist = total_chick_dist\n",
    "        \n",
    "print(min_total_chick_dist)"
   ]
  },
  {
   "cell_type": "markdown",
   "id": "db99f5e1",
   "metadata": {},
   "source": [
    "zip과 unzip"
   ]
  },
  {
   "cell_type": "code",
   "execution_count": 69,
   "id": "91bba8e1",
   "metadata": {},
   "outputs": [
    {
     "name": "stdout",
     "output_type": "stream",
     "text": [
      "(1, 'A')\n",
      "(2, 'B')\n",
      "(3, 'C')\n"
     ]
    }
   ],
   "source": [
    "numbers = [1, 2, 3]\n",
    "letters = [\"A\", \"B\", \"C\"]\n",
    "for pair in zip(numbers, letters):\n",
    "    print(pair)"
   ]
  },
  {
   "cell_type": "code",
   "execution_count": 70,
   "id": "af07ef50",
   "metadata": {},
   "outputs": [
    {
     "data": {
      "text/plain": [
       "[(1, 'A'), (2, 'B'), (3, 'C')]"
      ]
     },
     "execution_count": 70,
     "metadata": {},
     "output_type": "execute_result"
    }
   ],
   "source": [
    "numbers = (1, 2, 3)\n",
    "letters = (\"A\", \"B\", \"C\")\n",
    "pairs = list(zip(numbers, letters))\n",
    "pairs"
   ]
  },
  {
   "cell_type": "code",
   "execution_count": 71,
   "id": "fe1bde28",
   "metadata": {},
   "outputs": [
    {
     "name": "stdout",
     "output_type": "stream",
     "text": [
      "(1, 2, 3)\n",
      "('A', 'B', 'C')\n"
     ]
    }
   ],
   "source": [
    "numbers, letters = zip(*pairs)\n",
    "print(numbers)\n",
    "print(letters)\n"
   ]
  },
  {
   "cell_type": "code",
   "execution_count": 72,
   "id": "864bc722",
   "metadata": {},
   "outputs": [
    {
     "name": "stdout",
     "output_type": "stream",
     "text": [
      "5 3\n",
      "0 0 1 0 0\n",
      "0 0 2 0 1\n",
      "0 1 2 0 0\n",
      "0 0 1 0 0\n",
      "0 0 0 0 2\n"
     ]
    }
   ],
   "source": [
    "n,m = map(int, input().split())\n",
    "city = [input().split() for i in range(n)]\n",
    "ans = 1e9\n",
    "houses = []\n",
    "chickens = []\n",
    "for i in range(n):\n",
    "    for j in range(n):\n",
    "        if city[i][j] == '1':\n",
    "            houses.append((i,j))\n",
    "        elif city[i][j] == '2':\n",
    "            chickens.append((i,j))\n",
    "\n",
    "dists = [list(map(lambda x : abs(x[0]-c[0]) + abs(x[1]-c[1]), houses)) for c in chickens]"
   ]
  },
  {
   "cell_type": "code",
   "execution_count": 73,
   "id": "a4f8c86a",
   "metadata": {},
   "outputs": [
    {
     "data": {
      "text/plain": [
       "[[1, 2, 2, 2], [2, 3, 1, 1], [6, 3, 5, 3]]"
      ]
     },
     "execution_count": 73,
     "metadata": {},
     "output_type": "execute_result"
    }
   ],
   "source": [
    "dists"
   ]
  },
  {
   "cell_type": "code",
   "execution_count": 75,
   "id": "97325f04",
   "metadata": {},
   "outputs": [],
   "source": [
    "from itertools import combinations as comb"
   ]
  },
  {
   "cell_type": "code",
   "execution_count": 77,
   "id": "f66df19c",
   "metadata": {},
   "outputs": [
    {
     "data": {
      "text/plain": [
       "[(0, 1, 2)]"
      ]
     },
     "execution_count": 77,
     "metadata": {},
     "output_type": "execute_result"
    }
   ],
   "source": [
    "list(comb((i for i in range(len(chickens))), m))"
   ]
  },
  {
   "cell_type": "code",
   "execution_count": 79,
   "id": "2168b79e",
   "metadata": {},
   "outputs": [
    {
     "data": {
      "text/plain": [
       "[(1, 2, 6), (2, 3, 3), (2, 1, 5), (2, 1, 3)]"
      ]
     },
     "execution_count": 79,
     "metadata": {},
     "output_type": "execute_result"
    }
   ],
   "source": [
    "list(zip(*[dists[i] for i in (0,1,2)]))"
   ]
  },
  {
   "cell_type": "code",
   "execution_count": null,
   "id": "543d6569",
   "metadata": {},
   "outputs": [],
   "source": [
    "for co in comb((i for i in range(len(chickens))), m):\n",
    "    res = sum(map(min, zip(*[dists[i] for i in co])))\n",
    "\n",
    "\n",
    "    if res < ans:\n",
    "        ans = res\n",
    "print(ans)"
   ]
  },
  {
   "cell_type": "markdown",
   "id": "3bbac7b0",
   "metadata": {},
   "source": [
    "# 9935. 문자열 폭발"
   ]
  },
  {
   "cell_type": "code",
   "execution_count": 109,
   "id": "7e1e9e95",
   "metadata": {},
   "outputs": [],
   "source": [
    "b= list('abc')\n",
    "del b[-2:]"
   ]
  },
  {
   "cell_type": "code",
   "execution_count": 1,
   "id": "ac4581fd",
   "metadata": {},
   "outputs": [
    {
     "name": "stdout",
     "output_type": "stream",
     "text": [
      "mirkovC4nizCC44\n",
      "C4\n",
      "mirkovniz\n"
     ]
    }
   ],
   "source": [
    "# import sys\n",
    "# input = sys.stdin.readline\n",
    "\n",
    "string = input()\n",
    "explode = input()\n",
    "\n",
    "stack = []\n",
    "exp_len = len(explode)\n",
    "lastChar = explode[-1]\n",
    "\n",
    "for s_value in string:\n",
    "    stack.append(s_value)\n",
    "    if len(stack) >= exp_len:\n",
    "        if s_value == lastChar and ''.join(stack[-exp_len:]) == explode:\n",
    "            del stack[-exp_len:]\n",
    "\n",
    "answer = ''.join(stack)\n",
    "            \n",
    "if answer == '':\n",
    "    print('FRULA')\n",
    "else:\n",
    "    print(answer)\n",
    "\n",
    "# if len(stack) == 0:\n",
    "#     print('FRULA')\n",
    "# else:\n",
    "#     print(''.join(stack))"
   ]
  },
  {
   "cell_type": "code",
   "execution_count": null,
   "id": "b8ef3918",
   "metadata": {},
   "outputs": [],
   "source": [
    "# Replace로 진행하면 string을 발견시마다 반복문을 돌고,\n",
    "# 새롭게 구성되는 문자열에 다시 반복을 돌려야 하지만\n",
    "# stack을 사용하면 폭발 문자열을 없앤 뒤 바로 이어서 생성되는 폭발 문자열을 바로 제거할 수 있기 때문에\n",
    "# 반복을 한번만 돌아도 된다.\n",
    "\n",
    "string = input()    # 전체 문자열\n",
    "bomb = input()      # 폭발 문자열\n",
    "\n",
    "lastChar = bomb[-1] # 폭발 문자열의 마지막 글자\n",
    "stack = []\n",
    "length = len(bomb)  # 폭발 문자열의 길이\n",
    "\n",
    "for char in string:\n",
    "    stack.append(char)\n",
    "    if char == lastChar and ''.join(stack[-length:]) == bomb:\n",
    "        del stack[-length:]\n",
    "\n",
    "answer = ''.join(stack)\n",
    "\n",
    "if answer == '':\n",
    "    print(\"FRULA\")\n",
    "else:\n",
    "    print(answer)"
   ]
  },
  {
   "cell_type": "markdown",
   "id": "6a2c9b0d",
   "metadata": {},
   "source": [
    "# 11053. 가장 긴 증가하는 부분 수열"
   ]
  },
  {
   "cell_type": "code",
   "execution_count": 2,
   "id": "84433c27",
   "metadata": {},
   "outputs": [
    {
     "ename": "SyntaxError",
     "evalue": "invalid syntax (39546108.py, line 1)",
     "output_type": "error",
     "traceback": [
      "\u001b[0;36m  File \u001b[0;32m\"/var/folders/fn/9dj0lp5d1vjdz651ldy376r40000gn/T/ipykernel_69731/39546108.py\"\u001b[0;36m, line \u001b[0;32m1\u001b[0m\n\u001b[0;31m    9251과 유사\u001b[0m\n\u001b[0m        ^\u001b[0m\n\u001b[0;31mSyntaxError\u001b[0m\u001b[0;31m:\u001b[0m invalid syntax\n"
     ]
    }
   ],
   "source": [
    "9251과 유사"
   ]
  },
  {
   "cell_type": "code",
   "execution_count": 5,
   "id": "bb96693c",
   "metadata": {},
   "outputs": [],
   "source": [
    "A = [10,20,1,2,3,4]"
   ]
  },
  {
   "cell_type": "code",
   "execution_count": 8,
   "id": "69238d60",
   "metadata": {},
   "outputs": [
    {
     "data": {
      "text/plain": [
       "'\\n반례:\\n10 20 1 2 3 4\\n10 20까지의 수열만 판단하고 끝\\n'"
      ]
     },
     "execution_count": 8,
     "metadata": {},
     "output_type": "execute_result"
    }
   ],
   "source": [
    "max_a = 0\n",
    "permute = 0\n",
    "for a in A:\n",
    "    if a > max_a:\n",
    "        max_a = a\n",
    "        permute += 1\n",
    "'''\n",
    "반례:\n",
    "10 20 1 2 3 4\n",
    "10 20까지의 수열만 판단하고 끝\n",
    "'''"
   ]
  },
  {
   "cell_type": "code",
   "execution_count": 1,
   "id": "162fe039",
   "metadata": {},
   "outputs": [
    {
     "name": "stdout",
     "output_type": "stream",
     "text": [
      "6\n",
      "10 20 10 30 20 50 \n",
      "4\n"
     ]
    }
   ],
   "source": [
    "N = int(input())\n",
    "A = list(map(int, input().split()))\n",
    "\n",
    "start_idx, max_permute = 0, 0\n",
    "\n",
    "while start_idx < N:\n",
    "    max_a , permute = 0, 0\n",
    "    for datum in A[start_idx:]:\n",
    "        if datum > max_a:\n",
    "            max_a = datum\n",
    "            permute += 1\n",
    "    if permute > max_permute:\n",
    "        max_permute = permute\n",
    "    start_idx += 1\n",
    "print(max_permute)"
   ]
  },
  {
   "cell_type": "code",
   "execution_count": 5,
   "id": "45b97a99",
   "metadata": {},
   "outputs": [
    {
     "name": "stdout",
     "output_type": "stream",
     "text": [
      "6\n",
      "10 20 10 30 20 50\n",
      "[0, 1, 0, 0, 0, 0]\n",
      "[0, 1, 0, 0, 0, 0]\n",
      "[0, 1, 0, 0, 0, 0]\n",
      "[0, 1, 0, 1, 0, 0]\n",
      "[0, 1, 0, 2, 0, 0]\n",
      "[0, 1, 0, 2, 0, 0]\n",
      "[0, 1, 0, 2, 1, 0]\n",
      "[0, 1, 0, 2, 1, 0]\n",
      "[0, 1, 0, 2, 1, 0]\n",
      "[0, 1, 0, 2, 1, 0]\n",
      "[0, 1, 0, 2, 1, 1]\n",
      "[0, 1, 0, 2, 1, 2]\n",
      "[0, 1, 0, 2, 1, 2]\n",
      "[0, 1, 0, 2, 1, 3]\n",
      "[0, 1, 0, 2, 1, 3]\n"
     ]
    }
   ],
   "source": [
    "N = int(input())\n",
    "A = list(map(int, input().split()))\n",
    "dp = [0] * N\n",
    "\n",
    "for A_idx in range(1, N):\n",
    "    for a in range(A_idx):\n",
    "        if A[a] < A[A_idx]:\n",
    "            dp[A_idx] = max(dp[A_idx], dp[a]+1)"
   ]
  },
  {
   "cell_type": "markdown",
   "id": "44c54d4e",
   "metadata": {},
   "source": [
    "# 9251. LCS"
   ]
  },
  {
   "cell_type": "markdown",
   "id": "a749a0a4",
   "metadata": {},
   "source": [
    "https://happylsm76.tistory.com/entry/%EB%B0%B1%EC%A4%80-9251%EB%B2%88LCS-with-Python"
   ]
  },
  {
   "cell_type": "code",
   "execution_count": null,
   "id": "764ee720",
   "metadata": {},
   "outputs": [],
   "source": []
  },
  {
   "cell_type": "code",
   "execution_count": 45,
   "id": "01e9e193",
   "metadata": {},
   "outputs": [
    {
     "name": "stdout",
     "output_type": "stream",
     "text": [
      "ACAYKP\n",
      "CAPCAK\n"
     ]
    }
   ],
   "source": [
    "A = list(input())\n",
    "B = list(input())"
   ]
  }
 ],
 "metadata": {
  "kernelspec": {
   "display_name": "Python 3 (ipykernel)",
   "language": "python",
   "name": "python3"
  },
  "language_info": {
   "codemirror_mode": {
    "name": "ipython",
    "version": 3
   },
   "file_extension": ".py",
   "mimetype": "text/x-python",
   "name": "python",
   "nbconvert_exporter": "python",
   "pygments_lexer": "ipython3",
   "version": "3.9.9"
  }
 },
 "nbformat": 4,
 "nbformat_minor": 5
}
