{
 "cells": [
  {
   "cell_type": "markdown",
   "id": "3cf90cc3",
   "metadata": {},
   "source": [
    "# 1629. 곱셈"
   ]
  },
  {
   "cell_type": "code",
   "execution_count": 6,
   "id": "61c09a5a",
   "metadata": {
    "collapsed": true
   },
   "outputs": [
    {
     "ename": "KeyboardInterrupt",
     "evalue": "Interrupted by user",
     "output_type": "error",
     "traceback": [
      "\u001b[0;31m---------------------------------------------------------------------------\u001b[0m",
      "\u001b[0;31mKeyboardInterrupt\u001b[0m                         Traceback (most recent call last)",
      "\u001b[0;32m/var/folders/fn/9dj0lp5d1vjdz651ldy376r40000gn/T/ipykernel_78005/24402883.py\u001b[0m in \u001b[0;36m<module>\u001b[0;34m\u001b[0m\n\u001b[0;32m----> 1\u001b[0;31m \u001b[0mA\u001b[0m\u001b[0;34m,\u001b[0m \u001b[0mB\u001b[0m\u001b[0;34m,\u001b[0m \u001b[0mC\u001b[0m \u001b[0;34m=\u001b[0m \u001b[0mmap\u001b[0m\u001b[0;34m(\u001b[0m\u001b[0mint\u001b[0m\u001b[0;34m,\u001b[0m \u001b[0minput\u001b[0m\u001b[0;34m(\u001b[0m\u001b[0;34m)\u001b[0m\u001b[0;34m.\u001b[0m\u001b[0msplit\u001b[0m\u001b[0;34m(\u001b[0m\u001b[0;34m)\u001b[0m\u001b[0;34m)\u001b[0m\u001b[0;34m\u001b[0m\u001b[0;34m\u001b[0m\u001b[0m\n\u001b[0m\u001b[1;32m      2\u001b[0m \u001b[0mprint\u001b[0m\u001b[0;34m(\u001b[0m\u001b[0;34m(\u001b[0m\u001b[0mA\u001b[0m \u001b[0;34m**\u001b[0m \u001b[0mB\u001b[0m\u001b[0;34m)\u001b[0m \u001b[0;34m%\u001b[0m \u001b[0mC\u001b[0m\u001b[0;34m)\u001b[0m\u001b[0;34m\u001b[0m\u001b[0;34m\u001b[0m\u001b[0m\n\u001b[1;32m      3\u001b[0m \u001b[0;31m# solved.ac 기준 실버 1의 문제가 이렇게 간단하게 풀릴 리가 없다는 생각이 들면서도\u001b[0m\u001b[0;34m\u001b[0m\u001b[0;34m\u001b[0m\u001b[0m\n",
      "\u001b[0;32m/usr/local/lib/python3.9/site-packages/ipykernel/kernelbase.py\u001b[0m in \u001b[0;36mraw_input\u001b[0;34m(self, prompt)\u001b[0m\n\u001b[1;32m   1005\u001b[0m                 \u001b[0;34m\"raw_input was called, but this frontend does not support input requests.\"\u001b[0m\u001b[0;34m\u001b[0m\u001b[0;34m\u001b[0m\u001b[0m\n\u001b[1;32m   1006\u001b[0m             )\n\u001b[0;32m-> 1007\u001b[0;31m         return self._input_request(\n\u001b[0m\u001b[1;32m   1008\u001b[0m             \u001b[0mstr\u001b[0m\u001b[0;34m(\u001b[0m\u001b[0mprompt\u001b[0m\u001b[0;34m)\u001b[0m\u001b[0;34m,\u001b[0m\u001b[0;34m\u001b[0m\u001b[0;34m\u001b[0m\u001b[0m\n\u001b[1;32m   1009\u001b[0m             \u001b[0mself\u001b[0m\u001b[0;34m.\u001b[0m\u001b[0m_parent_ident\u001b[0m\u001b[0;34m[\u001b[0m\u001b[0;34m\"shell\"\u001b[0m\u001b[0;34m]\u001b[0m\u001b[0;34m,\u001b[0m\u001b[0;34m\u001b[0m\u001b[0;34m\u001b[0m\u001b[0m\n",
      "\u001b[0;32m/usr/local/lib/python3.9/site-packages/ipykernel/kernelbase.py\u001b[0m in \u001b[0;36m_input_request\u001b[0;34m(self, prompt, ident, parent, password)\u001b[0m\n\u001b[1;32m   1050\u001b[0m             \u001b[0;32mexcept\u001b[0m \u001b[0mKeyboardInterrupt\u001b[0m\u001b[0;34m:\u001b[0m\u001b[0;34m\u001b[0m\u001b[0;34m\u001b[0m\u001b[0m\n\u001b[1;32m   1051\u001b[0m                 \u001b[0;31m# re-raise KeyboardInterrupt, to truncate traceback\u001b[0m\u001b[0;34m\u001b[0m\u001b[0;34m\u001b[0m\u001b[0m\n\u001b[0;32m-> 1052\u001b[0;31m                 \u001b[0;32mraise\u001b[0m \u001b[0mKeyboardInterrupt\u001b[0m\u001b[0;34m(\u001b[0m\u001b[0;34m\"Interrupted by user\"\u001b[0m\u001b[0;34m)\u001b[0m \u001b[0;32mfrom\u001b[0m \u001b[0;32mNone\u001b[0m\u001b[0;34m\u001b[0m\u001b[0;34m\u001b[0m\u001b[0m\n\u001b[0m\u001b[1;32m   1053\u001b[0m             \u001b[0;32mexcept\u001b[0m \u001b[0mException\u001b[0m\u001b[0;34m:\u001b[0m\u001b[0;34m\u001b[0m\u001b[0;34m\u001b[0m\u001b[0m\n\u001b[1;32m   1054\u001b[0m                 \u001b[0mself\u001b[0m\u001b[0;34m.\u001b[0m\u001b[0mlog\u001b[0m\u001b[0;34m.\u001b[0m\u001b[0mwarning\u001b[0m\u001b[0;34m(\u001b[0m\u001b[0;34m\"Invalid Message:\"\u001b[0m\u001b[0;34m,\u001b[0m \u001b[0mexc_info\u001b[0m\u001b[0;34m=\u001b[0m\u001b[0;32mTrue\u001b[0m\u001b[0;34m)\u001b[0m\u001b[0;34m\u001b[0m\u001b[0;34m\u001b[0m\u001b[0m\n",
      "\u001b[0;31mKeyboardInterrupt\u001b[0m: Interrupted by user"
     ]
    }
   ],
   "source": [
    "A, B, C = map(int, input().split())\n",
    "print((A ** B) % C)\n",
    "# solved.ac 기준 실버 1의 문제가 이렇게 간단하게 풀릴 리가 없다는 생각이 들면서도 \n",
    "# 한 번 진행해보았지만 역시는 역시 역시였다."
   ]
  },
  {
   "cell_type": "code",
   "execution_count": 12,
   "id": "0fca183d",
   "metadata": {},
   "outputs": [
    {
     "name": "stdout",
     "output_type": "stream",
     "text": [
      "10 11 12\n",
      "4\n"
     ]
    }
   ],
   "source": [
    "A, B, C = map(int, input().split())\n",
    "\n",
    "if A == 1:\n",
    "    print(1)\n",
    "else:\n",
    "    if B % 2 == 0:\n",
    "        answer = ((A ** (B // 2))**2)%C\n",
    "    else:\n",
    "        answer = ((A ** (B // 2))**2 * (A))%C\n",
    "print(answer)   "
   ]
  },
  {
   "cell_type": "markdown",
   "id": "2a320464",
   "metadata": {},
   "source": [
    "2** 10 = (2** 5)*(2** 5)"
   ]
  },
  {
   "cell_type": "code",
   "execution_count": 13,
   "id": "1e1df676",
   "metadata": {},
   "outputs": [],
   "source": [
    "def half(A, B):\n",
    "    if B == 1:\n",
    "        return A % C\n",
    "    else:\n",
    "        if B % 2 ==0:\n",
    "            return (half(A, int(B/2))**2)%C\n",
    "        else:\n",
    "            return ((half(A, int(B/2))**2) * A)%C"
   ]
  },
  {
   "cell_type": "code",
   "execution_count": 14,
   "id": "af4e1325",
   "metadata": {},
   "outputs": [
    {
     "data": {
      "text/plain": [
       "4"
      ]
     },
     "execution_count": 14,
     "metadata": {},
     "output_type": "execute_result"
    }
   ],
   "source": [
    "half(A, B)"
   ]
  },
  {
   "cell_type": "code",
   "execution_count": null,
   "id": "79a318a2",
   "metadata": {},
   "outputs": [],
   "source": [
    "10 11 12\n",
    "10 5\n",
    "10 2\n",
    "10 1"
   ]
  },
  {
   "cell_type": "markdown",
   "id": "a10c81ed",
   "metadata": {},
   "source": [
    "# 14502. 연구소"
   ]
  },
  {
   "cell_type": "code",
   "execution_count": 97,
   "id": "5256ceb9",
   "metadata": {},
   "outputs": [
    {
     "name": "stdout",
     "output_type": "stream",
     "text": [
      "8 8\n",
      "2 0 0 0 0 0 0 2\n",
      "2 0 0 0 0 0 0 2\n",
      "2 0 0 0 0 0 0 2\n",
      "2 0 0 0 0 0 0 2\n",
      "2 0 0 0 0 0 0 2\n",
      "0 0 0 0 0 0 0 0\n",
      "0 0 0 0 0 0 0 0\n",
      "0 0 0 0 0 0 0 0\n",
      "3\n"
     ]
    }
   ],
   "source": [
    "from collections import deque\n",
    "from itertools import combinations\n",
    "import copy\n",
    "\n",
    "dx = [1, 0, -1, 0]\n",
    "dy = [0, 1, 0, -1]\n",
    "\n",
    "def infection_bfs(y,x):\n",
    "    queue = deque()\n",
    "    queue.append((y,x))\n",
    "    visited[y][x] = True\n",
    "    \n",
    "    total = 1\n",
    "    while queue:\n",
    "        y,x = queue.popleft()\n",
    "        for index in range(4):\n",
    "            y_axis = y + dy[index]\n",
    "            x_axis = x + dx[index]\n",
    "            if 0 <= y_axis < N and 0 <= x_axis < M:\n",
    "                if copied_map[y_axis][x_axis] == 0 and not visited[y_axis][x_axis]:\n",
    "                    # visit mark\n",
    "                    visited[y_axis][x_axis] = True\n",
    "                    # infected\n",
    "                    copied_map[y_axis][x_axis] = 2\n",
    "                    queue.append((y_axis, x_axis))\n",
    "\n",
    "N, M = map(int, input().split())\n",
    "mmap = [list(map(int, input().split())) for _ in range(N)]\n",
    "\n",
    "not_infected = [(i,j) for i in range(len(mmap)) for j in range(len(mmap[i])) if mmap[i][j] == 0]\n",
    "not_infected_comb = combinations(not_infected, 3)\n",
    "\n",
    "maxi = 0\n",
    "for group in not_infected_comb:\n",
    "    visited = [[0]*M for _ in range(N)]\n",
    "    \n",
    "    # 맵 복사\n",
    "    copied_map = copy.deepcopy(mmap)\n",
    "    \n",
    "    # 벽 세우기\n",
    "    for y_idx, x_idx in group:\n",
    "        copied_map[y_idx][x_idx] = 1\n",
    "    \n",
    "    # 바이러스 위치에서부터 전염 진행\n",
    "    for y in range(N):\n",
    "        for x in range(M):\n",
    "            if copied_map[y][x] == 2 and not visited[y][x]:\n",
    "                infection_bfs(y,x)\n",
    "    \n",
    "    temp_maxi = 0\n",
    "    for j in copied_map:\n",
    "        sum_j = sum([1 for k in j if k == 0])\n",
    "        temp_maxi += sum_j\n",
    "\n",
    "    if temp_maxi > maxi:\n",
    "        maxi = temp_maxi\n",
    "print(maxi)"
   ]
  },
  {
   "cell_type": "markdown",
   "id": "c4cc0cbe",
   "metadata": {},
   "source": [
    "#### 2407. 조합"
   ]
  },
  {
   "cell_type": "code",
   "execution_count": 60,
   "id": "0dced8af",
   "metadata": {},
   "outputs": [
    {
     "name": "stdout",
     "output_type": "stream",
     "text": [
      "100 6\n",
      "1192052400\n"
     ]
    }
   ],
   "source": [
    "n,r = map(int, input().split())\n",
    "def factorial(n):\n",
    "    if n <= 1:\n",
    "        return 1\n",
    "    else:\n",
    "        return n*factorial(n-1)\n",
    "\n",
    "def combi(n, r):\n",
    "    return (factorial(n) // (factorial(n-r) * factorial(r)))\n",
    "\n",
    "print(combi(n, r))"
   ]
  },
  {
   "cell_type": "markdown",
   "id": "aa81bcd4",
   "metadata": {},
   "source": [
    "# 15650. N과 M (2)"
   ]
  },
  {
   "cell_type": "markdown",
   "id": "e6af1f7a",
   "metadata": {},
   "source": [
    "풀기는 풀었지만, 일단 분류에 '백트래킹'이라고 할당되어 있고,  \n",
    "이렇게 풀면 안될 것 같은 느낌적인 느낌이 든다..."
   ]
  },
  {
   "cell_type": "code",
   "execution_count": 16,
   "id": "25ca1dcb",
   "metadata": {},
   "outputs": [
    {
     "name": "stdout",
     "output_type": "stream",
     "text": [
      "1 2\n",
      "1 3\n",
      "1 4\n",
      "2 3\n",
      "2 4\n",
      "3 4\n"
     ]
    }
   ],
   "source": [
    "from itertools import combinations\n",
    "\n",
    "N, M = map(int, input().split())\n",
    "\n",
    "a = list(combinations(range(1, N+1), M))\n",
    "\n",
    "for tup in a:\n",
    "    print(' '.join(map(str, tup)))"
   ]
  },
  {
   "cell_type": "markdown",
   "id": "fa7c95a0",
   "metadata": {},
   "source": [
    "# 15686. 치킨 배달"
   ]
  },
  {
   "cell_type": "markdown",
   "id": "33b02575",
   "metadata": {},
   "source": [
    "치킨 거리 = 집과 가장 가까운 치킨집 사이의 거리\n",
    "1. 0: 빈칸 / 1: 집 / 2: 치킨 집\n",
    "2. 도시의 치킨 거리: 모든 집의 치킨 거리 합\n",
    "3. 치킨집 중 최대 M개 선택\n",
    "4. 치킨 거리를 최소로 설정"
   ]
  },
  {
   "cell_type": "markdown",
   "id": "8b86a4aa",
   "metadata": {},
   "source": [
    "1. 조합: 살릴 치킨 집에 대한 조합을 구한다.\n",
    "2. 거리 계산"
   ]
  },
  {
   "cell_type": "markdown",
   "id": "f0872f31",
   "metadata": {},
   "source": [
    "map과 lambda를 사용하는 것이 속도 개선에 도움이 될 듯 싶다."
   ]
  },
  {
   "cell_type": "code",
   "execution_count": 65,
   "id": "e070a789",
   "metadata": {},
   "outputs": [
    {
     "name": "stdout",
     "output_type": "stream",
     "text": [
      "32\n"
     ]
    }
   ],
   "source": [
    "from itertools import combinations\n",
    "import sys\n",
    "input = sys.stdin.readline\n",
    "\n",
    "N, M = map(int, input().split())\n",
    "chicken_map = [list(map(int, input().split())) for _ in range(N)]\n",
    "\n",
    "# 여기서 두 번 돌아서 시간이 더 걸리는 것일까?\n",
    "chicken, houses = [], []\n",
    "\n",
    "for r in range(N):\n",
    "    for c in range(N):\n",
    "        if chicken_map[r][c] == 1:\n",
    "            houses.append((r,c))\n",
    "        elif chicken_map[r][c] == 2:\n",
    "            chicken.append((r,c))\n",
    "\n",
    "# chicken = [(i,j) for i in range(len(chicken_map)) for j in range(len(chicken_map[i])) if chicken_map[i][j] == 2]\n",
    "# houses = [(i,j) for i in range(len(chicken_map)) for j in range(len(chicken_map[i])) if chicken_map[i][j] == 1]\n",
    "\n",
    "chicken_remains = combinations(chicken, M)\n",
    "\n",
    "min_total_chick_dist = float('inf')\n",
    "for chicken_remain in chicken_remains:\n",
    "    total_chick_dist = 0\n",
    "    # 집집마다\n",
    "    for hy, hx in houses:\n",
    "        min_chick_dist = float('inf')\n",
    "        # 치킨 집과의 거리 계산\n",
    "        for cy, cx in chicken_remain:\n",
    "            chick_dist = abs(cy-hy) + abs(cx-hx)\n",
    "            if chick_dist < min_chick_dist:\n",
    "                min_chick_dist = chick_dist\n",
    "        total_chick_dist += min_chick_dist\n",
    "    # total_chick_dist: 해당 치킨 집 조합에서 얻을 수 있는 도시의 치킨 거리\n",
    "    if total_chick_dist < min_total_chick_dist:\n",
    "        min_total_chick_dist = total_chick_dist\n",
    "        \n",
    "print(min_total_chick_dist)"
   ]
  },
  {
   "cell_type": "code",
   "execution_count": 68,
   "id": "a93e3c4c",
   "metadata": {},
   "outputs": [
    {
     "data": {
      "text/plain": [
       "[(0, 1, 2),\n",
       " (0, 1, 3),\n",
       " (0, 1, 4),\n",
       " (0, 1, 5),\n",
       " (0, 1, 6),\n",
       " (0, 1, 7),\n",
       " (0, 2, 3),\n",
       " (0, 2, 4),\n",
       " (0, 2, 5),\n",
       " (0, 2, 6),\n",
       " (0, 2, 7),\n",
       " (0, 3, 4),\n",
       " (0, 3, 5),\n",
       " (0, 3, 6),\n",
       " (0, 3, 7),\n",
       " (0, 4, 5),\n",
       " (0, 4, 6),\n",
       " (0, 4, 7),\n",
       " (0, 5, 6),\n",
       " (0, 5, 7),\n",
       " (0, 6, 7),\n",
       " (1, 2, 3),\n",
       " (1, 2, 4),\n",
       " (1, 2, 5),\n",
       " (1, 2, 6),\n",
       " (1, 2, 7),\n",
       " (1, 3, 4),\n",
       " (1, 3, 5),\n",
       " (1, 3, 6),\n",
       " (1, 3, 7),\n",
       " (1, 4, 5),\n",
       " (1, 4, 6),\n",
       " (1, 4, 7),\n",
       " (1, 5, 6),\n",
       " (1, 5, 7),\n",
       " (1, 6, 7),\n",
       " (2, 3, 4),\n",
       " (2, 3, 5),\n",
       " (2, 3, 6),\n",
       " (2, 3, 7),\n",
       " (2, 4, 5),\n",
       " (2, 4, 6),\n",
       " (2, 4, 7),\n",
       " (2, 5, 6),\n",
       " (2, 5, 7),\n",
       " (2, 6, 7),\n",
       " (3, 4, 5),\n",
       " (3, 4, 6),\n",
       " (3, 4, 7),\n",
       " (3, 5, 6),\n",
       " (3, 5, 7),\n",
       " (3, 6, 7),\n",
       " (4, 5, 6),\n",
       " (4, 5, 7),\n",
       " (4, 6, 7),\n",
       " (5, 6, 7)]"
      ]
     },
     "execution_count": 68,
     "metadata": {},
     "output_type": "execute_result"
    }
   ],
   "source": [
    "list(combinations((i for i in range(8)), 3))"
   ]
  },
  {
   "cell_type": "code",
   "execution_count": null,
   "id": "3fd68e5a",
   "metadata": {},
   "outputs": [],
   "source": []
  }
 ],
 "metadata": {
  "kernelspec": {
   "display_name": "Python 3 (ipykernel)",
   "language": "python",
   "name": "python3"
  },
  "language_info": {
   "codemirror_mode": {
    "name": "ipython",
    "version": 3
   },
   "file_extension": ".py",
   "mimetype": "text/x-python",
   "name": "python",
   "nbconvert_exporter": "python",
   "pygments_lexer": "ipython3",
   "version": "3.9.9"
  }
 },
 "nbformat": 4,
 "nbformat_minor": 5
}
