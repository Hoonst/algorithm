{
 "cells": [
  {
   "cell_type": "markdown",
   "id": "9074e53f",
   "metadata": {},
   "source": [
    "# Dijkstra"
   ]
  },
  {
   "cell_type": "markdown",
   "id": "f8940f22",
   "metadata": {},
   "source": [
    "# 1238. 파티"
   ]
  },
  {
   "cell_type": "markdown",
   "id": "06e43565",
   "metadata": {},
   "source": [
    "각각의 마을에 한명씩 산다\n",
    "모든 마을과 대상 마을간의 최단 경로를 구한 뒤, 그 중 최대의 값을 return"
   ]
  },
  {
   "cell_type": "code",
   "execution_count": 105,
   "id": "524a5732",
   "metadata": {},
   "outputs": [
    {
     "name": "stdout",
     "output_type": "stream",
     "text": [
      "4 8 2\n",
      "1 2 4\n",
      "1 3 2\n",
      "1 4 7\n",
      "2 1 1\n",
      "2 3 5\n",
      "3 1 2\n",
      "3 4 4\n",
      "4 2 3\n"
     ]
    }
   ],
   "source": [
    "N, M, X = map(int, input().split())\n",
    "\n",
    "INF=1e9\n",
    "\n",
    "graph = [[] for _ in range(N+1)]\n",
    "for _ in range(M):\n",
    "    start, end, time = map(int, input().split())\n",
    "    graph[start].append((end, time))"
   ]
  },
  {
   "cell_type": "code",
   "execution_count": 130,
   "id": "3815d340",
   "metadata": {},
   "outputs": [
    {
     "name": "stdout",
     "output_type": "stream",
     "text": [
      "1\n",
      "2\n",
      "3\n",
      "4\n",
      "10\n"
     ]
    }
   ],
   "source": [
    "N, M, X = map(int, input().split())\n",
    "\n",
    "INF=1e9\n",
    "\n",
    "graph = [[] for _ in range(N+1)]\n",
    "for _ in range(M):\n",
    "    start, end, time = map(int, input().split())\n",
    "    graph[start].append((end, time))\n",
    "\n",
    "# 방문하지 않은 곳을 탐색\n",
    "def get_smallest_node():\n",
    "    min_value = INF\n",
    "    index = 0\n",
    "    for i in range(1, N+1):\n",
    "        if distance[i] < min_value and not visited[i]:\n",
    "            min_value = distance[i]\n",
    "            index = i\n",
    "#             print(f'index:{i}')\n",
    "#             print(f'distance: {distance}')\n",
    "#             print(f'visited: {visited}')\n",
    "\n",
    "#     print('smallest inspection end')\n",
    "    return index\n",
    "\n",
    "def dijkstra(start):\n",
    "    # 자기 자신에게 0\n",
    "    distance[start] = 0\n",
    "    visited[start] = True\n",
    "    \n",
    "    # 시작점에 연결되어 있는 노드들에 연결된 값들에 대한 거리\n",
    "    for (idx, value) in graph[start]:\n",
    "        distance[idx] = value\n",
    "#     print(f'first distance {distance}')\n",
    "    # 각 노드마다 반복\n",
    "    for i in range(N-1):\n",
    "        now = get_smallest_node()\n",
    "        visited[now] = True\n",
    "#         print(f'now: {now}')\n",
    "        # now:현재 판단하고자 하는 노드 인덱스\n",
    "        for j in graph[now]:\n",
    "#             print(f'graph[now] {graph[now]}')\n",
    "            cost = distance[now] + j[1]\n",
    "            # 현재 값에서 새로이 더해줌\n",
    "            if cost < distance[j[0]]:\n",
    "                distance[j[0]]=cost\n",
    "#         print(f'for node {now} distance: {distance}')\n",
    "    return distance\n",
    "\n",
    "visited = [False]*(N+1)\n",
    "distance = [INF]*(N+1)\n",
    "\n",
    "result = 0 \n",
    "to_X = dijkstra(X)\n",
    "for i in range(1,N+1):\n",
    "    visited = [False]*(N+1)\n",
    "    distance = [INF]*(N+1)\n",
    "    from_X = dijkstra(i)\n",
    "    result = max(result, from_X[X] + to_X[i])\n",
    "print(result) \n",
    "# total_result = [a+b for a,b in zip(to_X, from_X)]\n",
    "# max_result = max(total_result)\n",
    "# print(max_result)"
   ]
  },
  {
   "cell_type": "code",
   "execution_count": 10,
   "id": "9bb2d6ea",
   "metadata": {},
   "outputs": [
    {
     "name": "stdout",
     "output_type": "stream",
     "text": [
      "4 8 2\n",
      "1 2 4\n",
      "1 3 2\n",
      "1 4 7\n",
      "2 1 1\n",
      "2 3 5\n",
      "3 1 2\n",
      "3 4 4\n",
      "4 2 3\n",
      "10\n"
     ]
    }
   ],
   "source": [
    "import heapq\n",
    "\n",
    "N, M, X = map(int, input().split())\n",
    "\n",
    "graph = [[] for _ in range(N+1)]\n",
    "for _ in range(M):\n",
    "    start, end, time = map(int, input().split())\n",
    "    graph[start].append((end, time))\n",
    "\n",
    "INF=1e9\n",
    "distance = [INF]*(N+1)\n",
    "\n",
    "def dijkstra(start):\n",
    "    q = []\n",
    "    distance = [INF] * (N+ 1)\n",
    "    \n",
    "    heapq.heappush(q, (0, start)) # (distance, node_idx)\n",
    "    distance[start] = 0\n",
    "    \n",
    "    while q:\n",
    "        dist, now = heapq.heappop(q)\n",
    "        \n",
    "        if distance[now] < dist:\n",
    "            continue\n",
    "        for node_index, node_cost in graph[now]:\n",
    "            cost = dist + node_cost\n",
    "            # 원래 시작점에서부터 해당 지점까지의 점수가 dist이고,\n",
    "            # node_cost는 새로운 target에 대한 거리\n",
    "            if distance[node_index] > cost:\n",
    "                distance[node_index] = cost\n",
    "                heapq.heappush(q, (cost, node_index))\n",
    "    return distance \n",
    "\n",
    "result = 0 \n",
    "to_X = dijkstra(X)\n",
    "for i in range(1,N+1):\n",
    "    visited = [False]*(N+1)\n",
    "    distance = [INF]*(N+1)\n",
    "    from_X = dijkstra(i)\n",
    "    result = max(result, from_X[X] + to_X[i])\n",
    "print(result) "
   ]
  },
  {
   "cell_type": "markdown",
   "id": "f9ab30ff",
   "metadata": {},
   "source": [
    "# 18352. 특정 거리의 도시 찾기"
   ]
  },
  {
   "cell_type": "markdown",
   "id": "b6337b36",
   "metadata": {},
   "source": [
    "* N: 도시 개수\n",
    "* M: 도로 개수\n",
    "* K: 거리 정보\n",
    "* X: 출발 도시 번호"
   ]
  },
  {
   "cell_type": "markdown",
   "id": "071f496f",
   "metadata": {},
   "source": [
    "다익스트라의 기본적인 개념이 무엇인가?  \n",
    "최단 경로를 찾는 것!"
   ]
  },
  {
   "cell_type": "code",
   "execution_count": 127,
   "id": "4da6fdd4",
   "metadata": {},
   "outputs": [
    {
     "name": "stdout",
     "output_type": "stream",
     "text": [
      "2\n",
      "3\n"
     ]
    }
   ],
   "source": [
    "import heapq\n",
    "\n",
    "N, M, K, start = map(int, input().split())\n",
    "\n",
    "graph = [[] for _ in range(N+1)]\n",
    "\n",
    "for m in range(M):\n",
    "    a,b = map(int, input().split())\n",
    "    graph[a].append((1,b))\n",
    "\n",
    "def dijkstra(start):\n",
    "    INF=1e9\n",
    "    distance = [INF]*(N+1)\n",
    "    \n",
    "    q = []\n",
    "    distance = [INF] * (N+ 1)\n",
    "    # start에서는 당연히 거리가 0이다.\n",
    "    heapq.heappush(q, (0, start)) # (distance, node_idx)\n",
    "    distance[start] = 0\n",
    "    while q:\n",
    "        dist, now = heapq.heappop(q)\n",
    "        if distance[now] < dist:\n",
    "            continue\n",
    "        for node_cost, node_index in graph[now]:\n",
    "            cost = dist + node_cost\n",
    "            # 원래 시작점에서부터 해당 지점까지의 점수가 dist이고,\n",
    "            # node_cost는 새로운 target에 대한 거리\n",
    "\n",
    "            if distance[node_index] > cost:\n",
    "                distance[node_index] = cost\n",
    "                heapq.heappush(q, (cost, node_index))\n",
    "    return distance   \n",
    "\n",
    "route = dijkstra(start)\n",
    "\n",
    "answer = [i for i in range(N+1) if route[i] == K]\n",
    "\n",
    "if answer:\n",
    "    for a in answer:\n",
    "        print(a)\n",
    "else:\n",
    "    print(-1)"
   ]
  },
  {
   "cell_type": "code",
   "execution_count": 126,
   "id": "82e4725e",
   "metadata": {},
   "outputs": [
    {
     "data": {
      "text/plain": [
       "[2, 3]"
      ]
     },
     "execution_count": 126,
     "metadata": {},
     "output_type": "execute_result"
    }
   ],
   "source": [
    "answer"
   ]
  },
  {
   "cell_type": "markdown",
   "id": "872c8b8e",
   "metadata": {},
   "source": [
    "순서대로 dijkstra에 무슨 일이 일어나는 지 기술  \n",
    "1. start부터 시작해서 distance에 distance[start] 부분을 0으로 만든다.\n",
    "2. 현재 node (start)와 연결되어 있는 다른 노드들의 비용과 인덱스를 탐색\n",
    "3. 다른 노드들에 대하여 현재까지의 거리를 더한다.\n",
    "    * 즉, 1번에서 거리가 0이라면, 0에다가 다음 노드의 거리를 더해줘야 다음 노드까지의 거리를 계산할 수 있다.\n",
    "4. 그런데 다른 경로로 이미 지금 탐색하는 노드의 거리가 계산한 cost보다 클 수 있다. \n",
    "5. 이럴 때 해당 cost를 지금까지의 거리에 덮어 씌운다. \n",
    "6. 그런데 왜 이제 heap 사용해 추가해주는가?\n",
    "7. heap에 해당 노드를 추가하여 다음 경로를 탐색한다고 생각하면 되고,\n",
    "8. 만약 연결된 노드가 없으면 아웃이며,\n",
    "9. 지금 경로보다 더 distance가 낮으면 다음 노드로 넘어간다."
   ]
  },
  {
   "cell_type": "markdown",
   "id": "cec0fb3e",
   "metadata": {},
   "source": [
    "# 12834. 주간 미팅"
   ]
  },
  {
   "cell_type": "code",
   "execution_count": 41,
   "id": "b7f15979",
   "metadata": {
    "collapsed": true
   },
   "outputs": [
    {
     "ename": "KeyboardInterrupt",
     "evalue": "Interrupted by user",
     "output_type": "error",
     "traceback": [
      "\u001b[0;31m---------------------------------------------------------------------------\u001b[0m",
      "\u001b[0;31mKeyboardInterrupt\u001b[0m                         Traceback (most recent call last)",
      "\u001b[0;32m/var/folders/fn/9dj0lp5d1vjdz651ldy376r40000gn/T/ipykernel_58419/2281115209.py\u001b[0m in \u001b[0;36m<module>\u001b[0;34m\u001b[0m\n\u001b[1;32m      1\u001b[0m \u001b[0;32mimport\u001b[0m \u001b[0mheapq\u001b[0m\u001b[0;34m\u001b[0m\u001b[0;34m\u001b[0m\u001b[0m\n\u001b[0;32m----> 2\u001b[0;31m \u001b[0mN\u001b[0m\u001b[0;34m,\u001b[0m \u001b[0mV\u001b[0m\u001b[0;34m,\u001b[0m \u001b[0mE\u001b[0m \u001b[0;34m=\u001b[0m \u001b[0mmap\u001b[0m\u001b[0;34m(\u001b[0m\u001b[0mint\u001b[0m\u001b[0;34m,\u001b[0m \u001b[0minput\u001b[0m\u001b[0;34m(\u001b[0m\u001b[0;34m)\u001b[0m\u001b[0;34m.\u001b[0m\u001b[0msplit\u001b[0m\u001b[0;34m(\u001b[0m\u001b[0;34m)\u001b[0m\u001b[0;34m)\u001b[0m\u001b[0;34m\u001b[0m\u001b[0;34m\u001b[0m\u001b[0m\n\u001b[0m\u001b[1;32m      3\u001b[0m \u001b[0;34m\u001b[0m\u001b[0m\n\u001b[1;32m      4\u001b[0m \u001b[0mA\u001b[0m\u001b[0;34m,\u001b[0m \u001b[0mB\u001b[0m \u001b[0;34m=\u001b[0m \u001b[0mmap\u001b[0m\u001b[0;34m(\u001b[0m\u001b[0mint\u001b[0m\u001b[0;34m,\u001b[0m \u001b[0minput\u001b[0m\u001b[0;34m(\u001b[0m\u001b[0;34m)\u001b[0m\u001b[0;34m.\u001b[0m\u001b[0msplit\u001b[0m\u001b[0;34m(\u001b[0m\u001b[0;34m)\u001b[0m\u001b[0;34m)\u001b[0m\u001b[0;34m\u001b[0m\u001b[0;34m\u001b[0m\u001b[0m\n\u001b[1;32m      5\u001b[0m \u001b[0mteam_home\u001b[0m \u001b[0;34m=\u001b[0m \u001b[0mlist\u001b[0m\u001b[0;34m(\u001b[0m\u001b[0mmap\u001b[0m\u001b[0;34m(\u001b[0m\u001b[0mint\u001b[0m\u001b[0;34m,\u001b[0m \u001b[0minput\u001b[0m\u001b[0;34m(\u001b[0m\u001b[0;34m)\u001b[0m\u001b[0;34m.\u001b[0m\u001b[0msplit\u001b[0m\u001b[0;34m(\u001b[0m\u001b[0;34m)\u001b[0m\u001b[0;34m)\u001b[0m\u001b[0;34m)\u001b[0m\u001b[0;34m\u001b[0m\u001b[0;34m\u001b[0m\u001b[0m\n",
      "\u001b[0;32m/usr/local/lib/python3.9/site-packages/ipykernel/kernelbase.py\u001b[0m in \u001b[0;36mraw_input\u001b[0;34m(self, prompt)\u001b[0m\n\u001b[1;32m   1005\u001b[0m                 \u001b[0;34m\"raw_input was called, but this frontend does not support input requests.\"\u001b[0m\u001b[0;34m\u001b[0m\u001b[0;34m\u001b[0m\u001b[0m\n\u001b[1;32m   1006\u001b[0m             )\n\u001b[0;32m-> 1007\u001b[0;31m         return self._input_request(\n\u001b[0m\u001b[1;32m   1008\u001b[0m             \u001b[0mstr\u001b[0m\u001b[0;34m(\u001b[0m\u001b[0mprompt\u001b[0m\u001b[0;34m)\u001b[0m\u001b[0;34m,\u001b[0m\u001b[0;34m\u001b[0m\u001b[0;34m\u001b[0m\u001b[0m\n\u001b[1;32m   1009\u001b[0m             \u001b[0mself\u001b[0m\u001b[0;34m.\u001b[0m\u001b[0m_parent_ident\u001b[0m\u001b[0;34m[\u001b[0m\u001b[0;34m\"shell\"\u001b[0m\u001b[0;34m]\u001b[0m\u001b[0;34m,\u001b[0m\u001b[0;34m\u001b[0m\u001b[0;34m\u001b[0m\u001b[0m\n",
      "\u001b[0;32m/usr/local/lib/python3.9/site-packages/ipykernel/kernelbase.py\u001b[0m in \u001b[0;36m_input_request\u001b[0;34m(self, prompt, ident, parent, password)\u001b[0m\n\u001b[1;32m   1050\u001b[0m             \u001b[0;32mexcept\u001b[0m \u001b[0mKeyboardInterrupt\u001b[0m\u001b[0;34m:\u001b[0m\u001b[0;34m\u001b[0m\u001b[0;34m\u001b[0m\u001b[0m\n\u001b[1;32m   1051\u001b[0m                 \u001b[0;31m# re-raise KeyboardInterrupt, to truncate traceback\u001b[0m\u001b[0;34m\u001b[0m\u001b[0;34m\u001b[0m\u001b[0m\n\u001b[0;32m-> 1052\u001b[0;31m                 \u001b[0;32mraise\u001b[0m \u001b[0mKeyboardInterrupt\u001b[0m\u001b[0;34m(\u001b[0m\u001b[0;34m\"Interrupted by user\"\u001b[0m\u001b[0;34m)\u001b[0m \u001b[0;32mfrom\u001b[0m \u001b[0;32mNone\u001b[0m\u001b[0;34m\u001b[0m\u001b[0;34m\u001b[0m\u001b[0m\n\u001b[0m\u001b[1;32m   1053\u001b[0m             \u001b[0;32mexcept\u001b[0m \u001b[0mException\u001b[0m\u001b[0;34m:\u001b[0m\u001b[0;34m\u001b[0m\u001b[0;34m\u001b[0m\u001b[0m\n\u001b[1;32m   1054\u001b[0m                 \u001b[0mself\u001b[0m\u001b[0;34m.\u001b[0m\u001b[0mlog\u001b[0m\u001b[0;34m.\u001b[0m\u001b[0mwarning\u001b[0m\u001b[0;34m(\u001b[0m\u001b[0;34m\"Invalid Message:\"\u001b[0m\u001b[0;34m,\u001b[0m \u001b[0mexc_info\u001b[0m\u001b[0;34m=\u001b[0m\u001b[0;32mTrue\u001b[0m\u001b[0;34m)\u001b[0m\u001b[0;34m\u001b[0m\u001b[0;34m\u001b[0m\u001b[0m\n",
      "\u001b[0;31mKeyboardInterrupt\u001b[0m: Interrupted by user"
     ]
    }
   ],
   "source": [
    "import heapq\n",
    "N, V, E = map(int, input().split())\n",
    "\n",
    "A, B = map(int, input().split())\n",
    "team_home = list(map(int, input().split()))\n",
    "\n",
    "graph = [[] for _ in range(V+1)]\n",
    "\n",
    "for _ in range(E):\n",
    "    a,b,l = map(int, input().split())\n",
    "    graph[a].append((l,b))\n",
    "    graph[b].append((l,a))\n",
    "\n",
    "def dijkstra(start): \n",
    "    q = []\n",
    "    distance = [INF] * (V+ 1)\n",
    "    # start에서는 당연히 거리가 0이다.\n",
    "    heapq.heappush(q, (0, start)) # (distance, node_idx)\n",
    "    distance[start] = 0\n",
    "    while q:\n",
    "        dist, now = heapq.heappop(q)\n",
    "        if distance[now] < dist:\n",
    "            continue\n",
    "        for node_cost, node_index in graph[now]:\n",
    "            cost = dist + node_cost\n",
    "            # 원래 시작점에서부터 해당 지점까지의 점수가 dist이고,\n",
    "            # node_cost는 새로운 target에 대한 거리\n",
    "\n",
    "            if distance[node_index] > cost:\n",
    "                distance[node_index] = cost\n",
    "                heapq.heappush(q, (cost, node_index))\n",
    "    return distance   \n",
    "\n",
    "INF=1e9  \n",
    "answer = 0\n",
    "for start in team_home:\n",
    "    d = dijkstra(start)\n",
    "    a = d[A] if d[A] != INF else -1\n",
    "    b = d[B] if d[B] != INF else -1\n",
    "    \n",
    "    answer += (a+b)\n",
    "print(answer) "
   ]
  },
  {
   "cell_type": "markdown",
   "id": "5d14fe16",
   "metadata": {},
   "source": [
    "# 1753. 최단 경로"
   ]
  },
  {
   "cell_type": "code",
   "execution_count": 1,
   "id": "2d56955e",
   "metadata": {},
   "outputs": [
    {
     "name": "stdout",
     "output_type": "stream",
     "text": [
      "5 6\n",
      "1 \n",
      "5 1 1\n",
      "1 2 2\n",
      "1 3 3\n",
      "2 3 4\n",
      "2 4 5\n",
      "3 4 6\n"
     ]
    },
    {
     "ename": "NameError",
     "evalue": "name 'INF' is not defined",
     "output_type": "error",
     "traceback": [
      "\u001b[0;31m---------------------------------------------------------------------------\u001b[0m",
      "\u001b[0;31mNameError\u001b[0m                                 Traceback (most recent call last)",
      "\u001b[0;32m/var/folders/fn/9dj0lp5d1vjdz651ldy376r40000gn/T/ipykernel_61385/383269856.py\u001b[0m in \u001b[0;36m<module>\u001b[0;34m\u001b[0m\n\u001b[1;32m     28\u001b[0m     \u001b[0;32mreturn\u001b[0m \u001b[0mdistance\u001b[0m\u001b[0;34m\u001b[0m\u001b[0;34m\u001b[0m\u001b[0m\n\u001b[1;32m     29\u001b[0m \u001b[0;34m\u001b[0m\u001b[0m\n\u001b[0;32m---> 30\u001b[0;31m \u001b[0mdist\u001b[0m \u001b[0;34m=\u001b[0m \u001b[0mdijkstra\u001b[0m\u001b[0;34m(\u001b[0m\u001b[0mK\u001b[0m\u001b[0;34m)\u001b[0m\u001b[0;34m\u001b[0m\u001b[0;34m\u001b[0m\u001b[0m\n\u001b[0m\u001b[1;32m     31\u001b[0m \u001b[0;34m\u001b[0m\u001b[0m\n\u001b[1;32m     32\u001b[0m \u001b[0;32mfor\u001b[0m \u001b[0mi\u001b[0m \u001b[0;32min\u001b[0m \u001b[0mrange\u001b[0m\u001b[0;34m(\u001b[0m\u001b[0;36m1\u001b[0m\u001b[0;34m,\u001b[0m \u001b[0mlen\u001b[0m\u001b[0;34m(\u001b[0m\u001b[0mdist\u001b[0m\u001b[0;34m)\u001b[0m\u001b[0;34m)\u001b[0m\u001b[0;34m:\u001b[0m\u001b[0;34m\u001b[0m\u001b[0;34m\u001b[0m\u001b[0m\n",
      "\u001b[0;32m/var/folders/fn/9dj0lp5d1vjdz651ldy376r40000gn/T/ipykernel_61385/383269856.py\u001b[0m in \u001b[0;36mdijkstra\u001b[0;34m(start)\u001b[0m\n\u001b[1;32m     10\u001b[0m \u001b[0;32mdef\u001b[0m \u001b[0mdijkstra\u001b[0m\u001b[0;34m(\u001b[0m\u001b[0mstart\u001b[0m\u001b[0;34m)\u001b[0m\u001b[0;34m:\u001b[0m\u001b[0;34m\u001b[0m\u001b[0;34m\u001b[0m\u001b[0m\n\u001b[1;32m     11\u001b[0m     \u001b[0mq\u001b[0m \u001b[0;34m=\u001b[0m \u001b[0;34m[\u001b[0m\u001b[0;34m]\u001b[0m\u001b[0;34m\u001b[0m\u001b[0;34m\u001b[0m\u001b[0m\n\u001b[0;32m---> 12\u001b[0;31m     \u001b[0mdistance\u001b[0m \u001b[0;34m=\u001b[0m \u001b[0;34m[\u001b[0m\u001b[0mINF\u001b[0m\u001b[0;34m]\u001b[0m \u001b[0;34m*\u001b[0m \u001b[0;34m(\u001b[0m\u001b[0mV\u001b[0m\u001b[0;34m+\u001b[0m \u001b[0;36m1\u001b[0m\u001b[0;34m)\u001b[0m\u001b[0;34m\u001b[0m\u001b[0;34m\u001b[0m\u001b[0m\n\u001b[0m\u001b[1;32m     13\u001b[0m     \u001b[0;31m# start에서는 당연히 거리가 0이다.\u001b[0m\u001b[0;34m\u001b[0m\u001b[0;34m\u001b[0m\u001b[0m\n\u001b[1;32m     14\u001b[0m     \u001b[0mheapq\u001b[0m\u001b[0;34m.\u001b[0m\u001b[0mheappush\u001b[0m\u001b[0;34m(\u001b[0m\u001b[0mq\u001b[0m\u001b[0;34m,\u001b[0m \u001b[0;34m(\u001b[0m\u001b[0;36m0\u001b[0m\u001b[0;34m,\u001b[0m \u001b[0mstart\u001b[0m\u001b[0;34m)\u001b[0m\u001b[0;34m)\u001b[0m \u001b[0;31m# (distance, node_idx)\u001b[0m\u001b[0;34m\u001b[0m\u001b[0;34m\u001b[0m\u001b[0m\n",
      "\u001b[0;31mNameError\u001b[0m: name 'INF' is not defined"
     ]
    }
   ],
   "source": [
    "import heapq\n",
    "V, E = map(int, input().split())\n",
    "K = int(input())\n",
    "\n",
    "graph = [[] for _ in range(V+1)]\n",
    "for _ in range(E):\n",
    "    start, end, weight = map(int, input().split())\n",
    "    graph[start].append((weight, end))\n",
    "    \n",
    "def dijkstra(start): \n",
    "    INF=1e9\n",
    "    q = []\n",
    "    distance = [INF] * (V+ 1)\n",
    "    # start에서는 당연히 거리가 0이다.\n",
    "    heapq.heappush(q, (0, start)) # (distance, node_idx)\n",
    "    distance[start] = 0\n",
    "    while q:\n",
    "        dist, now = heapq.heappop(q)\n",
    "        if distance[now] < dist:\n",
    "            continue\n",
    "        for node_cost, node_index in graph[now]:\n",
    "            cost = dist + node_cost\n",
    "            # 원래 시작점에서부터 해당 지점까지의 점수가 dist이고,\n",
    "            # node_cost는 새로운 target에 대한 거리\n",
    "\n",
    "            if distance[node_index] > cost:\n",
    "                distance[node_index] = cost\n",
    "                heapq.heappush(q, (cost, node_index))\n",
    "    return distance   \n",
    "\n",
    "dist = dijkstra(K)\n",
    "\n",
    "for i in range(1, len(dist)):\n",
    "    dist = [d if d != INF else 'INF' for d in dist]\n",
    "    print(dist[i])"
   ]
  },
  {
   "cell_type": "code",
   "execution_count": null,
   "id": "c19e25b5",
   "metadata": {},
   "outputs": [],
   "source": []
  }
 ],
 "metadata": {
  "kernelspec": {
   "display_name": "Python 3 (ipykernel)",
   "language": "python",
   "name": "python3"
  },
  "language_info": {
   "codemirror_mode": {
    "name": "ipython",
    "version": 3
   },
   "file_extension": ".py",
   "mimetype": "text/x-python",
   "name": "python",
   "nbconvert_exporter": "python",
   "pygments_lexer": "ipython3",
   "version": "3.9.9"
  }
 },
 "nbformat": 4,
 "nbformat_minor": 5
}
