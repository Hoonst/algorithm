{
 "cells": [
  {
   "cell_type": "markdown",
   "id": "68985c27",
   "metadata": {},
   "source": [
    "# 직사각형에서 탈출"
   ]
  },
  {
   "cell_type": "markdown",
   "id": "95b9c921",
   "metadata": {},
   "source": [
    "한수는 지금 (x, y)에 있다. 직사각형은 각 변이 좌표축에 평행하고, 왼쪽 아래 꼭짓점은 (0, 0), 오른쪽 위 꼭짓점은 (w, h)에 있다. 직사각형의 경계선까지 가는 거리의 최솟값을 구하는 프로그램을 작성하시오."
   ]
  },
  {
   "cell_type": "code",
   "execution_count": 11,
   "id": "2d17ba9f",
   "metadata": {},
   "outputs": [
    {
     "name": "stdout",
     "output_type": "stream",
     "text": [
      "6 2 10 3\n"
     ]
    }
   ],
   "source": [
    "x, y, w, h = list(map(int, input().split()))"
   ]
  },
  {
   "cell_type": "code",
   "execution_count": 13,
   "id": "37cbeb37",
   "metadata": {},
   "outputs": [],
   "source": [
    "answer = (w-x) + (h-y) "
   ]
  },
  {
   "cell_type": "code",
   "execution_count": 14,
   "id": "cdc30f1a",
   "metadata": {},
   "outputs": [
    {
     "data": {
      "text/plain": [
       "5"
      ]
     },
     "execution_count": 14,
     "metadata": {},
     "output_type": "execute_result"
    }
   ],
   "source": [
    "answer"
   ]
  },
  {
   "cell_type": "code",
   "execution_count": 22,
   "id": "aafa3ed7",
   "metadata": {},
   "outputs": [
    {
     "name": "stdout",
     "output_type": "stream",
     "text": [
      "6 2 10 3\n",
      "1\n"
     ]
    }
   ],
   "source": [
    "x, y, w, h = list(map(int, input().split()))\n",
    "\n",
    "def rectangle(x, y, w, h):\n",
    "    distance = [w-x, h-y, x, y]\n",
    "    print(sorted(distance)[0])\n",
    "\n",
    "rectangle(x, y, w, h)"
   ]
  },
  {
   "cell_type": "markdown",
   "id": "54732f23",
   "metadata": {},
   "source": [
    "# 단어 정렬"
   ]
  },
  {
   "cell_type": "markdown",
   "id": "379282d7",
   "metadata": {},
   "source": [
    "알파벳 소문자로 이루어진 N개의 단어가 들어오면 아래와 같은 조건에 따라 정렬하는 프로그램을 작성하시오.\n",
    "\n",
    "1. 길이가 짧은 것부터\n",
    "2. 길이가 같으면 사전 순으로"
   ]
  },
  {
   "cell_type": "markdown",
   "id": "10101285",
   "metadata": {},
   "source": [
    "해당 문제는 Sort를 잘 활용할 줄 알면 쉽게 풀리는 문제다.\n",
    "\n",
    "Sort의 기본 속성에 대해서 정리해보고자 한다.\n",
    "\n",
    "**Sort**\n",
    "\n",
    "* list.sort() > list를 sorting해주긴 하지만 return하지는 않는다.\n",
    "* sorted(list) > list를 sorting하여 return 해준다.\n",
    "* sorted(list, key = lambda x: int(x[2:])) > 기준을 가지고 sorting을 하고 싶은 경"
   ]
  },
  {
   "cell_type": "code",
   "execution_count": 92,
   "id": "7fcddab9",
   "metadata": {},
   "outputs": [
    {
     "name": "stdout",
     "output_type": "stream",
     "text": [
      "Original List: [('Mark', 1), ('Jack', 5), ('Jake', 7), ('Sam', 3)]\n",
      "Sorted\n",
      "[('Jack', 5), ('Jake', 7), ('Mark', 1), ('Sam', 3)]\n",
      "\n",
      "Sorted with key length\n",
      "[('Mark', 1), ('Jack', 5), ('Jake', 7), ('Sam', 3)]\n",
      "length에 대해서는 첫번째 인덱스로 바로 정렬이 되지 않는 것 같다\n",
      "[('Mark', 1), ('Jack', 5), ('Jake', 7), ('Sam', 3)]\n",
      "Sorted with 1st index\n",
      "[('Mark', 1), ('Sam', 3), ('Jack', 5), ('Jake', 7)]\n",
      "음수를 붙여 주면 내림차순\n",
      "[('Jake', 7), ('Jack', 5), ('Sam', 3), ('Mark', 1)]\n",
      "\n",
      "['좋은하루', 'good_morning', '굿모닝', 'niceday']\n",
      "['굿모닝', '좋은하루', 'niceday', 'good_morning']\n"
     ]
    }
   ],
   "source": [
    "# sorted 같은 경우, lambda를 사용하지 않으면 첫번째 원소를 기준으로 sorting을 진행한다.\n",
    "lst = [('Mark',1),('Jack',5),('Jake',7),('Sam',3)]\n",
    "print(f'Original List: {lst}')\n",
    "\n",
    "\n",
    "lst = [('Mark',1),('Jack',5),('Jake',7),('Sam',3)]\n",
    "print('Sorted')\n",
    "print(sorted(lst))\n",
    "print()\n",
    "\n",
    "# sorted의 key로 len을 사용하게 되면 dictionary 기준이 아니라 길이 기준으로 정렬을 하게 된다.\n",
    "print('Sorted with key length')\n",
    "lst = [('Mark',1),('Jack',5),('Jake',7),('Sam',3)]\n",
    "print(sorted(lst, key=len))\n",
    "print('length에 대해서는 첫번째 인덱스로 바로 정렬이 되지 않는 것 같다')\n",
    "print(sorted(lst, key = lambda x: len(str(x[1]))))\n",
    "# 이 파트는 가능하지 않은 것 같다.\n",
    "\n",
    "# sorted의 key로 lambda를 사용해 1번째 인덱스의 원소를 기준으로 sorting 가능\n",
    "print('Sorted with 1st index')\n",
    "lst = [('Mark',1),('Jack',5),('Jake',7),('Sam',3)]\n",
    "print(sorted(lst, key = lambda x: int(x[1])))\n",
    "print('음수를 붙여 주면 내림차순')\n",
    "print(sorted(lst, key = lambda x: -int(x[1])))\n",
    "print()\n",
    "\n",
    "# key값에 한 가지 기준만을 사용할 필요는 없으며, 순서대로 두 가지 이상의 기준을 사용할 수 있다.\n",
    "str_list = ['좋은하루','good_morning','굿모닝','niceday']\n",
    "print(str_list)\n",
    "\n",
    "print(sorted(str_list, key=len))  # 함수"
   ]
  },
  {
   "cell_type": "code",
   "execution_count": 107,
   "id": "0f41e80e",
   "metadata": {},
   "outputs": [],
   "source": [
    "length = 13\n",
    "word = ['but', 'i', 'wont', 'hesitate', 'no', 'more', 'no', 'more', 'it', 'cannot', 'wait', 'im', 'yours']"
   ]
  },
  {
   "cell_type": "code",
   "execution_count": 112,
   "id": "fcdf29a7",
   "metadata": {},
   "outputs": [
    {
     "name": "stdout",
     "output_type": "stream",
     "text": [
      "i\n",
      "im\n",
      "it\n",
      "no\n",
      "but\n",
      "more\n",
      "wait\n",
      "wont\n",
      "yours\n",
      "cannot\n",
      "hesitate\n"
     ]
    }
   ],
   "source": [
    "word = list(set(word))\n",
    "test = []\n",
    "for w in word:\n",
    "    test.append((len(w), w))\n",
    "answer = sorted(test)\n",
    "\n",
    "for length, wrd in answer:\n",
    "    print(wrd)"
   ]
  },
  {
   "cell_type": "code",
   "execution_count": 93,
   "id": "1d795bfd",
   "metadata": {
    "collapsed": true
   },
   "outputs": [
    {
     "name": "stdout",
     "output_type": "stream",
     "text": [
      "\n"
     ]
    },
    {
     "ename": "ValueError",
     "evalue": "invalid literal for int() with base 10: ''",
     "output_type": "error",
     "traceback": [
      "\u001b[0;31m---------------------------------------------------------------------------\u001b[0m",
      "\u001b[0;31mValueError\u001b[0m                                Traceback (most recent call last)",
      "\u001b[0;32m<ipython-input-93-c33224c87f24>\u001b[0m in \u001b[0;36m<module>\u001b[0;34m\u001b[0m\n\u001b[1;32m      2\u001b[0m \u001b[0;32mfrom\u001b[0m \u001b[0mcollections\u001b[0m \u001b[0;32mimport\u001b[0m \u001b[0mdefaultdict\u001b[0m \u001b[0;32mas\u001b[0m \u001b[0mdd\u001b[0m\u001b[0;34m\u001b[0m\u001b[0;34m\u001b[0m\u001b[0m\n\u001b[1;32m      3\u001b[0m \u001b[0;34m\u001b[0m\u001b[0m\n\u001b[0;32m----> 4\u001b[0;31m \u001b[0mlength\u001b[0m \u001b[0;34m=\u001b[0m \u001b[0mint\u001b[0m\u001b[0;34m(\u001b[0m\u001b[0minput\u001b[0m\u001b[0;34m(\u001b[0m\u001b[0;34m)\u001b[0m\u001b[0;34m)\u001b[0m\u001b[0;34m\u001b[0m\u001b[0;34m\u001b[0m\u001b[0m\n\u001b[0m\u001b[1;32m      5\u001b[0m \u001b[0mword\u001b[0m \u001b[0;34m=\u001b[0m \u001b[0;34m[\u001b[0m\u001b[0;34m]\u001b[0m\u001b[0;34m\u001b[0m\u001b[0;34m\u001b[0m\u001b[0m\n\u001b[1;32m      6\u001b[0m \u001b[0;32mfor\u001b[0m \u001b[0mi\u001b[0m \u001b[0;32min\u001b[0m \u001b[0mrange\u001b[0m\u001b[0;34m(\u001b[0m\u001b[0mlength\u001b[0m\u001b[0;34m)\u001b[0m\u001b[0;34m:\u001b[0m\u001b[0;34m\u001b[0m\u001b[0;34m\u001b[0m\u001b[0m\n",
      "\u001b[0;31mValueError\u001b[0m: invalid literal for int() with base 10: ''"
     ]
    }
   ],
   "source": [
    "# My answer\n",
    "from collections import defaultdict as dd\n",
    "\n",
    "length = int(input())\n",
    "word = []\n",
    "for i in range(length):\n",
    "    word.append(input())\n",
    "\n",
    "sort_dict = dd(lambda: [])\n",
    "answer = []\n",
    "\n",
    "for w in word:\n",
    "    sort_dict[len(w)].append(w)\n",
    "\n",
    "for key in sorted(sort_dict.keys()):\n",
    "    key_sort = sorted(list(set(sort_dict[key])))\n",
    "    answer += key_sort\n",
    "    \n",
    "for a in answer:\n",
    "    print(a)"
   ]
  },
  {
   "cell_type": "markdown",
   "id": "127bc5e1",
   "metadata": {},
   "source": [
    "# 2231. 분해합"
   ]
  },
  {
   "cell_type": "markdown",
   "id": "b9235909",
   "metadata": {},
   "source": [
    "어떤 자연수 N이 있을 때, 그 자연수 N의 분해합은 N과 N을 이루는 각 자리수의 합을 의미한다. 어떤 자연수 M의 분해합이 N인 경우, M을 N의 생성자라 한다. 예를 들어, 245의 분해합은 256(=245+2+4+5)이 된다. 따라서 245는 256의 생성자가 된다. 물론, 어떤 자연수의 경우에는 생성자가 없을 수도 있다. 반대로, 생성자가 여러 개인 자연수도 있을 수 있다.\n",
    "\n",
    "자연수 N이 주어졌을 때, N의 가장 작은 생성자를 구해내는 프로그램을 작성하시오."
   ]
  },
  {
   "cell_type": "code",
   "execution_count": 113,
   "id": "4683ca1d",
   "metadata": {},
   "outputs": [
    {
     "name": "stdout",
     "output_type": "stream",
     "text": [
      "216\n"
     ]
    }
   ],
   "source": [
    "N = int(input())"
   ]
  },
  {
   "cell_type": "markdown",
   "id": "aa093326",
   "metadata": {},
   "source": [
    "245 - 분해합: 256 (2+4+5 = 11)\n",
    "256 - 생성자: 245"
   ]
  },
  {
   "cell_type": "code",
   "execution_count": 142,
   "id": "d6432646",
   "metadata": {},
   "outputs": [
    {
     "name": "stdout",
     "output_type": "stream",
     "text": [
      "256\n",
      "245\n"
     ]
    }
   ],
   "source": [
    "# My answer\n",
    "N = int(input())\n",
    "index = 1\n",
    "generator_list = []\n",
    "\n",
    "while True:\n",
    "    generator = N-index\n",
    "    if generator <  N - len(str(N))*9:\n",
    "        break\n",
    "    split = sum(map(int, str(generator))) \n",
    "#     split = sum([int(i) for i in str(generator)])\n",
    "    \n",
    "    if split+generator == N:\n",
    "        generator_list.append(generator)\n",
    "    index += 1\n",
    "    \n",
    "    if generator == 0:\n",
    "        break\n",
    "\n",
    "if generator_list == []:\n",
    "    print(0)\n",
    "else:\n",
    "    print(min(generator_list))"
   ]
  },
  {
   "cell_type": "markdown",
   "id": "1a8e03e0",
   "metadata": {},
   "source": [
    "이 문제는 옳게 풀은 것 같다.\n",
    "하지만 나 같은 경우에는 주어진 숫자부터 0까지 모든 Search를 다 했지만,\n",
    "Search의 Max를 주는 것도 시간 및 메모리를 줄이는 데에 큰 도움이 된다.\n",
    "\n",
    "예를 들어 256이 들어왔을 때, 탐색 범위는 256보다 작은 수 중, 9 * (자리수)보다 작은 숫자까지만 탐색하면 된다.\n",
    "그 이유는 더 이상 숫자를 줄여봤자 256을 절대 만들 수 없기 때문이다."
   ]
  },
  {
   "cell_type": "markdown",
   "id": "563ba073",
   "metadata": {},
   "source": [
    "# 2839. 설탕배달"
   ]
  },
  {
   "cell_type": "markdown",
   "id": "37f1b962",
   "metadata": {},
   "source": [
    "상근이는 요즘 설탕공장에서 설탕을 배달하고 있다. 상근이는 지금 사탕가게에 설탕을 정확하게 N킬로그램을 배달해야 한다. 설탕공장에서 만드는 설탕은 봉지에 담겨져 있다. 봉지는 3킬로그램 봉지와 5킬로그램 봉지가 있다.\n",
    "\n",
    "상근이는 귀찮기 때문에, 최대한 적은 봉지를 들고 가려고 한다. 예를 들어, 18킬로그램 설탕을 배달해야 할 때, 3킬로그램 봉지 6개를 가져가도 되지만, 5킬로그램 3개와 3킬로그램 1개를 배달하면, 더 적은 개수의 봉지를 배달할 수 있다.\n",
    "\n",
    "상근이가 설탕을 정확하게 N킬로그램 배달해야 할 때, 봉지 몇 개를 가져가면 되는지 그 수를 구하는 프로그램을 작성하시오."
   ]
  },
  {
   "cell_type": "code",
   "execution_count": 155,
   "id": "e5c8d9e4",
   "metadata": {},
   "outputs": [
    {
     "name": "stdout",
     "output_type": "stream",
     "text": [
      "6\n",
      "1\n",
      "-1\n"
     ]
    }
   ],
   "source": [
    "weight = int(input())\n",
    "five_bag, leftover = divmod(weight, 5)\n",
    "print(leftover)\n",
    "three_bag, leftover = divmod(leftover, 3)\n",
    "\n",
    "total_bag = five_bag + three_bag\n",
    "if leftover:\n",
    "    print(-1)\n",
    "else:  \n",
    "    print(five_bag + three_bag)"
   ]
  },
  {
   "cell_type": "code",
   "execution_count": null,
   "id": "c7f41ac8",
   "metadata": {},
   "outputs": [],
   "source": [
    "def divmod_(weight, bag_num):\n",
    "    bags, left_over = divmod(weight, bag_num)\n",
    "    if left_over == 0:\n",
    "        return bags\n",
    "    elif left_over != 0:\n",
    "        return bags, left_over\n",
    "\n",
    "def bags(weight):\n",
    "    "
   ]
  },
  {
   "cell_type": "code",
   "execution_count": null,
   "id": "7a98e949",
   "metadata": {},
   "outputs": [],
   "source": [
    "def divmod_sugar(weight):\n",
    "    if weight in [1,2,4]:\n",
    "        return -1\n",
    "    elif weight - 5 < 3:\n",
    "        "
   ]
  },
  {
   "cell_type": "markdown",
   "id": "fa50096b",
   "metadata": {},
   "source": [
    "# 1463. 1로 만들기"
   ]
  },
  {
   "cell_type": "markdown",
   "id": "c34be6cd",
   "metadata": {},
   "source": [
    "정수 X에 사용할 수 있는 연산은 다음과 같이 세 가지 이다.\n",
    "\n",
    "1. X가 3으로 나누어 떨어지면, 3으로 나눈다.\n",
    "2. X가 2로 나누어 떨어지면, 2로 나눈다.\n",
    "3. 1을 뺀다.\n",
    "\n",
    "정수 N이 주어졌을 때, 위와 같은 연산 세 개를 적절히 사용해서 1을 만들려고 한다. 연산을 사용하는 횟수의 최솟값을 출력하시오."
   ]
  },
  {
   "cell_type": "markdown",
   "id": "0868ca83",
   "metadata": {},
   "source": [
    "# 1436. 영화감독 숌"
   ]
  },
  {
   "cell_type": "markdown",
   "id": "605e4d90",
   "metadata": {},
   "source": [
    "666은 종말을 나타내는 숫자라고 한다. 따라서, 많은 블록버스터 영화에서는 666이 들어간 제목을 많이 사용한다. 영화감독 숌은 세상의 종말 이라는 시리즈 영화의 감독이다. 조지 루카스는 스타워즈를 만들 때, 스타워즈 1, 스타워즈 2, 스타워즈 3, 스타워즈 4, 스타워즈 5, 스타워즈 6과 같이 이름을 지었고, 피터 잭슨은 반지의 제왕을 만들 때, 반지의 제왕 1, 반지의 제왕 2, 반지의 제왕 3과 같이 영화 제목을 지었다.\n",
    "\n",
    "하지만 숌은 자신이 조지 루카스와 피터 잭슨을 뛰어넘는다는 것을 보여주기 위해서 영화 제목을 좀 다르게 만들기로 했다.\n",
    "\n",
    "종말의 숫자란 어떤 수에 6이 적어도 3개이상 연속으로 들어가는 수를 말한다. 제일 작은 종말의 숫자는 666이고, 그 다음으로 큰 수는 1666, 2666, 3666, .... 과 같다.\n",
    "\n",
    "따라서, 숌은 첫 번째 영화의 제목은 세상의 종말 666, 두 번째 영화의 제목은 세상의 종말 1666 이렇게 이름을 지을 것이다. 일반화해서 생각하면, N번째 영화의 제목은 세상의 종말 (N번째로 작은 종말의 숫자) 와 같다.\n",
    "\n",
    "숌이 만든 N번째 영화의 제목에 들어간 숫자를 출력하는 프로그램을 작성하시오. 숌은 이 시리즈를 항상 차례대로 만들고, 다른 영화는 만들지 않는다."
   ]
  },
  {
   "cell_type": "code",
   "execution_count": null,
   "id": "c627fc40",
   "metadata": {},
   "outputs": [],
   "source": [
    "n = int(input())\n",
    "\n",
    "result = 666\n",
    "index = 0\n",
    "\n",
    "while True:\n",
    "    if '666' in str(result):\n",
    "        index += 1\n",
    "    if index == n:\n",
    "        print(result)\n",
    "        break\n",
    "    result += 1\n",
    "#     print(result)"
   ]
  },
  {
   "cell_type": "code",
   "execution_count": null,
   "id": "fd372d04",
   "metadata": {},
   "outputs": [],
   "source": [
    "N = int(input())\n",
    "movie = 666\n",
    "\n",
    "while N:\n",
    "    if \"666\" in str(movie):\n",
    "        N -= 1\n",
    "    movie += 1\n",
    "\n",
    "print(movie - 1)"
   ]
  },
  {
   "cell_type": "markdown",
   "id": "a604ca24",
   "metadata": {},
   "source": [
    "# 2869. 달팽이는 올라가고 싶다"
   ]
  },
  {
   "cell_type": "markdown",
   "id": "df5ab880",
   "metadata": {},
   "source": [
    "땅 위에 달팽이가 있다. 이 달팽이는 높이가 V미터인 나무 막대를 올라갈 것이다.\n",
    "\n",
    "달팽이는 낮에 A미터 올라갈 수 있다. 하지만, 밤에 잠을 자는 동안 B미터 미끄러진다. 또, 정상에 올라간 후에는 미끄러지지 않는다.\n",
    "\n",
    "달팽이가 나무 막대를 모두 올라가려면, 며칠이 걸리는지 구하는 프로그램을 작성하시오."
   ]
  },
  {
   "cell_type": "code",
   "execution_count": 210,
   "id": "1af5ceb3",
   "metadata": {},
   "outputs": [
    {
     "name": "stdout",
     "output_type": "stream",
     "text": [
      "5 1 6\n"
     ]
    }
   ],
   "source": [
    "A, B, V = map(int, input().split(' '))"
   ]
  },
  {
   "cell_type": "code",
   "execution_count": 203,
   "id": "d9a0a345",
   "metadata": {},
   "outputs": [
    {
     "ename": "KeyboardInterrupt",
     "evalue": "",
     "output_type": "error",
     "traceback": [
      "\u001b[0;31m---------------------------------------------------------------------------\u001b[0m",
      "\u001b[0;31mKeyboardInterrupt\u001b[0m                         Traceback (most recent call last)",
      "\u001b[0;32m<ipython-input-203-847662fddacb>\u001b[0m in \u001b[0;36m<module>\u001b[0;34m\u001b[0m\n\u001b[1;32m      6\u001b[0m         \u001b[0;32mbreak\u001b[0m\u001b[0;34m\u001b[0m\u001b[0;34m\u001b[0m\u001b[0m\n\u001b[1;32m      7\u001b[0m     \u001b[0mV\u001b[0m \u001b[0;34m+=\u001b[0m \u001b[0mB\u001b[0m\u001b[0;34m\u001b[0m\u001b[0;34m\u001b[0m\u001b[0m\n\u001b[0;32m----> 8\u001b[0;31m     \u001b[0mday\u001b[0m \u001b[0;34m+=\u001b[0m \u001b[0;36m1\u001b[0m\u001b[0;34m\u001b[0m\u001b[0;34m\u001b[0m\u001b[0m\n\u001b[0m",
      "\u001b[0;31mKeyboardInterrupt\u001b[0m: "
     ]
    }
   ],
   "source": [
    "# Brute Force 반복문으로 해결하려고 하니 끝도 없게 된다.\n",
    "\n",
    "day = 1\n",
    "while True:\n",
    "    V -= A\n",
    "    if V <= 0:\n",
    "        print(day)\n",
    "        break\n",
    "    V += B\n",
    "    day += 1"
   ]
  },
  {
   "cell_type": "code",
   "execution_count": 211,
   "id": "4833ba1a",
   "metadata": {},
   "outputs": [
    {
     "name": "stdout",
     "output_type": "stream",
     "text": [
      "1\n"
     ]
    }
   ],
   "source": [
    "day = 1\n",
    "\n",
    "one_day_trip = A-B\n",
    "last_day = V-A\n",
    "\n",
    "day, leftover = divmod(last_day, one_day_trip)\n",
    "\n",
    "print(day + 1)\n",
    "# history = day * one_day_trip\n",
    "\n",
    "# left = V - history\n",
    "# print(day + 1)"
   ]
  },
  {
   "cell_type": "markdown",
   "id": "ccde4a61",
   "metadata": {},
   "source": [
    "# ACM 호텔"
   ]
  },
  {
   "cell_type": "code",
   "execution_count": null,
   "id": "a0e84e9e",
   "metadata": {},
   "outputs": [],
   "source": []
  }
 ],
 "metadata": {
  "kernelspec": {
   "display_name": "Python 3",
   "language": "python",
   "name": "python3"
  },
  "language_info": {
   "codemirror_mode": {
    "name": "ipython",
    "version": 3
   },
   "file_extension": ".py",
   "mimetype": "text/x-python",
   "name": "python",
   "nbconvert_exporter": "python",
   "pygments_lexer": "ipython3",
   "version": "3.6.9"
  }
 },
 "nbformat": 4,
 "nbformat_minor": 5
}
