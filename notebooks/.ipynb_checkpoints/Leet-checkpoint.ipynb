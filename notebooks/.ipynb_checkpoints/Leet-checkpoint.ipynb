{
 "cells": [
  {
   "cell_type": "markdown",
   "id": "f5d6e865",
   "metadata": {},
   "source": [
    "# Palindrome"
   ]
  },
  {
   "cell_type": "code",
   "execution_count": 8,
   "id": "a79788cc",
   "metadata": {},
   "outputs": [],
   "source": [
    "def isPalindrome(x: int) -> bool:\n",
    "    x = str(x)\n",
    "    if len(x) == 1:\n",
    "        return 'true'\n",
    "\n",
    "    else:\n",
    "        for idx in range(len(x) // 2):\n",
    "            if x[idx] != x[len(x)-1-idx]:\n",
    "                return 'false'\n",
    "            else:\n",
    "                pass\n",
    "\n",
    "    return 'true'"
   ]
  },
  {
   "cell_type": "code",
   "execution_count": null,
   "id": "db16d4d0",
   "metadata": {},
   "outputs": [],
   "source": [
    "from collections import deque\n",
    "def isPalindrome(x: int) -> bool:\n",
    "    x = deque(str(x))\n",
    "    if len(x) == 1:\n",
    "        return True\n",
    "    \n",
    "    else:\n",
    "        while len(x) > 1:\n",
    "            head = x.popleft()\n",
    "            tail = x.pop()\n",
    "            if head != tail:\n",
    "                return False\n",
    "    return True"
   ]
  },
  {
   "cell_type": "code",
   "execution_count": 11,
   "id": "e3211c20",
   "metadata": {},
   "outputs": [
    {
     "name": "stdout",
     "output_type": "stream",
     "text": [
      "-121\n"
     ]
    },
    {
     "data": {
      "text/plain": [
       "'false'"
      ]
     },
     "execution_count": 11,
     "metadata": {},
     "output_type": "execute_result"
    }
   ],
   "source": [
    "isPalindrome(-121)"
   ]
  },
  {
   "cell_type": "markdown",
   "id": "1aa0d062",
   "metadata": {},
   "source": [
    "# 13. Roman to Integer"
   ]
  },
  {
   "cell_type": "code",
   "execution_count": 29,
   "id": "e27e6230",
   "metadata": {},
   "outputs": [],
   "source": [
    "def romanToInt(s: str) -> int:\n",
    "    roman_dict = {'I':1,\n",
    "                 'V': 5,\n",
    "                 'X': 10,\n",
    "                 'L': 50,\n",
    "                 'C': 100,\n",
    "                 'D': 500,\n",
    "                 'M': 1000}\n",
    "    s = deque(s)\n",
    "    total = 0\n",
    "    while s:\n",
    "        if len(s) == 1:\n",
    "            total += roman_dict[s[0]]\n",
    "            return total\n",
    "        head = s.popleft()\n",
    "        if roman_dict[head] >= roman_dict[s[0]]:\n",
    "            total += roman_dict[head]\n",
    "\n",
    "        elif roman_dict[head] < roman_dict[s[0]]:\n",
    "            second_head = s.popleft()\n",
    "            total += roman_dict[second_head] - roman_dict[head]\n",
    "\n",
    "    return total"
   ]
  },
  {
   "cell_type": "code",
   "execution_count": 33,
   "id": "a111444d",
   "metadata": {},
   "outputs": [],
   "source": [
    "roman = 'MCMXCIV'"
   ]
  },
  {
   "cell_type": "code",
   "execution_count": 34,
   "id": "155cae14",
   "metadata": {},
   "outputs": [
    {
     "name": "stdout",
     "output_type": "stream",
     "text": [
      "deque(['M', 'C', 'M', 'X', 'C', 'I', 'V'])\n",
      "deque(['C', 'M', 'X', 'C', 'I', 'V'])\n",
      "deque(['X', 'C', 'I', 'V'])\n",
      "deque(['I', 'V'])\n"
     ]
    },
    {
     "data": {
      "text/plain": [
       "1994"
      ]
     },
     "execution_count": 34,
     "metadata": {},
     "output_type": "execute_result"
    }
   ],
   "source": [
    "romanToInt(roman)"
   ]
  },
  {
   "cell_type": "markdown",
   "id": "f7b398b9",
   "metadata": {},
   "source": [
    "# 14. Longest Common Prefix"
   ]
  },
  {
   "cell_type": "code",
   "execution_count": null,
   "id": "7dafe7f8",
   "metadata": {},
   "outputs": [],
   "source": [
    "def longestCommonPrefix(strs: List[str]) -> str:\n",
    "    "
   ]
  },
  {
   "cell_type": "markdown",
   "id": "ef79652c",
   "metadata": {},
   "source": [
    "# 20. Valid Parentheses"
   ]
  },
  {
   "cell_type": "code",
   "execution_count": 44,
   "id": "5c75cf28",
   "metadata": {},
   "outputs": [],
   "source": [
    "def isValid(s: str) -> bool:\n",
    "    s = list(s)\n",
    "    stack = []\n",
    "    pair = {')':'(',\n",
    "            ']':'[',\n",
    "            '}':'{'}\n",
    "    \n",
    "    while s:\n",
    "        head = s.pop(0)\n",
    "        if head in pair.values():\n",
    "            stack.append(head)\n",
    "        else:\n",
    "            if stack:\n",
    "                if stack[-1] == pair[head]:\n",
    "                    stack.pop()\n",
    "                else:\n",
    "                    return False\n",
    "            else:\n",
    "                return False\n",
    "    if len(stack) == 0:\n",
    "        return True\n",
    "    else:\n",
    "        return False"
   ]
  },
  {
   "cell_type": "code",
   "execution_count": 47,
   "id": "e56a029e",
   "metadata": {},
   "outputs": [
    {
     "data": {
      "text/plain": [
       "True"
      ]
     },
     "execution_count": 47,
     "metadata": {},
     "output_type": "execute_result"
    }
   ],
   "source": [
    "s = '()[]{}'\n",
    "\n",
    "isValid(s)"
   ]
  },
  {
   "cell_type": "markdown",
   "id": "70ee3f25",
   "metadata": {},
   "source": [
    "# 66. Plus One"
   ]
  },
  {
   "cell_type": "code",
   "execution_count": 63,
   "id": "c90e64ed",
   "metadata": {},
   "outputs": [],
   "source": [
    "def plusOne(digits):\n",
    "    start = 1\n",
    "    while True:\n",
    "        if len(digits) < start:\n",
    "            digits = [1] + digits\n",
    "            return digits\n",
    "        if digits[-start] != 9:\n",
    "            digits[-start] += 1\n",
    "            return digits\n",
    "        else:\n",
    "            digits[-start] = 0\n",
    "            start += 1"
   ]
  },
  {
   "cell_type": "code",
   "execution_count": 65,
   "id": "238fe1ae",
   "metadata": {},
   "outputs": [
    {
     "data": {
      "text/plain": [
       "[4, 3, 2, 2]"
      ]
     },
     "execution_count": 65,
     "metadata": {},
     "output_type": "execute_result"
    }
   ],
   "source": [
    "integer = [4,3,2,1]\n",
    "\n",
    "plusOne(integer)"
   ]
  },
  {
   "cell_type": "markdown",
   "id": "20af2424",
   "metadata": {},
   "source": [
    "# 67. Add Binary"
   ]
  },
  {
   "cell_type": "code",
   "execution_count": 70,
   "id": "db55d49b",
   "metadata": {},
   "outputs": [],
   "source": [
    "from collections import deque\n",
    "def addBinary(a,b):\n",
    "    a = sum([2**(i)*int(v) for i,v in enumerate(reversed(list(a)))])\n",
    "    b = sum([2**(i)*int(v) for i,v in enumerate(reversed(list(b)))])\n",
    "    add_num = a+b\n",
    "    \n",
    "    print(a,b)"
   ]
  },
  {
   "cell_type": "code",
   "execution_count": 71,
   "id": "b662655a",
   "metadata": {},
   "outputs": [
    {
     "name": "stdout",
     "output_type": "stream",
     "text": [
      "10 11\n"
     ]
    }
   ],
   "source": [
    "addBinary('1010', '1011')"
   ]
  },
  {
   "cell_type": "markdown",
   "id": "667a816d",
   "metadata": {},
   "source": [
    "# 28. Implement strStr()"
   ]
  },
  {
   "cell_type": "code",
   "execution_count": 72,
   "id": "1c0d28aa",
   "metadata": {},
   "outputs": [],
   "source": [
    "def strStr(haystack, needle):\n",
    "    start = 0\n",
    "    len_needle = len(needle)\n",
    "    end = start + len_needle\n",
    "    while end <= len(haystack):\n",
    "        compare_needle = haystack[start:end]\n",
    "        if compare_needle == needle:\n",
    "            return start\n",
    "        else:\n",
    "            start += 1\n",
    "            end = start + len_needle\n",
    "    return -1"
   ]
  },
  {
   "cell_type": "code",
   "execution_count": 75,
   "id": "eeff95e8",
   "metadata": {},
   "outputs": [
    {
     "data": {
      "text/plain": [
       "0"
      ]
     },
     "execution_count": 75,
     "metadata": {},
     "output_type": "execute_result"
    }
   ],
   "source": [
    "haystack = ''\n",
    "needle = ''\n",
    "strStr(haystack, needle)"
   ]
  },
  {
   "cell_type": "markdown",
   "id": "7cee97b5",
   "metadata": {},
   "source": [
    "# 58. Length of Last Word"
   ]
  },
  {
   "cell_type": "code",
   "execution_count": 78,
   "id": "444dfa48",
   "metadata": {},
   "outputs": [],
   "source": [
    "def lengthOfLastWord(s):\n",
    "    s = s.strip().split()\n",
    "    return len(s[-1])"
   ]
  },
  {
   "cell_type": "code",
   "execution_count": 80,
   "id": "8066cbe3",
   "metadata": {},
   "outputs": [
    {
     "data": {
      "text/plain": [
       "4"
      ]
     },
     "execution_count": 80,
     "metadata": {},
     "output_type": "execute_result"
    }
   ],
   "source": [
    "lengthOfLastWord(\"   fly me   to   the moon  \")"
   ]
  },
  {
   "cell_type": "markdown",
   "id": "2056b597",
   "metadata": {},
   "source": [
    "# 7. Reverse Integer"
   ]
  },
  {
   "cell_type": "code",
   "execution_count": 3,
   "id": "3603865b",
   "metadata": {},
   "outputs": [
    {
     "data": {
      "text/plain": [
       "[3, 2, 1]"
      ]
     },
     "execution_count": 3,
     "metadata": {},
     "output_type": "execute_result"
    }
   ],
   "source": [
    "list(reversed([1,2,3]))"
   ]
  },
  {
   "cell_type": "code",
   "execution_count": 10,
   "id": "4f3ea39c",
   "metadata": {},
   "outputs": [
    {
     "data": {
      "text/plain": [
       "'1'"
      ]
     },
     "execution_count": 10,
     "metadata": {},
     "output_type": "execute_result"
    }
   ],
   "source": [
    "str(123)[0]"
   ]
  },
  {
   "cell_type": "code",
   "execution_count": 15,
   "id": "e852d872",
   "metadata": {},
   "outputs": [
    {
     "data": {
      "text/plain": [
       "-1"
      ]
     },
     "execution_count": 15,
     "metadata": {},
     "output_type": "execute_result"
    }
   ],
   "source": [
    "int(-1)"
   ]
  },
  {
   "cell_type": "code",
   "execution_count": 20,
   "id": "c567b4cb",
   "metadata": {},
   "outputs": [
    {
     "data": {
      "text/plain": [
       "2147483648"
      ]
     },
     "execution_count": 20,
     "metadata": {},
     "output_type": "execute_result"
    }
   ],
   "source": [
    "2**31"
   ]
  },
  {
   "cell_type": "code",
   "execution_count": 33,
   "id": "bc1dc1ea",
   "metadata": {},
   "outputs": [],
   "source": [
    "def reverse(x):\n",
    "    sign = ''\n",
    "    num = str(x)\n",
    "    if num[0] == '-':\n",
    "        sign, num = num[0], num[1:]\n",
    "    num = ''.join(reversed(num))\n",
    "    num = int(sign + num)\n",
    "    limit = 2**31\n",
    "    print(num)\n",
    "    if num <= -limit or num >= limit-1:\n",
    "        return 0\n",
    "    return num"
   ]
  },
  {
   "cell_type": "code",
   "execution_count": 34,
   "id": "bf20fedf",
   "metadata": {},
   "outputs": [
    {
     "name": "stdout",
     "output_type": "stream",
     "text": [
      "9646324351\n"
     ]
    },
    {
     "data": {
      "text/plain": [
       "0"
      ]
     },
     "execution_count": 34,
     "metadata": {},
     "output_type": "execute_result"
    }
   ],
   "source": [
    "reverse(1534236469)"
   ]
  },
  {
   "cell_type": "code",
   "execution_count": 30,
   "id": "1b8a44fb",
   "metadata": {},
   "outputs": [
    {
     "data": {
      "text/plain": [
       "True"
      ]
     },
     "execution_count": 30,
     "metadata": {},
     "output_type": "execute_result"
    }
   ],
   "source": [
    "9646324351 >= (2**31)-1"
   ]
  },
  {
   "cell_type": "markdown",
   "id": "5b13fc02",
   "metadata": {},
   "source": [
    "# 746. Min Cost Climbing stairs"
   ]
  },
  {
   "cell_type": "code",
   "execution_count": 16,
   "id": "0b119900",
   "metadata": {},
   "outputs": [],
   "source": [
    "def minCostClimbingStairs(cost):\n",
    "    cost = cost + [0]\n",
    "    cost[0], cost[1] = cost[0], min(cost[1], cost[0] + cost[1])\n",
    "    \n",
    "    for i in range(2,  len(cost)):\n",
    "        cost[i] = min(cost[i] + cost[i-1], cost[i] + cost[i-2])\n",
    "    return cost"
   ]
  },
  {
   "cell_type": "code",
   "execution_count": 19,
   "id": "74cc5643",
   "metadata": {},
   "outputs": [],
   "source": [
    "test_case = [10,15,20]\n",
    "test_case = [1,100,1,1,1,100,1,1,100,1]"
   ]
  },
  {
   "cell_type": "code",
   "execution_count": 20,
   "id": "38571988",
   "metadata": {},
   "outputs": [
    {
     "name": "stdout",
     "output_type": "stream",
     "text": [
      "[1, 100, 1, 1, 1, 100, 1, 1, 100, 1, 0]\n",
      "[1, 100, 2, 1, 1, 100, 1, 1, 100, 1, 0]\n",
      "[1, 100, 2, 3, 1, 100, 1, 1, 100, 1, 0]\n",
      "[1, 100, 2, 3, 3, 100, 1, 1, 100, 1, 0]\n",
      "[1, 100, 2, 3, 3, 103, 1, 1, 100, 1, 0]\n",
      "[1, 100, 2, 3, 3, 103, 4, 1, 100, 1, 0]\n",
      "[1, 100, 2, 3, 3, 103, 4, 5, 100, 1, 0]\n",
      "[1, 100, 2, 3, 3, 103, 4, 5, 104, 1, 0]\n",
      "[1, 100, 2, 3, 3, 103, 4, 5, 104, 6, 0]\n"
     ]
    },
    {
     "data": {
      "text/plain": [
       "[1, 100, 2, 3, 3, 103, 4, 5, 104, 6, 6]"
      ]
     },
     "execution_count": 20,
     "metadata": {},
     "output_type": "execute_result"
    }
   ],
   "source": [
    "minCostClimbingStairs(test_case)"
   ]
  },
  {
   "cell_type": "markdown",
   "id": "f820e5c1",
   "metadata": {},
   "source": [
    "# 198. House Robber"
   ]
  },
  {
   "cell_type": "code",
   "execution_count": 24,
   "id": "9ce7c1b7",
   "metadata": {},
   "outputs": [],
   "source": [
    "test_nums = [1,2,3,1]\n",
    "test_nums = [2,7,9,3,1]"
   ]
  },
  {
   "cell_type": "code",
   "execution_count": null,
   "id": "1cac7c14",
   "metadata": {},
   "outputs": [],
   "source": [
    "def rob(nums):\n",
    "    if len(nums) == 1:\n",
    "        return nums[0]\n",
    "    elif len(nums) == 2:\n",
    "        return max(nums[0], nums[1])\n",
    "    else:\n",
    "        nums = nums + [0]\n",
    "        nums[3] = max(nums[0]+nums[2]+nums[3], nums[1]+nums[3]ㅠ)\n",
    "        for i in range(3, len(nums)):\n",
    "            nums[i] = max(nums)"
   ]
  },
  {
   "cell_type": "code",
   "execution_count": 30,
   "id": "1e9b74b9",
   "metadata": {},
   "outputs": [],
   "source": [
    "def rob(nums) -> int:\n",
    "    dp = [0 for _ in range(len(nums))]\n",
    "    if not nums:\n",
    "        return 0\n",
    "    if len(nums)<=2 : \n",
    "        return max(nums)\n",
    "    dp[0], dp[1]= nums[0], max(nums[0],nums[1])\n",
    "    \n",
    "    for i in range(2,len(nums)):\n",
    "        dp[i] = max(dp[i-1], dp[i-2]+nums[i])\n",
    "    return dp.pop()"
   ]
  },
  {
   "cell_type": "code",
   "execution_count": 31,
   "id": "8c759ad8",
   "metadata": {},
   "outputs": [
    {
     "name": "stdout",
     "output_type": "stream",
     "text": [
      "nums: [2, 7, 9, 3, 1]\n",
      "dp: [2, 7, 0, 0, 0]\n",
      "nums: [2, 7, 9, 3, 1]\n",
      "dp: [2, 7, 11, 0, 0]\n",
      "nums: [2, 7, 9, 3, 1]\n",
      "dp: [2, 7, 11, 11, 0]\n"
     ]
    },
    {
     "data": {
      "text/plain": [
       "12"
      ]
     },
     "execution_count": 31,
     "metadata": {},
     "output_type": "execute_result"
    }
   ],
   "source": [
    "rob(test_nums)"
   ]
  },
  {
   "cell_type": "markdown",
   "id": "8aac9ec8",
   "metadata": {},
   "source": [
    "# 566. Reshape the Matrix"
   ]
  },
  {
   "cell_type": "code",
   "execution_count": 32,
   "id": "053b456c",
   "metadata": {},
   "outputs": [],
   "source": [
    "test_list = [[1,2],[3,4]]"
   ]
  },
  {
   "cell_type": "code",
   "execution_count": 45,
   "id": "63de2360",
   "metadata": {},
   "outputs": [],
   "source": [
    "def matrixReshape(mat, r, c):\n",
    "    if r == len(mat):\n",
    "        return mat\n",
    "    else:\n",
    "        base = []\n",
    "        for m in mat:\n",
    "            base += m\n",
    "        base_len = len(base)    \n",
    "        \n",
    "        if r * c != base_len:\n",
    "            return mat\n",
    "        else:\n",
    "            per = base_len // r\n",
    "            new_base = []\n",
    "            i=0\n",
    "            while len(new_base) < r:\n",
    "                new_base.append(base[i:i+per])\n",
    "                i += per\n",
    "            return new_base\n",
    "        "
   ]
  },
  {
   "cell_type": "code",
   "execution_count": 48,
   "id": "4f20da01",
   "metadata": {},
   "outputs": [
    {
     "data": {
      "text/plain": [
       "[[1], [2], [3], [4]]"
      ]
     },
     "execution_count": 48,
     "metadata": {},
     "output_type": "execute_result"
    }
   ],
   "source": [
    "matrixReshape(test_list, 4,1)"
   ]
  },
  {
   "cell_type": "markdown",
   "id": "4c8b0c84",
   "metadata": {},
   "source": [
    "# 121. Best time to buy and sell stock"
   ]
  },
  {
   "cell_type": "code",
   "execution_count": 55,
   "id": "20ccaf12",
   "metadata": {},
   "outputs": [],
   "source": [
    "test_list = [7,1,5,3,6,4]\n",
    "test_list = [7,6,4,3,1]"
   ]
  },
  {
   "cell_type": "code",
   "execution_count": 56,
   "id": "292dc181",
   "metadata": {},
   "outputs": [],
   "source": [
    "def maxProfit(prices):\n",
    "    maxi = 0\n",
    "    for i in range(len(prices)-1):\n",
    "        first = prices[i]\n",
    "        maxi_ = max([j-first for j in prices[i+1:]])\n",
    "        if maxi_ > maxi:\n",
    "            maxi = maxi_\n",
    "    return maxi"
   ]
  },
  {
   "cell_type": "code",
   "execution_count": 57,
   "id": "43ccb38b",
   "metadata": {},
   "outputs": [
    {
     "data": {
      "text/plain": [
       "0"
      ]
     },
     "execution_count": 57,
     "metadata": {},
     "output_type": "execute_result"
    }
   ],
   "source": [
    "maxProfit(test_list)"
   ]
  },
  {
   "cell_type": "markdown",
   "id": "5827a03d",
   "metadata": {},
   "source": [
    "# 36. Valid Sudoku"
   ]
  },
  {
   "cell_type": "code",
   "execution_count": 36,
   "id": "3f0190df",
   "metadata": {},
   "outputs": [],
   "source": [
    "test_board = \\\n",
    "[[\"8\",\"3\",\".\",\".\",\"7\",\".\",\".\",\".\",\".\"]\n",
    ",[\"6\",\".\",\".\",\"1\",\"9\",\"5\",\".\",\".\",\".\"]\n",
    ",[\".\",\"9\",\"8\",\".\",\".\",\".\",\".\",\"6\",\".\"]\n",
    ",[\"8\",\".\",\".\",\".\",\"6\",\".\",\".\",\".\",\"3\"]\n",
    ",[\"4\",\".\",\".\",\"8\",\".\",\"3\",\".\",\".\",\"1\"]\n",
    ",[\"7\",\".\",\".\",\".\",\"2\",\".\",\".\",\".\",\"6\"]\n",
    ",[\".\",\"6\",\".\",\".\",\".\",\".\",\"2\",\"8\",\".\"]\n",
    ",[\".\",\".\",\".\",\"4\",\"1\",\"9\",\".\",\".\",\"5\"]\n",
    ",[\".\",\".\",\".\",\".\",\"8\",\".\",\".\",\"7\",\"9\"]]"
   ]
  },
  {
   "cell_type": "code",
   "execution_count": 14,
   "id": "bc22c77e",
   "metadata": {},
   "outputs": [],
   "source": [
    "sub_box = [test_board[3*i:3*(i+1)] for i in range(3)]"
   ]
  },
  {
   "cell_type": "code",
   "execution_count": 20,
   "id": "86fd4f19",
   "metadata": {},
   "outputs": [
    {
     "data": {
      "text/plain": [
       "[[['5', '3', '.', '.', '7', '.', '.', '.', '.'],\n",
       "  ['6', '.', '.', '1', '9', '5', '.', '.', '.'],\n",
       "  ['.', '9', '8', '.', '.', '.', '.', '6', '.']],\n",
       " [['8', '.', '.', '.', '6', '.', '.', '.', '3'],\n",
       "  ['4', '.', '.', '8', '.', '3', '.', '.', '1'],\n",
       "  ['7', '.', '.', '.', '2', '.', '.', '.', '6']],\n",
       " [['.', '6', '.', '.', '.', '.', '2', '8', '.'],\n",
       "  ['.', '.', '.', '4', '1', '9', '.', '.', '5'],\n",
       "  ['.', '.', '.', '.', '8', '.', '.', '7', '9']]]"
      ]
     },
     "execution_count": 20,
     "metadata": {},
     "output_type": "execute_result"
    }
   ],
   "source": [
    "sub_box"
   ]
  },
  {
   "cell_type": "code",
   "execution_count": 37,
   "id": "96294362",
   "metadata": {},
   "outputs": [],
   "source": [
    "def isValidSudoku(board):\n",
    "    sub_box = [board[3*i:3*(i+1)] for i in range(3)]\n",
    "    for three in sub_box:\n",
    "        temp = []\n",
    "        i = 0\n",
    "        while i < 3:\n",
    "            for row in three:\n",
    "                temp += row[3*i:3*(i+1)]\n",
    "            temp = [i for i in temp if i != '.']\n",
    "            if len(temp) != len(set(temp)):\n",
    "                return False\n",
    "            temp = []\n",
    "            i+=1\n",
    "    return True"
   ]
  },
  {
   "cell_type": "code",
   "execution_count": 38,
   "id": "ec3a8e14",
   "metadata": {},
   "outputs": [
    {
     "data": {
      "text/plain": [
       "False"
      ]
     },
     "execution_count": 38,
     "metadata": {},
     "output_type": "execute_result"
    }
   ],
   "source": [
    "isValidSudoku(test_board)"
   ]
  },
  {
   "cell_type": "code",
   "execution_count": 18,
   "id": "3f099b94",
   "metadata": {},
   "outputs": [],
   "source": [
    "for i in sub_box[0]:\n",
    "    a,b,c = [],[],[]\n",
    "    a.append(i[:3])"
   ]
  },
  {
   "cell_type": "code",
   "execution_count": 19,
   "id": "8a5ce4a3",
   "metadata": {},
   "outputs": [
    {
     "data": {
      "text/plain": [
       "[['.', '9', '8']]"
      ]
     },
     "execution_count": 19,
     "metadata": {},
     "output_type": "execute_result"
    }
   ],
   "source": [
    "a"
   ]
  },
  {
   "cell_type": "code",
   "execution_count": 7,
   "id": "95da477c",
   "metadata": {},
   "outputs": [
    {
     "data": {
      "text/plain": [
       "[[['5', '3', '.', '.', '7', '.', '.', '.', '.'],\n",
       "  ['6', '.', '.', '1', '9', '5', '.', '.', '.'],\n",
       "  ['.', '9', '8', '.', '.', '.', '.', '6', '.']],\n",
       " [['8', '.', '.', '.', '6', '.', '.', '.', '3'],\n",
       "  ['4', '.', '.', '8', '.', '3', '.', '.', '1'],\n",
       "  ['7', '.', '.', '.', '2', '.', '.', '.', '6']],\n",
       " [['.', '6', '.', '.', '.', '.', '2', '8', '.'],\n",
       "  ['.', '.', '.', '4', '1', '9', '.', '.', '5'],\n",
       "  ['.', '.', '.', '.', '8', '.', '.', '7', '9']]]"
      ]
     },
     "execution_count": 7,
     "metadata": {},
     "output_type": "execute_result"
    }
   ],
   "source": [
    "sub_box_final = [sub_box[j] for j in range(3)]"
   ]
  },
  {
   "cell_type": "code",
   "execution_count": null,
   "id": "13ef648f",
   "metadata": {},
   "outputs": [],
   "source": [
    "def isValidSudoku(board):\n",
    "    sub_box = [board[i:3*(i+1)] for i in range(3)]"
   ]
  },
  {
   "cell_type": "markdown",
   "id": "c6e9977d",
   "metadata": {},
   "source": [
    "# 350. Intersection of Two Arrays"
   ]
  },
  {
   "cell_type": "code",
   "execution_count": 43,
   "id": "72df52d4",
   "metadata": {},
   "outputs": [],
   "source": [
    "a = set([1,2,2,1])\n",
    "b = set([2,2])"
   ]
  },
  {
   "cell_type": "code",
   "execution_count": 49,
   "id": "4dd79788",
   "metadata": {},
   "outputs": [
    {
     "data": {
      "text/plain": [
       "[2]"
      ]
     },
     "execution_count": 49,
     "metadata": {},
     "output_type": "execute_result"
    }
   ],
   "source": [
    "list(a.intersection(b))"
   ]
  },
  {
   "cell_type": "code",
   "execution_count": 45,
   "id": "571c1ed7",
   "metadata": {},
   "outputs": [],
   "source": [
    "from collections import Counter"
   ]
  },
  {
   "cell_type": "code",
   "execution_count": 46,
   "id": "3962ebbc",
   "metadata": {},
   "outputs": [
    {
     "data": {
      "text/plain": [
       "Counter({1: 1, 2: 1})"
      ]
     },
     "execution_count": 46,
     "metadata": {},
     "output_type": "execute_result"
    }
   ],
   "source": [
    "Counter(a)"
   ]
  },
  {
   "cell_type": "code",
   "execution_count": 47,
   "id": "16431a3a",
   "metadata": {},
   "outputs": [
    {
     "data": {
      "text/plain": [
       "Counter({2: 1})"
      ]
     },
     "execution_count": 47,
     "metadata": {},
     "output_type": "execute_result"
    }
   ],
   "source": [
    "Counter(b)"
   ]
  },
  {
   "cell_type": "code",
   "execution_count": 48,
   "id": "c2fc42c6",
   "metadata": {},
   "outputs": [
    {
     "data": {
      "text/plain": [
       "False"
      ]
     },
     "execution_count": 48,
     "metadata": {},
     "output_type": "execute_result"
    }
   ],
   "source": [
    "len(a) < len(b)"
   ]
  },
  {
   "cell_type": "code",
   "execution_count": null,
   "id": "03e5568d",
   "metadata": {},
   "outputs": [],
   "source": [
    "def intersect(nums1, nums2):\n",
    "    set_n1, set_n2 = set(nums1), set(num2)\n",
    "    intersect = list(set_n1.intersection(set_n2))\n",
    "    \n",
    "    if len(nums1) > len(nums2):\n",
    "        criterion = nums2\n",
    "        no_criterion = nums1\n",
    "    else:\n",
    "        criterion = nums1\n",
    "        no_criterion = nums2\n",
    "    \n",
    "    for key in criterion:\n",
    "        if key in no_criterion:\n",
    "            "
   ]
  },
  {
   "cell_type": "markdown",
   "id": "c2ec8378",
   "metadata": {},
   "source": [
    "# 383. Ransom Note"
   ]
  },
  {
   "cell_type": "code",
   "execution_count": 56,
   "id": "5bd12321",
   "metadata": {},
   "outputs": [
    {
     "data": {
      "text/plain": [
       "deque(['a', 'a'])"
      ]
     },
     "execution_count": 56,
     "metadata": {},
     "output_type": "execute_result"
    }
   ],
   "source": [
    "deque(list('aa'))"
   ]
  },
  {
   "cell_type": "code",
   "execution_count": 60,
   "id": "5b8f62a8",
   "metadata": {},
   "outputs": [],
   "source": [
    "from collections import Counter, deque\n",
    "def canConstruct(ransomNote, magazine):\n",
    "    magazi_cnt = Counter(magazine)\n",
    "    ransomNote = deque(list(ransomNote))\n",
    "    \n",
    "    while ransomNote:\n",
    "        head = ransomNote.popleft()\n",
    "        if (head in magazi_cnt) and (magazi_cnt[head]):\n",
    "            magazi_cnt[head] -= 1\n",
    "        else:\n",
    "            return False\n",
    "    return True\n",
    "    "
   ]
  },
  {
   "cell_type": "code",
   "execution_count": 61,
   "id": "8253c57f",
   "metadata": {},
   "outputs": [
    {
     "name": "stdout",
     "output_type": "stream",
     "text": [
      "Counter({'a': 1, 'b': 1})\n",
      "Counter({'b': 1, 'a': 0})\n"
     ]
    },
    {
     "data": {
      "text/plain": [
       "True"
      ]
     },
     "execution_count": 61,
     "metadata": {},
     "output_type": "execute_result"
    }
   ],
   "source": [
    "canConstruct('aa', 'aab')"
   ]
  },
  {
   "cell_type": "markdown",
   "id": "9a11c443",
   "metadata": {},
   "source": [
    "# 242. Valid Anagram"
   ]
  },
  {
   "cell_type": "code",
   "execution_count": 65,
   "id": "d0a94647",
   "metadata": {},
   "outputs": [],
   "source": [
    "d = {'a':1, 'b':2}"
   ]
  },
  {
   "cell_type": "code",
   "execution_count": 67,
   "id": "2e0932f2",
   "metadata": {},
   "outputs": [
    {
     "data": {
      "text/plain": [
       "False"
      ]
     },
     "execution_count": 67,
     "metadata": {},
     "output_type": "execute_result"
    }
   ],
   "source": [
    "d.values() == None"
   ]
  },
  {
   "cell_type": "code",
   "execution_count": 79,
   "id": "2ff9538c",
   "metadata": {},
   "outputs": [],
   "source": [
    "def isAnagram(s, t):\n",
    "    if len(s) != len(t):\n",
    "        return False\n",
    "    s = Counter(s)\n",
    "    t = deque(list(t))\n",
    "    \n",
    "    while t:\n",
    "        head = t.popleft()\n",
    "        if (head in s) and (s[head]):\n",
    "            s[head] -= 1\n",
    "        else:\n",
    "            return False\n",
    "    return True"
   ]
  },
  {
   "cell_type": "code",
   "execution_count": 80,
   "id": "031b83ba",
   "metadata": {},
   "outputs": [
    {
     "name": "stdout",
     "output_type": "stream",
     "text": [
      "Counter({'a': 3, 'n': 1, 'g': 1, 'r': 1, 'm': 1})\n",
      "deque(['n', 'a', 'g', 'a', 'r', 'a', 'm'])\n",
      "Counter({'a': 3, 'g': 1, 'r': 1, 'm': 1, 'n': 0})\n",
      "deque(['a', 'g', 'a', 'r', 'a', 'm'])\n",
      "Counter({'a': 2, 'g': 1, 'r': 1, 'm': 1, 'n': 0})\n",
      "deque(['g', 'a', 'r', 'a', 'm'])\n",
      "Counter({'a': 2, 'r': 1, 'm': 1, 'n': 0, 'g': 0})\n",
      "deque(['a', 'r', 'a', 'm'])\n",
      "Counter({'a': 1, 'r': 1, 'm': 1, 'n': 0, 'g': 0})\n",
      "deque(['r', 'a', 'm'])\n",
      "Counter({'a': 1, 'm': 1, 'n': 0, 'g': 0, 'r': 0})\n",
      "deque(['a', 'm'])\n",
      "Counter({'m': 1, 'a': 0, 'n': 0, 'g': 0, 'r': 0})\n",
      "deque(['m'])\n"
     ]
    },
    {
     "data": {
      "text/plain": [
       "True"
      ]
     },
     "execution_count": 80,
     "metadata": {},
     "output_type": "execute_result"
    }
   ],
   "source": [
    "isAnagram('anagram', 'nagaram')"
   ]
  },
  {
   "cell_type": "markdown",
   "id": "b4311478",
   "metadata": {},
   "source": [
    "# 387. First Unique Character in a String"
   ]
  },
  {
   "cell_type": "code",
   "execution_count": 88,
   "id": "a988065e",
   "metadata": {},
   "outputs": [],
   "source": [
    "test_string = \"leetcode\"\n",
    "test_string = \"loveleetcode\"\n",
    "test_string = \"aabb\""
   ]
  },
  {
   "cell_type": "code",
   "execution_count": 89,
   "id": "c340a3dc",
   "metadata": {},
   "outputs": [],
   "source": [
    "def firstUniqChar(s):\n",
    "    counter = Counter(s)\n",
    "    for i in range(len(s)):\n",
    "        if counter[s[i]] == 1:\n",
    "            return i\n",
    "    return -1"
   ]
  },
  {
   "cell_type": "code",
   "execution_count": 90,
   "id": "29086ae7",
   "metadata": {},
   "outputs": [
    {
     "data": {
      "text/plain": [
       "-1"
      ]
     },
     "execution_count": 90,
     "metadata": {},
     "output_type": "execute_result"
    }
   ],
   "source": [
    "firstUniqChar(test_string)"
   ]
  },
  {
   "cell_type": "code",
   "execution_count": null,
   "id": "a4f5f0b2",
   "metadata": {},
   "outputs": [],
   "source": []
  },
  {
   "cell_type": "markdown",
   "id": "0f0294a7",
   "metadata": {},
   "source": [
    "# 1523. Count Odd Numberts in an Interval Range"
   ]
  },
  {
   "cell_type": "code",
   "execution_count": 2,
   "id": "fe3b8691",
   "metadata": {},
   "outputs": [],
   "source": [
    "def countOdds(low: int, high: int) -> int:\n",
    "    nums = high-low+1\n",
    "    cnt = 0\n",
    "    for i in range(low, high+1):\n",
    "        if i % 2:\n",
    "            cnt += 1\n",
    "    return cnt"
   ]
  },
  {
   "cell_type": "code",
   "execution_count": 4,
   "id": "550388d6",
   "metadata": {},
   "outputs": [
    {
     "data": {
      "text/plain": [
       "3"
      ]
     },
     "execution_count": 4,
     "metadata": {},
     "output_type": "execute_result"
    }
   ],
   "source": [
    "countOdds(3,7)"
   ]
  },
  {
   "cell_type": "code",
   "execution_count": 5,
   "id": "56d28b92",
   "metadata": {},
   "outputs": [],
   "source": [
    "def countOdds(low: int, high: int) -> int:\n",
    "    nums = high-low+1\n",
    "    if high % 2 == 0 and low % 2 == 0:\n",
    "        return nums // 2\n",
    "    elif high % 2 and low % 2:\n",
    "        return (nums // 2)+1\n",
    "    else:\n",
    "        return nums // 2"
   ]
  },
  {
   "cell_type": "code",
   "execution_count": 7,
   "id": "039fc9e2",
   "metadata": {},
   "outputs": [
    {
     "data": {
      "text/plain": [
       "3"
      ]
     },
     "execution_count": 7,
     "metadata": {},
     "output_type": "execute_result"
    }
   ],
   "source": [
    "countOdds(3,7)"
   ]
  },
  {
   "cell_type": "code",
   "execution_count": 8,
   "id": "4703d92f",
   "metadata": {},
   "outputs": [
    {
     "data": {
      "text/plain": [
       "1"
      ]
     },
     "execution_count": 8,
     "metadata": {},
     "output_type": "execute_result"
    }
   ],
   "source": [
    "countOdds(8,10)"
   ]
  },
  {
   "cell_type": "markdown",
   "id": "3ab20d90",
   "metadata": {},
   "source": [
    "# 1491. Average Salary Exluding the Minimum and Maximum Salary"
   ]
  },
  {
   "cell_type": "code",
   "execution_count": 9,
   "id": "214c432c",
   "metadata": {},
   "outputs": [],
   "source": [
    "def average(salary):\n",
    "    salary = sorted(salary)\n",
    "    _, _ = salary.pop(), salary.pop(0)\n",
    "    return sum(salary) // len(salary)"
   ]
  },
  {
   "cell_type": "code",
   "execution_count": 10,
   "id": "731d684f",
   "metadata": {},
   "outputs": [
    {
     "data": {
      "text/plain": [
       "2500"
      ]
     },
     "execution_count": 10,
     "metadata": {},
     "output_type": "execute_result"
    }
   ],
   "source": [
    "average([4000,3000,1000,2000])"
   ]
  },
  {
   "cell_type": "markdown",
   "id": "c1db2b8c",
   "metadata": {},
   "source": [
    "# 191. Number of 1Bits"
   ]
  },
  {
   "cell_type": "code",
   "execution_count": 17,
   "id": "7e2f7b5e",
   "metadata": {},
   "outputs": [],
   "source": [
    "test_case = '00000000000000000000000000001011'"
   ]
  },
  {
   "cell_type": "code",
   "execution_count": 21,
   "id": "f129703b",
   "metadata": {},
   "outputs": [
    {
     "data": {
      "text/plain": [
       "'1011'"
      ]
     },
     "execution_count": 21,
     "metadata": {},
     "output_type": "execute_result"
    }
   ],
   "source": [
    "str(int(test_case))"
   ]
  },
  {
   "cell_type": "code",
   "execution_count": 18,
   "id": "d624650b",
   "metadata": {},
   "outputs": [],
   "source": [
    "def hammingWeight(n):\n",
    "    return len(str(int(n)).replace('0',''))"
   ]
  },
  {
   "cell_type": "code",
   "execution_count": 19,
   "id": "84f0f7f8",
   "metadata": {},
   "outputs": [
    {
     "data": {
      "text/plain": [
       "3"
      ]
     },
     "execution_count": 19,
     "metadata": {},
     "output_type": "execute_result"
    }
   ],
   "source": [
    "hammingWeight(test_case)"
   ]
  },
  {
   "cell_type": "code",
   "execution_count": 13,
   "id": "73175508",
   "metadata": {},
   "outputs": [
    {
     "data": {
      "text/plain": [
       "'11'"
      ]
     },
     "execution_count": 13,
     "metadata": {},
     "output_type": "execute_result"
    }
   ],
   "source": [
    "'001100'.replace('0','')"
   ]
  },
  {
   "cell_type": "markdown",
   "id": "bf13d772",
   "metadata": {},
   "source": [
    "# 202. Happy Number"
   ]
  },
  {
   "cell_type": "code",
   "execution_count": 60,
   "id": "b723bb4d",
   "metadata": {},
   "outputs": [],
   "source": [
    "test = 19"
   ]
  },
  {
   "cell_type": "code",
   "execution_count": 63,
   "id": "7f476d86",
   "metadata": {},
   "outputs": [],
   "source": [
    "def isHappy(n):\n",
    "    string = str(n)\n",
    "    visited = []\n",
    "    happy = sum([int(s)**2 for s in string])\n",
    "    \n",
    "    if happy == 1:\n",
    "        return True\n",
    "    elif happy in visited:\n",
    "        return False   \n",
    "    else:\n",
    "        visited.append(happy)\n",
    "        isHappy(happy)"
   ]
  },
  {
   "cell_type": "code",
   "execution_count": 64,
   "id": "4975114e",
   "metadata": {},
   "outputs": [
    {
     "name": "stdout",
     "output_type": "stream",
     "text": [
      "82\n",
      "68\n",
      "100\n",
      "1\n"
     ]
    }
   ],
   "source": [
    "isHappy(test)"
   ]
  },
  {
   "cell_type": "code",
   "execution_count": null,
   "id": "617fd49e",
   "metadata": {},
   "outputs": [],
   "source": []
  }
 ],
 "metadata": {
  "kernelspec": {
   "display_name": "Python 3 (ipykernel)",
   "language": "python",
   "name": "python3"
  },
  "language_info": {
   "codemirror_mode": {
    "name": "ipython",
    "version": 3
   },
   "file_extension": ".py",
   "mimetype": "text/x-python",
   "name": "python",
   "nbconvert_exporter": "python",
   "pygments_lexer": "ipython3",
   "version": "3.9.10"
  }
 },
 "nbformat": 4,
 "nbformat_minor": 5
}
