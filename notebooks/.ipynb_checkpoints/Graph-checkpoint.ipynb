{
 "cells": [
  {
   "cell_type": "markdown",
   "id": "b2681572",
   "metadata": {},
   "source": [
    "# Question 1\n",
    "\n",
    "1을 육지로, 0을 물로 가정한 2D그리드 맵이 주어졌을 때, 섬의 개수를 계산하라.\n",
    "(연결되어 있는 1의 덩어리 개수를 구하라.)"
   ]
  },
  {
   "cell_type": "code",
   "execution_count": 53,
   "id": "cfd526ef",
   "metadata": {},
   "outputs": [],
   "source": [
    "grid_1 = [\n",
    "  [\"1\",\"1\",\"1\",\"1\",\"0\"],\n",
    "  [\"1\",\"1\",\"0\",\"1\",\"0\"],\n",
    "  [\"1\",\"1\",\"0\",\"0\",\"0\"],\n",
    "  [\"0\",\"0\",\"0\",\"0\",\"0\"]\n",
    "]\n",
    "\n",
    "grid_2 = [\n",
    "  [\"1\",\"1\",\"0\",\"0\",\"0\"],\n",
    "  [\"1\",\"1\",\"0\",\"0\",\"0\"],\n",
    "  [\"0\",\"0\",\"1\",\"0\",\"0\"],\n",
    "  [\"0\",\"0\",\"0\",\"1\",\"1\"]\n",
    "]"
   ]
  },
  {
   "cell_type": "markdown",
   "id": "32b5feeb",
   "metadata": {},
   "source": [
    "행렬 입력값인 Grid의 행, 열 단위로 육지(1)인 곳을 찾아 진행하다가, 육지를 발견하면 그때부터 self.dfs()를 호출해 탐색 시작"
   ]
  },
  {
   "cell_type": "code",
   "execution_count": 54,
   "id": "1deb044c",
   "metadata": {},
   "outputs": [],
   "source": [
    "from typing import List\n",
    "import copy\n",
    "\n",
    "class Solution:\n",
    "    def dfs(self, grid, i, j):\n",
    "        if i < 0 or i >= len(grid) or j < 0 or j >= len(grid[0]) or grid[i][j] != '1':\n",
    "            return\n",
    "        grid[i][j] ='0'\n",
    "        print(grid)\n",
    "        print('\\n')\n",
    "        \n",
    "        self.dfs(grid, i+1, j)\n",
    "        self.dfs(grid, i-1, j)\n",
    "        self.dfs(grid, i, j+1)\n",
    "        self.dfs(grid, i, j-1)\n",
    "        \n",
    "    def numIslands(self, grid: List[List[str]]) -> int:\n",
    "        self.target_grid = copy.deepcopy(grid)\n",
    "        \n",
    "        if not grid:\n",
    "            return 0\n",
    "        \n",
    "        count = 0\n",
    "        for i in range(len(self.target_grid)):\n",
    "            for j in range(len(self.target_grid[0])):\n",
    "                if self.target_grid[i][j] == '1':\n",
    "                    # 동서남북으로 dfs로 계속 돌고 끝날때까지 진행하면, 이어진 1을 순회하는 것이다.\n",
    "                    self.dfs(self.target_grid, i, j)\n",
    "                    count += 1\n",
    "        return count"
   ]
  },
  {
   "cell_type": "code",
   "execution_count": 55,
   "id": "3d82c3dd",
   "metadata": {},
   "outputs": [],
   "source": [
    "s = Solution()"
   ]
  },
  {
   "cell_type": "code",
   "execution_count": 58,
   "id": "a017451a",
   "metadata": {},
   "outputs": [
    {
     "name": "stdout",
     "output_type": "stream",
     "text": [
      "[['0', '1', '0', '0', '0'], ['1', '1', '0', '0', '0'], ['0', '0', '1', '0', '0'], ['0', '0', '0', '1', '1']]\n",
      "\n",
      "\n",
      "[['0', '1', '0', '0', '0'], ['0', '1', '0', '0', '0'], ['0', '0', '1', '0', '0'], ['0', '0', '0', '1', '1']]\n",
      "\n",
      "\n",
      "[['0', '1', '0', '0', '0'], ['0', '0', '0', '0', '0'], ['0', '0', '1', '0', '0'], ['0', '0', '0', '1', '1']]\n",
      "\n",
      "\n",
      "[['0', '0', '0', '0', '0'], ['0', '0', '0', '0', '0'], ['0', '0', '1', '0', '0'], ['0', '0', '0', '1', '1']]\n",
      "\n",
      "\n",
      "[['0', '0', '0', '0', '0'], ['0', '0', '0', '0', '0'], ['0', '0', '0', '0', '0'], ['0', '0', '0', '1', '1']]\n",
      "\n",
      "\n",
      "[['0', '0', '0', '0', '0'], ['0', '0', '0', '0', '0'], ['0', '0', '0', '0', '0'], ['0', '0', '0', '0', '1']]\n",
      "\n",
      "\n",
      "[['0', '0', '0', '0', '0'], ['0', '0', '0', '0', '0'], ['0', '0', '0', '0', '0'], ['0', '0', '0', '0', '0']]\n",
      "\n",
      "\n"
     ]
    },
    {
     "data": {
      "text/plain": [
       "3"
      ]
     },
     "execution_count": 58,
     "metadata": {},
     "output_type": "execute_result"
    }
   ],
   "source": [
    "s.numIslands(grid_2)"
   ]
  },
  {
   "cell_type": "markdown",
   "id": "ebceab88",
   "metadata": {},
   "source": [
    "# Question 2"
   ]
  },
  {
   "cell_type": "markdown",
   "id": "096926e9",
   "metadata": {},
   "source": [
    "\n",
    "\n",
    "신종 바이러스인 웜 바이러스는 네트워크를 통해 전파된다. 한 컴퓨터가 웜 바이러스에 걸리면 그 컴퓨터와 네트워크 상에서 연결되어 있는 모든 컴퓨터는 웜 바이러스에 걸리게 된다.\n",
    "\n",
    "예를 들어 7대의 컴퓨터가 <그림 1>과 같이 네트워크 상에서 연결되어 있다고 하자. 1번 컴퓨터가 웜 바이러스에 걸리면 웜 바이러스는 2번과 5번 컴퓨터를 거쳐 3번과 6번 컴퓨터까지 전파되어 2, 3, 5, 6 네 대의 컴퓨터는 웜 바이러스에 걸리게 된다. 하지만 4번과 7번 컴퓨터는 1번 컴퓨터와 네트워크상에서 연결되어 있지 않기 때문에 영향을 받지 않는다.\n",
    "\n",
    "어느 날 1번 컴퓨터가 웜 바이러스에 걸렸다. 컴퓨터의 수와 네트워크 상에서 서로 연결되어 있는 정보가 주어질 때, 1번 컴퓨터를 통해 웜 바이러스에 걸리게 되는 컴퓨터의 수를 출력하는 프로그램을 작성하시오.\n"
   ]
  },
  {
   "cell_type": "code",
   "execution_count": 83,
   "id": "ac26db61",
   "metadata": {},
   "outputs": [
    {
     "data": {
      "text/plain": [
       "{'A': ['B', 'C'],\n",
       " 'B': ['A', 'D', 'E'],\n",
       " 'C': ['A', 'F'],\n",
       " 'D': ['B'],\n",
       " 'E': ['B', 'F'],\n",
       " 'F': ['C', 'E']}"
      ]
     },
     "execution_count": 83,
     "metadata": {},
     "output_type": "execute_result"
    }
   ],
   "source": [
    "graph = {'A': ['B', 'C'],\n",
    "        'B': ['A', 'D', 'E'],\n",
    "        'C': ['A', 'F'],\n",
    "        'D': ['B'],\n",
    "        'E': ['B', 'F'],\n",
    "        'F': ['C', 'E']}\n",
    "graph"
   ]
  },
  {
   "cell_type": "code",
   "execution_count": 90,
   "id": "c62e1bc2",
   "metadata": {},
   "outputs": [],
   "source": [
    "visited = ['A']\n",
    "exploration = 0\n",
    "\n",
    "def dfs(start, graph):    \n",
    "    for child in graph[start]:\n",
    "        \n",
    "        print(f'start {start} > child {child}')\n",
    "        \n",
    "        if child in visited:\n",
    "            print(f'child {child} has already been visited')\n",
    "        \n",
    "        if child not in visited:\n",
    "            visited.append(child)\n",
    "            global exploration\n",
    "            exploration += 1\n",
    "            \n",
    "            dfs(child, graph)\n",
    "            \n",
    "    return exploration"
   ]
  },
  {
   "cell_type": "code",
   "execution_count": 91,
   "id": "25221e4e",
   "metadata": {},
   "outputs": [
    {
     "name": "stdout",
     "output_type": "stream",
     "text": [
      "start A > child B\n",
      "start B > child A\n",
      "child A has already been visited\n",
      "start B > child D\n",
      "start D > child B\n",
      "child B has already been visited\n",
      "start B > child E\n",
      "start E > child B\n",
      "child B has already been visited\n",
      "start E > child F\n",
      "start F > child C\n",
      "start C > child A\n",
      "child A has already been visited\n",
      "start C > child F\n",
      "child F has already been visited\n",
      "start F > child E\n",
      "child E has already been visited\n",
      "start A > child C\n",
      "child C has already been visited\n"
     ]
    },
    {
     "data": {
      "text/plain": [
       "5"
      ]
     },
     "execution_count": 91,
     "metadata": {},
     "output_type": "execute_result"
    }
   ],
   "source": [
    "dfs(visited[0], graph)"
   ]
  },
  {
   "cell_type": "code",
   "execution_count": 102,
   "id": "8eb72d98",
   "metadata": {},
   "outputs": [],
   "source": [
    "visited = ['A']\n",
    "exploration = 0\n",
    "\n",
    "def bfs(start, graph):\n",
    "    queue = [start]\n",
    "    while queue:\n",
    "        for i in graph[queue.pop()]:\n",
    "            print(f'start {start} > child {i}')\n",
    "            if i not in visited:\n",
    "                visited.append(i)\n",
    "                queue.append(i)\n",
    "            else:\n",
    "                print(f'child {i} has already been visited')"
   ]
  },
  {
   "cell_type": "code",
   "execution_count": 103,
   "id": "b1c5bb55",
   "metadata": {},
   "outputs": [
    {
     "name": "stdout",
     "output_type": "stream",
     "text": [
      "start A > child B\n",
      "start A > child C\n",
      "start A > child A\n",
      "child A has already been visited\n",
      "start A > child F\n",
      "start A > child C\n",
      "child C has already been visited\n",
      "start A > child E\n",
      "start A > child B\n",
      "child B has already been visited\n",
      "start A > child F\n",
      "child F has already been visited\n",
      "start A > child A\n",
      "child A has already been visited\n",
      "start A > child D\n",
      "start A > child E\n",
      "child E has already been visited\n",
      "start A > child B\n",
      "child B has already been visited\n"
     ]
    }
   ],
   "source": [
    "bfs(visited[0], graph)"
   ]
  },
  {
   "cell_type": "code",
   "execution_count": null,
   "id": "8512aa6b",
   "metadata": {},
   "outputs": [],
   "source": []
  }
 ],
 "metadata": {
  "kernelspec": {
   "display_name": "Python 3 (ipykernel)",
   "language": "python",
   "name": "python3"
  },
  "language_info": {
   "codemirror_mode": {
    "name": "ipython",
    "version": 3
   },
   "file_extension": ".py",
   "mimetype": "text/x-python",
   "name": "python",
   "nbconvert_exporter": "python",
   "pygments_lexer": "ipython3",
   "version": "3.9.9"
  }
 },
 "nbformat": 4,
 "nbformat_minor": 5
}
