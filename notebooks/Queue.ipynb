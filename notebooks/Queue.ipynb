{
 "cells": [
  {
   "cell_type": "markdown",
   "id": "d1b967e9",
   "metadata": {},
   "source": [
    "# 2075. N번째 큰 수"
   ]
  },
  {
   "cell_type": "code",
   "execution_count": 70,
   "id": "32d2c67d",
   "metadata": {},
   "outputs": [
    {
     "name": "stdout",
     "output_type": "stream",
     "text": [
      "5\n",
      "12 7 9 15 5\n",
      "13 8 11 19 6\n",
      "21 10 26 31 16\n",
      "48 14 28 35 25\n",
      "52 20 32 41 49\n"
     ]
    }
   ],
   "source": [
    "N = int(input())\n",
    "\n",
    "defacto = []\n",
    "for i in range(N):\n",
    "    defacto += list(map(int, input().split()))"
   ]
  },
  {
   "cell_type": "code",
   "execution_count": 71,
   "id": "13d4fe55",
   "metadata": {},
   "outputs": [],
   "source": [
    "dd = defacto.copy()"
   ]
  },
  {
   "cell_type": "code",
   "execution_count": 87,
   "id": "d7caf396",
   "metadata": {},
   "outputs": [],
   "source": [
    "defacto = dd.copy()"
   ]
  },
  {
   "cell_type": "code",
   "execution_count": null,
   "id": "9ea1ed53",
   "metadata": {},
   "outputs": [],
   "source": [
    "12 7 9 15 5\n",
    "13 8 11 19 6\n",
    "21 10 26 31 16\n",
    "48 14 28 35 25\n",
    "52 20 32 41 49"
   ]
  },
  {
   "cell_type": "code",
   "execution_count": 6,
   "id": "babf6583",
   "metadata": {},
   "outputs": [],
   "source": [
    "total_list = []\n",
    "for g in graph:\n",
    "    total_list += g\n",
    "    \n",
    "print(sorted(total_list, reverse=True)[N-1])\n",
    "\n",
    "# 메모리 초과!...당연하게도\n",
    "# heapq를 활용한 우선 순위 큐를 진행해야 한다."
   ]
  },
  {
   "cell_type": "markdown",
   "id": "cd9930e6",
   "metadata": {},
   "source": [
    "메모리 초과가 발생하므로, 리스트 길이를 유지해줘야 한다."
   ]
  },
  {
   "cell_type": "code",
   "execution_count": 94,
   "id": "1e7eaf84",
   "metadata": {},
   "outputs": [
    {
     "ename": "TypeError",
     "evalue": "'str' object cannot be interpreted as an integer",
     "output_type": "error",
     "traceback": [
      "\u001b[0;31m-------------------------------------------------------------------------\u001b[0m",
      "\u001b[0;31mTypeError\u001b[0m                               Traceback (most recent call last)",
      "\u001b[0;32m<ipython-input-94-60d3dd74f914>\u001b[0m in \u001b[0;36m<module>\u001b[0;34m\u001b[0m\n\u001b[1;32m      1\u001b[0m \u001b[0mdefacto\u001b[0m \u001b[0;34m=\u001b[0m \u001b[0;34m[\u001b[0m\u001b[0;34m]\u001b[0m\u001b[0;34m\u001b[0m\u001b[0;34m\u001b[0m\u001b[0m\n\u001b[1;32m      2\u001b[0m \u001b[0;34m\u001b[0m\u001b[0m\n\u001b[0;32m----> 3\u001b[0;31m \u001b[0mN\u001b[0m \u001b[0;34m=\u001b[0m \u001b[0mint\u001b[0m\u001b[0;34m(\u001b[0m\u001b[0mf\u001b[0m\u001b[0;34m(\u001b[0m\u001b[0;34m'5'\u001b[0m\u001b[0;34m)\u001b[0m\u001b[0;34m)\u001b[0m\u001b[0;34m\u001b[0m\u001b[0;34m\u001b[0m\u001b[0m\n\u001b[0m\u001b[1;32m      4\u001b[0m \u001b[0;32mfor\u001b[0m \u001b[0mi\u001b[0m \u001b[0;32min\u001b[0m \u001b[0mmap\u001b[0m\u001b[0;34m(\u001b[0m\u001b[0mint\u001b[0m\u001b[0;34m,\u001b[0m \u001b[0mf\u001b[0m\u001b[0;34m(\u001b[0m\u001b[0;34m)\u001b[0m\u001b[0;34m.\u001b[0m\u001b[0msplit\u001b[0m\u001b[0;34m(\u001b[0m\u001b[0;34m)\u001b[0m\u001b[0;34m)\u001b[0m\u001b[0;34m:\u001b[0m\u001b[0;34m\u001b[0m\u001b[0;34m\u001b[0m\u001b[0m\n\u001b[1;32m      5\u001b[0m     \u001b[0mdefacto\u001b[0m\u001b[0;34m.\u001b[0m\u001b[0mappend\u001b[0m\u001b[0;34m(\u001b[0m\u001b[0mi\u001b[0m\u001b[0;34m)\u001b[0m\u001b[0;34m\u001b[0m\u001b[0;34m\u001b[0m\u001b[0m\n",
      "\u001b[0;31mTypeError\u001b[0m: 'str' object cannot be interpreted as an integer"
     ]
    }
   ],
   "source": [
    "import sys\n",
    "f = sys.stdin.readline\n",
    "\n",
    "defacto = []\n",
    "\n",
    "N = int(f())\n",
    "for i in map(int, f().split()):\n",
    "    heapq.heappush(defacto, i)\n",
    "    \n",
    "for _ in range(N-1):\n",
    "    heapq.heappop(defacto)\n",
    "    \n",
    "print(-heapq.heappop(defacto))"
   ]
  },
  {
   "cell_type": "code",
   "execution_count": 32,
   "id": "eb43cba6",
   "metadata": {},
   "outputs": [
    {
     "name": "stdout",
     "output_type": "stream",
     "text": [
      "35\n"
     ]
    }
   ],
   "source": [
    "import heapq\n",
    "import sys\n",
    "heap = []\n",
    "for r in defacto:\n",
    "    heapq.heappush(heap, -r)\n",
    "        \n",
    "for _ in range(N-1):\n",
    "    heapq.heappop(heap)\n",
    "print(-heapq.heappop(heap))\n",
    "# 이것도 메모리 초과"
   ]
  },
  {
   "cell_type": "markdown",
   "id": "a129b479",
   "metadata": {},
   "source": [
    "heap은 top이 최소로 저장되고 아래는 상관이 없다. \n",
    "따라서 heap의 길이를 N으로 제한한 다음, 모든 리스트에 대하여 전부 heappush pop을 진행하게 된다면 \n",
    "최종적으로 최소의 값은 전체 힙 중에서 N번째의 값일 것이다!"
   ]
  },
  {
   "cell_type": "markdown",
   "id": "4086741a",
   "metadata": {},
   "source": [
    "# Answer"
   ]
  },
  {
   "cell_type": "code",
   "execution_count": 1,
   "id": "6d9ee3dc",
   "metadata": {},
   "outputs": [
    {
     "ename": "NameError",
     "evalue": "name 'N' is not defined",
     "output_type": "error",
     "traceback": [
      "\u001b[0;31m-------------------------------------------------------------------------\u001b[0m",
      "\u001b[0;31mNameError\u001b[0m                               Traceback (most recent call last)",
      "\u001b[0;32m<ipython-input-1-c380a7f445c5>\u001b[0m in \u001b[0;36m<module>\u001b[0;34m\u001b[0m\n\u001b[1;32m      2\u001b[0m \u001b[0;34m\u001b[0m\u001b[0m\n\u001b[1;32m      3\u001b[0m \u001b[0mheap\u001b[0m \u001b[0;34m=\u001b[0m \u001b[0;34m[\u001b[0m\u001b[0;34m]\u001b[0m\u001b[0;34m\u001b[0m\u001b[0;34m\u001b[0m\u001b[0m\n\u001b[0;32m----> 4\u001b[0;31m \u001b[0;32mfor\u001b[0m \u001b[0m_\u001b[0m \u001b[0;32min\u001b[0m \u001b[0mrange\u001b[0m\u001b[0;34m(\u001b[0m\u001b[0mN\u001b[0m\u001b[0;34m)\u001b[0m\u001b[0;34m:\u001b[0m\u001b[0;34m\u001b[0m\u001b[0;34m\u001b[0m\u001b[0m\n\u001b[0m\u001b[1;32m      5\u001b[0m     \u001b[0mnums\u001b[0m \u001b[0;34m=\u001b[0m \u001b[0mlist\u001b[0m\u001b[0;34m(\u001b[0m\u001b[0mmap\u001b[0m\u001b[0;34m(\u001b[0m\u001b[0mint\u001b[0m\u001b[0;34m,\u001b[0m \u001b[0minput\u001b[0m\u001b[0;34m(\u001b[0m\u001b[0;34m)\u001b[0m\u001b[0;34m.\u001b[0m\u001b[0msplit\u001b[0m\u001b[0;34m(\u001b[0m\u001b[0;34m)\u001b[0m\u001b[0;34m)\u001b[0m\u001b[0;34m)\u001b[0m\u001b[0;34m\u001b[0m\u001b[0;34m\u001b[0m\u001b[0m\n\u001b[1;32m      6\u001b[0m     \u001b[0;31m# 기존 Heap이 존재하지 않을 때는 heappush ON!\u001b[0m\u001b[0;34m\u001b[0m\u001b[0;34m\u001b[0m\u001b[0;34m\u001b[0m\u001b[0m\n",
      "\u001b[0;31mNameError\u001b[0m: name 'N' is not defined"
     ]
    }
   ],
   "source": [
    "import heapq\n",
    "N = int(input())\n",
    "\n",
    "heap = []\n",
    "for _ in range(N):\n",
    "    nums = list(map(int, input().split()))\n",
    "    # 기존 Heap이 존재하지 않을 때는 heappush ON!\n",
    "    if not heap:\n",
    "        for num in nums:\n",
    "            heapq.heappush(heap, num)\n",
    "            \n",
    "    else:\n",
    "        for num in nums:\n",
    "            if heap[0] < num:\n",
    "                heapq.heappush(heap, num)\n",
    "                heapq.heappop(heap)\n",
    "                \n",
    "print(heap[0])"
   ]
  },
  {
   "cell_type": "code",
   "execution_count": null,
   "id": "8ce77de4",
   "metadata": {},
   "outputs": [],
   "source": [
    "12 7 9 15 5\n",
    "13 8 11 19 6\n",
    "21 10 26 31 16\n",
    "48 14 28 35 25\n",
    "52 20 32 41 49"
   ]
  },
  {
   "cell_type": "markdown",
   "id": "05386e1b",
   "metadata": {},
   "source": [
    "# 축구 게임"
   ]
  },
  {
   "cell_type": "code",
   "execution_count": 3,
   "id": "137ce298",
   "metadata": {},
   "outputs": [
    {
     "name": "stdout",
     "output_type": "stream",
     "text": [
      "4\n",
      "0 2 1 3\n"
     ]
    }
   ],
   "source": [
    "N = int(input())\n",
    "\n",
    "scores = list(map(int, input().split()))"
   ]
  },
  {
   "cell_type": "code",
   "execution_count": 9,
   "id": "9022c35c",
   "metadata": {},
   "outputs": [],
   "source": [
    "N = int(input())\n",
    "\n",
    "scores = list(map(int, input().split()))\n",
    "\n",
    "games = int((N * (N-1)) / 2)\n",
    "\n",
    "sum_score = sum(scores)\n",
    "\n",
    "if games == sum_score:\n",
    "    print(1)\n",
    "else:\n",
    "    print(-1)"
   ]
  }
 ],
 "metadata": {
  "kernelspec": {
   "display_name": "Python 3 (ipykernel)",
   "language": "python",
   "name": "python3"
  },
  "language_info": {
   "codemirror_mode": {
    "name": "ipython",
    "version": 3
   },
   "file_extension": ".py",
   "mimetype": "text/x-python",
   "name": "python",
   "nbconvert_exporter": "python",
   "pygments_lexer": "ipython3",
   "version": "3.9.9"
  }
 },
 "nbformat": 4,
 "nbformat_minor": 5
}
