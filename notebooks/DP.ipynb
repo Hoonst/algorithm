{
 "cells": [
  {
   "cell_type": "markdown",
   "id": "55a0995c",
   "metadata": {},
   "source": [
    "# 9625. BABBA"
   ]
  },
  {
   "cell_type": "code",
   "execution_count": 65,
   "id": "b7bf8b81",
   "metadata": {},
   "outputs": [
    {
     "name": "stdout",
     "output_type": "stream",
     "text": [
      "10\n",
      "B\n",
      "BA\n",
      "BAB\n",
      "BABBA\n",
      "BABBABAB\n",
      "BABBABABBABBA\n",
      "BABBABABBABBABABBABAB\n",
      "BABBABABBABBABABBABABBABBABABBABBA\n",
      "BABBABABBABBABABBABABBABBABABBABBABABBABABBABBABABBABAB\n",
      "BABBABABBABBABABBABABBABBABABBABBABABBABABBABBABABBABABBABBABABBABBABABBABABBABBABABBABBA\n",
      "34 55\n"
     ]
    }
   ],
   "source": [
    "from collections import Counter\n",
    "K = int(input())\n",
    "\n",
    "def trans(k):\n",
    "    temp = 'A'\n",
    "    \n",
    "    for i in range(1, k+1):\n",
    "        shatter = ['B' if i == 'A' else 'BA' for i in list(temp)]\n",
    "        temp = ''.join(shatter)\n",
    "        print(temp)\n",
    "    c = Counter(list(temp))\n",
    "    return c\n",
    "            \n",
    "result = trans(K)\n",
    "print(result['A'], result['B'])"
   ]
  },
  {
   "cell_type": "code",
   "execution_count": 74,
   "id": "581fd515",
   "metadata": {},
   "outputs": [
    {
     "name": "stdout",
     "output_type": "stream",
     "text": [
      "10\n",
      "34 55\n"
     ]
    }
   ],
   "source": [
    "K = int(input())\n",
    "\n",
    "A = [0 for _ in range(K+2)]\n",
    "B = [0 for _ in range(K+2)]\n",
    "A[0] = 1\n",
    "B[1] = 1\n",
    "\n",
    "def trans(k):\n",
    "    if k <= 1:\n",
    "        return A[k], B[k]\n",
    "    for i in range(2, k+1):\n",
    "        A[i] = A[i-1]+A[i-2]\n",
    "        B[i] = B[i-1]+B[i-2]\n",
    "    return A[k], B[k]\n",
    "\n",
    "a,b = trans(K)\n",
    "print(a,b)"
   ]
  },
  {
   "cell_type": "markdown",
   "id": "b6389eea",
   "metadata": {},
   "source": [
    "# 2293. 동전 1"
   ]
  },
  {
   "cell_type": "code",
   "execution_count": 5,
   "id": "76d694e2",
   "metadata": {},
   "outputs": [
    {
     "name": "stdout",
     "output_type": "stream",
     "text": [
      "3 10\n",
      "1\n",
      "2\n",
      "5\n"
     ]
    }
   ],
   "source": [
    "n,k = map(int, input().split())\n",
    "value_set = [int(input()) for _ in range(n)]"
   ]
  },
  {
   "cell_type": "code",
   "execution_count": null,
   "id": "73b7b2fb",
   "metadata": {},
   "outputs": [],
   "source": [
    "def coin_value(t):\n",
    "    if t < "
   ]
  }
 ],
 "metadata": {
  "kernelspec": {
   "display_name": "Python 3 (ipykernel)",
   "language": "python",
   "name": "python3"
  },
  "language_info": {
   "codemirror_mode": {
    "name": "ipython",
    "version": 3
   },
   "file_extension": ".py",
   "mimetype": "text/x-python",
   "name": "python",
   "nbconvert_exporter": "python",
   "pygments_lexer": "ipython3",
   "version": "3.9.9"
  }
 },
 "nbformat": 4,
 "nbformat_minor": 5
}
