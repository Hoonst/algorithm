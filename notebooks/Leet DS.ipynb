{
 "cells": [
  {
   "cell_type": "markdown",
   "id": "265a489d",
   "metadata": {},
   "source": [
    "# 217. Contains Duplicate"
   ]
  },
  {
   "cell_type": "code",
   "execution_count": 1,
   "id": "53a37abc",
   "metadata": {},
   "outputs": [],
   "source": [
    "from collections import Counter"
   ]
  },
  {
   "cell_type": "code",
   "execution_count": 12,
   "id": "142f8422",
   "metadata": {},
   "outputs": [
    {
     "data": {
      "text/plain": [
       "3"
      ]
     },
     "execution_count": 12,
     "metadata": {},
     "output_type": "execute_result"
    }
   ],
   "source": [
    "sum(Counter([1,2,3]).values())"
   ]
  },
  {
   "cell_type": "code",
   "execution_count": 13,
   "id": "0cf59f60",
   "metadata": {},
   "outputs": [],
   "source": [
    "def containsDuplicate(nums):\n",
    "    counter = Counter(nums)\n",
    "    if sum(counter.values()) > len(counter):\n",
    "        return False\n",
    "    else:\n",
    "        return True"
   ]
  },
  {
   "cell_type": "markdown",
   "id": "8ec778b3",
   "metadata": {},
   "source": [
    "# 53. Maximum Subarray"
   ]
  },
  {
   "cell_type": "code",
   "execution_count": 21,
   "id": "f3e68ca5",
   "metadata": {},
   "outputs": [],
   "source": [
    "def maxSubArray(nums):\n",
    "    dp_table = [0] * len(nums)\n",
    "    dp_table[0] = nums[0]\n",
    "    for idx, value in enumerate(nums[1:]):\n",
    "        dp_table[idx+1] = max(dp_table[idx] + value, value)\n",
    "    return max(dp_table)"
   ]
  },
  {
   "cell_type": "code",
   "execution_count": 24,
   "id": "d13e2c44",
   "metadata": {},
   "outputs": [],
   "source": [
    "nums = [5,4,-1,7,8]"
   ]
  },
  {
   "cell_type": "code",
   "execution_count": 25,
   "id": "3416776e",
   "metadata": {},
   "outputs": [
    {
     "name": "stdout",
     "output_type": "stream",
     "text": [
      "[5, 0, 0, 0, 0]\n",
      "[5, 9, 0, 0, 0]\n",
      "[5, 9, 8, 0, 0]\n",
      "[5, 9, 8, 15, 0]\n"
     ]
    },
    {
     "data": {
      "text/plain": [
       "[5, 9, 8, 15, 23]"
      ]
     },
     "execution_count": 25,
     "metadata": {},
     "output_type": "execute_result"
    }
   ],
   "source": [
    "maxSubArray(nums)"
   ]
  },
  {
   "cell_type": "markdown",
   "id": "a86f4864",
   "metadata": {},
   "source": [
    "# 70. Climbing Stairs"
   ]
  },
  {
   "cell_type": "code",
   "execution_count": 30,
   "id": "f4642221",
   "metadata": {},
   "outputs": [],
   "source": [
    "def climbStairs(n):\n",
    "    dp = [0,1,2]\n",
    "    if n <= 2:\n",
    "        return dp[n]\n",
    "    else:\n",
    "        for i in range(2, n):\n",
    "            dp.append(dp[i-1] + dp[i])\n",
    "            \n",
    "    return dp[-1]"
   ]
  },
  {
   "cell_type": "code",
   "execution_count": 32,
   "id": "ad02414f",
   "metadata": {},
   "outputs": [
    {
     "data": {
      "text/plain": [
       "3"
      ]
     },
     "execution_count": 32,
     "metadata": {},
     "output_type": "execute_result"
    }
   ],
   "source": [
    "climbStairs(3)"
   ]
  },
  {
   "cell_type": "markdown",
   "id": "7b11abd1",
   "metadata": {},
   "source": [
    "# 338. Counting Bits"
   ]
  },
  {
   "cell_type": "markdown",
   "id": "bcdba7f7",
   "metadata": {},
   "source": [
    "# 392. Is Subsequence"
   ]
  },
  {
   "cell_type": "code",
   "execution_count": 56,
   "id": "2e24b640",
   "metadata": {},
   "outputs": [],
   "source": [
    "def isSubsequence(s: str, t: str) -> bool:\n",
    "    len_s, len_t = len(s), len(t)\n",
    "    if not len_s:\n",
    "        return True\n",
    "    if not len_t:\n",
    "        return False\n",
    "    index_s = 0\n",
    "    index_t = 0\n",
    "\n",
    "    while index_t < len_t and index_s < len_s:\n",
    "        print(index_s, index_t)\n",
    "        if s[index_s] == t[index_t]:\n",
    "            index_s += 1\n",
    "            index_t += 1\n",
    "        else:\n",
    "            index_t += 1\n",
    "\n",
    "    if index_s == len_s:\n",
    "        return True\n",
    "    else:\n",
    "        return False"
   ]
  },
  {
   "cell_type": "code",
   "execution_count": 57,
   "id": "16e8ce60",
   "metadata": {},
   "outputs": [],
   "source": [
    "s = 'axc'\n",
    "t = 'ahbgdc'"
   ]
  },
  {
   "cell_type": "code",
   "execution_count": 58,
   "id": "70cace6f",
   "metadata": {},
   "outputs": [
    {
     "ename": "NameError",
     "evalue": "name 'index' is not defined",
     "output_type": "error",
     "traceback": [
      "\u001b[0;31m---------------------------------------------------------------------------\u001b[0m",
      "\u001b[0;31mNameError\u001b[0m                                 Traceback (most recent call last)",
      "\u001b[0;32m/var/folders/fn/9dj0lp5d1vjdz651ldy376r40000gn/T/ipykernel_20635/1438373224.py\u001b[0m in \u001b[0;36m<module>\u001b[0;34m\u001b[0m\n\u001b[0;32m----> 1\u001b[0;31m \u001b[0mindex\u001b[0m\u001b[0;34m\u001b[0m\u001b[0;34m\u001b[0m\u001b[0m\n\u001b[0m",
      "\u001b[0;31mNameError\u001b[0m: name 'index' is not defined"
     ]
    }
   ],
   "source": [
    "index"
   ]
  },
  {
   "cell_type": "code",
   "execution_count": 59,
   "id": "cef776d9",
   "metadata": {},
   "outputs": [
    {
     "name": "stdout",
     "output_type": "stream",
     "text": [
      "0 0\n",
      "1 1\n",
      "1 2\n",
      "1 3\n",
      "1 4\n",
      "1 5\n"
     ]
    },
    {
     "data": {
      "text/plain": [
       "False"
      ]
     },
     "execution_count": 59,
     "metadata": {},
     "output_type": "execute_result"
    }
   ],
   "source": [
    "isSubsequence(s,t)"
   ]
  },
  {
   "cell_type": "markdown",
   "id": "fddfcfaa",
   "metadata": {},
   "source": [
    "# 118. Pascal's Triangle"
   ]
  },
  {
   "cell_type": "code",
   "execution_count": 81,
   "id": "e334df7d",
   "metadata": {},
   "outputs": [],
   "source": [
    "def generate(numRows):\n",
    "    triangle = [[1]*i for i in range(1,numRows+1)]\n",
    "    \n",
    "    stage = 2\n",
    "    while stage < len(triangle):\n",
    "        for i,v in enumerate(triangle[stage]):\n",
    "            if i == 0 or i == stage:\n",
    "                pass\n",
    "            else:\n",
    "                print(i)\n",
    "                triangle[stage][i] = triangle[stage-1][i-1] + triangle[stage-1][i]\n",
    "        stage += 1\n",
    "    \n",
    "    return triangle[-1]"
   ]
  },
  {
   "cell_type": "markdown",
   "id": "e3c17794",
   "metadata": {},
   "source": [
    "# 119. Pascal's Triangle II"
   ]
  },
  {
   "cell_type": "code",
   "execution_count": 85,
   "id": "69d6f973",
   "metadata": {},
   "outputs": [],
   "source": [
    "def generate(numRows):\n",
    "    triangle = [[1]*i for i in range(1,numRows+2)]\n",
    "    \n",
    "    stage = 2\n",
    "    while stage < len(triangle):\n",
    "        for i,v in enumerate(triangle[stage]):\n",
    "            if i == 0 or i == stage:\n",
    "                pass\n",
    "            else:\n",
    "                print(i)\n",
    "                triangle[stage][i] = triangle[stage-1][i-1] + triangle[stage-1][i]\n",
    "        stage += 1\n",
    "    \n",
    "    return triangle[-1]"
   ]
  },
  {
   "cell_type": "code",
   "execution_count": 86,
   "id": "2372410b",
   "metadata": {},
   "outputs": [
    {
     "name": "stdout",
     "output_type": "stream",
     "text": [
      "1\n",
      "1\n",
      "2\n"
     ]
    },
    {
     "data": {
      "text/plain": [
       "[1, 3, 3, 1]"
      ]
     },
     "execution_count": 86,
     "metadata": {},
     "output_type": "execute_result"
    }
   ],
   "source": [
    "generate(3)"
   ]
  },
  {
   "cell_type": "markdown",
   "id": "380a5125",
   "metadata": {},
   "source": [
    "# 1025. Divisor Game"
   ]
  },
  {
   "cell_type": "markdown",
   "id": "d3455a4f",
   "metadata": {},
   "source": [
    "1이 되면 사망한다."
   ]
  },
  {
   "cell_type": "code",
   "execution_count": null,
   "id": "727b5c21",
   "metadata": {},
   "outputs": [],
   "source": [
    "def divisorGame(n):\n",
    "    "
   ]
  },
  {
   "cell_type": "markdown",
   "id": "28355dbb",
   "metadata": {},
   "source": [
    "# 1646. Get Maximum in Generated Array"
   ]
  },
  {
   "cell_type": "code",
   "execution_count": 95,
   "id": "d6ad5871",
   "metadata": {},
   "outputs": [
    {
     "data": {
      "text/plain": [
       "1"
      ]
     },
     "execution_count": 95,
     "metadata": {},
     "output_type": "execute_result"
    }
   ],
   "source": [
    "3 // 2"
   ]
  },
  {
   "cell_type": "code",
   "execution_count": 121,
   "id": "a9d93275",
   "metadata": {},
   "outputs": [],
   "source": [
    "import copy\n",
    "def getMaximumGenerated(n):\n",
    "    if n == 0:\n",
    "        return 0\n",
    "    dp = [0 for _ in range(n+1)]\n",
    "    dp[1] = 1\n",
    "    for i in range(2, n+1):\n",
    "        j = copy.deepcopy(i)\n",
    "        while True:\n",
    "            if j % 2 == 0:\n",
    "                if dp[j // 2]:\n",
    "                    dp[i] = dp[j//2]\n",
    "                    break\n",
    "\n",
    "            elif (j+1) % 2 == 0:\n",
    "                if dp[(j-1) // 2] and dp[((j-1) // 2) + 1]:\n",
    "                    dp[i] = dp[(j-1) // 2] + dp[((j-1) // 2) + 1]\n",
    "                    break                    \n",
    "    return max(dp)"
   ]
  },
  {
   "cell_type": "code",
   "execution_count": 122,
   "id": "b246a90b",
   "metadata": {},
   "outputs": [
    {
     "name": "stdout",
     "output_type": "stream",
     "text": [
      "i: 2\n",
      "2\n",
      "2 2\n",
      "[0, 1, 1, 0, 0, 0, 0, 0]\n",
      "i: 3\n",
      "3\n",
      "1\n",
      "1\n",
      "[0, 1, 1, 2, 0, 0, 0, 0]\n",
      "i: 4\n",
      "4\n",
      "4 4\n",
      "[0, 1, 1, 2, 1, 0, 0, 0]\n",
      "i: 5\n",
      "5\n",
      "1\n",
      "2\n",
      "[0, 1, 1, 2, 1, 3, 0, 0]\n",
      "i: 6\n",
      "6\n",
      "6 6\n",
      "[0, 1, 1, 2, 1, 3, 2, 0]\n",
      "i: 7\n",
      "7\n",
      "2\n",
      "1\n",
      "[0, 1, 1, 2, 1, 3, 2, 3]\n"
     ]
    },
    {
     "data": {
      "text/plain": [
       "[0, 1, 1, 2, 1, 3, 2, 3]"
      ]
     },
     "execution_count": 122,
     "metadata": {},
     "output_type": "execute_result"
    }
   ],
   "source": [
    "getMaximumGenerated(7)"
   ]
  },
  {
   "cell_type": "code",
   "execution_count": null,
   "id": "a52b7429",
   "metadata": {},
   "outputs": [],
   "source": []
  }
 ],
 "metadata": {
  "kernelspec": {
   "display_name": "Python 3 (ipykernel)",
   "language": "python",
   "name": "python3"
  },
  "language_info": {
   "codemirror_mode": {
    "name": "ipython",
    "version": 3
   },
   "file_extension": ".py",
   "mimetype": "text/x-python",
   "name": "python",
   "nbconvert_exporter": "python",
   "pygments_lexer": "ipython3",
   "version": "3.9.10"
  }
 },
 "nbformat": 4,
 "nbformat_minor": 5
}
