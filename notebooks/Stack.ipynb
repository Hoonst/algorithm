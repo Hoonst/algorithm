{
 "cells": [
  {
   "cell_type": "markdown",
   "id": "31028a10",
   "metadata": {},
   "source": [
    "# 10828: 스택"
   ]
  },
  {
   "cell_type": "markdown",
   "id": "5d09bf4f",
   "metadata": {},
   "source": [
    "## 문제\n",
    "\n",
    "정수를 저장하는 스택을 구현한 다음, 입력으로 주어지는 명령을 처리하는 프로그램을 작성하시오.\n",
    "\n",
    "명령은 총 다섯 가지이다.\n",
    "\n",
    "push X: 정수 X를 스택에 넣는 연산이다.  \n",
    "pop: 스택에서 가장 위에 있는 정수를 빼고, 그 수를 출력한다. 만약 스택에 들어있는 정수가 없는 경우에는 -1을 출력한다.  \n",
    "size: 스택에 들어있는 정수의 개수를 출력한다.  \n",
    "empty: 스택이 비어있으면 1, 아니면 0을 출력한다.  \n",
    "top: 스택의 가장 위에 있는 정수를 출력한다. 만약 스택에 들어있는 정수가 없는 경우에는 -1을 출력한다.  "
   ]
  },
  {
   "cell_type": "code",
   "execution_count": 2,
   "id": "72a27ddc",
   "metadata": {},
   "outputs": [
    {
     "name": "stdout",
     "output_type": "stream",
     "text": [
      "push 1\n",
      "push 2\n",
      "top\n",
      "size\n",
      "empty\n",
      "pop\n",
      "pop\n",
      "pop\n",
      "size\n",
      "empty\n",
      "pop\n",
      "push 3\n",
      "empty\n",
      "top\n"
     ]
    }
   ],
   "source": [
    "N = int(input())\n",
    "commands = [input().split() for _ in range(N)]"
   ]
  },
  {
   "cell_type": "code",
   "execution_count": 3,
   "id": "33915ca8",
   "metadata": {},
   "outputs": [
    {
     "data": {
      "text/plain": [
       "[['push', '1'],\n",
       " ['push', '2'],\n",
       " ['top'],\n",
       " ['size'],\n",
       " ['empty'],\n",
       " ['pop'],\n",
       " ['pop'],\n",
       " ['pop'],\n",
       " ['size'],\n",
       " ['empty'],\n",
       " ['pop'],\n",
       " ['push', '3'],\n",
       " ['empty'],\n",
       " ['top']]"
      ]
     },
     "execution_count": 3,
     "metadata": {},
     "output_type": "execute_result"
    }
   ],
   "source": [
    "commands"
   ]
  },
  {
   "cell_type": "code",
   "execution_count": 35,
   "id": "bdc4e53d",
   "metadata": {},
   "outputs": [],
   "source": [
    "class Stack:\n",
    "    def __init__(self):\n",
    "        self.sack = []\n",
    "    \n",
    "    def push(self, item):\n",
    "        self.sack.append(item)\n",
    "        \n",
    "    def pop(self):\n",
    "        if len(self.sack) > 0:\n",
    "            return self.sack.pop()\n",
    "        else:\n",
    "            return -1\n",
    "    \n",
    "    def size(self):\n",
    "        return len(self.sack)\n",
    "\n",
    "    def empty(self):\n",
    "        if len(self.sack) > 0:\n",
    "            return 0\n",
    "        else:\n",
    "            return 1 \n",
    "    def top(self):\n",
    "        if len(self.sack) > 0:\n",
    "            return self.sack[-1]\n",
    "        else:\n",
    "            return -1"
   ]
  },
  {
   "cell_type": "code",
   "execution_count": 37,
   "id": "b5739267",
   "metadata": {},
   "outputs": [
    {
     "name": "stdout",
     "output_type": "stream",
     "text": [
      "['1']\n",
      "['1', '2']\n",
      "2\n",
      "['1', '2']\n",
      "2\n",
      "['1', '2']\n",
      "0\n",
      "['1', '2']\n",
      "2\n",
      "['1']\n",
      "1\n",
      "[]\n",
      "-1\n",
      "[]\n",
      "0\n",
      "[]\n",
      "1\n",
      "[]\n",
      "-1\n",
      "[]\n",
      "['3']\n",
      "0\n",
      "['3']\n",
      "3\n",
      "['3']\n"
     ]
    }
   ],
   "source": [
    "stacks = Stack()\n",
    "\n",
    "for comm in commands:\n",
    "    if comm[0] == 'push':\n",
    "        command, value = comm\n",
    "    else:\n",
    "        command = comm[0]\n",
    "    \n",
    "    if command == 'push':\n",
    "        stacks.push(value)\n",
    "    elif command == 'pop':\n",
    "        print(stacks.pop())\n",
    "    elif command == 'size':\n",
    "        print(stacks.size())\n",
    "    elif command == 'empty':\n",
    "        print(stacks.empty())\n",
    "    elif command == 'top':\n",
    "        print(stacks.top())"
   ]
  },
  {
   "cell_type": "code",
   "execution_count": 38,
   "id": "464314cc",
   "metadata": {},
   "outputs": [
    {
     "name": "stdout",
     "output_type": "stream",
     "text": [
      "7\n",
      "pop\n",
      "top\n",
      "push 123\n",
      "top\n",
      "pop\n",
      "top\n",
      "pop\n",
      "-1\n",
      "-1\n",
      "123\n",
      "123\n",
      "-1\n",
      "-1\n"
     ]
    }
   ],
   "source": [
    "N = int(input())\n",
    "commands = [input().split() for _ in range(N)]\n",
    "\n",
    "class Stack:\n",
    "    def __init__(self):\n",
    "        self.sack = []\n",
    "    \n",
    "    def push(self, item):\n",
    "        self.sack.append(item)\n",
    "        \n",
    "    def pop(self):\n",
    "        if len(self.sack) > 0:\n",
    "            return self.sack.pop()\n",
    "        else:\n",
    "            return -1\n",
    "    \n",
    "    def size(self):\n",
    "        return len(self.sack)\n",
    "\n",
    "    def empty(self):\n",
    "        if len(self.sack) > 0:\n",
    "            return 0\n",
    "        else:\n",
    "            return 1 \n",
    "    def top(self):\n",
    "        if len(self.sack) > 0:\n",
    "            return self.sack[-1]\n",
    "        else:\n",
    "            return -1\n",
    "        \n",
    "stacks = Stack()\n",
    "\n",
    "for comm in commands:\n",
    "    if comm[0] == 'push':\n",
    "        command, value = comm\n",
    "    else:\n",
    "        command = comm[0]\n",
    "    \n",
    "    if command == 'push':\n",
    "        stacks.push(value)\n",
    "    elif command == 'pop':\n",
    "        print(stacks.pop())\n",
    "    elif command == 'size':\n",
    "        print(stacks.size())\n",
    "    elif command == 'empty':\n",
    "        print(stacks.empty())\n",
    "    elif command == 'top':\n",
    "        print(stacks.top())"
   ]
  },
  {
   "cell_type": "markdown",
   "id": "0af5b271",
   "metadata": {},
   "source": [
    "# 1874: 스택 수열"
   ]
  },
  {
   "cell_type": "markdown",
   "id": "3718adbb",
   "metadata": {},
   "source": [
    "스택 (stack)은 기본적인 자료구조 중 하나로, 컴퓨터 프로그램을 작성할 때 자주 이용되는 개념이다. 스택은 자료를 넣는 (push) 입구와 자료를 뽑는 (pop) 입구가 같아 제일 나중에 들어간 자료가 제일 먼저 나오는 (LIFO, Last in First out) 특성을 가지고 있다.\n",
    "\n",
    "1부터 n까지의 수를 스택에 넣었다가 뽑아 늘어놓음으로써, 하나의 수열을 만들 수 있다. 이때, 스택에 push하는 순서는 반드시 오름차순을 지키도록 한다고 하자. 임의의 수열이 주어졌을 때 스택을 이용해 그 수열을 만들 수 있는지 없는지, 있다면 어떤 순서로 push와 pop 연산을 수행해야 하는지를 알아낼 수 있다. 이를 계산하는 프로그램을 작성하라."
   ]
  },
  {
   "cell_type": "code",
   "execution_count": 146,
   "id": "a60b4e2d",
   "metadata": {},
   "outputs": [
    {
     "name": "stdout",
     "output_type": "stream",
     "text": [
      "5\n"
     ]
    }
   ],
   "source": [
    "n = int(input())\n",
    "origin = [i for i in range(1,n+1)]"
   ]
  },
  {
   "cell_type": "code",
   "execution_count": 148,
   "id": "d203be1e",
   "metadata": {},
   "outputs": [],
   "source": [
    "# seq = [4,3,6,8,7,5,2,1]\n",
    "seq = [1,2,5,3,4]\n"
   ]
  },
  {
   "cell_type": "code",
   "execution_count": 149,
   "id": "273b86ca",
   "metadata": {},
   "outputs": [
    {
     "name": "stdout",
     "output_type": "stream",
     "text": [
      "[1]\n",
      "[1, 2, 5, 3, 4]\n",
      "[]\n",
      "[2, 5, 3, 4]\n",
      "[2]\n",
      "[2, 5, 3, 4]\n",
      "[]\n",
      "[5, 3, 4]\n",
      "[3]\n",
      "[5, 3, 4]\n",
      "[3, 4]\n",
      "[5, 3, 4]\n",
      "[3, 4, 5]\n",
      "[5, 3, 4]\n",
      "[3, 4]\n",
      "[3, 4]\n",
      "NO\n"
     ]
    }
   ],
   "source": [
    "n = int(input())\n",
    "origin = [i for i in range(1,n+1)]\n",
    "\n",
    "seq = [int(input()) for _ in range(n)]\n",
    "sequence = seq.copy()\n",
    "\n",
    "answer_stack = []\n",
    "temp_stack = []\n",
    "command_list = []\n",
    "for o in range(len(origin)):\n",
    "    temp_stack.append(origin[o])\n",
    "    command_list.append('+')\n",
    "    while len(temp_stack) > 0 and len(seq) > 0 and (temp_stack[-1] == seq[0]):\n",
    "        answer_stack.append(temp_stack.pop())\n",
    "        command_list.append('-')\n",
    "        seq.pop(0)\n",
    "        \n",
    "if answer_stack == sequence:\n",
    "    for i in command_list:\n",
    "        print(i)\n",
    "else:\n",
    "    print('NO') "
   ]
  },
  {
   "cell_type": "markdown",
   "id": "5e7e85e2",
   "metadata": {},
   "source": [
    "# 9012: 괄호"
   ]
  },
  {
   "cell_type": "markdown",
   "id": "e54c6b30",
   "metadata": {},
   "source": [
    "괄호 문자열(Parenthesis String, PS)은 두 개의 괄호 기호인 ‘(’ 와 ‘)’ 만으로 구성되어 있는 문자열이다. 그 중에서 괄호의 모양이 바르게 구성된 문자열을 올바른 괄호 문자열(Valid PS, VPS)이라고 부른다. 한 쌍의 괄호 기호로 된 “( )” 문자열은 기본 VPS 이라고 부른다. 만일 x 가 VPS 라면 이것을 하나의 괄호에 넣은 새로운 문자열 “(x)”도 VPS 가 된다. 그리고 두 VPS x 와 y를 접합(concatenation)시킨 새로운 문자열 xy도 VPS 가 된다. 예를 들어 “(())()”와 “((()))” 는 VPS 이지만 “(()(”, “(())()))” , 그리고 “(()” 는 모두 VPS 가 아닌 문자열이다. \n",
    "\n",
    "여러분은 입력으로 주어진 괄호 문자열이 VPS 인지 아닌지를 판단해서 그 결과를 YES 와 NO 로 나타내어야 한다. "
   ]
  },
  {
   "cell_type": "code",
   "execution_count": 150,
   "id": "def83a94",
   "metadata": {},
   "outputs": [
    {
     "name": "stdout",
     "output_type": "stream",
     "text": [
      "6\n"
     ]
    }
   ],
   "source": [
    "T = int(input())"
   ]
  },
  {
   "cell_type": "code",
   "execution_count": 216,
   "id": "f8648d80",
   "metadata": {},
   "outputs": [
    {
     "name": "stdout",
     "output_type": "stream",
     "text": [
      "3\n",
      "((\n",
      "))\n",
      "(()(()\n",
      "NO\n",
      "NO\n",
      "NO\n"
     ]
    }
   ],
   "source": [
    "T = int(input())\n",
    "\n",
    "def is_VPS(ps):\n",
    "    stack = []\n",
    "    for p in ps:\n",
    "        if p == '(':\n",
    "            stack.append(p)\n",
    "        elif p == ')':\n",
    "            if len(stack) > 0:\n",
    "                stack.pop()\n",
    "            else:\n",
    "                return 'NO'\n",
    "                \n",
    "    if len(stack) > 0:\n",
    "        return 'NO'\n",
    "    elif len(stack) == 0:\n",
    "        return 'YES'\n",
    "    \n",
    "testcase = [input() for _ in range(T)]\n",
    "\n",
    "for t in testcase:\n",
    "    print(is_VPS(t))"
   ]
  },
  {
   "cell_type": "code",
   "execution_count": 213,
   "id": "e02e6e18",
   "metadata": {},
   "outputs": [
    {
     "name": "stdout",
     "output_type": "stream",
     "text": [
      "(())())\n",
      "case1\n",
      "NO\n",
      "(((()())()\n",
      "case2\n",
      "NO\n",
      "(()())((()))\n",
      "YES\n",
      "((()()(()))(((())))()\n",
      "case2\n",
      "NO\n",
      "()()()()(()()())()\n",
      "YES\n",
      "(()((())()(\n",
      "case2\n",
      "NO\n"
     ]
    }
   ],
   "source": [
    "testcase = [input() for _ in range(T)]\n",
    "\n",
    "for t in range(testcase):\n",
    "    print(is_VPS(t))"
   ]
  },
  {
   "cell_type": "markdown",
   "id": "c6375d2b",
   "metadata": {},
   "source": [
    "# 10799: 쇠막대기"
   ]
  },
  {
   "cell_type": "markdown",
   "id": "441d8093",
   "metadata": {},
   "source": [
    "막대기의 길이는 상관없고 잘리는 만큼만 살펴보자"
   ]
  },
  {
   "cell_type": "code",
   "execution_count": 280,
   "id": "cf21401c",
   "metadata": {},
   "outputs": [
    {
     "name": "stdout",
     "output_type": "stream",
     "text": [
      "()(((()())(())()))(())\n"
     ]
    }
   ],
   "source": [
    "brackets = input()"
   ]
  },
  {
   "cell_type": "markdown",
   "id": "9286f2b9",
   "metadata": {},
   "source": [
    "1. Stack으로 bracket 수집\n",
    "2. 괄호가 하나로 바로 닫히면 laser 개수 추가\n",
    "3. 괄호가 바로 안 닫히면 막대기이므로 갖고 있는 (laser+1) 개수 만큼 나뉘어짐\n",
    "4. Stack 안의 괄호가 모두 사라지면 laser=0"
   ]
  },
  {
   "cell_type": "markdown",
   "id": "006ff5f5",
   "metadata": {},
   "source": [
    "1. Stack으로 Bracket을 수집하는 대신 Laser 개수를 수집한다.\n",
    "2. 괄호가 닫힐 때, \n",
    "    1. 이전 괄호가 '('이면 Laser 추가: String, Stack 모두 Pop()\n",
    "        1. 만약 string이 남아있으면 모든 stack에 대해 +=1\n",
    "        2. String이 남아있지 않으면 단독 Laser이므로 Pass\n",
    "    2. 이전 괄호가 ')'이면 Stack에서 pop해서 Laser +=1을 cnt에 추가"
   ]
  },
  {
   "cell_type": "code",
   "execution_count": 278,
   "id": "308cbeab",
   "metadata": {},
   "outputs": [],
   "source": [
    "def add_same(lists):\n",
    "    lists = [x+1 for x in lists]\n",
    "    return lists"
   ]
  },
  {
   "cell_type": "code",
   "execution_count": 3,
   "id": "04d8265d",
   "metadata": {},
   "outputs": [
    {
     "name": "stdout",
     "output_type": "stream",
     "text": [
      "()(((()())(())()))(())\n",
      "17\n"
     ]
    }
   ],
   "source": [
    "brackets = input()\n",
    "\n",
    "stack = []\n",
    "cut = 0\n",
    "string = []\n",
    "\n",
    "for b_index in range(len(brackets)):\n",
    "    current_bracket = brackets[b_index]\n",
    "    if current_bracket == '(':\n",
    "        stack.append(0)\n",
    "        string.append(current_bracket)\n",
    "        \n",
    "    elif current_bracket == ')':\n",
    "        last_bracket = brackets[b_index-1]\n",
    "        if last_bracket == '(':\n",
    "            string.pop()\n",
    "            stack.pop()\n",
    "            if len(string) > 0:\n",
    "                stack = [x+1 for x in stack]\n",
    "    \n",
    "        elif last_bracket == ')':\n",
    "            cut += (stack.pop()+1)\n",
    "            \n",
    "print(cut)"
   ]
  },
  {
   "cell_type": "code",
   "execution_count": 1,
   "id": "eaef6cce",
   "metadata": {},
   "outputs": [
    {
     "name": "stdout",
     "output_type": "stream",
     "text": [
      "()(((()())(())()))(())\n",
      "17\n"
     ]
    }
   ],
   "source": [
    "n  = input()\n",
    "lis = list(n)\n",
    "ans = 0\n",
    "num = 0\n",
    "\n",
    "for i in range(len(n)):\n",
    "    if lis[i] == '(':\n",
    "        num += 1\n",
    "\n",
    "    elif lis[i] == ')':\n",
    "        num -= 1\n",
    "        if lis[i-1] == '(':\n",
    "            ans += num\n",
    "        else:\n",
    "            ans += 1\n",
    "print(ans)"
   ]
  }
 ],
 "metadata": {
  "kernelspec": {
   "display_name": "Python 3",
   "language": "python",
   "name": "python3"
  },
  "language_info": {
   "codemirror_mode": {
    "name": "ipython",
    "version": 3
   },
   "file_extension": ".py",
   "mimetype": "text/x-python",
   "name": "python",
   "nbconvert_exporter": "python",
   "pygments_lexer": "ipython3",
   "version": "3.6.9"
  }
 },
 "nbformat": 4,
 "nbformat_minor": 5
}
