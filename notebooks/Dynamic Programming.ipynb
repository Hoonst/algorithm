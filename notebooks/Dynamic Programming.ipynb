{
 "cells": [
  {
   "cell_type": "markdown",
   "id": "36f94828",
   "metadata": {},
   "source": [
    "# Dynamic Programming"
   ]
  },
  {
   "cell_type": "markdown",
   "id": "489dbcfd",
   "metadata": {},
   "source": [
    "* 다이나믹 프로그래밍 알고리즘은 문제를 각각의 작은 문제로 나누어 해결한 결과를 저장해두었다가 나중에 큰 문제의 결과와 합하여 풀이하는 알고리즘  \n",
    "    > 최적 부분 구조: 최적의 해결 방법이 해당 문제의 일부를 푸는 것으로 해결되는 것  \n",
    "    예시: 서울 / 대구 / 부산에 대한 최단 경로를 찾는 문제는 (서울 > 대구) / (대구 > 부산) 부분 문제에 대한 해결을 하는 것과 같다.  \n",
    "    > 중복 문제: 하위 문제들이 중복되어야 한다.\n",
    "    \n",
    "    > 그리디 알고리즘과의 차이점: 그리디 알고리즘 같은 경우는 항상 그 순간에 최적이라고 생각되는 것을 선택  \n",
    "    > DP: 중복된 하위 문제들의 결과를 저장했다가 풀어나간다.\n",
    "\n",
    "* 상향식 접근법: 타뷸레이션\n",
    "    > 기본 재료를 통해 위로 올라가면서 최종 목표에 다다르는 것  \n",
    "    > 기본 재료를 사용하여 반복을 통해 수행한다.\n",
    "\n",
    "* 하향식 접근법: 메모이제이션\n",
    "    > 목표를 위해 필요한 재료를 하나씩 내려가면서 찾는 것  \n",
    "    > 재귀를 통해 수행한다.\n",
    "    \n",
    "* 그리디 알고리즘"
   ]
  },
  {
   "cell_type": "markdown",
   "id": "4748adbc",
   "metadata": {},
   "source": [
    "기본적으로 DP는 Fibonacci를 못 풀면 쳐다도 보면 안 된다는 것이 국룰로 보인다.  \n",
    "Fibonacci를 푸는 방식을 암기하듯이 공부하면 DP에 대한 생각도 정립이 될 것이라 보인다. \n",
    "\n",
    "1. 재귀 구조 Brute Force\n",
    "2. Memoization (하향식)\n",
    "3. Tabulation (상향식)\n",
    "4. 두 변수만 활용해 공간 절약\n",
    "5. 행렬\n"
   ]
  },
  {
   "cell_type": "markdown",
   "id": "56c2e606",
   "metadata": {},
   "source": [
    "근데 메모이제이션과 타뷸레이션은 모두 값을 저장한 뒤 사용한다는 공통점이 있지만, 이름이 다르다.  \n",
    "이 둘의 차이점은, 모든 것을 다 저장할 것인가(타뷸레이션) / 필요한 것만 저장할 것인가(메모이제이션)에 있다. "
   ]
  },
  {
   "cell_type": "markdown",
   "id": "c4be2f70",
   "metadata": {},
   "source": [
    "## 1. 재귀 구조 Brute Force"
   ]
  },
  {
   "cell_type": "code",
   "execution_count": 4,
   "id": "2f971e36",
   "metadata": {},
   "outputs": [],
   "source": [
    "def fibonacci(n: int) -> int:\n",
    "    if n <= 1:\n",
    "        return n\n",
    "    return fibonacci(n-1) + fibonacci(n-2)"
   ]
  },
  {
   "cell_type": "code",
   "execution_count": 5,
   "id": "71c8d9a0",
   "metadata": {},
   "outputs": [
    {
     "data": {
      "text/plain": [
       "55"
      ]
     },
     "execution_count": 5,
     "metadata": {},
     "output_type": "execute_result"
    }
   ],
   "source": [
    "fibonacci(10)"
   ]
  },
  {
   "cell_type": "markdown",
   "id": "636ae9ab",
   "metadata": {},
   "source": [
    "## 2. Memoization (하향식)"
   ]
  },
  {
   "cell_type": "code",
   "execution_count": 8,
   "id": "2e871da8",
   "metadata": {},
   "outputs": [],
   "source": [
    "def fibonacci(n: int) -> int:\n",
    "    temp = [0 for _ in range(n+1)]\n",
    "    if n <= 1:\n",
    "        return n\n",
    "    \n",
    "    if temp[n]:\n",
    "        return temp[n]\n",
    "    temp[n] = fibonacci(n-1) + fibonacci(n-2)\n",
    "    return temp[n]  "
   ]
  },
  {
   "cell_type": "code",
   "execution_count": 9,
   "id": "004344cd",
   "metadata": {},
   "outputs": [
    {
     "data": {
      "text/plain": [
       "55"
      ]
     },
     "execution_count": 9,
     "metadata": {},
     "output_type": "execute_result"
    }
   ],
   "source": [
    "fibonacci(10)"
   ]
  },
  {
   "cell_type": "markdown",
   "id": "a52ab4fa",
   "metadata": {},
   "source": [
    "## 3. Tabulation (상향식)"
   ]
  },
  {
   "cell_type": "markdown",
   "id": "1394ddcb",
   "metadata": {},
   "source": [
    "재귀를 사용하지 않고 반복으로 진행한다.  \n",
    "미리 계산을 해둔 값을 Table화 시키는 Tabulation을 진행한 뒤, 필요한 값을 조각조각 모아서 가져온다. "
   ]
  },
  {
   "cell_type": "code",
   "execution_count": 10,
   "id": "c9a7bac9",
   "metadata": {},
   "outputs": [],
   "source": [
    "def fibonacci(n: int) -> int:\n",
    "    temp = [0 for _ in range(n+1)]\n",
    "    temp[1] = 1\n",
    "    \n",
    "    for i in range(2, n+1):\n",
    "        temp[i] = temp[i-1] + temp[i-2]\n",
    "    return temp[n]"
   ]
  },
  {
   "cell_type": "code",
   "execution_count": 11,
   "id": "be0c805f",
   "metadata": {},
   "outputs": [
    {
     "data": {
      "text/plain": [
       "55"
      ]
     },
     "execution_count": 11,
     "metadata": {},
     "output_type": "execute_result"
    }
   ],
   "source": [
    "fibonacci(10)"
   ]
  },
  {
   "cell_type": "markdown",
   "id": "c6be0ce1",
   "metadata": {},
   "source": [
    "# 최대 서브 배열"
   ]
  },
  {
   "cell_type": "code",
   "execution_count": 12,
   "id": "24eedcc1",
   "metadata": {},
   "outputs": [],
   "source": [
    "sample = [-2, 1, -3, 4, -1, 2, 1, -5, 4]"
   ]
  },
  {
   "cell_type": "code",
   "execution_count": 13,
   "id": "0aa623cf",
   "metadata": {},
   "outputs": [
    {
     "ename": "SyntaxError",
     "evalue": "invalid syntax (3062772484.py, line 1)",
     "output_type": "error",
     "traceback": [
      "\u001b[0;36m  File \u001b[0;32m\"/var/folders/fn/9dj0lp5d1vjdz651ldy376r40000gn/T/ipykernel_87493/3062772484.py\"\u001b[0;36m, line \u001b[0;32m1\u001b[0m\n\u001b[0;31m    누적합이 메모이제이션?...\u001b[0m\n\u001b[0m         ^\u001b[0m\n\u001b[0;31mSyntaxError\u001b[0m\u001b[0;31m:\u001b[0m invalid syntax\n"
     ]
    }
   ],
   "source": [
    "누적합이 메모이제이션?..."
   ]
  },
  {
   "cell_type": "markdown",
   "id": "e48a65d6",
   "metadata": {},
   "source": [
    "# 계단 오르기"
   ]
  },
  {
   "cell_type": "code",
   "execution_count": 14,
   "id": "de9d975d",
   "metadata": {},
   "outputs": [
    {
     "name": "stdout",
     "output_type": "stream",
     "text": [
      "6\n"
     ]
    }
   ],
   "source": [
    "N = int(input())"
   ]
  },
  {
   "cell_type": "markdown",
   "id": "6281a4fa",
   "metadata": {},
   "source": [
    "6번째 계단에 오르는 방법은, 4번째 계단의 최적 솔루션 + 5번째 계산의 최적 솔루션이다. "
   ]
  },
  {
   "cell_type": "code",
   "execution_count": 16,
   "id": "abd12050",
   "metadata": {},
   "outputs": [
    {
     "name": "stdout",
     "output_type": "stream",
     "text": [
      "10\n",
      "20\n",
      "15\n",
      "25\n",
      "10\n",
      "20\n"
     ]
    }
   ],
   "source": [
    "stairs = [int(input()) for _ in range(N)]"
   ]
  },
  {
   "cell_type": "code",
   "execution_count": 81,
   "id": "d3375312",
   "metadata": {},
   "outputs": [],
   "source": [
    "stairs = [10,20,15,25,10,20]"
   ]
  },
  {
   "cell_type": "code",
   "execution_count": 91,
   "id": "ec8bacac",
   "metadata": {},
   "outputs": [],
   "source": [
    "stairs = [0] + stairs"
   ]
  },
  {
   "cell_type": "code",
   "execution_count": 92,
   "id": "ff8e9644",
   "metadata": {},
   "outputs": [],
   "source": [
    "scores = [0 for _ in range(N+1)]"
   ]
  },
  {
   "cell_type": "code",
   "execution_count": 93,
   "id": "e2bcda76",
   "metadata": {},
   "outputs": [
    {
     "data": {
      "text/plain": [
       "[0, 0, 10, 20, 15, 25, 10, 20]"
      ]
     },
     "execution_count": 93,
     "metadata": {},
     "output_type": "execute_result"
    }
   ],
   "source": [
    "stairs"
   ]
  },
  {
   "cell_type": "code",
   "execution_count": 94,
   "id": "f54fb057",
   "metadata": {},
   "outputs": [
    {
     "data": {
      "text/plain": [
       "[0, 0, 0, 0, 0, 0, 0]"
      ]
     },
     "execution_count": 94,
     "metadata": {},
     "output_type": "execute_result"
    }
   ],
   "source": [
    "scores"
   ]
  },
  {
   "cell_type": "code",
   "execution_count": 95,
   "id": "7ae589b6",
   "metadata": {},
   "outputs": [],
   "source": [
    "def max_score(loc, jumped=False):\n",
    "    print(loc)\n",
    "    if loc <= 1:\n",
    "        scores[loc] = stairs[loc]\n",
    "        return scores[loc]\n",
    "    elif loc == 2:\n",
    "        scores[loc] = stairs[loc-1] + stairs[loc]\n",
    "        return scores[loc]\n",
    "    \n",
    "    if scores[loc]:\n",
    "        return scores[loc]\n",
    "    \n",
    "\n",
    "    scores[loc] = max(max_score(loc-1), max_score(loc-2)) + stairs[loc]\n",
    "    \n",
    "    return scores[loc]"
   ]
  },
  {
   "cell_type": "code",
   "execution_count": 96,
   "id": "81c5bd9f",
   "metadata": {},
   "outputs": [
    {
     "name": "stdout",
     "output_type": "stream",
     "text": [
      "6\n",
      "4\n",
      "2\n"
     ]
    },
    {
     "data": {
      "text/plain": [
       "35"
      ]
     },
     "execution_count": 96,
     "metadata": {},
     "output_type": "execute_result"
    }
   ],
   "source": [
    "max_score(6)"
   ]
  },
  {
   "cell_type": "code",
   "execution_count": 97,
   "id": "3641b439",
   "metadata": {},
   "outputs": [
    {
     "data": {
      "text/plain": [
       "[0, 0, 10, 0, 25, 0, 35]"
      ]
     },
     "execution_count": 97,
     "metadata": {},
     "output_type": "execute_result"
    }
   ],
   "source": [
    "scores"
   ]
  },
  {
   "cell_type": "markdown",
   "id": "5bfd22c6",
   "metadata": {},
   "source": [
    "## 백준 2747: 피보나치 수"
   ]
  },
  {
   "cell_type": "code",
   "execution_count": 17,
   "id": "511f1eab",
   "metadata": {},
   "outputs": [
    {
     "name": "stdout",
     "output_type": "stream",
     "text": [
      "\n"
     ]
    },
    {
     "ename": "ValueError",
     "evalue": "invalid literal for int() with base 10: ''",
     "output_type": "error",
     "traceback": [
      "\u001b[0;31m---------------------------------------------------------------------------\u001b[0m",
      "\u001b[0;31mValueError\u001b[0m                                Traceback (most recent call last)",
      "\u001b[0;32m<ipython-input-17-218824955e3a>\u001b[0m in \u001b[0;36m<module>\u001b[0;34m\u001b[0m\n\u001b[0;32m----> 1\u001b[0;31m \u001b[0mn\u001b[0m \u001b[0;34m=\u001b[0m \u001b[0mint\u001b[0m\u001b[0;34m(\u001b[0m\u001b[0minput\u001b[0m\u001b[0;34m(\u001b[0m\u001b[0;34m)\u001b[0m\u001b[0;34m)\u001b[0m\u001b[0;34m\u001b[0m\u001b[0;34m\u001b[0m\u001b[0m\n\u001b[0m\u001b[1;32m      2\u001b[0m \u001b[0;34m\u001b[0m\u001b[0m\n\u001b[1;32m      3\u001b[0m \u001b[0;32mdef\u001b[0m \u001b[0mfibonacci\u001b[0m\u001b[0;34m(\u001b[0m\u001b[0mn\u001b[0m\u001b[0;34m)\u001b[0m\u001b[0;34m:\u001b[0m\u001b[0;34m\u001b[0m\u001b[0;34m\u001b[0m\u001b[0m\n\u001b[1;32m      4\u001b[0m     \u001b[0mfib\u001b[0m \u001b[0;34m=\u001b[0m \u001b[0;34m[\u001b[0m\u001b[0;36m0\u001b[0m\u001b[0;34m,\u001b[0m\u001b[0;36m1\u001b[0m\u001b[0;34m,\u001b[0m\u001b[0;36m1\u001b[0m\u001b[0;34m]\u001b[0m\u001b[0;34m\u001b[0m\u001b[0;34m\u001b[0m\u001b[0m\n\u001b[1;32m      5\u001b[0m     \u001b[0;32mif\u001b[0m \u001b[0mn\u001b[0m \u001b[0;34m<\u001b[0m \u001b[0;36m3\u001b[0m\u001b[0;34m:\u001b[0m\u001b[0;34m\u001b[0m\u001b[0;34m\u001b[0m\u001b[0m\n",
      "\u001b[0;31mValueError\u001b[0m: invalid literal for int() with base 10: ''"
     ]
    }
   ],
   "source": [
    "n = int(input())\n",
    "\n",
    "def fibonacci(n):\n",
    "    fib = [0,1,1]\n",
    "    if n < 3:\n",
    "        return fib[n]\n",
    "    else:\n",
    "        for i in range(3, n+1):\n",
    "            fib.append(fib[i-1] + fib[i-2])\n",
    "        return fib[-1]\n",
    "    \n",
    "print(fibonacci(n))"
   ]
  },
  {
   "cell_type": "markdown",
   "id": "38f1f776",
   "metadata": {},
   "source": [
    "## 백준 2748: 피보나치 수 2"
   ]
  },
  {
   "cell_type": "code",
   "execution_count": null,
   "id": "06935865",
   "metadata": {},
   "outputs": [],
   "source": [
    "n = int(input())\n",
    "\n",
    "def fibonacci(n):\n",
    "    fib = [0,1,1]\n",
    "    if n < 3:\n",
    "        return fib[n]\n",
    "    else:\n",
    "        for i in range(3, n+1):\n",
    "            fib.append(fib[i-1] + fib[i-2])\n",
    "        return fib[-1]\n",
    "    \n",
    "print(fibonacci(n))"
   ]
  },
  {
   "cell_type": "markdown",
   "id": "bc71e37e",
   "metadata": {},
   "source": [
    "## 백준 2749: 피보나치 수 3"
   ]
  },
  {
   "cell_type": "code",
   "execution_count": null,
   "id": "6bc112a9",
   "metadata": {},
   "outputs": [],
   "source": [
    "https://hooongs.tistory.com/115\n",
    "메모이제이션으로 진행하면 메모리가 지나치게 커지기 때문에, 행렬 연산으로 진행해야 한다. "
   ]
  },
  {
   "cell_type": "code",
   "execution_count": 23,
   "id": "f672f3ee",
   "metadata": {},
   "outputs": [
    {
     "name": "stdout",
     "output_type": "stream",
     "text": [
      "10\n",
      "55\n"
     ]
    }
   ],
   "source": [
    "n = int(input())\n",
    "\n",
    "def fibonacci(n):\n",
    "    fib1, fib2 = 1, 1\n",
    "    if n < 3:\n",
    "        return fib[n]\n",
    "    else:\n",
    "        for i in range(n-2):\n",
    "            fib_temp = fib2\n",
    "            fib2 += fib1\n",
    "            fib1 = fib_temp\n",
    "        return fib2\n",
    "    \n",
    "print(fibonacci(n))"
   ]
  },
  {
   "cell_type": "markdown",
   "id": "1c92636b",
   "metadata": {},
   "source": [
    "## 백준 1463"
   ]
  },
  {
   "cell_type": "markdown",
   "id": "da4a3bc3",
   "metadata": {},
   "source": [
    "1로 만들기"
   ]
  },
  {
   "cell_type": "markdown",
   "id": "c646b9ae",
   "metadata": {},
   "source": [
    "https://www.acmicpc.net/problem/1463"
   ]
  },
  {
   "cell_type": "code",
   "execution_count": 38,
   "id": "395e6f18",
   "metadata": {},
   "outputs": [],
   "source": [
    "# n = int(input())\n",
    "\n",
    "def function(n):\n",
    "    dp = [0] * (n+1)\n",
    "    # 2부터 시작하는 이유는 0,1은 계산이 필요없기 때문\n",
    "    for i in range(2, n+1):\n",
    "        print(i)\n",
    "        \n",
    "        dp[i] = dp[i-1] + 1\n",
    "        print(f'dp1: {dp}')\n",
    "        if i % 2 == 0:\n",
    "            dp[i] = min(dp[i], dp[i//2]+1)\n",
    "            print(f'dp2: {dp}')\n",
    "        if i % 3 == 0:\n",
    "            dp[i] = min(dp[i], dp[i//3] + 1)\n",
    "            print(f'dp3: {dp}')\n",
    "            \n",
    "function(n)"
   ]
  },
  {
   "cell_type": "markdown",
   "id": "f9fb160b",
   "metadata": {},
   "source": [
    "## 백준 11726"
   ]
  },
  {
   "cell_type": "code",
   "execution_count": 56,
   "id": "4d122866",
   "metadata": {},
   "outputs": [
    {
     "name": "stdout",
     "output_type": "stream",
     "text": [
      "9\n"
     ]
    }
   ],
   "source": [
    "n = int(input())"
   ]
  },
  {
   "cell_type": "code",
   "execution_count": 72,
   "id": "a55c41f9",
   "metadata": {},
   "outputs": [],
   "source": [
    "def tyling(n):\n",
    "    base = [1, 2, 3]\n",
    "    if n > 3:\n",
    "        for i in range(3, n):\n",
    "            base.append(base[i-2] + base[i-1])\n",
    "    return base[n-1] % 10007"
   ]
  },
  {
   "cell_type": "code",
   "execution_count": 73,
   "id": "8abd85a9",
   "metadata": {},
   "outputs": [
    {
     "name": "stdout",
     "output_type": "stream",
     "text": [
      "55\n"
     ]
    }
   ],
   "source": [
    "print(tyling(9))"
   ]
  },
  {
   "cell_type": "markdown",
   "id": "3b12c3a1",
   "metadata": {},
   "source": [
    "# 1,2,3 더하기"
   ]
  },
  {
   "cell_type": "markdown",
   "id": "a1a68ff5",
   "metadata": {},
   "source": [
    "* f(1) = 1\n",
    "* f(2) = 2\n",
    "* f(3) = 4\n",
    "* f(4) = f(1) + f(2) + f(3)\n",
    "\n",
    "f(1)에다가 3, f(2)에다가 2, f(3)에다가 1을 더하면 f(4)가 되기때문에\n",
    "각 방법의 개수를 더하면 된다.\n"
   ]
  },
  {
   "cell_type": "code",
   "execution_count": 14,
   "id": "4484813e",
   "metadata": {},
   "outputs": [
    {
     "name": "stdout",
     "output_type": "stream",
     "text": [
      "3\n",
      "4\n",
      "7\n",
      "7\n",
      "44\n",
      "10\n",
      "274\n"
     ]
    }
   ],
   "source": [
    "n = int(input())\n",
    "\n",
    "base = [0,1,2,4]\n",
    "for _ in range(n):\n",
    "    k = int(input())\n",
    "    while len(base) < k+1:\n",
    "        length = len(base)\n",
    "        base.append(base[length-1] + base[length-2] + base[length-3])\n",
    "    print(base[k])"
   ]
  },
  {
   "cell_type": "markdown",
   "id": "5dab8975",
   "metadata": {},
   "source": [
    "# 쉬운 계단 수"
   ]
  },
  {
   "cell_type": "code",
   "execution_count": 26,
   "id": "3aa8ef64",
   "metadata": {},
   "outputs": [
    {
     "name": "stdout",
     "output_type": "stream",
     "text": [
      "2\n"
     ]
    }
   ],
   "source": [
    "n = int(input())"
   ]
  },
  {
   "cell_type": "code",
   "execution_count": 32,
   "id": "43c0ec86",
   "metadata": {},
   "outputs": [],
   "source": [
    "stairs = [[0]*10 for _ in range(n+1)]"
   ]
  },
  {
   "cell_type": "code",
   "execution_count": 33,
   "id": "b8f25463",
   "metadata": {},
   "outputs": [
    {
     "data": {
      "text/plain": [
       "[[0, 0, 0, 0, 0, 0, 0, 0, 0, 0], [0, 0, 0, 0, 0, 0, 0, 0, 0, 0]]"
      ]
     },
     "execution_count": 33,
     "metadata": {},
     "output_type": "execute_result"
    }
   ],
   "source": [
    "stairs"
   ]
  },
  {
   "cell_type": "code",
   "execution_count": 30,
   "id": "df002701",
   "metadata": {},
   "outputs": [
    {
     "name": "stdout",
     "output_type": "stream",
     "text": [
      "1\n",
      "9\n"
     ]
    }
   ],
   "source": [
    "base = [9]\n",
    "\n",
    "while len(base) < n:\n",
    "    base.append(2*base[-1]-1)\n",
    "print(base[-1] % 1000000000)"
   ]
  },
  {
   "cell_type": "markdown",
   "id": "b60ac54e",
   "metadata": {},
   "source": [
    "# 2839. 설탕 배달"
   ]
  },
  {
   "cell_type": "code",
   "execution_count": 6,
   "id": "8263abc3",
   "metadata": {},
   "outputs": [
    {
     "name": "stdout",
     "output_type": "stream",
     "text": [
      "18\n",
      "4\n"
     ]
    }
   ],
   "source": [
    "sugar = int(input())\n",
    "\n",
    "bag = 0\n",
    "while sugar >= 0 :\n",
    "    if sugar % 5 == 0 :  # 5의 배수이면\n",
    "        bag += (sugar // 5)  # 5로 나눈 몫을 구해야 정수가 됨\n",
    "        print(bag)\n",
    "        break\n",
    "    sugar -= 3  \n",
    "    bag += 1  # 5의 배수가 될 때까지 설탕-3, 봉지+1\n",
    "else :\n",
    "    print(-1)"
   ]
  },
  {
   "cell_type": "markdown",
   "id": "040d97de",
   "metadata": {},
   "source": [
    "상근이는 요즘 설탕공장에서 설탕을 배달하고 있다. 상근이는 지금 사탕가게에 설탕을 정확하게 N킬로그램을 배달해야 한다. 설탕공장에서 만드는 설탕은 봉지에 담겨져 있다. 봉지는 3킬로그램 봉지와 5킬로그램 봉지가 있다.\n",
    "\n",
    "상근이는 귀찮기 때문에, 최대한 적은 봉지를 들고 가려고 한다. 예를 들어, 18킬로그램 설탕을 배달해야 할 때, 3킬로그램 봉지 6개를 가져가도 되지만, 5킬로그램 3개와 3킬로그램 1개를 배달하면, 더 적은 개수의 봉지를 배달할 수 있다.\n",
    "\n",
    "상근이가 설탕을 정확하게 N킬로그램 배달해야 할 때, 봉지 몇 개를 가져가면 되는지 그 수를 구하는 프로그램을 작성하시오."
   ]
  },
  {
   "cell_type": "markdown",
   "id": "648e1a7f",
   "metadata": {},
   "source": [
    "DP와 그리디의 차이점에 대한 글 중에, 나누는 수 들끼리 나눠지면 DP로 풀어야 한다는 글을 본 적이 있다.\n",
    "예를 들어, 1600원을 지폐와 동전으로 나눌 때, 1000 / 500 / 100 3개로 나누지만, 800원짜리가 있다면 2개로도 가능한 예시가 있다.\n",
    "이 때는 DP로 풀어야 한다고 해서 고민을 했지만 피보나치 수열의 재귀, 메모이제이션, 타뷸레이션과 같은 해결책은 사용하지 않았다.\n",
    "\n",
    "(부분 문제) / (중복 문제)의 관점으로 봤을 때, 3과 5의 나머지 부분문제로 나누어져 N에서 3을 뺐을 때 5로 나누어지면 봉지 개수가 딱 떨어지며,\n",
    "5를 최대한 활용하는 방식으로 진행한다. \n",
    "\n",
    "그리고 3으로 쭉 뺐을 때 0이 될 때까지 5가 등장하지 않으면, 0이 5로 나누어져 나머지 0을 return 할 것이고 이것을 3 봉지 개수와 합쳐서\n",
    "총 합을 내뱉는다.\n",
    "\n",
    "while else 활용 방식 또한 새로 알게 되었다.\n",
    "간단한 문제지만...DP를 자유자재로 갖고 놀 수 없기에 아직 애먹었다."
   ]
  },
  {
   "cell_type": "code",
   "execution_count": 9,
   "id": "53fc5bb9",
   "metadata": {},
   "outputs": [
    {
     "name": "stdout",
     "output_type": "stream",
     "text": [
      "6\n",
      "2\n"
     ]
    }
   ],
   "source": [
    "N = int(input())\n",
    "three = 0\n",
    "\n",
    "while N >= 0:\n",
    "    if N % 5 == 0:\n",
    "        five = N // 5\n",
    "        print(five + three)\n",
    "        break\n",
    "    three += 1\n",
    "    N -= 3\n",
    "else:\n",
    "    print(-1)"
   ]
  },
  {
   "cell_type": "markdown",
   "id": "22fc8f86",
   "metadata": {},
   "source": [
    "# 13301. 타일 장식물"
   ]
  },
  {
   "cell_type": "code",
   "execution_count": 14,
   "id": "8a2c793a",
   "metadata": {},
   "outputs": [
    {
     "name": "stdout",
     "output_type": "stream",
     "text": [
      "6\n",
      "42\n"
     ]
    }
   ],
   "source": [
    "N = int(input())\n",
    "\n",
    "def outside(n):\n",
    "    if n == 1:\n",
    "        return 4\n",
    "    else:\n",
    "        result = fib_list(n)\n",
    "        return (4*result[-1])+(2*result[-2])\n",
    "    \n",
    "def fib_list(n: int) -> int:\n",
    "    temp = [0 for _ in range(n+1)]\n",
    "    temp[1] = 1\n",
    "    \n",
    "    for i in range(2, n+1):\n",
    "        temp[i] = temp[i-1] + temp[i-2]\n",
    "    return temp\n",
    "\n",
    "print(outside(N))"
   ]
  },
  {
   "cell_type": "code",
   "execution_count": 16,
   "id": "54206cf1",
   "metadata": {},
   "outputs": [
    {
     "name": "stdout",
     "output_type": "stream",
     "text": [
      "5\n",
      "1 2\n",
      "2 3\n",
      "3 5\n",
      "5 8\n",
      "8 13\n",
      "26\n"
     ]
    }
   ],
   "source": [
    "i,j = 1,1\n",
    "for _ in [0]*int(input()):\n",
    "    i,j = j, i+j\n",
    "    print(i,j)\n",
    "print(j*2)"
   ]
  },
  {
   "cell_type": "markdown",
   "id": "6b91cf83",
   "metadata": {},
   "source": [
    "# 15312. 이름 궁합"
   ]
  },
  {
   "cell_type": "markdown",
   "id": "cb971cc1",
   "metadata": {},
   "source": [
    "1. 각 알파벳에 대하여 먼저 획수로 변환\n",
    "2. 0,1,2번 인덱스 순으로 (0,1) / (1,2) / (2,3) 순으로 더해서 새로운 리스트 만든다\n",
    "3. 하나의 리스트에 대해서 새로운 리스트를 계속 만들어 나간다.\n",
    "\n",
    "내가 처리 못하는 것... 다음 순번에게 넘긴다!\n",
    "맨 마지막 녀석이 처리해라!"
   ]
  },
  {
   "cell_type": "code",
   "execution_count": 89,
   "id": "8308b886",
   "metadata": {},
   "outputs": [
    {
     "data": {
      "text/plain": [
       "[1, 3, 2, 3, 2, 2]"
      ]
     },
     "execution_count": 89,
     "metadata": {},
     "output_type": "execute_result"
    }
   ],
   "source": [
    "name_combined"
   ]
  },
  {
   "cell_type": "code",
   "execution_count": 2,
   "id": "52b2f1c5",
   "metadata": {},
   "outputs": [
    {
     "name": "stdout",
     "output_type": "stream",
     "text": [
      "CJM\n",
      "HER\n",
      "99\n"
     ]
    }
   ],
   "source": [
    "import string\n",
    "\n",
    "A = input()\n",
    "B = input()\n",
    "\n",
    "writing = [3, 2, 1, 2, 3, 3, 2, 3, 3, 2, 2, 1, 2, 2, 1, 2, 2, 2, 1, 2, 1, 1, 1, 2, 2, 1]\n",
    "alpha_dic = {key:write for key, write in zip(string.ascii_uppercase, writing)}\n",
    "A_list, B_list = [alpha_dic[i] for i in A], [alpha_dic[j] for j in B]\n",
    "\n",
    "name_combined = []\n",
    "for i,j in zip(A, B):\n",
    "    name_combined.append(alpha_dic[i])\n",
    "    name_combined.append(alpha_dic[j])\n",
    "\n",
    "while len(name_combined) > 2:\n",
    "    name_combined = [int(str(name_combined[idx] + name_combined[idx-1])[-1]) for idx in range(1, len(name_combined))]\n",
    "answer = ''.join(list(map(str, name_combined)))\n",
    "print(answer)"
   ]
  },
  {
   "cell_type": "markdown",
   "id": "bfab4aec",
   "metadata": {},
   "source": [
    "# 15881. Pen Pineapple Apple Pen"
   ]
  },
  {
   "cell_type": "code",
   "execution_count": 19,
   "id": "b7bfd981",
   "metadata": {},
   "outputs": [
    {
     "name": "stdout",
     "output_type": "stream",
     "text": [
      "7\n",
      "pPApPAp\n",
      "1\n"
     ]
    }
   ],
   "source": [
    "n = int(input())\n",
    "string = input()\n",
    "\n",
    "ppap = 0\n",
    "index = 0\n",
    "while index + 4 <= len(string):\n",
    "    if string[index] == 'p' and string[index:index+4] == 'pPAp':\n",
    "        ppap += 1\n",
    "        index += 4\n",
    "    else:\n",
    "        index += 1\n",
    "print(ppap)"
   ]
  },
  {
   "cell_type": "code",
   "execution_count": 22,
   "id": "31c6dee1",
   "metadata": {},
   "outputs": [
    {
     "name": "stdout",
     "output_type": "stream",
     "text": [
      "Object `?` not found.\n"
     ]
    },
    {
     "data": {
      "text/plain": [
       "1"
      ]
     },
     "execution_count": 22,
     "metadata": {},
     "output_type": "execute_result"
    }
   ],
   "source": [
    "# ???\n",
    "# 중복없이 세주네?...\n",
    "\n",
    "'pPApPAp'.count('pPAp')"
   ]
  },
  {
   "cell_type": "markdown",
   "id": "918e962c",
   "metadata": {},
   "source": [
    "# 1010. 다리 놓기"
   ]
  },
  {
   "cell_type": "markdown",
   "id": "1a237385",
   "metadata": {},
   "source": [
    "조합으로 풀어도 된다."
   ]
  },
  {
   "cell_type": "code",
   "execution_count": 1,
   "id": "3ed8048a",
   "metadata": {},
   "outputs": [
    {
     "name": "stdout",
     "output_type": "stream",
     "text": [
      "1 3\n"
     ]
    },
    {
     "ename": "ValueError",
     "evalue": "invalid literal for int() with base 10: '1 3'",
     "output_type": "error",
     "traceback": [
      "\u001b[0;31m---------------------------------------------------------------------------\u001b[0m",
      "\u001b[0;31mValueError\u001b[0m                                Traceback (most recent call last)",
      "\u001b[0;32m/var/folders/fn/9dj0lp5d1vjdz651ldy376r40000gn/T/ipykernel_47833/3803993012.py\u001b[0m in \u001b[0;36m<module>\u001b[0;34m\u001b[0m\n\u001b[1;32m      1\u001b[0m \u001b[0;32mimport\u001b[0m \u001b[0mmath\u001b[0m\u001b[0;34m\u001b[0m\u001b[0;34m\u001b[0m\u001b[0m\n\u001b[1;32m      2\u001b[0m \u001b[0mfactorial\u001b[0m \u001b[0;34m=\u001b[0m \u001b[0mmath\u001b[0m\u001b[0;34m.\u001b[0m\u001b[0mfactorial\u001b[0m\u001b[0;34m\u001b[0m\u001b[0;34m\u001b[0m\u001b[0m\n\u001b[0;32m----> 3\u001b[0;31m \u001b[0mT\u001b[0m \u001b[0;34m=\u001b[0m \u001b[0mint\u001b[0m\u001b[0;34m(\u001b[0m\u001b[0minput\u001b[0m\u001b[0;34m(\u001b[0m\u001b[0;34m)\u001b[0m\u001b[0;34m)\u001b[0m\u001b[0;34m\u001b[0m\u001b[0;34m\u001b[0m\u001b[0m\n\u001b[0m\u001b[1;32m      4\u001b[0m \u001b[0;32mfor\u001b[0m \u001b[0m_\u001b[0m \u001b[0;32min\u001b[0m \u001b[0mrange\u001b[0m\u001b[0;34m(\u001b[0m\u001b[0mT\u001b[0m\u001b[0;34m)\u001b[0m\u001b[0;34m:\u001b[0m\u001b[0;34m\u001b[0m\u001b[0;34m\u001b[0m\u001b[0m\n\u001b[1;32m      5\u001b[0m     \u001b[0mN\u001b[0m\u001b[0;34m,\u001b[0m \u001b[0mM\u001b[0m \u001b[0;34m=\u001b[0m \u001b[0mmap\u001b[0m\u001b[0;34m(\u001b[0m\u001b[0mint\u001b[0m\u001b[0;34m,\u001b[0m \u001b[0minput\u001b[0m\u001b[0;34m(\u001b[0m\u001b[0;34m)\u001b[0m\u001b[0;34m.\u001b[0m\u001b[0msplit\u001b[0m\u001b[0;34m(\u001b[0m\u001b[0;34m)\u001b[0m\u001b[0;34m)\u001b[0m\u001b[0;34m\u001b[0m\u001b[0;34m\u001b[0m\u001b[0m\n",
      "\u001b[0;31mValueError\u001b[0m: invalid literal for int() with base 10: '1 3'"
     ]
    }
   ],
   "source": [
    "import math\n",
    "factorial = math.factorial\n",
    "T = int(input())\n",
    "for _ in range(T):\n",
    "    N, M = map(int, input().split())\n",
    "    "
   ]
  },
  {
   "cell_type": "code",
   "execution_count": 24,
   "id": "91409cd8",
   "metadata": {},
   "outputs": [],
   "source": [
    "N, M = 2,2"
   ]
  },
  {
   "cell_type": "markdown",
   "id": "5a5a71e9",
   "metadata": {},
   "source": [
    "# 13699. 점화식"
   ]
  },
  {
   "cell_type": "code",
   "execution_count": 2,
   "id": "c65411f0",
   "metadata": {},
   "outputs": [
    {
     "name": "stdout",
     "output_type": "stream",
     "text": [
      "3\n"
     ]
    }
   ],
   "source": [
    "n = int(input())"
   ]
  },
  {
   "cell_type": "code",
   "execution_count": 3,
   "id": "4b03d9a4",
   "metadata": {},
   "outputs": [],
   "source": [
    "def func(N):\n",
    "    if N == 0:\n",
    "        return 1\n",
    "    else:\n",
    "        return func(N-1) * func(N-2)"
   ]
  },
  {
   "cell_type": "code",
   "execution_count": 4,
   "id": "36768301",
   "metadata": {},
   "outputs": [
    {
     "ename": "RecursionError",
     "evalue": "maximum recursion depth exceeded in comparison",
     "output_type": "error",
     "traceback": [
      "\u001b[0;31m---------------------------------------------------------------------------\u001b[0m",
      "\u001b[0;31mRecursionError\u001b[0m                            Traceback (most recent call last)",
      "\u001b[0;32m/var/folders/fn/9dj0lp5d1vjdz651ldy376r40000gn/T/ipykernel_47833/2704162641.py\u001b[0m in \u001b[0;36m<module>\u001b[0;34m\u001b[0m\n\u001b[0;32m----> 1\u001b[0;31m \u001b[0mfunc\u001b[0m\u001b[0;34m(\u001b[0m\u001b[0mn\u001b[0m\u001b[0;34m)\u001b[0m\u001b[0;34m\u001b[0m\u001b[0;34m\u001b[0m\u001b[0m\n\u001b[0m",
      "\u001b[0;32m/var/folders/fn/9dj0lp5d1vjdz651ldy376r40000gn/T/ipykernel_47833/2054963117.py\u001b[0m in \u001b[0;36mfunc\u001b[0;34m(N)\u001b[0m\n\u001b[1;32m      3\u001b[0m         \u001b[0;32mreturn\u001b[0m \u001b[0;36m1\u001b[0m\u001b[0;34m\u001b[0m\u001b[0;34m\u001b[0m\u001b[0m\n\u001b[1;32m      4\u001b[0m     \u001b[0;32melse\u001b[0m\u001b[0;34m:\u001b[0m\u001b[0;34m\u001b[0m\u001b[0;34m\u001b[0m\u001b[0m\n\u001b[0;32m----> 5\u001b[0;31m         \u001b[0;32mreturn\u001b[0m \u001b[0mfunc\u001b[0m\u001b[0;34m(\u001b[0m\u001b[0mN\u001b[0m\u001b[0;34m-\u001b[0m\u001b[0;36m1\u001b[0m\u001b[0;34m)\u001b[0m \u001b[0;34m*\u001b[0m \u001b[0mfunc\u001b[0m\u001b[0;34m(\u001b[0m\u001b[0mN\u001b[0m\u001b[0;34m-\u001b[0m\u001b[0;36m2\u001b[0m\u001b[0;34m)\u001b[0m\u001b[0;34m\u001b[0m\u001b[0;34m\u001b[0m\u001b[0m\n\u001b[0m",
      "... last 1 frames repeated, from the frame below ...\n",
      "\u001b[0;32m/var/folders/fn/9dj0lp5d1vjdz651ldy376r40000gn/T/ipykernel_47833/2054963117.py\u001b[0m in \u001b[0;36mfunc\u001b[0;34m(N)\u001b[0m\n\u001b[1;32m      3\u001b[0m         \u001b[0;32mreturn\u001b[0m \u001b[0;36m1\u001b[0m\u001b[0;34m\u001b[0m\u001b[0;34m\u001b[0m\u001b[0m\n\u001b[1;32m      4\u001b[0m     \u001b[0;32melse\u001b[0m\u001b[0;34m:\u001b[0m\u001b[0;34m\u001b[0m\u001b[0;34m\u001b[0m\u001b[0m\n\u001b[0;32m----> 5\u001b[0;31m         \u001b[0;32mreturn\u001b[0m \u001b[0mfunc\u001b[0m\u001b[0;34m(\u001b[0m\u001b[0mN\u001b[0m\u001b[0;34m-\u001b[0m\u001b[0;36m1\u001b[0m\u001b[0;34m)\u001b[0m \u001b[0;34m*\u001b[0m \u001b[0mfunc\u001b[0m\u001b[0;34m(\u001b[0m\u001b[0mN\u001b[0m\u001b[0;34m-\u001b[0m\u001b[0;36m2\u001b[0m\u001b[0;34m)\u001b[0m\u001b[0;34m\u001b[0m\u001b[0;34m\u001b[0m\u001b[0m\n\u001b[0m",
      "\u001b[0;31mRecursionError\u001b[0m: maximum recursion depth exceeded in comparison"
     ]
    }
   ],
   "source": [
    "func(n)"
   ]
  },
  {
   "cell_type": "markdown",
   "id": "7134f160",
   "metadata": {},
   "source": [
    "# 9655. 돌게임"
   ]
  },
  {
   "cell_type": "code",
   "execution_count": null,
   "id": "6ef598ec",
   "metadata": {},
   "outputs": [],
   "source": [
    "N = int(input())\n",
    "if N % 2:\n",
    "    print('SK')\n",
    "else:\n",
    "    print('CY')"
   ]
  },
  {
   "cell_type": "markdown",
   "id": "ba002ca5",
   "metadata": {},
   "source": [
    "# 1697. 숨바꼭질"
   ]
  },
  {
   "cell_type": "markdown",
   "id": "6c89685d",
   "metadata": {},
   "source": [
    "본 문제는 그래프 탐색을 하는 과정 속에 DP가 포함되어 있는 문제이다.\n",
    "\n",
    "1. 현재 위치가 n이고 k에 도달해야 할 때,\n",
    "2. n에서 n-1 / n+1 / n*2 를 방문하면서\n",
    "3. 해당 지점에 거리 계산을 한 적이 없다면, 거리를 계산하며\n",
    "4. 현재 시점 n에서 n-1 / n+1 / n*2를 도달했다면 거리+1를 해야한다."
   ]
  },
  {
   "cell_type": "code",
   "execution_count": 13,
   "id": "a5215995",
   "metadata": {},
   "outputs": [
    {
     "name": "stdout",
     "output_type": "stream",
     "text": [
      "5 10\n",
      "1\n"
     ]
    }
   ],
   "source": [
    "from collections import deque\n",
    "\n",
    "def bfs(N, K):\n",
    "    queue = deque()\n",
    "    queue.append(N)\n",
    "    while queue:\n",
    "        x = queue.popleft()\n",
    "        if x == K:\n",
    "            print(dist[x])\n",
    "            break\n",
    "        for nx in (x-1, x+1, x*2):\n",
    "            # dist[nx]이면 visited이므로 not dist[nx]\n",
    "            if 0 <= nx <= MAX and not dist[nx]:\n",
    "                dist[nx] = dist[x] + 1\n",
    "                queue.append(nx)\n",
    "        \n",
    "MAX = 10 ** 5\n",
    "dist = [0] * (MAX + 1)\n",
    "n,k = map(int, input().split())\n",
    "\n",
    "bfs(n,k)"
   ]
  },
  {
   "cell_type": "code",
   "execution_count": null,
   "id": "fa3807a6",
   "metadata": {},
   "outputs": [],
   "source": [
    "def find(n,k):\n",
    "    if n>= k:\n",
    "        return n-k\n",
    "    elif k == 1:\n",
    "        return 1\n",
    "    elif k%2:\n",
    "        return min(find(n,k+1),find(n,k-1))+1\n",
    "    else:\n",
    "        return min(k-n,1+find(n,k//2))\n",
    "    \n",
    "import sys\n",
    "n,k = map(int,sys.stdin.readline().split())\n",
    "print(find(n,k))"
   ]
  },
  {
   "cell_type": "markdown",
   "id": "dd17098b",
   "metadata": {},
   "source": [
    "# 11726. 2xn 타일링"
   ]
  },
  {
   "cell_type": "markdown",
   "id": "5f46bf36",
   "metadata": {},
   "source": [
    "앞단에다가 뭘 쌓을 수 있는지 고민"
   ]
  },
  {
   "cell_type": "code",
   "execution_count": 14,
   "id": "62f3d92d",
   "metadata": {},
   "outputs": [
    {
     "name": "stdout",
     "output_type": "stream",
     "text": [
      "2\n"
     ]
    }
   ],
   "source": [
    "n = int(input())"
   ]
  },
  {
   "cell_type": "code",
   "execution_count": 17,
   "id": "1abc3129",
   "metadata": {},
   "outputs": [],
   "source": [
    "def tyling(N):\n",
    "    table = [1,2]\n",
    "    for i in range(3, N+1):\n",
    "        table.append(table[-2] + table[-1])\n",
    "    return table"
   ]
  },
  {
   "cell_type": "code",
   "execution_count": 20,
   "id": "7ea2c44c",
   "metadata": {},
   "outputs": [
    {
     "data": {
      "text/plain": [
       "[1, 2, 3, 5, 8, 13, 21, 34, 55, 89]"
      ]
     },
     "execution_count": 20,
     "metadata": {},
     "output_type": "execute_result"
    }
   ],
   "source": [
    "tyling(10)"
   ]
  },
  {
   "cell_type": "markdown",
   "id": "343848b3",
   "metadata": {},
   "source": [
    "# 11727 2xn 타일링 2"
   ]
  },
  {
   "cell_type": "markdown",
   "id": "66e1833c",
   "metadata": {},
   "source": [
    "2xn 타일링은 전과 전전 딱 두가지 고민 가능"
   ]
  },
  {
   "cell_type": "code",
   "execution_count": 36,
   "id": "af27a04b",
   "metadata": {},
   "outputs": [
    {
     "name": "stdout",
     "output_type": "stream",
     "text": [
      "4\n",
      "11\n"
     ]
    }
   ],
   "source": [
    "n = int(input())\n",
    "\n",
    "def tyling_2(num):\n",
    "    table = [1,3]\n",
    "    if num < 3:\n",
    "        return table[num-1]\n",
    "    \n",
    "    for _ in range(2, num):\n",
    "        table.append(2*table[-2] + 1*table[-1])\n",
    "    return table[-1]\n",
    "\n",
    "print(tyling_2(n) % 10007)"
   ]
  },
  {
   "cell_type": "markdown",
   "id": "016933a4",
   "metadata": {},
   "source": [
    "# 17626. Four Squares"
   ]
  },
  {
   "cell_type": "code",
   "execution_count": 6,
   "id": "80646d0a",
   "metadata": {},
   "outputs": [
    {
     "name": "stdout",
     "output_type": "stream",
     "text": [
      "25\n"
     ]
    }
   ],
   "source": [
    "n = int(input())"
   ]
  },
  {
   "cell_type": "code",
   "execution_count": 8,
   "id": "526d1789",
   "metadata": {},
   "outputs": [
    {
     "data": {
      "text/plain": [
       "2"
      ]
     },
     "execution_count": 8,
     "metadata": {},
     "output_type": "execute_result"
    }
   ],
   "source": [
    "int(5 ** 0.5)"
   ]
  },
  {
   "cell_type": "code",
   "execution_count": null,
   "id": "494bbe64",
   "metadata": {},
   "outputs": [],
   "source": [
    "def four_squares(num):\n",
    "    if (num ** 0.5) ** 2 == num:\n",
    "        return 1\n",
    "\n",
    "    else:\n",
    "        "
   ]
  }
 ],
 "metadata": {
  "kernelspec": {
   "display_name": "Python 3 (ipykernel)",
   "language": "python",
   "name": "python3"
  },
  "language_info": {
   "codemirror_mode": {
    "name": "ipython",
    "version": 3
   },
   "file_extension": ".py",
   "mimetype": "text/x-python",
   "name": "python",
   "nbconvert_exporter": "python",
   "pygments_lexer": "ipython3",
   "version": "3.9.9"
  }
 },
 "nbformat": 4,
 "nbformat_minor": 5
}
