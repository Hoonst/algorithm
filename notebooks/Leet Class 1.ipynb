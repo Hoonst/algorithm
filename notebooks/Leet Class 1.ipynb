{
 "cells": [
  {
   "cell_type": "markdown",
   "id": "f51fffbc",
   "metadata": {},
   "source": [
    "# 704. Binary Search"
   ]
  },
  {
   "cell_type": "markdown",
   "id": "0993832e",
   "metadata": {},
   "source": [
    "Max Value를 조심하라."
   ]
  },
  {
   "cell_type": "code",
   "execution_count": null,
   "id": "b0931cae",
   "metadata": {},
   "outputs": [],
   "source": [
    "def binarySearch(array, value, low, high):\n",
    "    if low > high:\n",
    "        return -1\n",
    "    mid = (low+high) // 2\n",
    "\n",
    "    if array[mid] > value:\n",
    "        return binarySearch(array, value, low, mid-1)\n",
    "    elif array[mid] < value:\n",
    "        return binarySearch(array, value, mid+1, high)\n",
    "    else:\n",
    "        return mid"
   ]
  },
  {
   "cell_type": "code",
   "execution_count": 12,
   "id": "7b2c4c13",
   "metadata": {},
   "outputs": [
    {
     "name": "stdout",
     "output_type": "stream",
     "text": [
      "2\n",
      "0 5\n",
      "4\n",
      "3 5\n",
      "5\n",
      "5 5\n"
     ]
    },
    {
     "data": {
      "text/plain": [
       "-1"
      ]
     },
     "execution_count": 12,
     "metadata": {},
     "output_type": "execute_result"
    }
   ],
   "source": [
    "array = [-1,0,3,5,9,12]\n",
    "value = 13\n",
    "low, high = 0, len(array)-1\n",
    "\n",
    "binarySearch(array, value, low, high)"
   ]
  },
  {
   "cell_type": "markdown",
   "id": "d0e56771",
   "metadata": {},
   "source": [
    "# 278. First Bad Version"
   ]
  },
  {
   "cell_type": "code",
   "execution_count": 62,
   "id": "8473a850",
   "metadata": {},
   "outputs": [],
   "source": [
    "def firstBadVersion(self, n: int) -> int:\n",
    "    low = 1\n",
    "    high = n\n",
    "\n",
    "    def binarySearch(low, high):\n",
    "        if low >= high:\n",
    "            return low\n",
    "        mid = (low + high) // 2\n",
    "\n",
    "        if isBadVersion(mid):\n",
    "            return binarySearch(low, mid)\n",
    "        elif not isBadVersion(mid):\n",
    "            return binarySearch(mid+1, high)\n",
    "\n",
    "    return binarySearch(low, high)"
   ]
  },
  {
   "cell_type": "markdown",
   "id": "b0ce96fc",
   "metadata": {},
   "source": [
    "# 35. Search Insert Position"
   ]
  },
  {
   "cell_type": "code",
   "execution_count": 81,
   "id": "5d143f68",
   "metadata": {},
   "outputs": [],
   "source": [
    "def searchInsert(nums, target):\n",
    "    def binarySearch(array, value, low, high):\n",
    "        if low > high:\n",
    "            return low\n",
    "        mid = (low + high) // 2\n",
    "        if array[mid] > value:\n",
    "            return binarySearch(array, value, low, mid-1)\n",
    "        elif array[mid] < value:\n",
    "            return binarySearch(array, value, mid+1, high)\n",
    "        else:\n",
    "            return mid\n",
    "    return binarySearch(nums, target, 0,len(nums)-1)"
   ]
  },
  {
   "cell_type": "code",
   "execution_count": 86,
   "id": "fb3755fd",
   "metadata": {},
   "outputs": [
    {
     "name": "stdout",
     "output_type": "stream",
     "text": [
      "1\n",
      "2\n",
      "3\n"
     ]
    },
    {
     "data": {
      "text/plain": [
       "3"
      ]
     },
     "execution_count": 86,
     "metadata": {},
     "output_type": "execute_result"
    }
   ],
   "source": [
    "nums = [1,3,5,6]\n",
    "target = 6\n",
    "searchInsert(nums, target)"
   ]
  },
  {
   "cell_type": "code",
   "execution_count": null,
   "id": "98d9c862",
   "metadata": {},
   "outputs": [],
   "source": []
  }
 ],
 "metadata": {
  "kernelspec": {
   "display_name": "Python 3 (ipykernel)",
   "language": "python",
   "name": "python3"
  },
  "language_info": {
   "codemirror_mode": {
    "name": "ipython",
    "version": 3
   },
   "file_extension": ".py",
   "mimetype": "text/x-python",
   "name": "python",
   "nbconvert_exporter": "python",
   "pygments_lexer": "ipython3",
   "version": "3.9.9"
  }
 },
 "nbformat": 4,
 "nbformat_minor": 5
}
