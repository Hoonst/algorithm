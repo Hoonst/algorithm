{
 "cells": [
  {
   "cell_type": "markdown",
   "id": "4a9e93be",
   "metadata": {},
   "source": [
    "# 이진분할"
   ]
  },
  {
   "cell_type": "code",
   "execution_count": 4,
   "id": "cad1cc3b",
   "metadata": {},
   "outputs": [],
   "source": [
    "def binarySearch(array, value, low, high):\n",
    "    # low가 high보다 클 순 없다.\n",
    "    if low > high:\n",
    "        return False\n",
    "    mid = (low+high) // 2\n",
    "    \n",
    "    if array[mid] > value:\n",
    "        return binarySearch(array, value, low, mid-1)\n",
    "    elif array[mid] < value:\n",
    "        return binarySearch(array, value, mid+1, high)\n",
    "    else:\n",
    "        return mid"
   ]
  },
  {
   "cell_type": "code",
   "execution_count": 5,
   "id": "fc72f5f6",
   "metadata": {},
   "outputs": [
    {
     "data": {
      "text/plain": [
       "37"
      ]
     },
     "execution_count": 5,
     "metadata": {},
     "output_type": "execute_result"
    }
   ],
   "source": [
    "binarySearch(list(range(1, 100)), 38, 1, 99)"
   ]
  },
  {
   "cell_type": "markdown",
   "id": "7acadd01",
   "metadata": {},
   "source": [
    "## 수 찾기 (1920)"
   ]
  },
  {
   "cell_type": "code",
   "execution_count": 13,
   "id": "223c92dd",
   "metadata": {},
   "outputs": [
    {
     "name": "stdout",
     "output_type": "stream",
     "text": [
      "5\n",
      "4 1 5 2 3\n",
      "5\n",
      "1 3 7 9 5\n"
     ]
    }
   ],
   "source": [
    "length = int(input())\n",
    "A = list(map(int, input().split()))\n",
    "length_2 = int(input())\n",
    "B = list(map(int, input().split()))"
   ]
  },
  {
   "cell_type": "code",
   "execution_count": 80,
   "id": "3be2cf6b",
   "metadata": {},
   "outputs": [],
   "source": [
    "sorted_A, sorted_B = sorted(A), sorted(B)\n",
    "\n",
    "for i in B:\n",
    "    print(binarySearch(sorted_A, i, 0, len(sorted_A)-1))"
   ]
  },
  {
   "cell_type": "code",
   "execution_count": null,
   "id": "4da75a26",
   "metadata": {},
   "outputs": [],
   "source": [
    "length = int(input())\n",
    "A = list(map(int, input().split()))\n",
    "length_2 = int(input())\n",
    "B = list(map(int, input().split()))\n",
    "\n",
    "def binarySearch(array, value, low, high):\n",
    "    if low > high:\n",
    "        return 0\n",
    "    mid = int((low + high) / 2)\n",
    "\n",
    "    if array[mid] > value:\n",
    "        return binarySearch(array, value, low, mid-1)\n",
    "    elif array[mid] < value:\n",
    "        return binarySearch(array, value, mid+1, high)\n",
    "    else:\n",
    "        return 1\n",
    "    \n",
    "sorted_A, sorted_B = sorted(A), sorted(B)\n",
    "\n",
    "for i in B:\n",
    "    print(binarySearch(sorted_A, i, 0, len(sorted_A)-1))"
   ]
  },
  {
   "cell_type": "markdown",
   "id": "54a4732e",
   "metadata": {},
   "source": [
    "## 숫자 카드 2 (10816)"
   ]
  },
  {
   "cell_type": "markdown",
   "id": "2b730d5c",
   "metadata": {},
   "source": [
    "숫자 카드는 정수 하나가 적혀져 있는 카드이다. 상근이는 숫자 카드 N개를 가지고 있다. \n",
    "\n",
    "정수 M개가 주어졌을 때, 이 수가 적혀있는 숫자 카드를 상근이가 몇 개 가지고 있는지 구하는 프로그램을 작성하시오."
   ]
  },
  {
   "cell_type": "code",
   "execution_count": 86,
   "id": "44396a30",
   "metadata": {},
   "outputs": [
    {
     "name": "stdout",
     "output_type": "stream",
     "text": [
      "10\n",
      "6 3 2 10 10 10 -10 -10 7 3\n",
      "8\n",
      "10 9 -5 2 3 4 5 -10\n"
     ]
    }
   ],
   "source": [
    "length = int(input())\n",
    "A = list(map(int, input().split()))\n",
    "length_2 = int(input())\n",
    "B = list(map(int, input().split()))"
   ]
  },
  {
   "cell_type": "code",
   "execution_count": 87,
   "id": "18b8c948",
   "metadata": {},
   "outputs": [],
   "source": [
    "sorted_A = sorted(A)"
   ]
  },
  {
   "cell_type": "code",
   "execution_count": 89,
   "id": "be97f6e7",
   "metadata": {},
   "outputs": [],
   "source": [
    "from collections import Counter"
   ]
  },
  {
   "cell_type": "code",
   "execution_count": 91,
   "id": "edb6d259",
   "metadata": {},
   "outputs": [],
   "source": [
    "counter_A = Counter(sorted_A)"
   ]
  },
  {
   "cell_type": "code",
   "execution_count": 96,
   "id": "2f3e9631",
   "metadata": {},
   "outputs": [
    {
     "name": "stdout",
     "output_type": "stream",
     "text": [
      "3\n",
      "0\n",
      "0\n",
      "1\n",
      "2\n",
      "0\n",
      "0\n",
      "2\n"
     ]
    }
   ],
   "source": [
    "for b in B:\n",
    "    isin = binarySearch(sorted_A, b, 0, len(sorted_A)-1)\n",
    "    if isin:\n",
    "        print(counter_A[b])\n",
    "    else:\n",
    "        print(0)"
   ]
  },
  {
   "cell_type": "code",
   "execution_count": 97,
   "id": "c7628e71",
   "metadata": {},
   "outputs": [
    {
     "name": "stdout",
     "output_type": "stream",
     "text": [
      "10\n",
      "6 3 2 10 10 10 -10 -10 7 3\n",
      "8\n",
      "10 9 -5 2 3 4 5 -10\n",
      "3\n",
      "0\n",
      "0\n",
      "1\n",
      "2\n",
      "0\n",
      "0\n",
      "2\n"
     ]
    }
   ],
   "source": [
    "from collections import Counter\n",
    "\n",
    "length = int(input())\n",
    "A = list(map(int, input().split()))\n",
    "length_2 = int(input())\n",
    "B = list(map(int, input().split()))\n",
    "\n",
    "sorted_A = sorted(A)\n",
    "counter_A = Counter(sorted_A)\n",
    "\n",
    "def binarySearch(array, value, low, high):\n",
    "    if low > high:\n",
    "        return 0\n",
    "    mid = int((low + high) / 2)\n",
    "\n",
    "    if array[mid] > value:\n",
    "        return binarySearch(array, value, low, mid-1)\n",
    "    elif array[mid] < value:\n",
    "        return binarySearch(array, value, mid+1, high)\n",
    "    else:\n",
    "        return 1\n",
    "\n",
    "for b in B:\n",
    "    isin = binarySearch(sorted_A, b, 0, len(sorted_A)-1)\n",
    "    if isin:\n",
    "        print(counter_A[b])\n",
    "    else:\n",
    "        print(0)"
   ]
  },
  {
   "cell_type": "markdown",
   "id": "6a30b072",
   "metadata": {},
   "source": [
    "## 랜선 자르기"
   ]
  },
  {
   "cell_type": "code",
   "execution_count": 143,
   "id": "8f67ba2b",
   "metadata": {},
   "outputs": [],
   "source": [
    "def lan_cut(lans, length):\n",
    "    total_lan = 0\n",
    "    for lan in lans:\n",
    "        total_lan += lan // length \n",
    "    return total_lan"
   ]
  },
  {
   "cell_type": "code",
   "execution_count": 148,
   "id": "495510a6",
   "metadata": {},
   "outputs": [],
   "source": [
    "def binarySearch(lans, opt_lan_cnt, low, high):\n",
    "    '''\n",
    "    lans: list of lans (802, 743, 457, 529)\n",
    "    opt_length: maximum length of lan\n",
    "    value: how much lans needed\n",
    "    low, high: range\n",
    "    '''\n",
    "    if low > high:\n",
    "        return 0\n",
    "    mid_length = int((low + high) / 2)\n",
    "    print(lan_cut(lans, mid_length), opt_lan_cnt)\n",
    "    \n",
    "    if lan_cut(lans, mid_length) < opt_lan_cnt:    \n",
    "        print(f'low and mid_length-1 {low, mid_length-1}')\n",
    "        return binarySearch(lans, opt_lan_cnt, low, mid_length-1)\n",
    "    elif lan_cut(lans, mid_length) > opt_lan_cnt:\n",
    "        print(f'mid_length+1 and high {mid_length+1, high}')\n",
    "        return binarySearch(lans, opt_lan_cnt, mid_length+1, high)\n",
    "    else:\n",
    "        return mid_length"
   ]
  },
  {
   "cell_type": "code",
   "execution_count": 151,
   "id": "b081b4e6",
   "metadata": {
    "scrolled": true
   },
   "outputs": [
    {
     "name": "stdout",
     "output_type": "stream",
     "text": [
      "10 11\n",
      "low and mid_length-1 (0, 227)\n",
      "21 11\n",
      "mid_length+1 and high (114, 227)\n",
      "13 11\n",
      "mid_length+1 and high (171, 227)\n",
      "11 11\n"
     ]
    }
   ],
   "source": [
    "mid_length = binarySearch(lan_length, need_lan, 0, min(lan_length))"
   ]
  },
  {
   "cell_type": "markdown",
   "id": "d21b6b39",
   "metadata": {},
   "source": [
    "1. 입력 값으로 다음 세 가지를 사용한다.\n",
    "    1. 이미 갖고 있는 랜선 개수\n",
    "    2. 필요한 랜선 개수\n",
    "    3. 랜선들의 개별 길이  \n",
    "\n",
    "\n",
    "2. 랜선 중 최소의 길이보다 큰 길이를 선택할 경우, 최소의 길이를 자를 수 없다.  \n",
    "따라서, (0~최소의 길이)내의 범위 내에서 자를 수 있는 경우의 수를 골라야 한다.  \n",
    "\n",
    "\n",
    "3. (0~최소의 길이) 내에서 이진 탐색을 진행하며, 탐색한 값으로 랜선을 잘랐을 때,\n",
    "    * 필요 랜선 개수보다 더 많이 잘리게 되면, 자르는 길이를 크게 한다.\n",
    "    * 필요 랜선 개수보다 더 적게 잘리게 되면, 자르는 길이를 작게 한다."
   ]
  },
  {
   "cell_type": "markdown",
   "id": "7ac4af81",
   "metadata": {},
   "source": [
    "이진 분할에는 두 가지 목적이 있다.\n",
    "* 범위 내에서 조건에 맞는 숫자의 유무를 찾는 것\n",
    "* 범위 내에서 조건에 맞는 숫자의 (최소 / 최대)값을 찾는 것  \n",
    "    최대의 경우는 기존 binarySearch를 사용하면 안되며, 조건을 세 가지에서 두 가지로 줄여야 한다."
   ]
  },
  {
   "cell_type": "code",
   "execution_count": 166,
   "id": "7e511145",
   "metadata": {},
   "outputs": [
    {
     "name": "stdout",
     "output_type": "stream",
     "text": [
      "4 11\n",
      "802\n",
      "743\n",
      "457\n",
      "539\n",
      "200\n"
     ]
    }
   ],
   "source": [
    "have_lan, need_lan = list(map(int, input().split()))\n",
    "lan_length = [int(input()) for _ in range(have_lan)]\n",
    "\n",
    "def lan_cut(lans, length):\n",
    "    total_lan = 0\n",
    "    for lan in lans:\n",
    "        total_lan += lan // length \n",
    "#     print(total_lan)\n",
    "    return total_lan\n",
    "\n",
    "def binarySearch(lans, opt_lan_cnt, low, high):\n",
    "    '''\n",
    "    lans: list of lans (802, 743, 457, 529)\n",
    "    opt_lan_cnt: maximum length of lan\n",
    "    low, high: range\n",
    "    '''\n",
    "    if low > high:\n",
    "        return high\n",
    "    mid_length = int((low + high) / 2)\n",
    "    \n",
    "    if lan_cut(lans, mid_length) < opt_lan_cnt:    \n",
    "        return binarySearch(lans, opt_lan_cnt, low, mid_length-1)\n",
    "    elif lan_cut(lans, mid_length) >= opt_lan_cnt:\n",
    "        return binarySearch(lans, opt_lan_cnt, mid_length+1, high)\n",
    "\n",
    "# mid_length = binarySearch(lan_length, need_lan, 0, min(lan_length))\n",
    "print(binarySearch(lan_length, need_lan, 1, max(lan_length)))"
   ]
  },
  {
   "cell_type": "code",
   "execution_count": null,
   "id": "c3cb8ff5",
   "metadata": {},
   "outputs": [],
   "source": [
    "import sys\n",
    "K, N = map(int, input().split())\n",
    "lan = [int(sys.stdin.readline()) for _ in range(K)]\n",
    "start, end = 1, max(lan) #이분탐색 처음과 끝위치\n",
    "\n",
    "while start <= end: #적절한 랜선의 길이를 찾는 알고리즘\n",
    "    mid = (start + end) // 2 #중간 위치\n",
    "    lines = 0 #랜선 수\n",
    "    for i in lan:\n",
    "        lines += i // mid #분할 된 랜선 수\n",
    "        \n",
    "    if lines >= N: #랜선의 개수가 분기점\n",
    "        start = mid + 1\n",
    "    else:\n",
    "        end = mid - 1\n",
    "print(end)"
   ]
  },
  {
   "cell_type": "markdown",
   "id": "d8c4a4b3",
   "metadata": {},
   "source": [
    "## 나무 자르기"
   ]
  },
  {
   "cell_type": "markdown",
   "id": "afc5ae1a",
   "metadata": {},
   "source": [
    "상근이는 나무 M미터가 필요하다. 근처에 나무를 구입할 곳이 모두 망해버렸기 때문에, 정부에 벌목 허가를 요청했다.  \n",
    "정부는 상근이네 집 근처의 나무 한 줄에 대한 벌목 허가를 내주었고, 상근이는 새로 구입한 목재절단기를 이용해서 나무를 구할것이다.  \n",
    "\n",
    "목재절단기는 다음과 같이 동작한다. 먼저, 상근이는 절단기에 높이 H를 지정해야 한다. 높이를 지정하면 톱날이 땅으로부터 H미터 위로 올라간다.  \n",
    "그 다음, 한 줄에 연속해있는 나무를 모두 절단해버린다. 따라서, 높이가 H보다 큰 나무는 H 위의 부분이 잘릴 것이고, 낮은 나무는 잘리지 않을 것이다.  \n",
    "예를 들어, 한 줄에 연속해있는 나무의 높이가 20, 15, 10, 17이라고 하자. 상근이가 높이를 15로 지정했다면,  \n",
    "나무를 자른 뒤의 높이는 15, 15, 10, 15가 될 것이고, 상근이는 길이가 5인 나무와 2인 나무를 들고 집에 갈 것이다.  \n",
    "(총 7미터를 집에 들고 간다) 절단기에 설정할 수 있는 높이는 양의 정수 또는 0이다.\n",
    "\n",
    "상근이는 환경에 매우 관심이 많기 때문에, 나무를 필요한 만큼만 집으로 가져가려고 한다. 이때, 적어도 M미터의 나무를 집에 가져가기 위해서 절단기에 설정할 수 있는 높이의 최댓값을 구하는 프로그램을 작성하시오."
   ]
  },
  {
   "cell_type": "code",
   "execution_count": 169,
   "id": "4fc8255b",
   "metadata": {},
   "outputs": [
    {
     "ename": "ValueError",
     "evalue": "not enough values to unpack (expected 2, got 0)",
     "output_type": "error",
     "traceback": [
      "\u001b[0;31m---------------------------------------------------------------------------\u001b[0m",
      "\u001b[0;31mValueError\u001b[0m                                Traceback (most recent call last)",
      "\u001b[0;32m<ipython-input-169-036c4d094f21>\u001b[0m in \u001b[0;36m<module>\u001b[0;34m\u001b[0m\n\u001b[1;32m      1\u001b[0m \u001b[0;32mimport\u001b[0m \u001b[0msys\u001b[0m\u001b[0;34m\u001b[0m\u001b[0;34m\u001b[0m\u001b[0m\n\u001b[0;32m----> 2\u001b[0;31m \u001b[0mN\u001b[0m\u001b[0;34m,\u001b[0m \u001b[0mM\u001b[0m \u001b[0;34m=\u001b[0m \u001b[0mmap\u001b[0m\u001b[0;34m(\u001b[0m\u001b[0mint\u001b[0m\u001b[0;34m,\u001b[0m \u001b[0msys\u001b[0m\u001b[0;34m.\u001b[0m\u001b[0mstdin\u001b[0m\u001b[0;34m.\u001b[0m\u001b[0mreadline\u001b[0m\u001b[0;34m(\u001b[0m\u001b[0;34m)\u001b[0m\u001b[0;34m.\u001b[0m\u001b[0msplit\u001b[0m\u001b[0;34m(\u001b[0m\u001b[0;34m)\u001b[0m\u001b[0;34m)\u001b[0m\u001b[0;34m\u001b[0m\u001b[0;34m\u001b[0m\u001b[0m\n\u001b[0m\u001b[1;32m      3\u001b[0m \u001b[0;34m\u001b[0m\u001b[0m\n\u001b[1;32m      4\u001b[0m \u001b[0mlength\u001b[0m \u001b[0;34m=\u001b[0m \u001b[0;34m[\u001b[0m\u001b[0mint\u001b[0m\u001b[0;34m(\u001b[0m\u001b[0msys\u001b[0m\u001b[0;34m.\u001b[0m\u001b[0mstdin\u001b[0m\u001b[0;34m.\u001b[0m\u001b[0mreadline\u001b[0m\u001b[0;34m(\u001b[0m\u001b[0;34m)\u001b[0m\u001b[0;34m)\u001b[0m \u001b[0;32mfor\u001b[0m \u001b[0m_\u001b[0m \u001b[0;32min\u001b[0m \u001b[0mrange\u001b[0m\u001b[0;34m(\u001b[0m\u001b[0mN\u001b[0m\u001b[0;34m)\u001b[0m\u001b[0;34m]\u001b[0m\u001b[0;34m\u001b[0m\u001b[0;34m\u001b[0m\u001b[0m\n",
      "\u001b[0;31mValueError\u001b[0m: not enough values to unpack (expected 2, got 0)"
     ]
    }
   ],
   "source": [
    "import sys\n",
    "N, M = map(int, sys.stdin.readline().split())\n",
    "\n",
    "length = [int(sys.stdin.readline()) for _ in range(N)]"
   ]
  },
  {
   "cell_type": "code",
   "execution_count": 170,
   "id": "3e0069f7",
   "metadata": {},
   "outputs": [],
   "source": [
    "N,M = 4,7\n",
    "length = [20,15, 10, 17]"
   ]
  },
  {
   "cell_type": "code",
   "execution_count": 194,
   "id": "6d922b15",
   "metadata": {},
   "outputs": [],
   "source": [
    "N,M = 5,20\n",
    "length = [4, 42, 40, 26, 46]"
   ]
  },
  {
   "cell_type": "code",
   "execution_count": 186,
   "id": "7349d0f8",
   "metadata": {},
   "outputs": [],
   "source": [
    "cutter = 10\n",
    "cut_length = [l-cutter if l > cutter else 0 for l in length]"
   ]
  },
  {
   "cell_type": "code",
   "execution_count": 187,
   "id": "c8d7532a",
   "metadata": {},
   "outputs": [
    {
     "data": {
      "text/plain": [
       "[10, 5, 0, 7]"
      ]
     },
     "execution_count": 187,
     "metadata": {},
     "output_type": "execute_result"
    }
   ],
   "source": [
    "cut_length"
   ]
  },
  {
   "cell_type": "markdown",
   "id": "dfa117d9",
   "metadata": {},
   "source": [
    "* 자른 나무의 길이가 원하는 길이보다 작으면, 자르는 높이를 낮춰야 하고,\n",
    "* 자른 나무의 길이가 원하는 길이보다 길면, 자르는 높이를 높여야 한다."
   ]
  },
  {
   "cell_type": "code",
   "execution_count": 197,
   "id": "3927e3cb",
   "metadata": {},
   "outputs": [
    {
     "name": "stdout",
     "output_type": "stream",
     "text": [
      "low, high (0, 46)\n",
      "cutter 23\n",
      "cut_length: 62\n",
      "===\n",
      "low, high (24, 46)\n",
      "cutter 35\n",
      "cut_length: 23\n",
      "===\n",
      "low, high (36, 46)\n",
      "cutter 41\n",
      "cut_length: 6\n",
      "===\n",
      "low, high (36, 40)\n",
      "cutter 38\n",
      "cut_length: 14\n",
      "===\n",
      "low, high (36, 37)\n",
      "cutter 36\n",
      "cut_length: 20\n",
      "===\n",
      "low, high (37, 37)\n",
      "cutter 37\n",
      "cut_length: 17\n",
      "===\n",
      "37 36\n",
      "36\n"
     ]
    }
   ],
   "source": [
    "low = 0\n",
    "high = max(length)\n",
    "\n",
    "while low <= high:\n",
    "    print(f'low, high {low, high}')\n",
    "    cutter = (low + high) // 2\n",
    "    print(f'cutter {cutter}')\n",
    "    \n",
    "    cut_length = sum([l-cutter if l > cutter else 0 for l in length])\n",
    "    print(f'cut_length: {cut_length}')\n",
    "    if cut_length < M:\n",
    "        high = cutter-1\n",
    "    else:\n",
    "        low = cutter+1\n",
    "print(low, high)\n",
    "print(high)"
   ]
  },
  {
   "cell_type": "markdown",
   "id": "ef84d09a",
   "metadata": {},
   "source": [
    "왜 조건에 '같다'가 포함되어야 하는가?  \n",
    "\n",
    "이는 같다는 조건이 있어야 high에 대한 점검을 한번 더 할 수 있으며, 이것이 불가능하면 low가 정답이기 때문이디."
   ]
  },
  {
   "cell_type": "code",
   "execution_count": 205,
   "id": "d132e876",
   "metadata": {},
   "outputs": [
    {
     "name": "stdout",
     "output_type": "stream",
     "text": [
      "4 7\n",
      "20 15 10 17\n",
      "15\n"
     ]
    }
   ],
   "source": [
    "import sys\n",
    "N, M = map(int, input().split())\n",
    "\n",
    "length = list(map(int, input().split(' ')))\n",
    "\n",
    "low = 0\n",
    "high = max(length)\n",
    "\n",
    "while low <= high:\n",
    "    cutter = (low + high) // 2\n",
    "    \n",
    "    cut_length = sum([l-cutter if l > cutter else 0 for l in length])\n",
    "    if cut_length < M:\n",
    "        high = cutter-1\n",
    "    else:\n",
    "        low = cutter+1\n",
    "print(high)"
   ]
  },
  {
   "cell_type": "markdown",
   "id": "3a442a5f",
   "metadata": {},
   "source": [
    "## 선물 (1166)"
   ]
  },
  {
   "cell_type": "markdown",
   "id": "e75e03eb",
   "metadata": {},
   "source": [
    "오민식은 아이들에게 선물할 모두 같은 크기의 작은 박스를 N개 가지고 있다. \n",
    "\n",
    "모든 박스는 A * A * A크기의 정육면체이다.  \n",
    "오민식은 이 작은 박스를 L * W * H 크기의 큰 직육면체 박스에 넣으려고 한다.  \n",
    "모든 작은 박스는 큰 박스 안에 있어야 하고, 작은 박스의 변은 큰 박스의 변과 평행해야 한다.\n",
    "\n",
    "N, L, W, H가 주어질 때, A의 최댓값을 찾는 프로그램을 작성하시오."
   ]
  },
  {
   "cell_type": "code",
   "execution_count": 227,
   "id": "39c2f7ab",
   "metadata": {},
   "outputs": [
    {
     "name": "stdout",
     "output_type": "stream",
     "text": [
      "10 4 2 10\n"
     ]
    }
   ],
   "source": [
    "N, L, W, H = list(map(int, input().split()))"
   ]
  },
  {
   "cell_type": "code",
   "execution_count": 237,
   "id": "589d87d7",
   "metadata": {},
   "outputs": [
    {
     "name": "stdout",
     "output_type": "stream",
     "text": [
      "10 4 2 10\n",
      "0 1 2\n",
      "2 2 2\n",
      "2\n"
     ]
    }
   ],
   "source": [
    "N, L, W, H = list(map(int, input().split()))\n",
    "\n",
    "low = 0\n",
    "high = min(L, W, H)\n",
    "\n",
    "volume = L * W * H\n",
    "\n",
    "while low <= high:\n",
    "    mid = (low + high) // 2\n",
    "    print(low, mid, high)\n",
    "    if (mid ** 3)*N <= volume:\n",
    "        # mid를 높여야 한다 > low 향상\n",
    "        low = mid + 1\n",
    "    elif (mid ** 3)*N > volume:\n",
    "        # mid를 낮춰야 한다 > high 하락\n",
    "        high = mid - 1\n",
    "print(mid)"
   ]
  },
  {
   "cell_type": "code",
   "execution_count": 238,
   "id": "f5cdec04",
   "metadata": {},
   "outputs": [
    {
     "name": "stdout",
     "output_type": "stream",
     "text": [
      "2.0000000000\n"
     ]
    }
   ],
   "source": [
    "N, L, W, H = list(map(int, input().split()))\n",
    "\n",
    "S, E = 0, min(L, W, H)\n",
    "\n",
    "for _ in range(10000):\n",
    "    M = (S + E) / 2\n",
    "    count = (L // M) * (W // M) * (H // M)\n",
    "    if count >= N:\n",
    "        S = M\n",
    "    else:\n",
    "        E = M\n",
    "\n",
    "print(\"%.10f\" %(E))"
   ]
  },
  {
   "cell_type": "markdown",
   "id": "4a1b93f3",
   "metadata": {},
   "source": [
    "## 공유기 설치"
   ]
  },
  {
   "cell_type": "markdown",
   "id": "3b95fa03",
   "metadata": {},
   "source": [
    "도현이의 집 N개가 수직선 위에 있다. 각각의 집의 좌표는 x1, ..., xN이고, 집 여러개가 같은 좌표를 가지는 일은 없다.\n",
    "\n",
    "도현이는 언제 어디서나 와이파이를 즐기기 위해서 집에 공유기 C개를 설치하려고 한다.   \n",
    "최대한 많은 곳에서 와이파이를 사용하려고 하기 때문에, 한 집에는 공유기를 하나만 설치할 수 있고,   \n",
    "가장 인접한 두 공유기 사이의 거리를 가능한 크게 하여 설치하려고 한다.  \n",
    "\n",
    "C개의 공유기를 N개의 집에 적당히 설치해서, 가장 인접한 두 공유기 사이의 거리를 최대로 하는 프로그램을 작성하시오."
   ]
  },
  {
   "cell_type": "code",
   "execution_count": 241,
   "id": "43b4735c",
   "metadata": {},
   "outputs": [
    {
     "name": "stdout",
     "output_type": "stream",
     "text": [
      "5 3\n",
      "1\n",
      "2\n",
      "8\n",
      "4\n",
      "9\n"
     ]
    }
   ],
   "source": [
    "N, C = map(int, input().split(' '))\n",
    "location = [int(input()) for _ in range(N)]"
   ]
  },
  {
   "cell_type": "code",
   "execution_count": 243,
   "id": "872379a6",
   "metadata": {},
   "outputs": [],
   "source": [
    "location = sorted(location)"
   ]
  },
  {
   "cell_type": "code",
   "execution_count": 244,
   "id": "2612275e",
   "metadata": {},
   "outputs": [
    {
     "data": {
      "text/plain": [
       "[1, 2, 4, 8, 9]"
      ]
     },
     "execution_count": 244,
     "metadata": {},
     "output_type": "execute_result"
    }
   ],
   "source": [
    "location"
   ]
  },
  {
   "cell_type": "code",
   "execution_count": 246,
   "id": "201b6ce2",
   "metadata": {},
   "outputs": [],
   "source": [
    "distance_list = []\n",
    "\n",
    "for i in range(len(location)-1):\n",
    "    last = location[len(location)- i - 1]\n",
    "    rest = location[:len(location)- i - 1]\n",
    "    for j in rest:\n",
    "        distance_list.append(last-j)\n",
    "        "
   ]
  },
  {
   "cell_type": "code",
   "execution_count": 247,
   "id": "4400f7e8",
   "metadata": {},
   "outputs": [
    {
     "data": {
      "text/plain": [
       "[8, 7, 5, 1, 7, 6, 4, 3, 2, 1]"
      ]
     },
     "execution_count": 247,
     "metadata": {},
     "output_type": "execute_result"
    }
   ],
   "source": [
    "distance_list"
   ]
  },
  {
   "cell_type": "markdown",
   "id": "de682302",
   "metadata": {},
   "source": [
    "## 중량 제한"
   ]
  },
  {
   "cell_type": "markdown",
   "id": "aaa98d72",
   "metadata": {},
   "source": [
    "N(2 ≤ N ≤ 10,000)개의 섬으로 이루어진 나라가 있다. 이들 중 몇 개의 섬 사이에는 다리가 설치되어 있어서 차들이 다닐 수 있다.  \n",
    "\n",
    "영식 중공업에서는 두 개의 섬에 공장을 세워 두고 물품을 생산하는 일을 하고 있다.  \n",
    "물품을 생산하다 보면 공장에서 다른 공장으로 생산 중이던 물품을 수송해야 할 일이 생기곤 한다.  \n",
    "그런데 각각의 다리마다 중량제한이 있기 때문에 무턱대고 물품을 옮길 순 없다.  \n",
    "만약 중량제한을 초과하는 양의 물품이 다리를 지나게 되면 다리가 무너지게 된다.\n",
    "\n",
    "한 번의 이동에서 옮길 수 있는 물품들의 중량의 최댓값을 구하는 프로그램을 작성하시오."
   ]
  },
  {
   "cell_type": "code",
   "execution_count": 248,
   "id": "0eea6e16",
   "metadata": {},
   "outputs": [
    {
     "name": "stdout",
     "output_type": "stream",
     "text": [
      "3 3\n"
     ]
    }
   ],
   "source": [
    "N, M = map(int, input().split())"
   ]
  },
  {
   "cell_type": "code",
   "execution_count": null,
   "id": "a3746622",
   "metadata": {},
   "outputs": [],
   "source": [
    "bridge_info = {}\n",
    "\n",
    "for _ in range(M):\n",
    "    bridge_info[]"
   ]
  }
 ],
 "metadata": {
  "kernelspec": {
   "display_name": "Python 3 (ipykernel)",
   "language": "python",
   "name": "python3"
  },
  "language_info": {
   "codemirror_mode": {
    "name": "ipython",
    "version": 3
   },
   "file_extension": ".py",
   "mimetype": "text/x-python",
   "name": "python",
   "nbconvert_exporter": "python",
   "pygments_lexer": "ipython3",
   "version": "3.9.9"
  }
 },
 "nbformat": 4,
 "nbformat_minor": 5
}
