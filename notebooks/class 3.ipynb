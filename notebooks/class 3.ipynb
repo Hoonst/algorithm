{
 "cells": [
  {
   "cell_type": "markdown",
   "id": "9a43e0f4",
   "metadata": {},
   "source": [
    "# 1620. 나는야 포켓몬 마스터 이다솜"
   ]
  },
  {
   "cell_type": "markdown",
   "id": "f9ccbede",
   "metadata": {},
   "source": [
    "핵심이 무엇인지 모를뻔했지만,   \n",
    "포켓몬의 이름 > 번호 / 포켓몬의 번호 > 이름"
   ]
  },
  {
   "cell_type": "code",
   "execution_count": null,
   "id": "c92b250a",
   "metadata": {},
   "outputs": [],
   "source": [
    "# def method3(diction, search_age):\n",
    "#     return list(diction.keys())[list(diction.values()).index(search_age)]"
   ]
  },
  {
   "cell_type": "code",
   "execution_count": 33,
   "id": "f4b57d08",
   "metadata": {},
   "outputs": [
    {
     "data": {
      "text/plain": [
       "{'Bulbasaur': 1,\n",
       " 'Ivysaur': 2,\n",
       " 'Venusaur': 3,\n",
       " 'Charmander': 4,\n",
       " 'Charmeleon': 5,\n",
       " 'Charizard': 6,\n",
       " 'Squirtle': 7,\n",
       " 'Wartortole': 8,\n",
       " 'Blastoise': 9,\n",
       " 'Caterpie': 10,\n",
       " 'Metapod': 11,\n",
       " 'Butterfree': 12,\n",
       " 'Weedle': 13,\n",
       " 'Kakuna': 14,\n",
       " 'Beedrill': 15,\n",
       " 'Pidgey': 16,\n",
       " 'Pidgeot': 17,\n",
       " 'Pidgeotto': 18,\n",
       " 'Rattata': 19,\n",
       " 'Raticate': 20,\n",
       " 'Spearow': 21,\n",
       " 'Fearow': 22,\n",
       " 'Ekans': 23,\n",
       " 'Arbok': 24,\n",
       " 'Pikachu': 25,\n",
       " 'Raichu': 26}"
      ]
     },
     "execution_count": 33,
     "metadata": {},
     "output_type": "execute_result"
    }
   ],
   "source": [
    "pokemon_dic"
   ]
  },
  {
   "cell_type": "code",
   "execution_count": 1,
   "id": "8d38e3d2",
   "metadata": {},
   "outputs": [
    {
     "name": "stdout",
     "output_type": "stream",
     "text": [
      "26 5\n",
      "Bulbasaur\n",
      "Ivysaur\n",
      "Venusaur\n",
      "Charmander\n",
      "Charmeleon\n",
      "Charizard\n",
      "Squirtle\n",
      "Wartortole\n",
      "Blastoise\n",
      "Caterpie\n",
      "Metapod\n",
      "Butterfree\n",
      "Weedle\n",
      "Kakuna\n",
      "Beedrill\n",
      "Pidgey\n",
      "Pidgeot\n",
      "Pidgeotto\n",
      "Rattata\n",
      "Raticate\n",
      "Spearow\n",
      "Fearow\n",
      "Ekans\n",
      "Arbok\n",
      "Pikachu\n",
      "Raichu\n",
      "25\n",
      "Pikachu\n",
      "Raichu\n",
      "Venusaur\n",
      "3\n",
      "16\n",
      "Pidgey\n",
      "14\n",
      "Kakuna\n",
      "Raichu\n",
      "d\n"
     ]
    },
    {
     "ename": "KeyError",
     "evalue": "'d'",
     "output_type": "error",
     "traceback": [
      "\u001b[0;31m---------------------------------------------------------------------------\u001b[0m",
      "\u001b[0;31mValueError\u001b[0m                                Traceback (most recent call last)",
      "\u001b[0;32m/var/folders/fn/9dj0lp5d1vjdz651ldy376r40000gn/T/ipykernel_78903/746109345.py\u001b[0m in \u001b[0;36m<module>\u001b[0;34m\u001b[0m\n\u001b[1;32m      9\u001b[0m     \u001b[0;32mtry\u001b[0m\u001b[0;34m:\u001b[0m\u001b[0;34m\u001b[0m\u001b[0;34m\u001b[0m\u001b[0m\n\u001b[0;32m---> 10\u001b[0;31m         \u001b[0mnum\u001b[0m \u001b[0;34m=\u001b[0m \u001b[0mint\u001b[0m\u001b[0;34m(\u001b[0m\u001b[0minput\u001b[0m\u001b[0;34m(\u001b[0m\u001b[0;34m)\u001b[0m\u001b[0;34m)\u001b[0m\u001b[0;34m\u001b[0m\u001b[0;34m\u001b[0m\u001b[0m\n\u001b[0m\u001b[1;32m     11\u001b[0m         \u001b[0mprint\u001b[0m\u001b[0;34m(\u001b[0m\u001b[0mmethod3\u001b[0m\u001b[0;34m(\u001b[0m\u001b[0mpokemon_dic\u001b[0m\u001b[0;34m,\u001b[0m \u001b[0mnum\u001b[0m\u001b[0;34m)\u001b[0m\u001b[0;34m)\u001b[0m\u001b[0;34m\u001b[0m\u001b[0;34m\u001b[0m\u001b[0m\n",
      "\u001b[0;31mValueError\u001b[0m: invalid literal for int() with base 10: 'Raichu'",
      "\nDuring handling of the above exception, another exception occurred:\n",
      "\u001b[0;31mKeyError\u001b[0m                                  Traceback (most recent call last)",
      "\u001b[0;32m/var/folders/fn/9dj0lp5d1vjdz651ldy376r40000gn/T/ipykernel_78903/746109345.py\u001b[0m in \u001b[0;36m<module>\u001b[0;34m\u001b[0m\n\u001b[1;32m     12\u001b[0m     \u001b[0;32mexcept\u001b[0m\u001b[0;34m:\u001b[0m\u001b[0;34m\u001b[0m\u001b[0;34m\u001b[0m\u001b[0m\n\u001b[1;32m     13\u001b[0m         \u001b[0mname\u001b[0m \u001b[0;34m=\u001b[0m \u001b[0minput\u001b[0m\u001b[0;34m(\u001b[0m\u001b[0;34m)\u001b[0m\u001b[0;34m\u001b[0m\u001b[0;34m\u001b[0m\u001b[0m\n\u001b[0;32m---> 14\u001b[0;31m         \u001b[0mprint\u001b[0m\u001b[0;34m(\u001b[0m\u001b[0mpokemon_dic\u001b[0m\u001b[0;34m[\u001b[0m\u001b[0mname\u001b[0m\u001b[0;34m]\u001b[0m\u001b[0;34m)\u001b[0m\u001b[0;34m\u001b[0m\u001b[0;34m\u001b[0m\u001b[0m\n\u001b[0m",
      "\u001b[0;31mKeyError\u001b[0m: 'd'"
     ]
    }
   ],
   "source": [
    "import sys\n",
    "input = sys.stdin.readline\n",
    "\n",
    "N, M = map(int, input().split())\n",
    "\n",
    "pokemon_dic = {}\n",
    "for i in range(1, N+1):\n",
    "    pokemon_name = input().strip()\n",
    "    pokemon_dic[pokemon_name] = i\n",
    "    pokemon_dic[i] = pokemon_name\n",
    "    \n",
    "for _ in range(M):\n",
    "    name = input().strip()\n",
    "    if name.isdigit():\n",
    "        print(pokemon_dic[int(name)])\n",
    "    else:\n",
    "        print(pokemon_dic[name])"
   ]
  },
  {
   "cell_type": "code",
   "execution_count": 37,
   "id": "ecdae7b2",
   "metadata": {},
   "outputs": [
    {
     "name": "stdout",
     "output_type": "stream",
     "text": [
      "Pikachu\n",
      "25\n",
      "26\n",
      "Raichu\n",
      "Venusaur\n",
      "3\n",
      "16\n",
      "Pidgey\n"
     ]
    }
   ],
   "source": [
    "reverse_dic = {pokemon_dic[key]:key for key in pokemon_dic}\n",
    "\n",
    "for _ in range(M):\n",
    "    name = input()\n",
    "    if name.isdigit():\n",
    "        print(reverse_dic[int(name)])\n",
    "    else:\n",
    "        print(pokemon_dic[name])"
   ]
  },
  {
   "cell_type": "markdown",
   "id": "526e38db",
   "metadata": {},
   "source": [
    "# 1676. 팩토리얼 0의 개수"
   ]
  },
  {
   "cell_type": "markdown",
   "id": "a6877413",
   "metadata": {},
   "source": [
    "기괴한 수학의 논리가 포함되어 있어 이상한 문제이다."
   ]
  },
  {
   "cell_type": "code",
   "execution_count": 22,
   "id": "114a1c3f",
   "metadata": {},
   "outputs": [],
   "source": [
    "N = int(input())\n",
    "num = 1\n",
    "for i in range(1,N+1):\n",
    "    num *= i\n",
    "cnt = 0\n",
    "for j in str(num)[::-1]:\n",
    "    if int(j) == 0:\n",
    "        cnt += 1\n",
    "    else:\n",
    "        print(cnt)\n",
    "        break"
   ]
  },
  {
   "cell_type": "markdown",
   "id": "48de60fa",
   "metadata": {},
   "source": [
    "# 1764. 듣보잡"
   ]
  },
  {
   "cell_type": "markdown",
   "id": "2a3242d9",
   "metadata": {},
   "source": [
    "효율적인 Dictionary 구성이 문제의 해결책인 것 같다. 항상 시간초과가 뜬다.\n",
    "\n",
    "이는 위의 포켓몬 문제와 겹치는 논지인 것 같다."
   ]
  },
  {
   "cell_type": "code",
   "execution_count": 31,
   "id": "f31db7f2",
   "metadata": {},
   "outputs": [
    {
     "name": "stdout",
     "output_type": "stream",
     "text": [
      "3 4\n"
     ]
    }
   ],
   "source": [
    "N, M = map(int, input().split())"
   ]
  },
  {
   "cell_type": "code",
   "execution_count": 1,
   "id": "4cf9785f",
   "metadata": {},
   "outputs": [
    {
     "name": "stdout",
     "output_type": "stream",
     "text": [
      "3 4\n",
      "ohhenrie\n",
      "charlie\n",
      "baesangwook\n",
      "obama\n",
      "baesangwook\n",
      "ohhenrie\n",
      "clinton\n",
      "2\n",
      "baesangwook\n",
      "ohhenrie\n"
     ]
    }
   ],
   "source": [
    "import sys\n",
    "input = sys.stdin.readline\n",
    "\n",
    "N, M = map(int, input().split())\n",
    "\n",
    "unseen = {input().strip() for i in range(N)}\n",
    "unheard = {input().strip() for i in range(M)}\n",
    "answer = sorted(unseen & unheard)\n",
    "        \n",
    "print(len(answer))\n",
    "for i in answer:\n",
    "    print(i)"
   ]
  },
  {
   "cell_type": "markdown",
   "id": "296a9a52",
   "metadata": {},
   "source": [
    "# 11723. 집합"
   ]
  },
  {
   "cell_type": "code",
   "execution_count": 35,
   "id": "6b0470ad",
   "metadata": {},
   "outputs": [
    {
     "name": "stdout",
     "output_type": "stream",
     "text": [
      "26\n"
     ]
    }
   ],
   "source": [
    "M = int(input())"
   ]
  },
  {
   "cell_type": "code",
   "execution_count": 44,
   "id": "aa4ce574",
   "metadata": {},
   "outputs": [
    {
     "data": {
      "text/plain": [
       "True"
      ]
     },
     "execution_count": 44,
     "metadata": {},
     "output_type": "execute_result"
    }
   ],
   "source": [
    "10 in set(list(range(1,21)))"
   ]
  },
  {
   "cell_type": "code",
   "execution_count": 59,
   "id": "7abccfa0",
   "metadata": {},
   "outputs": [
    {
     "ename": "KeyError",
     "evalue": "4",
     "output_type": "error",
     "traceback": [
      "\u001b[0;31m---------------------------------------------------------------------------\u001b[0m",
      "\u001b[0;31mKeyError\u001b[0m                                  Traceback (most recent call last)",
      "\u001b[0;32m/var/folders/fn/9dj0lp5d1vjdz651ldy376r40000gn/T/ipykernel_82941/3085199175.py\u001b[0m in \u001b[0;36m<module>\u001b[0;34m\u001b[0m\n\u001b[0;32m----> 1\u001b[0;31m \u001b[0mset\u001b[0m\u001b[0;34m(\u001b[0m\u001b[0;34m[\u001b[0m\u001b[0;36m1\u001b[0m\u001b[0;34m,\u001b[0m\u001b[0;36m2\u001b[0m\u001b[0;34m,\u001b[0m\u001b[0;36m3\u001b[0m\u001b[0;34m]\u001b[0m\u001b[0;34m)\u001b[0m\u001b[0;34m.\u001b[0m\u001b[0mremove\u001b[0m\u001b[0;34m(\u001b[0m\u001b[0;36m4\u001b[0m\u001b[0;34m)\u001b[0m\u001b[0;34m\u001b[0m\u001b[0;34m\u001b[0m\u001b[0m\n\u001b[0m",
      "\u001b[0;31mKeyError\u001b[0m: 4"
     ]
    }
   ],
   "source": [
    "set([1,2,3]).remove(4)"
   ]
  },
  {
   "cell_type": "code",
   "execution_count": 63,
   "id": "3a89957a",
   "metadata": {},
   "outputs": [],
   "source": [
    "a = set([1,2,3])\n",
    "a.discard(4)"
   ]
  },
  {
   "cell_type": "code",
   "execution_count": 2,
   "id": "efa890a9",
   "metadata": {},
   "outputs": [
    {
     "name": "stdout",
     "output_type": "stream",
     "text": [
      "26\n",
      "add 1\n",
      "add 2\n",
      "check 1\n",
      "1\n",
      "check 2\n",
      "1\n",
      "check 3\n",
      "0\n",
      "remove 2\n",
      "check 1\n",
      "1\n",
      "check 2\n",
      "0\n",
      "toggle 3\n",
      "check 1\n",
      "1\n",
      "check 2\n",
      "0\n",
      "check 3\n",
      "1\n",
      "check 4\n",
      "0\n",
      "all\n",
      "check 10\n",
      "1\n",
      "check 20\n",
      "1\n",
      "toggle 10\n",
      "remove 20\n",
      "check 10\n",
      "0\n",
      "check 20\n",
      "0\n",
      "empty\n",
      "check 1\n",
      "0\n",
      "toggle 1\n",
      "check 1\n",
      "1\n",
      "toggle 1\n",
      "check 1\n",
      "0\n"
     ]
    }
   ],
   "source": [
    "class Sets:\n",
    "    def __init__(self):\n",
    "        self.sett = set()\n",
    "    \n",
    "    def add(self, v):\n",
    "        self.sett.add(v)\n",
    "        \n",
    "    def remove(self, v):\n",
    "        self.sett.discard(v)\n",
    "        \n",
    "    def check(self, v):\n",
    "        print(1 if v in self.sett else 0)\n",
    "            \n",
    "    def toggle(self, v):\n",
    "        if v not in self.sett:\n",
    "            self.add(v)\n",
    "        else:\n",
    "            self.remove(v)\n",
    "            \n",
    "    def all_(self):\n",
    "        self.sett = set([i for i in range(1, 21)])\n",
    "        \n",
    "    def empty(self):\n",
    "        self.sett.clear()\n",
    "\n",
    "s = Sets()\n",
    "\n",
    "# import sys\n",
    "# input = sys.stdin.readline\n",
    "\n",
    "M = int(input())\n",
    "for _ in range(M):\n",
    "    var = input()\n",
    "    \n",
    "    if var == 'all':\n",
    "        s.all_()\n",
    "    elif var == 'empty':\n",
    "        s.empty()\n",
    "    else:\n",
    "        a,b = var.split()\n",
    "        b = int(b)\n",
    "        if a == 'check':\n",
    "            s.check(b)\n",
    "        elif a == 'add':\n",
    "            s.add(b)\n",
    "        elif a == 'remove':\n",
    "            s.remove(b)\n",
    "        elif a == 'toggle':\n",
    "            s.toggle(b)"
   ]
  },
  {
   "cell_type": "markdown",
   "id": "eb0f17d4",
   "metadata": {},
   "source": [
    "# 2579. 계단 오르기"
   ]
  },
  {
   "cell_type": "code",
   "execution_count": 5,
   "id": "361033f1",
   "metadata": {},
   "outputs": [
    {
     "name": "stdout",
     "output_type": "stream",
     "text": [
      "6\n"
     ]
    }
   ],
   "source": [
    "N = int(input())"
   ]
  },
  {
   "cell_type": "code",
   "execution_count": 6,
   "id": "1a8d3f16",
   "metadata": {},
   "outputs": [
    {
     "name": "stdout",
     "output_type": "stream",
     "text": [
      "10\n",
      "20\n",
      "15\n",
      "25\n",
      "10\n",
      "20\n"
     ]
    }
   ],
   "source": [
    "stairs = [int(input()) for i in range(N)]"
   ]
  },
  {
   "cell_type": "code",
   "execution_count": 7,
   "id": "f47fb710",
   "metadata": {},
   "outputs": [
    {
     "data": {
      "text/plain": [
       "[10, 20, 15, 25, 10, 20]"
      ]
     },
     "execution_count": 7,
     "metadata": {},
     "output_type": "execute_result"
    }
   ],
   "source": [
    "stairs"
   ]
  },
  {
   "cell_type": "code",
   "execution_count": 18,
   "id": "07c240a1",
   "metadata": {},
   "outputs": [
    {
     "name": "stdout",
     "output_type": "stream",
     "text": [
      "current location: 0\n",
      "last location: 1\n",
      "score: 20\n",
      "current location: 1\n",
      "last location: 3\n",
      "score: 45\n",
      "current location: 3\n",
      "last location: 5\n",
      "score: 65\n",
      "current location: 5\n"
     ]
    }
   ],
   "source": [
    "loc = 0\n",
    "score = 0\n",
    "while loc <= N:\n",
    "    print(f'current location: {loc}')\n",
    "    if loc == N-2:\n",
    "        score += stairs[N-1]\n",
    "        break\n",
    "    elif loc >= N-1:\n",
    "        break\n",
    "    one = loc + 1\n",
    "    two = loc + 2\n",
    "    \n",
    "    if stairs[one] > stairs[two]:\n",
    "        loc = one\n",
    "        score += stairs[one]\n",
    "    else:\n",
    "        loc = two\n",
    "        score += stairs[two]\n",
    "    print(f'last location: {loc}')\n",
    "    print(f'score: {score}')"
   ]
  },
  {
   "cell_type": "code",
   "execution_count": 16,
   "id": "93bb41c2",
   "metadata": {},
   "outputs": [
    {
     "data": {
      "text/plain": [
       "65"
      ]
     },
     "execution_count": 16,
     "metadata": {},
     "output_type": "execute_result"
    }
   ],
   "source": [
    "score"
   ]
  },
  {
   "cell_type": "markdown",
   "id": "a4a76867",
   "metadata": {},
   "source": [
    "# 1003. 피보나치 함수"
   ]
  },
  {
   "cell_type": "code",
   "execution_count": 31,
   "id": "5eb73d01",
   "metadata": {},
   "outputs": [
    {
     "name": "stdout",
     "output_type": "stream",
     "text": [
      "5\n",
      "6\n",
      "5 8\n",
      "7\n",
      "8 13\n",
      "8\n",
      "13 21\n",
      "9\n",
      "21 34\n",
      "10\n",
      "34 55\n"
     ]
    }
   ],
   "source": [
    "T = int(input())\n",
    "\n",
    "def fibonacci(n: int) -> int:\n",
    "    if n == 0:\n",
    "        global zero\n",
    "        zero += 1\n",
    "        return 0\n",
    "    elif n == 1:\n",
    "        global one\n",
    "        one +=1\n",
    "        return 1\n",
    "    else:\n",
    "        return fibonacci(n-1) + fibonacci(n-2)\n",
    "    \n",
    "for _ in range(T):\n",
    "    zero = 0\n",
    "    one = 0\n",
    "    fibonacci(int(input()))\n",
    "    print(zero, one)"
   ]
  },
  {
   "cell_type": "code",
   "execution_count": 53,
   "id": "16a59c4d",
   "metadata": {},
   "outputs": [],
   "source": [
    "T = int(input())\n",
    "\n",
    "def fibonacci(n: int) -> int:\n",
    "    temp = [0 for _ in range(n+1)]\n",
    "    if n > 0:\n",
    "        temp[1] = 1\n",
    "        for i in range(2, n+1):\n",
    "            temp[i] = temp[i-1] + temp[i-2]\n",
    "    else:\n",
    "        return [1,0]\n",
    "    return temp\n",
    "\n",
    "for _ in range(T):\n",
    "    num = int(input())\n",
    "    a,b = fibonacci(num)[-2:]\n",
    "    print(a,b)"
   ]
  },
  {
   "cell_type": "markdown",
   "id": "0ea038a0",
   "metadata": {},
   "source": [
    "# 5525. IOIOI"
   ]
  },
  {
   "cell_type": "markdown",
   "id": "4bd24811",
   "metadata": {},
   "source": [
    "모든 인덱스를 다 점검하지 않고 I가 존재하는 인덱스만 점검한다."
   ]
  },
  {
   "cell_type": "code",
   "execution_count": 74,
   "id": "699abcc6",
   "metadata": {},
   "outputs": [
    {
     "name": "stdout",
     "output_type": "stream",
     "text": [
      "2\n",
      "13\n",
      "OOIOIOIOIIOII\n",
      "2\n"
     ]
    }
   ],
   "source": [
    "N = int(input())\n",
    "M = int(input())\n",
    "task = input()\n",
    "ioi = 'I'\n",
    "for _ in range(N):\n",
    "    ioi += 'OI'\n",
    "ioi_length = (N*2)+1\n",
    "\n",
    "i = 0\n",
    "answer = 0\n",
    "while i+ioi_length <= M:\n",
    "    sub_ioi = task[i:i+ioi_length]\n",
    "    if sub_ioi == ioi:\n",
    "        answer += 1\n",
    "    i+=1\n",
    "print(answer)"
   ]
  },
  {
   "cell_type": "code",
   "execution_count": 76,
   "id": "37fe0937",
   "metadata": {},
   "outputs": [
    {
     "data": {
      "text/plain": [
       "'OOIOIOIOIIOII'"
      ]
     },
     "execution_count": 76,
     "metadata": {},
     "output_type": "execute_result"
    }
   ],
   "source": [
    "task"
   ]
  },
  {
   "cell_type": "code",
   "execution_count": 81,
   "id": "ac18eb90",
   "metadata": {},
   "outputs": [],
   "source": [
    "N = 1"
   ]
  },
  {
   "cell_type": "code",
   "execution_count": 85,
   "id": "0dfd9bc8",
   "metadata": {},
   "outputs": [
    {
     "name": "stdout",
     "output_type": "stream",
     "text": [
      "2\n",
      "13\n",
      "OOIOIOIOIIOII\n",
      "2\n"
     ]
    }
   ],
   "source": [
    "N = int(input())\n",
    "M = int(input())\n",
    "task = input()\n",
    "answer = 0\n",
    "for idx in range(len(task)-2):\n",
    "    if task[idx] == 'I':\n",
    "        if task[idx:idx+(2*N)+1] == 'I'+('OI'*N):\n",
    "            answer += 1\n",
    "print(answer)"
   ]
  },
  {
   "cell_type": "markdown",
   "id": "f1bcf617",
   "metadata": {},
   "source": [
    "# 1780. 종이의 개수"
   ]
  },
  {
   "cell_type": "code",
   "execution_count": 86,
   "id": "eb59f224",
   "metadata": {},
   "outputs": [
    {
     "name": "stdout",
     "output_type": "stream",
     "text": [
      "9\n"
     ]
    }
   ],
   "source": [
    "N = int(input())"
   ]
  },
  {
   "cell_type": "code",
   "execution_count": 87,
   "id": "829e4849",
   "metadata": {},
   "outputs": [
    {
     "name": "stdout",
     "output_type": "stream",
     "text": [
      "0 0 0 1 1 1 -1 -1 -1\n",
      "0 0 0 1 1 1 -1 -1 -1\n",
      "0 0 0 1 1 1 -1 -1 -1\n",
      "1 1 1 0 0 0 0 0 0\n",
      "1 1 1 0 0 0 0 0 0\n",
      "1 1 1 0 0 0 0 0 0\n",
      "0 1 -1 0 1 -1 0 1 -1\n",
      "0 -1 1 0 1 -1 0 1 -1\n",
      "0 1 -1 1 0 -1 0 1 -1\n"
     ]
    },
    {
     "data": {
      "text/plain": [
       "[[0, 0, 0, 1, 1, 1, -1, -1, -1],\n",
       " [0, 0, 0, 1, 1, 1, -1, -1, -1],\n",
       " [0, 0, 0, 1, 1, 1, -1, -1, -1],\n",
       " [1, 1, 1, 0, 0, 0, 0, 0, 0],\n",
       " [1, 1, 1, 0, 0, 0, 0, 0, 0],\n",
       " [1, 1, 1, 0, 0, 0, 0, 0, 0],\n",
       " [0, 1, -1, 0, 1, -1, 0, 1, -1],\n",
       " [0, -1, 1, 0, 1, -1, 0, 1, -1],\n",
       " [0, 1, -1, 1, 0, -1, 0, 1, -1]]"
      ]
     },
     "execution_count": 87,
     "metadata": {},
     "output_type": "execute_result"
    }
   ],
   "source": [
    "[list(map(int, input().split())) for _ in range(N)]"
   ]
  },
  {
   "cell_type": "code",
   "execution_count": 89,
   "id": "d5541da0",
   "metadata": {},
   "outputs": [],
   "source": [
    "whole_paper = [[0, 0, 0, 1, 1, 1, -1, -1, -1],\n",
    "               [0, 0, 0, 1, 1, 1, -1, -1, -1],\n",
    "               [0, 0, 0, 1, 1, 1, -1, -1, -1],\n",
    "               [1, 1, 1, 0, 0, 0, 0, 0, 0],\n",
    "               [1, 1, 1, 0, 0, 0, 0, 0, 0],\n",
    "               [1, 1, 1, 0, 0, 0, 0, 0, 0],\n",
    "               [0, 1, -1, 0, 1, -1, 0, 1, -1],\n",
    "               [0, -1, 1, 0, 1, -1, 0, 1, -1],\n",
    "               [0, 1, -1, 1, 0, -1, 0, 1, -1]]"
   ]
  },
  {
   "cell_type": "markdown",
   "id": "f6ecda6e",
   "metadata": {},
   "source": [
    "1. 모든 element가 동일하면 그대로 사용\n",
    "2. 동일하지 않은 색종이에 대하여 같은 크기로 종이를 절삭\n",
    "2. 하나의 element가 될때까지 나눈다.\n",
    "3. 하나의 element가 되면 원소별 개수 탐색"
   ]
  },
  {
   "cell_type": "markdown",
   "id": "e00cf0cb",
   "metadata": {},
   "source": [
    "answer = f(1) + f(2) + f(3) + f(4) + f(5) + f(6) + f(7) + f(8) + f(9)"
   ]
  },
  {
   "cell_type": "code",
   "execution_count": 132,
   "id": "742f4f4d",
   "metadata": {
    "collapsed": true
   },
   "outputs": [
    {
     "ename": "KeyboardInterrupt",
     "evalue": "Interrupted by user",
     "output_type": "error",
     "traceback": [
      "\u001b[0;31m---------------------------------------------------------------------------\u001b[0m",
      "\u001b[0;31mKeyboardInterrupt\u001b[0m                         Traceback (most recent call last)",
      "\u001b[0;32m/var/folders/fn/9dj0lp5d1vjdz651ldy376r40000gn/T/ipykernel_37114/2135533810.py\u001b[0m in \u001b[0;36m<module>\u001b[0;34m\u001b[0m\n\u001b[0;32m----> 1\u001b[0;31m \u001b[0mN\u001b[0m \u001b[0;34m=\u001b[0m \u001b[0mint\u001b[0m\u001b[0;34m(\u001b[0m\u001b[0minput\u001b[0m\u001b[0;34m(\u001b[0m\u001b[0;34m)\u001b[0m\u001b[0;34m)\u001b[0m\u001b[0;34m\u001b[0m\u001b[0;34m\u001b[0m\u001b[0m\n\u001b[0m\u001b[1;32m      2\u001b[0m \u001b[0mwhole_paper\u001b[0m \u001b[0;34m=\u001b[0m \u001b[0;34m[\u001b[0m\u001b[0mlist\u001b[0m\u001b[0;34m(\u001b[0m\u001b[0mmap\u001b[0m\u001b[0;34m(\u001b[0m\u001b[0mint\u001b[0m\u001b[0;34m,\u001b[0m \u001b[0minput\u001b[0m\u001b[0;34m(\u001b[0m\u001b[0;34m)\u001b[0m\u001b[0;34m.\u001b[0m\u001b[0msplit\u001b[0m\u001b[0;34m(\u001b[0m\u001b[0;34m)\u001b[0m\u001b[0;34m)\u001b[0m\u001b[0;34m)\u001b[0m \u001b[0;32mfor\u001b[0m \u001b[0m_\u001b[0m \u001b[0;32min\u001b[0m \u001b[0mrange\u001b[0m\u001b[0;34m(\u001b[0m\u001b[0mN\u001b[0m\u001b[0;34m)\u001b[0m\u001b[0;34m]\u001b[0m\u001b[0;34m\u001b[0m\u001b[0;34m\u001b[0m\u001b[0m\n\u001b[1;32m      3\u001b[0m \u001b[0mdic\u001b[0m \u001b[0;34m=\u001b[0m \u001b[0;34m{\u001b[0m\u001b[0;34m-\u001b[0m\u001b[0;36m1\u001b[0m\u001b[0;34m:\u001b[0m\u001b[0;36m0\u001b[0m\u001b[0;34m,\u001b[0m\u001b[0;36m0\u001b[0m\u001b[0;34m:\u001b[0m\u001b[0;36m0\u001b[0m\u001b[0;34m,\u001b[0m\u001b[0;36m1\u001b[0m\u001b[0;34m:\u001b[0m\u001b[0;36m0\u001b[0m\u001b[0;34m}\u001b[0m\u001b[0;34m\u001b[0m\u001b[0;34m\u001b[0m\u001b[0m\n\u001b[1;32m      4\u001b[0m \u001b[0;32mdef\u001b[0m \u001b[0mcut_paper\u001b[0m\u001b[0;34m(\u001b[0m\u001b[0mpaper\u001b[0m\u001b[0;34m)\u001b[0m\u001b[0;34m:\u001b[0m\u001b[0;34m\u001b[0m\u001b[0;34m\u001b[0m\u001b[0m\n\u001b[1;32m      5\u001b[0m     \u001b[0mto_array\u001b[0m \u001b[0;34m=\u001b[0m \u001b[0;34m[\u001b[0m\u001b[0mj\u001b[0m \u001b[0;32mfor\u001b[0m \u001b[0mi\u001b[0m \u001b[0;32min\u001b[0m \u001b[0mpaper\u001b[0m \u001b[0;32mfor\u001b[0m \u001b[0mj\u001b[0m \u001b[0;32min\u001b[0m \u001b[0mi\u001b[0m\u001b[0;34m]\u001b[0m\u001b[0;34m\u001b[0m\u001b[0;34m\u001b[0m\u001b[0m\n",
      "\u001b[0;32m/usr/local/lib/python3.9/site-packages/ipykernel/kernelbase.py\u001b[0m in \u001b[0;36mraw_input\u001b[0;34m(self, prompt)\u001b[0m\n\u001b[1;32m   1005\u001b[0m                 \u001b[0;34m\"raw_input was called, but this frontend does not support input requests.\"\u001b[0m\u001b[0;34m\u001b[0m\u001b[0;34m\u001b[0m\u001b[0m\n\u001b[1;32m   1006\u001b[0m             )\n\u001b[0;32m-> 1007\u001b[0;31m         return self._input_request(\n\u001b[0m\u001b[1;32m   1008\u001b[0m             \u001b[0mstr\u001b[0m\u001b[0;34m(\u001b[0m\u001b[0mprompt\u001b[0m\u001b[0;34m)\u001b[0m\u001b[0;34m,\u001b[0m\u001b[0;34m\u001b[0m\u001b[0;34m\u001b[0m\u001b[0m\n\u001b[1;32m   1009\u001b[0m             \u001b[0mself\u001b[0m\u001b[0;34m.\u001b[0m\u001b[0m_parent_ident\u001b[0m\u001b[0;34m[\u001b[0m\u001b[0;34m\"shell\"\u001b[0m\u001b[0;34m]\u001b[0m\u001b[0;34m,\u001b[0m\u001b[0;34m\u001b[0m\u001b[0;34m\u001b[0m\u001b[0m\n",
      "\u001b[0;32m/usr/local/lib/python3.9/site-packages/ipykernel/kernelbase.py\u001b[0m in \u001b[0;36m_input_request\u001b[0;34m(self, prompt, ident, parent, password)\u001b[0m\n\u001b[1;32m   1050\u001b[0m             \u001b[0;32mexcept\u001b[0m \u001b[0mKeyboardInterrupt\u001b[0m\u001b[0;34m:\u001b[0m\u001b[0;34m\u001b[0m\u001b[0;34m\u001b[0m\u001b[0m\n\u001b[1;32m   1051\u001b[0m                 \u001b[0;31m# re-raise KeyboardInterrupt, to truncate traceback\u001b[0m\u001b[0;34m\u001b[0m\u001b[0;34m\u001b[0m\u001b[0m\n\u001b[0;32m-> 1052\u001b[0;31m                 \u001b[0;32mraise\u001b[0m \u001b[0mKeyboardInterrupt\u001b[0m\u001b[0;34m(\u001b[0m\u001b[0;34m\"Interrupted by user\"\u001b[0m\u001b[0;34m)\u001b[0m \u001b[0;32mfrom\u001b[0m \u001b[0;32mNone\u001b[0m\u001b[0;34m\u001b[0m\u001b[0;34m\u001b[0m\u001b[0m\n\u001b[0m\u001b[1;32m   1053\u001b[0m             \u001b[0;32mexcept\u001b[0m \u001b[0mException\u001b[0m\u001b[0;34m:\u001b[0m\u001b[0;34m\u001b[0m\u001b[0;34m\u001b[0m\u001b[0m\n\u001b[1;32m   1054\u001b[0m                 \u001b[0mself\u001b[0m\u001b[0;34m.\u001b[0m\u001b[0mlog\u001b[0m\u001b[0;34m.\u001b[0m\u001b[0mwarning\u001b[0m\u001b[0;34m(\u001b[0m\u001b[0;34m\"Invalid Message:\"\u001b[0m\u001b[0;34m,\u001b[0m \u001b[0mexc_info\u001b[0m\u001b[0;34m=\u001b[0m\u001b[0;32mTrue\u001b[0m\u001b[0;34m)\u001b[0m\u001b[0;34m\u001b[0m\u001b[0;34m\u001b[0m\u001b[0m\n",
      "\u001b[0;31mKeyboardInterrupt\u001b[0m: Interrupted by user"
     ]
    }
   ],
   "source": [
    "import sys\n",
    "input = sys.stdin.readline\n",
    "\n",
    "N = int(input())\n",
    "whole_paper = [list(map(int, input().split())) for _ in range(N)]\n",
    "dic = {-1:0,0:0,1:0}\n",
    "def cut_paper(paper):\n",
    "    to_array = [j for i in paper for j in i]    \n",
    "    \n",
    "    if all([i==to_array[0] for i in to_array]):\n",
    "        dic[to_array[0]]+=1\n",
    "    \n",
    "    elif len(to_array) == 9:\n",
    "        for i in to_array:\n",
    "            dic[i]+=1\n",
    "        \n",
    "    else:\n",
    "        length_p = len(paper)\n",
    "        length_cut = length_p // 3\n",
    "\n",
    "        one   = [i[:length_cut] for i in paper[:length_cut]]\n",
    "        two   = [i[length_cut:length_cut*2] for i in paper[:length_cut]]\n",
    "        three = [i[length_cut*2:length_cut*3] for i in paper[:length_cut]]\n",
    "        four  = [i[:length_cut] for i in paper[length_cut:length_cut*2]]\n",
    "        five  = [i[length_cut:length_cut*2] for i in paper[length_cut:length_cut*2]]\n",
    "        six   = [i[length_cut*2:length_cut*3] for i in paper[length_cut:length_cut*2]]\n",
    "        seven = [i[:length_cut] for i in paper[length_cut*2:length_cut*3]]\n",
    "        eight = [i[length_cut:length_cut*2] for i in paper[length_cut*2:length_cut*3]]\n",
    "        nine  = [i[length_cut*2:length_cut*3] for i in paper[length_cut*2:length_cut*3]]\n",
    "        cut_paper(one)\n",
    "        cut_paper(two)\n",
    "        cut_paper(three)\n",
    "        cut_paper(four)\n",
    "        cut_paper(five)\n",
    "        cut_paper(six)\n",
    "        cut_paper(seven)\n",
    "        cut_paper(eight)\n",
    "        cut_paper(nine)  \n",
    "\n",
    "cut_paper(whole_paper)\n",
    "print(dic[-1])\n",
    "print(dic[0])\n",
    "print(dic[1])"
   ]
  },
  {
   "cell_type": "markdown",
   "id": "c3a3a195",
   "metadata": {},
   "source": [
    "# 1697. 숨바꼭질"
   ]
  },
  {
   "cell_type": "markdown",
   "id": "48510b03",
   "metadata": {},
   "source": [
    "dfs 문제"
   ]
  },
  {
   "cell_type": "code",
   "execution_count": 133,
   "id": "10eb6885",
   "metadata": {},
   "outputs": [
    {
     "name": "stdout",
     "output_type": "stream",
     "text": [
      "5 17\n"
     ]
    }
   ],
   "source": [
    "N, K = map(int, input().split())"
   ]
  },
  {
   "cell_type": "code",
   "execution_count": 134,
   "id": "47eda403",
   "metadata": {},
   "outputs": [],
   "source": [
    "distance = abs(N-K)"
   ]
  },
  {
   "cell_type": "markdown",
   "id": "043da9a7",
   "metadata": {},
   "source": [
    "# 1012. 유기농 배추"
   ]
  },
  {
   "cell_type": "code",
   "execution_count": null,
   "id": "9864def1",
   "metadata": {},
   "outputs": [],
   "source": [
    "from collections import deque\n",
    "import sys\n",
    "\n",
    "def bfs(x, y, color):\n",
    "    queue = deque()\n",
    "    queue.append((x,y))\n",
    "    visited[x][y] = True\n",
    "    \n",
    "    total = 1\n",
    "    while queue:\n",
    "        x,y = queue.popleft()\n",
    "        for index in range(4):\n",
    "            x_axis = x + dx[index]\n",
    "            y_axis = y + dy[index]\n",
    "            if 0 <= x_axis < m and 0 <= y_axis < n:\n",
    "                if graph[x_axis][y_axis] == color and not visited[x_axis][y_axis]:\n",
    "                    visited[x_axis][y_axis] = True\n",
    "                    queue.append((x_axis,y_axis))\n",
    "                    total += 1\n",
    "    return total\n",
    "\n",
    "n, m = map(int, input().split())\n",
    "graph = [list(input()) for _ in range(m)]\n",
    "visited = [[False] * n for _ in range(m)]\n",
    "\n",
    "dx = [1, 0, -1, 0]\n",
    "dy = [0, 1, 0, -1]\n",
    "\n",
    "white, blue = 0,0\n",
    "for i in range(m):\n",
    "    for j in range(n):\n",
    "        if graph[i][j] == 'W' and not visited[i][j]:\n",
    "            white += bfs(i,j,'W')**2\n",
    "            \n",
    "        elif graph[i][j] == 'B' and not visited[i][j]:\n",
    "            blue += bfs(i,j,'B')**2\n",
    "            \n",
    "print(white, blue)"
   ]
  },
  {
   "cell_type": "code",
   "execution_count": 7,
   "id": "24743bc2",
   "metadata": {},
   "outputs": [
    {
     "ename": "ValueError",
     "evalue": "invalid literal for int() with base 10: ''",
     "output_type": "error",
     "traceback": [
      "\u001b[0;31m---------------------------------------------------------------------------\u001b[0m",
      "\u001b[0;31mValueError\u001b[0m                                Traceback (most recent call last)",
      "\u001b[0;32m/var/folders/fn/9dj0lp5d1vjdz651ldy376r40000gn/T/ipykernel_23634/3027256083.py\u001b[0m in \u001b[0;36m<module>\u001b[0;34m\u001b[0m\n\u001b[1;32m      3\u001b[0m \u001b[0minput\u001b[0m \u001b[0;34m=\u001b[0m \u001b[0msys\u001b[0m\u001b[0;34m.\u001b[0m\u001b[0mstdin\u001b[0m\u001b[0;34m.\u001b[0m\u001b[0mreadline\u001b[0m\u001b[0;34m\u001b[0m\u001b[0;34m\u001b[0m\u001b[0m\n\u001b[1;32m      4\u001b[0m \u001b[0;34m\u001b[0m\u001b[0m\n\u001b[0;32m----> 5\u001b[0;31m \u001b[0mT\u001b[0m \u001b[0;34m=\u001b[0m \u001b[0mint\u001b[0m\u001b[0;34m(\u001b[0m\u001b[0minput\u001b[0m\u001b[0;34m(\u001b[0m\u001b[0;34m)\u001b[0m\u001b[0;34m)\u001b[0m\u001b[0;34m\u001b[0m\u001b[0;34m\u001b[0m\u001b[0m\n\u001b[0m\u001b[1;32m      6\u001b[0m \u001b[0;31m# M, N, K = map(int, input().split())\u001b[0m\u001b[0;34m\u001b[0m\u001b[0;34m\u001b[0m\u001b[0m\n\u001b[1;32m      7\u001b[0m \u001b[0;34m\u001b[0m\u001b[0m\n",
      "\u001b[0;31mValueError\u001b[0m: invalid literal for int() with base 10: ''"
     ]
    }
   ],
   "source": [
    "import sys\n",
    "from collections import deque\n",
    "input = sys.stdin.readline\n",
    "\n",
    "T = int(input())\n",
    "\n",
    "dx = [1,0,-1,0]\n",
    "dy = [0,1,0,-1]\n",
    "\n",
    "def bfs(y: int, x: int) -> None:\n",
    "    queue = deque()\n",
    "    queue.append((y,x))\n",
    "    visited[y][x] = True\n",
    "    \n",
    "    while queue:\n",
    "        y,x = queue.popleft()\n",
    "        for idx in range(4):\n",
    "            y_axis = y+dy[idx]\n",
    "            x_axis = x+dx[idx]\n",
    "            if 0<=y_axis<N and 0<=x_axis<M:\n",
    "                if land[y_axis][x_axis] == 1 and not visited[y_axis][x_axis]:\n",
    "                    visited[y_axis][x_axis] = True\n",
    "                    queue.append((y_axis, x_axis))\n",
    "                    \n",
    "for _ in range(T):\n",
    "    bug = 0\n",
    "    M, N, K = map(int, input().split())\n",
    "\n",
    "    land = [[0]*M for i in range(N)]\n",
    "    # M: 가로 길이, N: 세로 길이\n",
    "    # y부터 indexing을 해야한다.\n",
    "\n",
    "    for _ in range(K):\n",
    "        x,y = map(int, input().split())\n",
    "        land[y][x] = 1\n",
    "    visited = [[False] * M for _ in range(N)]\n",
    "    \n",
    "    for y in range(N):\n",
    "        for x in range(M):\n",
    "            if land[y][x] == 1 and not visited[y][x]:\n",
    "                bfs(y,x)\n",
    "                bug += 1\n",
    "    print(bug)"
   ]
  },
  {
   "cell_type": "markdown",
   "id": "a4615d32",
   "metadata": {},
   "source": [
    "# 2606. 바이러스"
   ]
  },
  {
   "cell_type": "code",
   "execution_count": 3,
   "id": "a86572e2",
   "metadata": {},
   "outputs": [
    {
     "name": "stdout",
     "output_type": "stream",
     "text": [
      "7\n",
      "6\n",
      "1 2\n",
      "2 3\n",
      "1 5\n",
      "5 2\n",
      "5 6\n",
      "4 7\n",
      "4\n"
     ]
    }
   ],
   "source": [
    "from collections import defaultdict, deque\n",
    "com = int(input())\n",
    "dic = defaultdict(lambda:set())\n",
    "pair = int(input())\n",
    "for _ in range(pair):\n",
    "    a,b = map(int, input().split())\n",
    "    dic[a].add(b)\n",
    "    dic[b].add(a)\n",
    "\n",
    "visited = [0 for i in range(com)]\n",
    "visited[0] = 1\n",
    "\n",
    "# bfs를 통해 visited를 계산하고 총합-1\n",
    "def bfs(x:int) -> None:\n",
    "    queue = deque()\n",
    "    queue.extend(dic[x])\n",
    "    while queue:\n",
    "        target = queue.popleft()\n",
    "        if visited[target-1] == 0:\n",
    "            visited[target-1] = 1\n",
    "            for d in dic[target]:\n",
    "                if visited[d-1] == 0:\n",
    "                    queue.append(d)\n",
    "        \n",
    "bfs(1)\n",
    "print(sum(visited)-1)"
   ]
  },
  {
   "cell_type": "code",
   "execution_count": 46,
   "id": "0c9db806",
   "metadata": {},
   "outputs": [
    {
     "name": "stdout",
     "output_type": "stream",
     "text": [
      "7\n",
      "6\n",
      "1 2\n",
      "2 3\n",
      "1 5\n",
      "5 2\n",
      "5 6\n",
      "4 7\n",
      "4\n"
     ]
    }
   ],
   "source": [
    "from collections import defaultdict\n",
    "com = int(input())\n",
    "dic = defaultdict(lambda:set())\n",
    "pair = int(input())\n",
    "for _ in range(pair):\n",
    "    a,b = map(int, input().split())\n",
    "    dic[a].add(b)\n",
    "    dic[b].add(a)\n",
    "\n",
    "visited = [0 for i in range(com)]\n",
    "\n",
    "def dfs(x:int) -> None:\n",
    "    visited[x-1] = 1\n",
    "    for i in dic[x]:\n",
    "        if visited[i-1] == 0:\n",
    "            dfs(i)        \n",
    "            \n",
    "dfs(1)\n",
    "print(sum(visited)-1)"
   ]
  },
  {
   "cell_type": "markdown",
   "id": "8a31c2d4",
   "metadata": {},
   "source": [
    "# 10250. ACM 호텔"
   ]
  },
  {
   "cell_type": "code",
   "execution_count": 34,
   "id": "f2f57119",
   "metadata": {
    "collapsed": true
   },
   "outputs": [
    {
     "name": "stdout",
     "output_type": "stream",
     "text": [
      "2\n",
      "30 50 30\n",
      "3001\n"
     ]
    },
    {
     "ename": "KeyboardInterrupt",
     "evalue": "Interrupted by user",
     "output_type": "error",
     "traceback": [
      "\u001b[0;31m---------------------------------------------------------------------------\u001b[0m",
      "\u001b[0;31mKeyboardInterrupt\u001b[0m                         Traceback (most recent call last)",
      "\u001b[0;32m/var/folders/fn/9dj0lp5d1vjdz651ldy376r40000gn/T/ipykernel_85522/402015969.py\u001b[0m in \u001b[0;36m<module>\u001b[0;34m\u001b[0m\n\u001b[1;32m      1\u001b[0m \u001b[0mT\u001b[0m \u001b[0;34m=\u001b[0m \u001b[0mint\u001b[0m\u001b[0;34m(\u001b[0m\u001b[0minput\u001b[0m\u001b[0;34m(\u001b[0m\u001b[0;34m)\u001b[0m\u001b[0;34m)\u001b[0m\u001b[0;34m\u001b[0m\u001b[0;34m\u001b[0m\u001b[0m\n\u001b[1;32m      2\u001b[0m \u001b[0;32mfor\u001b[0m \u001b[0m_\u001b[0m \u001b[0;32min\u001b[0m \u001b[0mrange\u001b[0m\u001b[0;34m(\u001b[0m\u001b[0mT\u001b[0m\u001b[0;34m)\u001b[0m\u001b[0;34m:\u001b[0m\u001b[0;34m\u001b[0m\u001b[0;34m\u001b[0m\u001b[0m\n\u001b[0;32m----> 3\u001b[0;31m     \u001b[0mH\u001b[0m\u001b[0;34m,\u001b[0m \u001b[0mW\u001b[0m\u001b[0;34m,\u001b[0m \u001b[0mN\u001b[0m \u001b[0;34m=\u001b[0m \u001b[0mmap\u001b[0m\u001b[0;34m(\u001b[0m\u001b[0mint\u001b[0m\u001b[0;34m,\u001b[0m \u001b[0minput\u001b[0m\u001b[0;34m(\u001b[0m\u001b[0;34m)\u001b[0m\u001b[0;34m.\u001b[0m\u001b[0msplit\u001b[0m\u001b[0;34m(\u001b[0m\u001b[0;34m)\u001b[0m\u001b[0;34m)\u001b[0m\u001b[0;34m\u001b[0m\u001b[0;34m\u001b[0m\u001b[0m\n\u001b[0m\u001b[1;32m      4\u001b[0m     \u001b[0mroom_no\u001b[0m\u001b[0;34m,\u001b[0m \u001b[0mfloor\u001b[0m \u001b[0;34m=\u001b[0m \u001b[0mdivmod\u001b[0m\u001b[0;34m(\u001b[0m\u001b[0mN\u001b[0m\u001b[0;34m,\u001b[0m \u001b[0mH\u001b[0m\u001b[0;34m)\u001b[0m\u001b[0;34m\u001b[0m\u001b[0;34m\u001b[0m\u001b[0m\n\u001b[1;32m      5\u001b[0m     \u001b[0;32mif\u001b[0m \u001b[0mfloor\u001b[0m \u001b[0;34m==\u001b[0m \u001b[0;36m0\u001b[0m\u001b[0;34m:\u001b[0m\u001b[0;34m\u001b[0m\u001b[0;34m\u001b[0m\u001b[0m\n",
      "\u001b[0;32m/usr/local/lib/python3.9/site-packages/ipykernel/kernelbase.py\u001b[0m in \u001b[0;36mraw_input\u001b[0;34m(self, prompt)\u001b[0m\n\u001b[1;32m   1005\u001b[0m                 \u001b[0;34m\"raw_input was called, but this frontend does not support input requests.\"\u001b[0m\u001b[0;34m\u001b[0m\u001b[0;34m\u001b[0m\u001b[0m\n\u001b[1;32m   1006\u001b[0m             )\n\u001b[0;32m-> 1007\u001b[0;31m         return self._input_request(\n\u001b[0m\u001b[1;32m   1008\u001b[0m             \u001b[0mstr\u001b[0m\u001b[0;34m(\u001b[0m\u001b[0mprompt\u001b[0m\u001b[0;34m)\u001b[0m\u001b[0;34m,\u001b[0m\u001b[0;34m\u001b[0m\u001b[0;34m\u001b[0m\u001b[0m\n\u001b[1;32m   1009\u001b[0m             \u001b[0mself\u001b[0m\u001b[0;34m.\u001b[0m\u001b[0m_parent_ident\u001b[0m\u001b[0;34m[\u001b[0m\u001b[0;34m\"shell\"\u001b[0m\u001b[0;34m]\u001b[0m\u001b[0;34m,\u001b[0m\u001b[0;34m\u001b[0m\u001b[0;34m\u001b[0m\u001b[0m\n",
      "\u001b[0;32m/usr/local/lib/python3.9/site-packages/ipykernel/kernelbase.py\u001b[0m in \u001b[0;36m_input_request\u001b[0;34m(self, prompt, ident, parent, password)\u001b[0m\n\u001b[1;32m   1050\u001b[0m             \u001b[0;32mexcept\u001b[0m \u001b[0mKeyboardInterrupt\u001b[0m\u001b[0;34m:\u001b[0m\u001b[0;34m\u001b[0m\u001b[0;34m\u001b[0m\u001b[0m\n\u001b[1;32m   1051\u001b[0m                 \u001b[0;31m# re-raise KeyboardInterrupt, to truncate traceback\u001b[0m\u001b[0;34m\u001b[0m\u001b[0;34m\u001b[0m\u001b[0m\n\u001b[0;32m-> 1052\u001b[0;31m                 \u001b[0;32mraise\u001b[0m \u001b[0mKeyboardInterrupt\u001b[0m\u001b[0;34m(\u001b[0m\u001b[0;34m\"Interrupted by user\"\u001b[0m\u001b[0;34m)\u001b[0m \u001b[0;32mfrom\u001b[0m \u001b[0;32mNone\u001b[0m\u001b[0;34m\u001b[0m\u001b[0;34m\u001b[0m\u001b[0m\n\u001b[0m\u001b[1;32m   1053\u001b[0m             \u001b[0;32mexcept\u001b[0m \u001b[0mException\u001b[0m\u001b[0;34m:\u001b[0m\u001b[0;34m\u001b[0m\u001b[0;34m\u001b[0m\u001b[0m\n\u001b[1;32m   1054\u001b[0m                 \u001b[0mself\u001b[0m\u001b[0;34m.\u001b[0m\u001b[0mlog\u001b[0m\u001b[0;34m.\u001b[0m\u001b[0mwarning\u001b[0m\u001b[0;34m(\u001b[0m\u001b[0;34m\"Invalid Message:\"\u001b[0m\u001b[0;34m,\u001b[0m \u001b[0mexc_info\u001b[0m\u001b[0;34m=\u001b[0m\u001b[0;32mTrue\u001b[0m\u001b[0;34m)\u001b[0m\u001b[0;34m\u001b[0m\u001b[0;34m\u001b[0m\u001b[0m\n",
      "\u001b[0;31mKeyboardInterrupt\u001b[0m: Interrupted by user"
     ]
    }
   ],
   "source": [
    "T = int(input())\n",
    "for _ in range(T):\n",
    "    H, W, N = map(int, input().split())\n",
    "    room_no, floor = divmod(N, H)\n",
    "    if floor == 0:\n",
    "        floor = H\n",
    "    else:\n",
    "        room_no+=1\n",
    "    if int(room_no) < 10:\n",
    "        room_no = '0'+str(room_no)\n",
    "    print(int(str(floor)+str(room_no)))"
   ]
  },
  {
   "cell_type": "markdown",
   "id": "040a8f80",
   "metadata": {},
   "source": [
    "# 1463. 1로 만들기"
   ]
  },
  {
   "cell_type": "code",
   "execution_count": 29,
   "id": "6a6deff1",
   "metadata": {},
   "outputs": [
    {
     "name": "stdout",
     "output_type": "stream",
     "text": [
      "3\n"
     ]
    }
   ],
   "source": [
    "n = int(input())\n",
    "\n",
    "dp = [0 for _ in range(n+1)]\n",
    "\n",
    "def min_cal(num):\n",
    "    if num <= 1:\n",
    "        dp[num] = 0\n",
    "    else:\n",
    "        for i in range(2, num+1):\n",
    "            # 8에 대한 계산을 하는 경우 중, 가장 효율이 좋지 못한 경우는 -1을 하는 것이다. \n",
    "            # 따라서 해당 값을 가장 안 좋은 케이스로 둔 채 그것보다 더 좋은 경우가 있을 지 판단하는 것이 목적이다. \n",
    "            \n",
    "            # 현재 값에서 -1을 한다.\n",
    "            dp[i] = dp[i-1]+1\n",
    "            if i % 2 == 0:\n",
    "                dp[i] = min(dp[i], dp[i//2]+1)\n",
    "            # 처음에 elif을 사용했지만, if를 두개 사용하여 2,3의 경우 모두를 계산할 수 있어야 한다. \n",
    "            if i % 3 == 0:\n",
    "                dp[i] = min(dp[i], dp[i//3]+1)\n",
    "min_cal(n)\n",
    "\n",
    "print(dp[n])"
   ]
  },
  {
   "cell_type": "markdown",
   "id": "0d98075e",
   "metadata": {},
   "source": [
    "* 1은 1이니 0\n",
    "* 2는 2로 나누면 1이 되니 1\n",
    "* 3은 3으로 나누면 1이 되니 1\n",
    "* 4는 2로 나누고 -1을 하면 1이 되어 2\n",
    "* 5는 -1 / %2"
   ]
  },
  {
   "cell_type": "markdown",
   "id": "9cacfd3f",
   "metadata": {},
   "source": [
    "# 17626. Four Squares"
   ]
  },
  {
   "cell_type": "markdown",
   "id": "d59dc16a",
   "metadata": {},
   "source": [
    "라그랑주는 1770년에 모든 자연수는 넷 혹은 그 이하의 제곱수의 합으로 표현할 수 있다고 증명하였다. 어떤 자연수는 복수의 방법으로 표현된다. 예를 들면, 26은 52과 12의 합이다; 또한 42 + 32 + 12으로 표현할 수도 있다. 역사적으로 암산의 명수들에게 공통적으로 주어지는 문제가 바로 자연수를 넷 혹은 그 이하의 제곱수 합으로 나타내라는 것이었다. 1900년대 초반에 한 암산가가 15663 = 1252 + 62 + 12 + 12라는 해를 구하는데 8초가 걸렸다는 보고가 있다. 좀 더 어려운 문제에 대해서는 56초가 걸렸다: 11339 = 1052 + 152 + 82 + 52.\n",
    "\n",
    "자연수 n이 주어질 때, n을 최소 개수의 제곱수 합으로 표현하는 컴퓨터 프로그램을 작성하시오."
   ]
  },
  {
   "cell_type": "code",
   "execution_count": 32,
   "id": "f862e121",
   "metadata": {},
   "outputs": [
    {
     "name": "stdout",
     "output_type": "stream",
     "text": [
      "25\n"
     ]
    }
   ],
   "source": [
    "n = int(input())"
   ]
  },
  {
   "cell_type": "code",
   "execution_count": 39,
   "id": "120900c9",
   "metadata": {},
   "outputs": [
    {
     "data": {
      "text/plain": [
       "3.0"
      ]
     },
     "execution_count": 39,
     "metadata": {},
     "output_type": "execute_result"
    }
   ],
   "source": [
    "9**(1/2)"
   ]
  },
  {
   "cell_type": "code",
   "execution_count": 45,
   "id": "9c1733de",
   "metadata": {},
   "outputs": [],
   "source": [
    "dp = [1 if (i**(1/2))**2==i else i for i in range(1, n+1) ]"
   ]
  },
  {
   "cell_type": "code",
   "execution_count": 46,
   "id": "abfd4731",
   "metadata": {},
   "outputs": [
    {
     "data": {
      "text/plain": [
       "[1,\n",
       " 2,\n",
       " 3,\n",
       " 1,\n",
       " 5,\n",
       " 6,\n",
       " 7,\n",
       " 8,\n",
       " 1,\n",
       " 10,\n",
       " 1,\n",
       " 12,\n",
       " 13,\n",
       " 1,\n",
       " 15,\n",
       " 1,\n",
       " 1,\n",
       " 18,\n",
       " 19,\n",
       " 20,\n",
       " 1,\n",
       " 1,\n",
       " 23,\n",
       " 24,\n",
       " 1]"
      ]
     },
     "execution_count": 46,
     "metadata": {},
     "output_type": "execute_result"
    }
   ],
   "source": [
    "dp"
   ]
  },
  {
   "cell_type": "markdown",
   "id": "71f1a385",
   "metadata": {},
   "source": [
    "# 11724. 연결 요소의 개수"
   ]
  },
  {
   "cell_type": "code",
   "execution_count": 4,
   "id": "23ed7b6f",
   "metadata": {},
   "outputs": [
    {
     "name": "stdout",
     "output_type": "stream",
     "text": [
      "2\n"
     ]
    }
   ],
   "source": [
    "from collections import defaultdict, deque\n",
    "import sys\n",
    "input = sys.stdin.readline\n",
    "\n",
    "node, edge = map(int, input().split())\n",
    "dic = defaultdict(lambda:set())\n",
    "\n",
    "for _ in range(edge):\n",
    "    a,b = map(int, input().split())\n",
    "    dic[a].add(b)\n",
    "    dic[b].add(a)\n",
    "\n",
    "visited = [0 for i in range(node)]\n",
    "visited_node = []\n",
    "\n",
    "# # bfs를 통해 visited를 계산하고 총합-1\n",
    "# def bfs(x:int) -> None:\n",
    "#     queue = deque()\n",
    "#     queue.extend(list(dic[x]))\n",
    "#     while queue:\n",
    "#         target = queue.popleft()\n",
    "#         if visited[target-1] == 0:\n",
    "#             visited[target-1] = 1\n",
    "#             visited_node.append(target)\n",
    "#             for d in dic[target]:\n",
    "#                 if visited[d-1] == 0:\n",
    "#                     queue.append(d)\n",
    "\n",
    "def dfs(x:int) -> None:\n",
    "    visited[x-1] = 1\n",
    "    visited_node.append(x)\n",
    "    for i in dic[x]:\n",
    "        if visited[i-1] == 0:\n",
    "            dfs(i)        \n",
    "            \n",
    "answer = 0\n",
    "key = 1\n",
    "while len(visited_node) < node:\n",
    "    if key not in visited_node:\n",
    "        dfs(key)\n",
    "        answer += 1\n",
    "    key+=1\n",
    "    \n",
    "print(answer)"
   ]
  },
  {
   "cell_type": "markdown",
   "id": "2ac8c187",
   "metadata": {},
   "source": [
    "# 11659. 구간 합 구하기 4"
   ]
  },
  {
   "cell_type": "code",
   "execution_count": 4,
   "id": "77509334",
   "metadata": {},
   "outputs": [
    {
     "data": {
      "text/plain": [
       "[5, 9, 12, 14, 15]"
      ]
     },
     "execution_count": 4,
     "metadata": {},
     "output_type": "execute_result"
    }
   ],
   "source": [
    "stack_list"
   ]
  },
  {
   "cell_type": "markdown",
   "id": "2a3d9b3c",
   "metadata": {},
   "source": [
    "누적 합으로 계산해야 한다.\n",
    "리스트 인덱싱을 통해 계산 대신 각 인덱스별로 누적합을 구한 뒤 차를 구한다."
   ]
  },
  {
   "cell_type": "code",
   "execution_count": 2,
   "id": "12fa2ae2",
   "metadata": {},
   "outputs": [
    {
     "name": "stdout",
     "output_type": "stream",
     "text": [
      "5 3\n",
      "5 4 3 2 1\n",
      "1 3\n",
      "12\n",
      "2 4\n",
      "9\n",
      "5 5\n",
      "1\n"
     ]
    }
   ],
   "source": [
    "# import sys\n",
    "# input = sys.stdin.readline\n",
    "\n",
    "N, M = map(int, input().split())\n",
    "\n",
    "int_list = list(map(int, input().split()))\n",
    "stack_list = [0]\n",
    "stack = 0\n",
    "for i in int_list:\n",
    "    stack += i\n",
    "    stack_list.append(stack)\n",
    "    \n",
    "for _ in range(M):\n",
    "    start, end = map(int, input().split())\n",
    "    print(stack_list[end]-stack_list[start-1])\n",
    "\n",
    "# time out!\n",
    "# for _ in range(M):\n",
    "#     start, end = map(int, input().split())\n",
    "#     answer = sum(int_list[start-1:end])\n",
    "#     print(answer)"
   ]
  },
  {
   "cell_type": "markdown",
   "id": "b7773451",
   "metadata": {},
   "source": [
    "# 2630. 색종이 만들기"
   ]
  },
  {
   "cell_type": "code",
   "execution_count": 47,
   "id": "758f8d5a",
   "metadata": {},
   "outputs": [
    {
     "name": "stdout",
     "output_type": "stream",
     "text": [
      "8\n",
      "1 1 0 0 0 0 1 1\n",
      "1 1 0 0 0 0 1 1\n",
      "0 0 0 0 1 1 0 0\n",
      "0 0 0 0 1 1 0 0\n",
      "1 0 0 0 1 1 1 1\n",
      "0 1 0 0 1 1 1 1\n",
      "0 0 1 1 1 1 1 1 \n",
      "0 0 1 1 1 1 1 1 \n",
      "9\n",
      "7\n"
     ]
    }
   ],
   "source": [
    "N = int(input())\n",
    "whole_paper = [list(map(int, input().split())) for _ in range(N)]\n",
    "\n",
    "dic={1:0, 0:0}\n",
    "def cut_paper(paper):\n",
    "    to_array = [j for i in paper for j in i]    \n",
    "    \n",
    "    if all([i==to_array[0] for i in to_array]):\n",
    "        dic[to_array[0]]+=1\n",
    "    \n",
    "    elif len(to_array) == 9:\n",
    "        for i in to_array:\n",
    "            dic[i]+=1\n",
    "        \n",
    "    else:\n",
    "        length_p = len(paper)\n",
    "        length_cut = length_p // 2\n",
    "        \n",
    "        for i in range(4):\n",
    "            one   = [i[:length_cut] for i in paper[:length_cut]]\n",
    "            two   = [i[length_cut:] for i in paper[length_cut:]]\n",
    "            three = [i[length_cut:] for i in paper[:length_cut]]\n",
    "            four  = [i[:length_cut] for i in paper[length_cut:]]\n",
    "        cut_paper(one)\n",
    "        cut_paper(two)\n",
    "        cut_paper(three)\n",
    "        cut_paper(four) \n",
    "\n",
    "cut_paper(whole_paper)\n",
    "\n",
    "print(dic[0])\n",
    "print(dic[1])"
   ]
  },
  {
   "cell_type": "markdown",
   "id": "7b84291d",
   "metadata": {},
   "source": [
    "# 1074. Z"
   ]
  },
  {
   "cell_type": "code",
   "execution_count": 48,
   "id": "b5512c0b",
   "metadata": {},
   "outputs": [
    {
     "name": "stdout",
     "output_type": "stream",
     "text": [
      "2 3 1\n"
     ]
    }
   ],
   "source": [
    "N,r,c = map(int, input().split())"
   ]
  },
  {
   "cell_type": "code",
   "execution_count": 68,
   "id": "44039fe7",
   "metadata": {},
   "outputs": [
    {
     "data": {
      "text/plain": [
       "16.0"
      ]
     },
     "execution_count": 68,
     "metadata": {},
     "output_type": "execute_result"
    }
   ],
   "source": [
    "64/ 4"
   ]
  },
  {
   "cell_type": "code",
   "execution_count": 69,
   "id": "c7936b76",
   "metadata": {},
   "outputs": [],
   "source": [
    "z_square = [[0]*4 for _ in range((2**N)**2)]"
   ]
  },
  {
   "cell_type": "code",
   "execution_count": 70,
   "id": "5015cf29",
   "metadata": {},
   "outputs": [
    {
     "data": {
      "text/plain": [
       "[[0, 0, 0, 0],\n",
       " [0, 0, 0, 0],\n",
       " [0, 0, 0, 0],\n",
       " [0, 0, 0, 0],\n",
       " [0, 0, 0, 0],\n",
       " [0, 0, 0, 0],\n",
       " [0, 0, 0, 0],\n",
       " [0, 0, 0, 0],\n",
       " [0, 0, 0, 0],\n",
       " [0, 0, 0, 0],\n",
       " [0, 0, 0, 0],\n",
       " [0, 0, 0, 0],\n",
       " [0, 0, 0, 0],\n",
       " [0, 0, 0, 0],\n",
       " [0, 0, 0, 0],\n",
       " [0, 0, 0, 0]]"
      ]
     },
     "execution_count": 70,
     "metadata": {},
     "output_type": "execute_result"
    }
   ],
   "source": [
    "z_square"
   ]
  },
  {
   "cell_type": "code",
   "execution_count": null,
   "id": "09aa04f2",
   "metadata": {},
   "outputs": [],
   "source": [
    "for _ in range()"
   ]
  },
  {
   "cell_type": "markdown",
   "id": "64cd3984",
   "metadata": {},
   "source": [
    "# 1541. 잃어버린 괄호"
   ]
  },
  {
   "cell_type": "markdown",
   "id": "315245b2",
   "metadata": {},
   "source": [
    "# 11403. 경로 찾기"
   ]
  },
  {
   "cell_type": "code",
   "execution_count": 1,
   "id": "2248d051",
   "metadata": {},
   "outputs": [
    {
     "name": "stdout",
     "output_type": "stream",
     "text": [
      "3\n"
     ]
    }
   ],
   "source": [
    "N = int(input())"
   ]
  },
  {
   "cell_type": "code",
   "execution_count": 2,
   "id": "7d151509",
   "metadata": {},
   "outputs": [
    {
     "name": "stdout",
     "output_type": "stream",
     "text": [
      "0 1 0\n",
      "0 0 1\n",
      "1 0 0\n"
     ]
    }
   ],
   "source": [
    "graph = [list(map(int, input().split())) for _ in range(N)]"
   ]
  },
  {
   "cell_type": "code",
   "execution_count": 3,
   "id": "4519dfb3",
   "metadata": {},
   "outputs": [
    {
     "data": {
      "text/plain": [
       "[[0, 1, 0], [0, 0, 1], [1, 0, 0]]"
      ]
     },
     "execution_count": 3,
     "metadata": {},
     "output_type": "execute_result"
    }
   ],
   "source": [
    "graph"
   ]
  },
  {
   "cell_type": "markdown",
   "id": "b99f9017",
   "metadata": {},
   "source": [
    "# 미로 탐색"
   ]
  },
  {
   "cell_type": "code",
   "execution_count": 8,
   "id": "2ab5c07b",
   "metadata": {},
   "outputs": [
    {
     "name": "stdout",
     "output_type": "stream",
     "text": [
      "2 25\n",
      "1011101110111011101110111\n",
      "1110111011101110111011101\n",
      "38\n"
     ]
    }
   ],
   "source": [
    "N, M = map(int, input().split())\n",
    "graph = [list(map(int, list(input()))) for _ in range(N)]\n",
    "count = [list(0 for _ in range(M)) for _ in range(N)]\n",
    "\n",
    "# import sys\n",
    "# input = sys.stdin.readline\n",
    "from collections import deque\n",
    "\n",
    "dx = [1,0,-1,0]\n",
    "dy = [0,1,0,-1]\n",
    "\n",
    "def bfs(y: int, x: int) -> None:\n",
    "    queue = deque()\n",
    "    queue.append((y,x))\n",
    "    count[y][x] = 1\n",
    "    \n",
    "    while queue:\n",
    "        y,x = queue.popleft()\n",
    "        for idx in range(4):\n",
    "            y_axis = y+dy[idx]\n",
    "            x_axis = x+dx[idx]\n",
    "            if 0<=y_axis<N and 0<=x_axis<M:\n",
    "                if graph[y_axis][x_axis] == 1:\n",
    "                    if not count[y_axis][x_axis]:\n",
    "                        count[y_axis][x_axis] = count[y][x] + 1\n",
    "                        queue.append((y_axis, x_axis))\n",
    "#                     elif count[y_axis][x_axis]:\n",
    "#                         count[y_axis][x_axis] = min(count[y_axis][x_axis],count[y][x] + 1)\n",
    "bfs(0,0)\n",
    "print(count[-1][-1])"
   ]
  }
 ],
 "metadata": {
  "kernelspec": {
   "display_name": "Python 3 (ipykernel)",
   "language": "python",
   "name": "python3"
  },
  "language_info": {
   "codemirror_mode": {
    "name": "ipython",
    "version": 3
   },
   "file_extension": ".py",
   "mimetype": "text/x-python",
   "name": "python",
   "nbconvert_exporter": "python",
   "pygments_lexer": "ipython3",
   "version": "3.9.9"
  }
 },
 "nbformat": 4,
 "nbformat_minor": 5
}
