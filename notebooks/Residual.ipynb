{
 "cells": [
  {
   "cell_type": "markdown",
   "id": "ee607881",
   "metadata": {},
   "source": [
    "# 부족한 금액 계산하기\n",
    "\n",
    "새로 생긴 놀이기구는 인기가 매우 많아 줄이 끊이질 않습니다. 이 놀이기구의 원래 이용료는 price원 인데, 놀이기구를 N 번 째 이용한다면 원래 이용료의 N배를 받기로 하였습니다. 즉, 처음 이용료가 100이었다면 2번째에는 200, 3번째에는 300으로 요금이 인상됩니다.\n",
    "놀이기구를 count번 타게 되면 현재 자신이 가지고 있는 금액에서 얼마가 모자라는지를 return 하도록 solution 함수를 완성하세요.\n",
    "단, 금액이 부족하지 않으면 0을 return 하세요.\n",
    "\n",
    "**제한사항**\n",
    "* 놀이기구의 이용료 price : 1 ≤ price ≤ 2,500, price는 자연수\n",
    "* 처음 가지고 있던 금액 money : 1 ≤ money ≤ 1,000,000,000, money는 자연수\n",
    "* 놀이기구의 이용 횟수 count : 1 ≤ count ≤ 2,500, count는 자연수\n",
    "\n",
    "price\tmoney\tcount\tresult\n",
    "3\t20\t4\t10\n",
    "\n",
    "\n",
    "입출력 예 설명\n",
    "입출력 예 #1\n",
    "이용금액이 3인 놀이기구를 4번 타고 싶은 고객이 현재 가진 금액이 20이라면, 총 필요한 놀이기구의 이용 금액은 30 (= 3+6+9+12) 이 되어 10만큼 부족하므로 10을 return 합니다.\n",
    "\n"
   ]
  },
  {
   "cell_type": "code",
   "execution_count": 3,
   "id": "4d1917d4",
   "metadata": {},
   "outputs": [],
   "source": [
    "def solution(price, money, count):\n",
    "    money_needed = sum([i*price for i in range(1, count+1)])\n",
    "    answer = money_needed - money\n",
    "    if answer > 0:\n",
    "        return answer\n",
    "    else:\n",
    "        return 0"
   ]
  },
  {
   "cell_type": "code",
   "execution_count": 4,
   "id": "f2584bc3",
   "metadata": {},
   "outputs": [],
   "source": [
    "def solution(price, money, count):\n",
    "    return abs(min(money - sum([price*i for i in range(1,count+1)]),0))"
   ]
  },
  {
   "cell_type": "code",
   "execution_count": 5,
   "id": "01e4264f",
   "metadata": {},
   "outputs": [],
   "source": [
    "def solution(price, money, count):\n",
    "    return max(0,price*(count+1)*count//2-money)"
   ]
  },
  {
   "cell_type": "markdown",
   "id": "c73162ba",
   "metadata": {},
   "source": [
    "# LeetCode"
   ]
  },
  {
   "cell_type": "markdown",
   "id": "13290390",
   "metadata": {},
   "source": [
    "Given a string s and an array of strings words, determine whether s is a prefix string of words.\n",
    "\n",
    "A string s is a prefix string of words if s can be made by concatenating the first k strings in words for some positive k no larger than words.length.\n",
    "\n",
    "Return true if s is a prefix string of words, or false otherwise.\n",
    "\n",
    " \n",
    "\n",
    "Example 1:\n",
    "\n",
    "Input: s = \"iloveleetcode\", words = [\"i\",\"love\",\"leetcode\",\"apples\"]\n",
    "Output: true\n",
    "Explanation:\n",
    "s can be made by concatenating \"i\", \"love\", and \"leetcode\" together.\n",
    "Example 2:\n",
    "\n",
    "Input: s = \"iloveleetcode\", words = [\"apples\",\"i\",\"love\",\"leetcode\"]\n",
    "Output: false\n",
    "Explanation:\n",
    "It is impossible to make s using a prefix of arr."
   ]
  },
  {
   "cell_type": "code",
   "execution_count": 3,
   "id": "d700fee2",
   "metadata": {},
   "outputs": [],
   "source": [
    "from typing import List"
   ]
  },
  {
   "cell_type": "code",
   "execution_count": 12,
   "id": "906a1071",
   "metadata": {},
   "outputs": [],
   "source": [
    "s = 'iloveleetcode'\n",
    "example_1 = [\"i\",\"love\",\"leetcode\",\"apples\"]\n",
    "example_2 = [\"apples\",\"i\",\"love\",\"leetcode\"]"
   ]
  },
  {
   "cell_type": "code",
   "execution_count": 15,
   "id": "87f1cc4d",
   "metadata": {},
   "outputs": [],
   "source": [
    "def isPrefixString(s: str, words: List[str]) -> bool:\n",
    "    string = ''\n",
    "    for w in words:\n",
    "        string += w\n",
    "        if string == s:\n",
    "            return True\n",
    "#         elif not s.startswith(string):\n",
    "#             break\n",
    "        elif string in s:\n",
    "            pass\n",
    "        \n",
    "        else:\n",
    "            return False"
   ]
  },
  {
   "cell_type": "code",
   "execution_count": 16,
   "id": "f107941f",
   "metadata": {},
   "outputs": [
    {
     "data": {
      "text/plain": [
       "True"
      ]
     },
     "execution_count": 16,
     "metadata": {},
     "output_type": "execute_result"
    }
   ],
   "source": [
    "isPrefixString(s, example_1)"
   ]
  },
  {
   "cell_type": "code",
   "execution_count": 17,
   "id": "f0506e35",
   "metadata": {},
   "outputs": [
    {
     "data": {
      "text/plain": [
       "False"
      ]
     },
     "execution_count": 17,
     "metadata": {},
     "output_type": "execute_result"
    }
   ],
   "source": [
    "isPrefixString(s, example_2)"
   ]
  },
  {
   "cell_type": "markdown",
   "id": "d6ed4d8a",
   "metadata": {},
   "source": [
    "# LeetCode 1963"
   ]
  },
  {
   "cell_type": "markdown",
   "id": "67f376e1",
   "metadata": {},
   "source": [
    "You are given a 0-indexed string s of even length n. The string consists of exactly n / 2 opening brackets '[' and n / 2 closing brackets ']'.\n",
    "\n",
    "A string is called balanced if and only if:\n",
    "\n",
    "It is the empty string, or\n",
    "It can be written as AB, where both A and B are balanced strings, or\n",
    "It can be written as [C], where C is a balanced string.\n",
    "You may swap the brackets at any two indices any number of times.\n",
    "\n",
    "Return the minimum number of swaps to make s balanced."
   ]
  },
  {
   "cell_type": "code",
   "execution_count": 21,
   "id": "6fbb99c6",
   "metadata": {},
   "outputs": [],
   "source": [
    "string = ['a','b']\n",
    "string[0], string[1] = string[1], string[0]"
   ]
  },
  {
   "cell_type": "code",
   "execution_count": 22,
   "id": "0545bed6",
   "metadata": {},
   "outputs": [
    {
     "data": {
      "text/plain": [
       "['b', 'a']"
      ]
     },
     "execution_count": 22,
     "metadata": {},
     "output_type": "execute_result"
    }
   ],
   "source": [
    "string"
   ]
  },
  {
   "cell_type": "code",
   "execution_count": 34,
   "id": "2a9ef225",
   "metadata": {},
   "outputs": [],
   "source": [
    "def bracket(brack):\n",
    "    stack = []\n",
    "    for b in brack:\n",
    "        if b == '[':\n",
    "            stack.append(b)\n",
    "        elif b == ']':\n",
    "            if len(stack) == 0:\n",
    "                return False\n",
    "            else:\n",
    "                stack.pop()\n",
    "            \n",
    "    if len(stack)==0:\n",
    "        return True\n",
    "    else:\n",
    "        return False"
   ]
  },
  {
   "cell_type": "code",
   "execution_count": 41,
   "id": "d59c1935",
   "metadata": {},
   "outputs": [],
   "source": [
    "test_bracket1 = '[[][]]'\n",
    "test_bracket2 = '[][][]'\n",
    "test_bracket3 = '[[]]]]'\n",
    "test = [test_bracket1, test_bracket2, test_bracket3]"
   ]
  },
  {
   "cell_type": "code",
   "execution_count": 46,
   "id": "bb561cdb",
   "metadata": {},
   "outputs": [
    {
     "name": "stdout",
     "output_type": "stream",
     "text": [
      "False\n",
      "False\n",
      "False\n"
     ]
    }
   ],
   "source": [
    "for t in test:\n",
    "    print(bracket(t))"
   ]
  },
  {
   "cell_type": "code",
   "execution_count": 45,
   "id": "4e24c2be",
   "metadata": {},
   "outputs": [],
   "source": [
    "test_bracket1 = '][]['\n",
    "test_bracket2 = ']]][[['"
   ]
  },
  {
   "cell_type": "code",
   "execution_count": 52,
   "id": "32f77a9e",
   "metadata": {},
   "outputs": [
    {
     "data": {
      "text/plain": [
       "1"
      ]
     },
     "execution_count": 52,
     "metadata": {},
     "output_type": "execute_result"
    }
   ],
   "source": [
    "test_bracket1.index('[')"
   ]
  },
  {
   "cell_type": "code",
   "execution_count": 50,
   "id": "0da6e830",
   "metadata": {},
   "outputs": [],
   "source": [
    "l = [i for i in test_bracket1]"
   ]
  },
  {
   "cell_type": "code",
   "execution_count": 59,
   "id": "0a63a828",
   "metadata": {},
   "outputs": [],
   "source": [
    "def minSwaps(s:str) -> int:\n",
    "    l = [i for i in s]\n",
    "    num = 0\n",
    "    for index, value in enumerate(l):\n",
    "        print(l)\n",
    "        if bracket(l):\n",
    "             return num\n",
    "        elif value == ']':\n",
    "            for index_, value_ in enumerate(l[index+1:]):\n",
    "                if value_ == '[':\n",
    "                    l[index], l[index_+1] = l[index_+1], l[index]\n",
    "                else:\n",
    "                    pass\n",
    "        else:\n",
    "            pass\n",
    "    \n",
    "            \n",
    "            \n",
    "            "
   ]
  },
  {
   "cell_type": "code",
   "execution_count": 60,
   "id": "2fe89550",
   "metadata": {},
   "outputs": [
    {
     "name": "stdout",
     "output_type": "stream",
     "text": [
      "[']', '[', ']', '[']\n",
      "['[', ']', ']', '[']\n",
      "['[', ']', ']', '[']\n",
      "['[', ']', ']', '[']\n"
     ]
    }
   ],
   "source": [
    "minSwaps(test_bracket1)"
   ]
  },
  {
   "cell_type": "code",
   "execution_count": null,
   "id": "4842a62c",
   "metadata": {},
   "outputs": [],
   "source": []
  }
 ],
 "metadata": {
  "kernelspec": {
   "display_name": "Python 3",
   "language": "python",
   "name": "python3"
  },
  "language_info": {
   "codemirror_mode": {
    "name": "ipython",
    "version": 3
   },
   "file_extension": ".py",
   "mimetype": "text/x-python",
   "name": "python",
   "nbconvert_exporter": "python",
   "pygments_lexer": "ipython3",
   "version": "3.6.9"
  }
 },
 "nbformat": 4,
 "nbformat_minor": 5
}
