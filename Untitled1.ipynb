{
 "cells": [
  {
   "cell_type": "markdown",
   "id": "534b4736",
   "metadata": {},
   "source": [
    "# 1. "
   ]
  },
  {
   "cell_type": "code",
   "execution_count": null,
   "id": "19934412",
   "metadata": {},
   "outputs": [],
   "source": [
    "def solution(A):\n",
    "    max_length = len(A)\n",
    "    while A > 0:\n",
    "        A"
   ]
  },
  {
   "cell_type": "code",
   "execution_count": null,
   "id": "f578d8e8",
   "metadata": {},
   "outputs": [],
   "source": []
  },
  {
   "cell_type": "markdown",
   "id": "3bc82012",
   "metadata": {},
   "source": [
    "# 2. No Consecutive"
   ]
  },
  {
   "cell_type": "code",
   "execution_count": null,
   "id": "bbbe98df",
   "metadata": {},
   "outputs": [],
   "source": [
    "def no_consecutive(A, B):\n",
    "    total_string = ''\n",
    "    while A != 0 and B != 0:\n",
    "        \n",
    "        \n",
    "        \n",
    "        "
   ]
  },
  {
   "cell_type": "code",
   "execution_count": 48,
   "id": "d569cbe5",
   "metadata": {},
   "outputs": [
    {
     "ename": "SyntaxError",
     "evalue": "invalid syntax (<ipython-input-48-9bf2a24fcb99>, line 1)",
     "output_type": "error",
     "traceback": [
      "\u001b[0;36m  File \u001b[0;32m\"<ipython-input-48-9bf2a24fcb99>\"\u001b[0;36m, line \u001b[0;32m1\u001b[0m\n\u001b[0;31m    'a' * if 5 > 3\u001b[0m\n\u001b[0m           ^\u001b[0m\n\u001b[0;31mSyntaxError\u001b[0m\u001b[0;31m:\u001b[0m invalid syntax\n"
     ]
    }
   ],
   "source": [
    "'a' * if 5 > 3"
   ]
  },
  {
   "cell_type": "code",
   "execution_count": 42,
   "id": "a211d555",
   "metadata": {},
   "outputs": [],
   "source": [
    "A, B = 3, 4\n",
    "A_max, B_max = A, B"
   ]
  },
  {
   "cell_type": "code",
   "execution_count": 44,
   "id": "de0c66ce",
   "metadata": {},
   "outputs": [
    {
     "name": "stdout",
     "output_type": "stream",
     "text": [
      "3\n"
     ]
    }
   ],
   "source": [
    "A_max = A_max - 3\n",
    "print(A)"
   ]
  },
  {
   "cell_type": "markdown",
   "id": "056b697b",
   "metadata": {},
   "source": [
    "# 3. Non-Overlapping"
   ]
  },
  {
   "cell_type": "code",
   "execution_count": 39,
   "id": "9e867405",
   "metadata": {},
   "outputs": [],
   "source": [
    "from collections import Counter\n",
    "\n",
    "def UNI(string):\n",
    "    count = Counter(string)\n",
    "    total = 0\n",
    "    for key in count:\n",
    "        if count[key] == 1:\n",
    "            total += 1\n",
    "    return total\n",
    "\n",
    "def all_overlapping_string(string):\n",
    "    res = []\n",
    "    for idx in range(1, len(string) + 1):\n",
    "        for i in range(len(string) - idx + 1):\n",
    "            res.append(string[i:i+idx])\n",
    "    return res\n",
    "\n",
    "def answer(string):\n",
    "    overlap = all_overlapping_string(string)\n",
    "    total = 0\n",
    "    for substring in overlap:\n",
    "        total += UNI(substring)\n",
    "    return total"
   ]
  },
  {
   "cell_type": "code",
   "execution_count": 40,
   "id": "6c4140bb",
   "metadata": {},
   "outputs": [
    {
     "data": {
      "text/plain": [
       "16"
      ]
     },
     "execution_count": 40,
     "metadata": {},
     "output_type": "execute_result"
    }
   ],
   "source": [
    "answer('ACAX')"
   ]
  },
  {
   "cell_type": "code",
   "execution_count": null,
   "id": "a0af3f96",
   "metadata": {},
   "outputs": [],
   "source": []
  }
 ],
 "metadata": {
  "kernelspec": {
   "display_name": "Python 3",
   "language": "python",
   "name": "python3"
  },
  "language_info": {
   "codemirror_mode": {
    "name": "ipython",
    "version": 3
   },
   "file_extension": ".py",
   "mimetype": "text/x-python",
   "name": "python",
   "nbconvert_exporter": "python",
   "pygments_lexer": "ipython3",
   "version": "3.6.9"
  }
 },
 "nbformat": 4,
 "nbformat_minor": 5
}
