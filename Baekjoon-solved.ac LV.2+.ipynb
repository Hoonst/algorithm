{
 "cells": [
  {
   "cell_type": "markdown",
   "id": "5e44928f",
   "metadata": {},
   "source": [
    "# 프린터 큐"
   ]
  },
  {
   "cell_type": "markdown",
   "id": "c20b175a",
   "metadata": {},
   "source": [
    "여러분도 알다시피 여러분의 프린터 기기는 여러분이 인쇄하고자 하는 문서를 인쇄 명령을 받은 ‘순서대로’, 즉 먼저 요청된 것을 먼저 인쇄한다. 여러 개의 문서가 쌓인다면 Queue 자료구조에 쌓여서 FIFO - First In First Out - 에 따라 인쇄가 되게 된다. 하지만 상근이는 새로운 프린터기 내부 소프트웨어를 개발하였는데, 이 프린터기는 다음과 같은 조건에 따라 인쇄를 하게 된다.\n",
    "\n",
    "현재 Queue의 가장 앞에 있는 문서의 ‘중요도’를 확인한다.\n",
    "나머지 문서들 중 현재 문서보다 중요도가 높은 문서가 하나라도 있다면, 이 문서를 인쇄하지 않고 Queue의 가장 뒤에 재배치 한다. 그렇지 않다면 바로 인쇄를 한다.\n",
    "예를 들어 Queue에 4개의 문서(A B C D)가 있고, 중요도가 2 1 4 3 라면 C를 인쇄하고, 다음으로 D를 인쇄하고 A, B를 인쇄하게 된다.\n",
    "\n",
    "여러분이 할 일은, 현재 Queue에 있는 문서의 수와 중요도가 주어졌을 때, 어떤 한 문서가 몇 번째로 인쇄되는지 알아내는 것이다. 예를 들어 위의 예에서 C문서는 1번째로, A문서는 3번째로 인쇄되게 된다."
   ]
  },
  {
   "cell_type": "code",
   "execution_count": null,
   "id": "1ab06e5c",
   "metadata": {},
   "outputs": [],
   "source": [
    "def printer_queue(target, doc_importance):\n",
    "    doc_importance = list(enumerate(doc_importance))\n",
    "    \n",
    "    if len(doc_importance) == 1:\n",
    "        return 1\n",
    "    \n",
    "    printed = 0\n",
    "    while True:\n",
    "        if doc_importance[0][1] >= max(list(map(lambda x: x[1], doc_importance))):\n",
    "            printed += 1\n",
    "            if doc_importance[0][0] == target:\n",
    "                return printed\n",
    "            else:\n",
    "                doc_importance.pop(0)\n",
    "        else:\n",
    "            doc_importance.append(doc_importance.pop(0))\n",
    "    "
   ]
  },
  {
   "cell_type": "code",
   "execution_count": 26,
   "id": "e72efd9e",
   "metadata": {},
   "outputs": [
    {
     "name": "stdout",
     "output_type": "stream",
     "text": [
      "3\n",
      "1 0\n",
      "5\n",
      "1\n",
      "4 2\n",
      "1 2 3 4\n",
      "2\n",
      "6 0\n",
      "1 1 9 1 1 1\n",
      "5\n"
     ]
    }
   ],
   "source": [
    "length = int(input())\n",
    "result = []\n",
    "\n",
    "for turn in range(length):\n",
    "    list_len, idx = list(map(int, input().split()))\n",
    "    documents = list(map(int, input().split()))\n",
    "    \n",
    "    result.append(printer_queue(idx, documents))\n",
    "\n",
    "for j in result:\n",
    "    print(j)"
   ]
  },
  {
   "cell_type": "code",
   "execution_count": 30,
   "id": "bbd430cd",
   "metadata": {},
   "outputs": [
    {
     "data": {
      "text/plain": [
       "1"
      ]
     },
     "execution_count": 30,
     "metadata": {},
     "output_type": "execute_result"
    }
   ],
   "source": [
    "# list에서 1번째 원소만을 가져오는 방법\n",
    "\n",
    "test = [1,2,3]\n",
    "\n",
    "t = list(enumerate(test))\n",
    "\n",
    "# list(map(lambda x: x[1], t))\n",
    "\n",
    "min(map(lambda x: x[1], t))"
   ]
  },
  {
   "cell_type": "code",
   "execution_count": 24,
   "id": "63652bbd",
   "metadata": {},
   "outputs": [
    {
     "name": "stdout",
     "output_type": "stream",
     "text": [
      "[(0, 1), (1, 1), (2, 9), (3, 1), (4, 1), (5, 1)]\n",
      "case 2\n",
      "[(1, 1), (2, 9), (3, 1), (4, 1), (5, 1), (0, 1)]\n",
      "case 2\n",
      "[(2, 9), (3, 1), (4, 1), (5, 1), (0, 1), (1, 1)]\n",
      "case 1\n",
      "[(3, 1), (4, 1), (5, 1), (0, 1), (1, 1)]\n",
      "case 1\n",
      "[(4, 1), (5, 1), (0, 1), (1, 1)]\n",
      "case 1\n",
      "[(5, 1), (0, 1), (1, 1)]\n",
      "case 1\n",
      "[(0, 1), (1, 1)]\n",
      "case 1\n"
     ]
    },
    {
     "data": {
      "text/plain": [
       "5"
      ]
     },
     "execution_count": 24,
     "metadata": {},
     "output_type": "execute_result"
    }
   ],
   "source": [
    "printer_queue(0, [1,1,9,1,1,1])"
   ]
  },
  {
   "cell_type": "markdown",
   "id": "c6a5dbb5",
   "metadata": {},
   "source": [
    "# 좌표 정렬하기\n",
    "\n",
    "- https://www.acmicpc.net/problem/11650"
   ]
  },
  {
   "cell_type": "code",
   "execution_count": 37,
   "id": "0f033cca",
   "metadata": {},
   "outputs": [
    {
     "name": "stdout",
     "output_type": "stream",
     "text": [
      "5\n",
      "3 4\n",
      "1 1\n",
      "1 -1\n",
      "2 2\n",
      "3 3\n"
     ]
    }
   ],
   "source": [
    "length = int(input())\n",
    "xy = []\n",
    "result = []\n",
    "\n",
    "for turn in range(length):\n",
    "    x, y = list(map(int, input().split()))\n",
    "    \n",
    "    xy.append((x, y))\n",
    "    \n",
    "min_x, max_x = min(map(lambda x: x[0], xy)), max(map(lambda x: x[0], xy))\n",
    "\n",
    "while True:\n",
    "    if min_x > max_x:\n",
    "        break\n",
    "    search_min_x = [i for i in xy if i[0] == min_x]\n",
    "    search_min_x = sorted(search_min_x, key = lambda x: int(x[1]))\n",
    "\n",
    "    result += search_min_x\n",
    "    min_x += 1\n",
    "    \n",
    "for x, y in result:\n",
    "    print(x, y)"
   ]
  },
  {
   "cell_type": "code",
   "execution_count": null,
   "id": "2ac57a03",
   "metadata": {},
   "outputs": [],
   "source": [
    "N = int(input()) \n",
    "nums = [] \n",
    "for i in range(N): \n",
    "    [a, b] = map(int, input().split()) \n",
    "    nums.append([a, b]) \n",
    "    \n",
    "nums = sorted(nums) \n",
    "for i in range(N): \n",
    "    print(nums[i][0], nums[i][1])\n"
   ]
  },
  {
   "cell_type": "markdown",
   "id": "2c894067",
   "metadata": {},
   "source": [
    "# 카드 2"
   ]
  },
  {
   "cell_type": "markdown",
   "id": "4d6bb789",
   "metadata": {},
   "source": [
    "N장의 카드가 있다. 각각의 카드는 차례로 1부터 N까지의 번호가 붙어 있으며, 1번 카드가 제일 위에, N번 카드가 제일 아래인 상태로 순서대로 카드가 놓여 있다.\n",
    "\n",
    "이제 다음과 같은 동작을 카드가 한 장 남을 때까지 반복하게 된다. 우선, 제일 위에 있는 카드를 바닥에 버린다. 그 다음, 제일 위에 있는 카드를 제일 아래에 있는 카드 밑으로 옮긴다.\n",
    "\n",
    "예를 들어 N=4인 경우를 생각해 보자. 카드는 제일 위에서부터 1234 의 순서로 놓여있다. 1을 버리면 234가 남는다. 여기서 2를 제일 아래로 옮기면 342가 된다. 3을 버리면 42가 되고, 4를 밑으로 옮기면 24가 된다. 마지막으로 2를 버리고 나면, 남는 카드는 4가 된다.\n",
    "\n",
    "N이 주어졌을 때, 제일 마지막에 남게 되는 카드를 구하는 프로그램을 작성하시오."
   ]
  },
  {
   "cell_type": "markdown",
   "id": "bc59eb22",
   "metadata": {},
   "source": [
    "### Deque Note\n",
    "\n",
    "* Deque 생성\n",
    "\n",
    "dq = deque()\n",
    "\n",
    "* append() / appendleft()\n",
    "\n",
    "dq.append(5) , dq.append(6), dq.appendleft(5), dq.appendleft(6)\n",
    "\n",
    "* extend() / extendleft()\n",
    "\n",
    "dq.extend([1,2,3])\n",
    "\n",
    "* pop() / popleft()\n",
    "\n",
    "dq.pop(), dq.popleft()\n",
    "\n",
    "* rotate()\n",
    "\n",
    "dq.rotate(1), dq.rotate(-1)"
   ]
  },
  {
   "cell_type": "code",
   "execution_count": 27,
   "id": "a1e9d1f7",
   "metadata": {},
   "outputs": [],
   "source": [
    "from collections import deque"
   ]
  },
  {
   "cell_type": "code",
   "execution_count": 28,
   "id": "534986e2",
   "metadata": {},
   "outputs": [
    {
     "name": "stdout",
     "output_type": "stream",
     "text": [
      "5\n"
     ]
    }
   ],
   "source": [
    "N = int(input())\n",
    "# cards = list(rage(1, N+1))\n",
    "# 킹받기는 하지만 deque를 사용하여 popleft를 사용하는 것이 시간 초과를 방지할 수 있다.\n",
    "\n",
    "cards = deque(range(1, N+1))"
   ]
  },
  {
   "cell_type": "code",
   "execution_count": 29,
   "id": "43df9d41",
   "metadata": {},
   "outputs": [
    {
     "data": {
      "text/plain": [
       "deque([1, 2, 3, 4, 5])"
      ]
     },
     "execution_count": 29,
     "metadata": {},
     "output_type": "execute_result"
    }
   ],
   "source": [
    "cards"
   ]
  },
  {
   "cell_type": "code",
   "execution_count": 31,
   "id": "af6598fd",
   "metadata": {},
   "outputs": [
    {
     "name": "stdout",
     "output_type": "stream",
     "text": [
      "2\n"
     ]
    }
   ],
   "source": [
    "while True:\n",
    "    if len(cards) == 1:\n",
    "        break\n",
    "    cards.pop(0)\n",
    "    if len(cards) == 1:\n",
    "        break\n",
    "    cards.append(cards.pop(0))\n",
    "#     print(cards)\n",
    "    \n",
    "print(cards[0])"
   ]
  },
  {
   "cell_type": "code",
   "execution_count": 30,
   "id": "5e72be83",
   "metadata": {},
   "outputs": [
    {
     "name": "stdout",
     "output_type": "stream",
     "text": [
      "2\n"
     ]
    }
   ],
   "source": [
    "while True:\n",
    "    if len(cards) == 1:\n",
    "        break\n",
    "    cards.popleft()\n",
    "    if len(cards) == 1:\n",
    "        break\n",
    "    cards.append(cards.popleft())\n",
    "#     print(cards)\n",
    "    \n",
    "print(cards[0])"
   ]
  },
  {
   "cell_type": "markdown",
   "id": "dbd9df83",
   "metadata": {},
   "source": [
    "# 숫자 카드 2"
   ]
  },
  {
   "cell_type": "markdown",
   "id": "398df50c",
   "metadata": {},
   "source": [
    "숫자 카드는 정수 하나가 적혀져 있는 카드이다. \n",
    "\n",
    "상근이는 숫자 카드 N개를 가지고 있다. 정수 M개가 주어졌을 때, 이 수가 적혀있는 숫자 카드를 상근이가 몇 개 가지고 있는지 구하는 프로그램을 작성하시오."
   ]
  },
  {
   "cell_type": "code",
   "execution_count": 39,
   "id": "892826da",
   "metadata": {},
   "outputs": [],
   "source": [
    "from collections import Counter"
   ]
  },
  {
   "cell_type": "code",
   "execution_count": 55,
   "id": "5a4f6a65",
   "metadata": {},
   "outputs": [
    {
     "name": "stdout",
     "output_type": "stream",
     "text": [
      "10\n",
      "6 3 2 10 10 10 -10 -10 7 3\n",
      "8\n",
      "10 9 -5 2 3 4 5 -10\n"
     ]
    }
   ],
   "source": [
    "N = int(input())\n",
    "N_cards = input().split()\n",
    "M = int(input())\n",
    "M_cards = input().split()"
   ]
  },
  {
   "cell_type": "code",
   "execution_count": 56,
   "id": "c6ccc40a",
   "metadata": {},
   "outputs": [],
   "source": [
    "N_cards_counter = Counter(N_cards)"
   ]
  },
  {
   "cell_type": "code",
   "execution_count": 57,
   "id": "7376ef18",
   "metadata": {},
   "outputs": [],
   "source": [
    "answer = []\n",
    "for m in M_cards:\n",
    "    answer.append(N_cards_counter[m])"
   ]
  },
  {
   "cell_type": "code",
   "execution_count": 60,
   "id": "961d71e5",
   "metadata": {},
   "outputs": [
    {
     "data": {
      "text/plain": [
       "<map at 0x7f129019cc50>"
      ]
     },
     "execution_count": 60,
     "metadata": {},
     "output_type": "execute_result"
    }
   ],
   "source": [
    "map(str, answer)"
   ]
  },
  {
   "cell_type": "code",
   "execution_count": 61,
   "id": "720bcc03",
   "metadata": {},
   "outputs": [
    {
     "data": {
      "text/plain": [
       "'3 0 0 1 2 0 0 2'"
      ]
     },
     "execution_count": 61,
     "metadata": {},
     "output_type": "execute_result"
    }
   ],
   "source": [
    "' '.join(map(str, answer))"
   ]
  }
 ],
 "metadata": {
  "kernelspec": {
   "display_name": "Python 3",
   "language": "python",
   "name": "python3"
  },
  "language_info": {
   "codemirror_mode": {
    "name": "ipython",
    "version": 3
   },
   "file_extension": ".py",
   "mimetype": "text/x-python",
   "name": "python",
   "nbconvert_exporter": "python",
   "pygments_lexer": "ipython3",
   "version": "3.6.9"
  }
 },
 "nbformat": 4,
 "nbformat_minor": 5
}
